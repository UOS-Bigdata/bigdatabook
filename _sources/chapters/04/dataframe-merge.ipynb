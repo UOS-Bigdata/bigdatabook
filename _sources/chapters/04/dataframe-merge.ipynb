{
 "cells": [
  {
   "cell_type": "markdown",
   "id": "cd1784e6",
   "metadata": {},
   "source": [
    "# 데이터프레임의 결합"
   ]
  },
  {
   "cell_type": "markdown",
   "id": "617e2314",
   "metadata": {},
   "source": [
    "데이터를 이용하여 분석을 하는 경우 사용할 자료가 두 개 이상이 경우는 매우 흔한 일이다. 실제로 데이터 분석에서 하나의 자료만 가지고 수행하는 일은 매우 드물다. \n",
    "\n",
    "여러 개의 자료를 사용하는 경우 두 개의 자료를 서로 결합하여 새로운 자료를 만들어야 하는 경우가 많다. \n",
    "\n",
    "이 절에서는 먼저 데이터프레임을 결합하는 다양한 예제를 살펴보고, 가구 자료와 인구 자료를 결합하여 가구당 평균 인원수를 계산해 볼 것이다."
   ]
  },
  {
   "cell_type": "code",
   "execution_count": 1,
   "id": "6525598e",
   "metadata": {},
   "outputs": [],
   "source": [
    "import pandas as pd\n",
    "import numpy as np\n",
    "import matplotlib.pyplot as plt"
   ]
  },
  {
   "cell_type": "markdown",
   "id": "7ec44902",
   "metadata": {},
   "source": [
    "## 간단한 결합\n",
    "\n",
    "두 개의 데이터프레임 `df1` 과 `df2` 가 다음과 같이 주어졌다고 하자."
   ]
  },
  {
   "cell_type": "code",
   "execution_count": 2,
   "id": "37ed1fdf",
   "metadata": {},
   "outputs": [
    {
     "data": {
      "text/html": [
       "<div>\n",
       "<style scoped>\n",
       "    .dataframe tbody tr th:only-of-type {\n",
       "        vertical-align: middle;\n",
       "    }\n",
       "\n",
       "    .dataframe tbody tr th {\n",
       "        vertical-align: top;\n",
       "    }\n",
       "\n",
       "    .dataframe thead th {\n",
       "        text-align: right;\n",
       "    }\n",
       "</style>\n",
       "<table border=\"1\" class=\"dataframe\">\n",
       "  <thead>\n",
       "    <tr style=\"text-align: right;\">\n",
       "      <th></th>\n",
       "      <th>name</th>\n",
       "      <th>age</th>\n",
       "    </tr>\n",
       "  </thead>\n",
       "  <tbody>\n",
       "    <tr>\n",
       "      <th>0</th>\n",
       "      <td>철수</td>\n",
       "      <td>23</td>\n",
       "    </tr>\n",
       "    <tr>\n",
       "      <th>1</th>\n",
       "      <td>영이</td>\n",
       "      <td>34</td>\n",
       "    </tr>\n",
       "    <tr>\n",
       "      <th>2</th>\n",
       "      <td>John</td>\n",
       "      <td>19</td>\n",
       "    </tr>\n",
       "  </tbody>\n",
       "</table>\n",
       "</div>"
      ],
      "text/plain": [
       "   name  age\n",
       "0    철수   23\n",
       "1    영이   34\n",
       "2  John   19"
      ]
     },
     "execution_count": 2,
     "metadata": {},
     "output_type": "execute_result"
    }
   ],
   "source": [
    "df1 = pd.DataFrame({\n",
    "    \"name\" : [\"철수\", \"영이\", \"John\"],\n",
    "    \"age\"  : [23, 34, 19]\n",
    "})\n",
    "df1"
   ]
  },
  {
   "cell_type": "code",
   "execution_count": 3,
   "id": "b098cf8c",
   "metadata": {},
   "outputs": [
    {
     "data": {
      "text/html": [
       "<div>\n",
       "<style scoped>\n",
       "    .dataframe tbody tr th:only-of-type {\n",
       "        vertical-align: middle;\n",
       "    }\n",
       "\n",
       "    .dataframe tbody tr th {\n",
       "        vertical-align: top;\n",
       "    }\n",
       "\n",
       "    .dataframe thead th {\n",
       "        text-align: right;\n",
       "    }\n",
       "</style>\n",
       "<table border=\"1\" class=\"dataframe\">\n",
       "  <thead>\n",
       "    <tr style=\"text-align: right;\">\n",
       "      <th></th>\n",
       "      <th>name</th>\n",
       "      <th>sex</th>\n",
       "    </tr>\n",
       "  </thead>\n",
       "  <tbody>\n",
       "    <tr>\n",
       "      <th>0</th>\n",
       "      <td>철수</td>\n",
       "      <td>M</td>\n",
       "    </tr>\n",
       "    <tr>\n",
       "      <th>1</th>\n",
       "      <td>영이</td>\n",
       "      <td>F</td>\n",
       "    </tr>\n",
       "    <tr>\n",
       "      <th>2</th>\n",
       "      <td>John</td>\n",
       "      <td>M</td>\n",
       "    </tr>\n",
       "  </tbody>\n",
       "</table>\n",
       "</div>"
      ],
      "text/plain": [
       "   name sex\n",
       "0    철수   M\n",
       "1    영이   F\n",
       "2  John   M"
      ]
     },
     "execution_count": 3,
     "metadata": {},
     "output_type": "execute_result"
    }
   ],
   "source": [
    "df2 = pd.DataFrame({\n",
    "    \"name\" : [\"철수\", \"영이\", \"John\"],\n",
    "    \"sex\"  : [\"M\", \"F\", \"M\"]\n",
    "})\n",
    "df2"
   ]
  },
  {
   "cell_type": "markdown",
   "id": "75d91544",
   "metadata": {},
   "source": [
    "데이터프레임 `df1` 과 `df2` 에는 같은 이름을 가지는 열 `name` 이 있다. 우리는 두 개의 데이터프레임을 합쳐서 나이(`age`)와 성(`sex`) 이 모두 포함된 새로운 데이터프레임을 만들려고 한다.\n",
    "\n",
    "이렇게 공통으로 포함된 열의 정보를 이용하여 두 개의 데이터프레임을 결합하려면  pandas 라이브러리의 `merge()` 함수 를 이용한다.\n",
    "\n",
    "- `merge()` 함수의 첫 번째(**왼쪽**)와 두 번째 인자(**오른쪽**)에는 결합할 데이터프레임의 이름을 넣어준다. \n",
    "\n",
    "- 앞에 `pd.` 를 붙여서 `pd.merge()` 로 사용하는 것은 함수 `merge()` 가 pandas 라이브러리에 있다는 것을 알려준다.\n",
    "\n",
    "-  선택문 `on=` 에 두 데이터프레임에 **결합의 기준이 되는 열이름**을 문자열로 지정해준다. 결합의 기준으로 사용되는 열이름은 두 개의 데이터프레임에 모두 존재해야 한다.\n",
    "\n",
    "- 자료의 결합에 사용되는 공통으로 포함된 열의 내용을 **식별자(key, identifier,..)** 라고 부른다. 이 예제에서 식별자는 사람의 이름이다.   \n",
    "\n",
    "다음 코드의 결과를 먼저 보자."
   ]
  },
  {
   "cell_type": "code",
   "execution_count": 4,
   "id": "a2574587",
   "metadata": {},
   "outputs": [
    {
     "data": {
      "text/html": [
       "<div>\n",
       "<style scoped>\n",
       "    .dataframe tbody tr th:only-of-type {\n",
       "        vertical-align: middle;\n",
       "    }\n",
       "\n",
       "    .dataframe tbody tr th {\n",
       "        vertical-align: top;\n",
       "    }\n",
       "\n",
       "    .dataframe thead th {\n",
       "        text-align: right;\n",
       "    }\n",
       "</style>\n",
       "<table border=\"1\" class=\"dataframe\">\n",
       "  <thead>\n",
       "    <tr style=\"text-align: right;\">\n",
       "      <th></th>\n",
       "      <th>name</th>\n",
       "      <th>age</th>\n",
       "      <th>sex</th>\n",
       "    </tr>\n",
       "  </thead>\n",
       "  <tbody>\n",
       "    <tr>\n",
       "      <th>0</th>\n",
       "      <td>철수</td>\n",
       "      <td>23</td>\n",
       "      <td>M</td>\n",
       "    </tr>\n",
       "    <tr>\n",
       "      <th>1</th>\n",
       "      <td>영이</td>\n",
       "      <td>34</td>\n",
       "      <td>F</td>\n",
       "    </tr>\n",
       "    <tr>\n",
       "      <th>2</th>\n",
       "      <td>John</td>\n",
       "      <td>19</td>\n",
       "      <td>M</td>\n",
       "    </tr>\n",
       "  </tbody>\n",
       "</table>\n",
       "</div>"
      ],
      "text/plain": [
       "   name  age sex\n",
       "0    철수   23   M\n",
       "1    영이   34   F\n",
       "2  John   19   M"
      ]
     },
     "execution_count": 4,
     "metadata": {},
     "output_type": "execute_result"
    }
   ],
   "source": [
    "pd.merge(df1, df2, on=\"name\")"
   ]
  },
  {
   "cell_type": "markdown",
   "id": "ac09045a",
   "metadata": {},
   "source": [
    "두 개의 데이터프레임이 지정된 열 `name` 에 의하여 결합되어 나이(`age`)와 성(`sex`)이 같이 나타나게 된다. "
   ]
  },
  {
   "cell_type": "markdown",
   "id": "ca28feec",
   "metadata": {},
   "source": [
    "## 식별자의 불일치 "
   ]
  },
  {
   "cell_type": "markdown",
   "id": "53be4c7a",
   "metadata": {},
   "source": [
    "만약 두 개의 데이터프레임에 있는 식별자에 포함된 자료가 다르면 어떻게 될까?\n",
    "\n",
    "다음과 같이 `john` 의 자료가 빠져 있는 데이터프레임 `df3`을  `df1` 과 결합해 보자."
   ]
  },
  {
   "cell_type": "code",
   "execution_count": 5,
   "id": "8830443f",
   "metadata": {},
   "outputs": [
    {
     "data": {
      "text/html": [
       "<div>\n",
       "<style scoped>\n",
       "    .dataframe tbody tr th:only-of-type {\n",
       "        vertical-align: middle;\n",
       "    }\n",
       "\n",
       "    .dataframe tbody tr th {\n",
       "        vertical-align: top;\n",
       "    }\n",
       "\n",
       "    .dataframe thead th {\n",
       "        text-align: right;\n",
       "    }\n",
       "</style>\n",
       "<table border=\"1\" class=\"dataframe\">\n",
       "  <thead>\n",
       "    <tr style=\"text-align: right;\">\n",
       "      <th></th>\n",
       "      <th>name</th>\n",
       "      <th>weight</th>\n",
       "    </tr>\n",
       "  </thead>\n",
       "  <tbody>\n",
       "    <tr>\n",
       "      <th>0</th>\n",
       "      <td>철수</td>\n",
       "      <td>55</td>\n",
       "    </tr>\n",
       "    <tr>\n",
       "      <th>1</th>\n",
       "      <td>영이</td>\n",
       "      <td>44</td>\n",
       "    </tr>\n",
       "  </tbody>\n",
       "</table>\n",
       "</div>"
      ],
      "text/plain": [
       "  name  weight\n",
       "0   철수      55\n",
       "1   영이      44"
      ]
     },
     "execution_count": 5,
     "metadata": {},
     "output_type": "execute_result"
    }
   ],
   "source": [
    "df3 = pd.DataFrame({\n",
    "    \"name\" : [\"철수\", \"영이\"],\n",
    "    \"weight\"  : [55, 44]\n",
    "})\n",
    "df3"
   ]
  },
  {
   "cell_type": "code",
   "execution_count": 6,
   "id": "0bf05687",
   "metadata": {},
   "outputs": [
    {
     "data": {
      "text/html": [
       "<div>\n",
       "<style scoped>\n",
       "    .dataframe tbody tr th:only-of-type {\n",
       "        vertical-align: middle;\n",
       "    }\n",
       "\n",
       "    .dataframe tbody tr th {\n",
       "        vertical-align: top;\n",
       "    }\n",
       "\n",
       "    .dataframe thead th {\n",
       "        text-align: right;\n",
       "    }\n",
       "</style>\n",
       "<table border=\"1\" class=\"dataframe\">\n",
       "  <thead>\n",
       "    <tr style=\"text-align: right;\">\n",
       "      <th></th>\n",
       "      <th>name</th>\n",
       "      <th>age</th>\n",
       "      <th>weight</th>\n",
       "    </tr>\n",
       "  </thead>\n",
       "  <tbody>\n",
       "    <tr>\n",
       "      <th>0</th>\n",
       "      <td>철수</td>\n",
       "      <td>23</td>\n",
       "      <td>55</td>\n",
       "    </tr>\n",
       "    <tr>\n",
       "      <th>1</th>\n",
       "      <td>영이</td>\n",
       "      <td>34</td>\n",
       "      <td>44</td>\n",
       "    </tr>\n",
       "  </tbody>\n",
       "</table>\n",
       "</div>"
      ],
      "text/plain": [
       "  name  age  weight\n",
       "0   철수   23      55\n",
       "1   영이   34      44"
      ]
     },
     "execution_count": 6,
     "metadata": {},
     "output_type": "execute_result"
    }
   ],
   "source": [
    "pd.merge(df1, df3, on=\"name\")"
   ]
  },
  {
   "cell_type": "markdown",
   "id": "f4360c46",
   "metadata": {},
   "source": [
    "위의 결과에서 `John` 의 자료가 사라져 버렸다. 물론 몸무게 값이 없는 `John` 의 자료가 필요없을 수도 있지만 많은 경우 자료를 유지해야 한다.\n",
    "\n",
    "이렇게 식별자의 항목이 다른 경우, 결합의 기준이 되는 식별자를 데이터프레임의 위치로 지정할 수 있다. 위에서 함수 `merge()`를 설명할 때 사용되는 데이터프레임의 위치에 따라서 **왼쪽** (첫 번째 인자) 과  **오른쪽** (두 번째 인자)으로 나타냈다.\n",
    "\n",
    "```\n",
    "pd.merge(left, right, ....)\n",
    "```\n",
    "\n",
    "이제 결합시 기준이 되는 식별자가 왼쪽에 있는 데이터프레임 `df1` 에 있다는 것을 선택명령문 `how='left'` 로 알려주자. "
   ]
  },
  {
   "cell_type": "code",
   "execution_count": 7,
   "id": "c6a82a56",
   "metadata": {},
   "outputs": [
    {
     "data": {
      "text/html": [
       "<div>\n",
       "<style scoped>\n",
       "    .dataframe tbody tr th:only-of-type {\n",
       "        vertical-align: middle;\n",
       "    }\n",
       "\n",
       "    .dataframe tbody tr th {\n",
       "        vertical-align: top;\n",
       "    }\n",
       "\n",
       "    .dataframe thead th {\n",
       "        text-align: right;\n",
       "    }\n",
       "</style>\n",
       "<table border=\"1\" class=\"dataframe\">\n",
       "  <thead>\n",
       "    <tr style=\"text-align: right;\">\n",
       "      <th></th>\n",
       "      <th>name</th>\n",
       "      <th>age</th>\n",
       "      <th>weight</th>\n",
       "    </tr>\n",
       "  </thead>\n",
       "  <tbody>\n",
       "    <tr>\n",
       "      <th>0</th>\n",
       "      <td>철수</td>\n",
       "      <td>23</td>\n",
       "      <td>55.0</td>\n",
       "    </tr>\n",
       "    <tr>\n",
       "      <th>1</th>\n",
       "      <td>영이</td>\n",
       "      <td>34</td>\n",
       "      <td>44.0</td>\n",
       "    </tr>\n",
       "    <tr>\n",
       "      <th>2</th>\n",
       "      <td>John</td>\n",
       "      <td>19</td>\n",
       "      <td>NaN</td>\n",
       "    </tr>\n",
       "  </tbody>\n",
       "</table>\n",
       "</div>"
      ],
      "text/plain": [
       "   name  age  weight\n",
       "0    철수   23    55.0\n",
       "1    영이   34    44.0\n",
       "2  John   19     NaN"
      ]
     },
     "execution_count": 7,
     "metadata": {},
     "output_type": "execute_result"
    }
   ],
   "source": [
    "pd.merge(df1, df3, on=\"name\", how='left')"
   ]
  },
  {
   "cell_type": "markdown",
   "id": "47aeecd9",
   "metadata": {},
   "source": [
    " 이제 `John` 의 자료가 나타나고 `John` 의 키는 결측값(`NaN`) 으로 표시된다. "
   ]
  },
  {
   "cell_type": "markdown",
   "id": "d872bab1",
   "metadata": {},
   "source": [
    "만약 두 개의 식별자에 서로 다른 내용이 나타나면 어떻게 될까?\n",
    "\n",
    "이제 새로운 사람 `흥민`의 자료를 가진 데이터프레임 `df4`를 `df1` 과 결합하는 예를 살펴보자. 아래 코드에서 선택명령문 `how=` 에 지정된 문자열에 따라서 결합의 결과가 어떻게 다른지 보자. "
   ]
  },
  {
   "cell_type": "code",
   "execution_count": 8,
   "id": "7ac754da",
   "metadata": {},
   "outputs": [
    {
     "data": {
      "text/html": [
       "<div>\n",
       "<style scoped>\n",
       "    .dataframe tbody tr th:only-of-type {\n",
       "        vertical-align: middle;\n",
       "    }\n",
       "\n",
       "    .dataframe tbody tr th {\n",
       "        vertical-align: top;\n",
       "    }\n",
       "\n",
       "    .dataframe thead th {\n",
       "        text-align: right;\n",
       "    }\n",
       "</style>\n",
       "<table border=\"1\" class=\"dataframe\">\n",
       "  <thead>\n",
       "    <tr style=\"text-align: right;\">\n",
       "      <th></th>\n",
       "      <th>name</th>\n",
       "      <th>height</th>\n",
       "    </tr>\n",
       "  </thead>\n",
       "  <tbody>\n",
       "    <tr>\n",
       "      <th>0</th>\n",
       "      <td>철수</td>\n",
       "      <td>167</td>\n",
       "    </tr>\n",
       "    <tr>\n",
       "      <th>1</th>\n",
       "      <td>영이</td>\n",
       "      <td>175</td>\n",
       "    </tr>\n",
       "    <tr>\n",
       "      <th>2</th>\n",
       "      <td>흥민</td>\n",
       "      <td>183</td>\n",
       "    </tr>\n",
       "  </tbody>\n",
       "</table>\n",
       "</div>"
      ],
      "text/plain": [
       "  name  height\n",
       "0   철수     167\n",
       "1   영이     175\n",
       "2   흥민     183"
      ]
     },
     "execution_count": 8,
     "metadata": {},
     "output_type": "execute_result"
    }
   ],
   "source": [
    "df4 = pd.DataFrame({\n",
    "    \"name\" : [\"철수\", \"영이\", \"흥민\"],\n",
    "    \"height\"  : [167, 175, 183]\n",
    "})\n",
    "df4"
   ]
  },
  {
   "cell_type": "code",
   "execution_count": 9,
   "id": "b80c34ac",
   "metadata": {},
   "outputs": [
    {
     "data": {
      "text/html": [
       "<div>\n",
       "<style scoped>\n",
       "    .dataframe tbody tr th:only-of-type {\n",
       "        vertical-align: middle;\n",
       "    }\n",
       "\n",
       "    .dataframe tbody tr th {\n",
       "        vertical-align: top;\n",
       "    }\n",
       "\n",
       "    .dataframe thead th {\n",
       "        text-align: right;\n",
       "    }\n",
       "</style>\n",
       "<table border=\"1\" class=\"dataframe\">\n",
       "  <thead>\n",
       "    <tr style=\"text-align: right;\">\n",
       "      <th></th>\n",
       "      <th>name</th>\n",
       "      <th>age</th>\n",
       "      <th>height</th>\n",
       "    </tr>\n",
       "  </thead>\n",
       "  <tbody>\n",
       "    <tr>\n",
       "      <th>0</th>\n",
       "      <td>철수</td>\n",
       "      <td>23</td>\n",
       "      <td>167.0</td>\n",
       "    </tr>\n",
       "    <tr>\n",
       "      <th>1</th>\n",
       "      <td>영이</td>\n",
       "      <td>34</td>\n",
       "      <td>175.0</td>\n",
       "    </tr>\n",
       "    <tr>\n",
       "      <th>2</th>\n",
       "      <td>John</td>\n",
       "      <td>19</td>\n",
       "      <td>NaN</td>\n",
       "    </tr>\n",
       "  </tbody>\n",
       "</table>\n",
       "</div>"
      ],
      "text/plain": [
       "   name  age  height\n",
       "0    철수   23   167.0\n",
       "1    영이   34   175.0\n",
       "2  John   19     NaN"
      ]
     },
     "execution_count": 9,
     "metadata": {},
     "output_type": "execute_result"
    }
   ],
   "source": [
    "pd.merge(df1, df4, on=\"name\", how='left')  # 식별자는 왼쪽 데이터프레임에만 있는 것으로"
   ]
  },
  {
   "cell_type": "code",
   "execution_count": 10,
   "id": "03245c22",
   "metadata": {},
   "outputs": [
    {
     "data": {
      "text/html": [
       "<div>\n",
       "<style scoped>\n",
       "    .dataframe tbody tr th:only-of-type {\n",
       "        vertical-align: middle;\n",
       "    }\n",
       "\n",
       "    .dataframe tbody tr th {\n",
       "        vertical-align: top;\n",
       "    }\n",
       "\n",
       "    .dataframe thead th {\n",
       "        text-align: right;\n",
       "    }\n",
       "</style>\n",
       "<table border=\"1\" class=\"dataframe\">\n",
       "  <thead>\n",
       "    <tr style=\"text-align: right;\">\n",
       "      <th></th>\n",
       "      <th>name</th>\n",
       "      <th>age</th>\n",
       "      <th>height</th>\n",
       "    </tr>\n",
       "  </thead>\n",
       "  <tbody>\n",
       "    <tr>\n",
       "      <th>0</th>\n",
       "      <td>철수</td>\n",
       "      <td>23.0</td>\n",
       "      <td>167</td>\n",
       "    </tr>\n",
       "    <tr>\n",
       "      <th>1</th>\n",
       "      <td>영이</td>\n",
       "      <td>34.0</td>\n",
       "      <td>175</td>\n",
       "    </tr>\n",
       "    <tr>\n",
       "      <th>2</th>\n",
       "      <td>흥민</td>\n",
       "      <td>NaN</td>\n",
       "      <td>183</td>\n",
       "    </tr>\n",
       "  </tbody>\n",
       "</table>\n",
       "</div>"
      ],
      "text/plain": [
       "  name   age  height\n",
       "0   철수  23.0     167\n",
       "1   영이  34.0     175\n",
       "2   흥민   NaN     183"
      ]
     },
     "execution_count": 10,
     "metadata": {},
     "output_type": "execute_result"
    }
   ],
   "source": [
    "pd.merge(df1, df4, on=\"name\", how='right') # 식별자는 오른쪽 데이터프레임만 있는 것으로"
   ]
  },
  {
   "cell_type": "code",
   "execution_count": 11,
   "id": "8724936e",
   "metadata": {},
   "outputs": [
    {
     "data": {
      "text/html": [
       "<div>\n",
       "<style scoped>\n",
       "    .dataframe tbody tr th:only-of-type {\n",
       "        vertical-align: middle;\n",
       "    }\n",
       "\n",
       "    .dataframe tbody tr th {\n",
       "        vertical-align: top;\n",
       "    }\n",
       "\n",
       "    .dataframe thead th {\n",
       "        text-align: right;\n",
       "    }\n",
       "</style>\n",
       "<table border=\"1\" class=\"dataframe\">\n",
       "  <thead>\n",
       "    <tr style=\"text-align: right;\">\n",
       "      <th></th>\n",
       "      <th>name</th>\n",
       "      <th>age</th>\n",
       "      <th>height</th>\n",
       "    </tr>\n",
       "  </thead>\n",
       "  <tbody>\n",
       "    <tr>\n",
       "      <th>0</th>\n",
       "      <td>철수</td>\n",
       "      <td>23</td>\n",
       "      <td>167</td>\n",
       "    </tr>\n",
       "    <tr>\n",
       "      <th>1</th>\n",
       "      <td>영이</td>\n",
       "      <td>34</td>\n",
       "      <td>175</td>\n",
       "    </tr>\n",
       "  </tbody>\n",
       "</table>\n",
       "</div>"
      ],
      "text/plain": [
       "  name  age  height\n",
       "0   철수   23     167\n",
       "1   영이   34     175"
      ]
     },
     "execution_count": 11,
     "metadata": {},
     "output_type": "execute_result"
    }
   ],
   "source": [
    "pd.merge(df1, df4, on=\"name\", how='inner') # 식별자는 두 데이터프레임에 공통인 것"
   ]
  },
  {
   "cell_type": "code",
   "execution_count": 12,
   "id": "c2bbb685",
   "metadata": {},
   "outputs": [
    {
     "data": {
      "text/html": [
       "<div>\n",
       "<style scoped>\n",
       "    .dataframe tbody tr th:only-of-type {\n",
       "        vertical-align: middle;\n",
       "    }\n",
       "\n",
       "    .dataframe tbody tr th {\n",
       "        vertical-align: top;\n",
       "    }\n",
       "\n",
       "    .dataframe thead th {\n",
       "        text-align: right;\n",
       "    }\n",
       "</style>\n",
       "<table border=\"1\" class=\"dataframe\">\n",
       "  <thead>\n",
       "    <tr style=\"text-align: right;\">\n",
       "      <th></th>\n",
       "      <th>name</th>\n",
       "      <th>age</th>\n",
       "      <th>height</th>\n",
       "    </tr>\n",
       "  </thead>\n",
       "  <tbody>\n",
       "    <tr>\n",
       "      <th>0</th>\n",
       "      <td>철수</td>\n",
       "      <td>23.0</td>\n",
       "      <td>167.0</td>\n",
       "    </tr>\n",
       "    <tr>\n",
       "      <th>1</th>\n",
       "      <td>영이</td>\n",
       "      <td>34.0</td>\n",
       "      <td>175.0</td>\n",
       "    </tr>\n",
       "    <tr>\n",
       "      <th>2</th>\n",
       "      <td>John</td>\n",
       "      <td>19.0</td>\n",
       "      <td>NaN</td>\n",
       "    </tr>\n",
       "    <tr>\n",
       "      <th>3</th>\n",
       "      <td>흥민</td>\n",
       "      <td>NaN</td>\n",
       "      <td>183.0</td>\n",
       "    </tr>\n",
       "  </tbody>\n",
       "</table>\n",
       "</div>"
      ],
      "text/plain": [
       "   name   age  height\n",
       "0    철수  23.0   167.0\n",
       "1    영이  34.0   175.0\n",
       "2  John  19.0     NaN\n",
       "3    흥민   NaN   183.0"
      ]
     },
     "execution_count": 12,
     "metadata": {},
     "output_type": "execute_result"
    }
   ],
   "source": [
    "pd.merge(df1, df4, on=\"name\", how='outer')  # 식별자는 두 데이터프레임의 모든 것"
   ]
  },
  {
   "cell_type": "markdown",
   "id": "e0f3cb0f",
   "metadata": {},
   "source": [
    "## 요약"
   ]
  },
  {
   "cell_type": "markdown",
   "id": "9b8b2323",
   "metadata": {},
   "source": [
    "두 개의 데이터프라임을 결합하는 경우 pandas 라이브러리의 함수 `merge()` 를 사용하며 식별자가 포함된 공통의 열은 `on=` 으로 지정한다.\n",
    "\n",
    "```\n",
    "pd.merge(left_df, right_df, on=\"name\", how=\"inner\")\n",
    "```\n",
    "\n",
    "이제 두 개의 데이터 프레임을 결합할 때 식별자를 선택하는 방법을 요약해 보자.\n",
    "\n",
    "- `how='left'` : 식별자는 왼쪽 데이터프레임에만 있는 것으로 선택\n",
    "- `how='right'` : 식별자는 오른쪽 데이터프레임에만 있는 것으로 선택\n",
    "- `how='inner'` : 식별자는 두 데이터프레임에 공통인 것으로 선택\n",
    "- `how='outer'` : 식별자는 두 데이터프레임에 나타난 모든 것으로 선택\n",
    "\n",
    "\n",
    "식별자를 선택하는 선택명령문 `how=` 을 지정하지 않으면 디폴트는 방법은 `how='inner` 이다."
   ]
  },
  {
   "cell_type": "markdown",
   "id": "f8a3a29e",
   "metadata": {},
   "source": [
    "## 가구당 평균 인원수 "
   ]
  },
  {
   "cell_type": "markdown",
   "id": "28c730da",
   "metadata": {},
   "source": [
    "앞 절에서 우리나라의 1인 가구수의 비율이 연도별로 어떻게 변화헸는지 알아보있다.\n",
    "\n",
    "이제 연도별로 가구당 평균 인원수가 어떻게 변화되었는지 알아보자. 가구당 평균 인원수를 알기 위해서는 우리나라의 전체 가구수뿐 만아니라 전체 인구수도 알아야 한다.\n",
    "\n",
    "$$ \\text{가구당 평균 인원수 }= \\frac{\\text{전체 인구수}}{\\text{전체 가구수}} $$\n",
    "\n",
    "\n",
    "이제 가구 자료가 포함된 화일 `korea_house_data_01.csv`과 인구 자료가 포함된 화일 `korea_population_data_01.csv` 를 데이터프레임을 만들자. 다음으로 지금까지 배운 다양한 함수와 메소드를 이용하여 연도별 가구당 평균 인원수를 구하여 어떻게 변화했는지 알아보자.\n",
    "\n",
    "이제 통계청에서 받은 원자료를 데이터프레임으로 만들어서 정리하는 일련의 작업을 한번에 적용해 본다. 이렇게 여러 단계의 작업을 프로그램으로 만들어 놓으면 자료의 갱신이나 수정을 손쉽게 할 수 있다.   "
   ]
  },
  {
   "cell_type": "markdown",
   "id": "a588a825",
   "metadata": {},
   "source": [
    "### 가구 자료의 정리\n",
    "\n",
    "먼저 앞 절에서 다루었던 가구 자료를 먼저 정리하여 필요한 데이터프레임을 만들자."
   ]
  },
  {
   "cell_type": "code",
   "execution_count": 13,
   "id": "eac8e728",
   "metadata": {},
   "outputs": [
    {
     "data": {
      "text/html": [
       "<div>\n",
       "<style scoped>\n",
       "    .dataframe tbody tr th:only-of-type {\n",
       "        vertical-align: middle;\n",
       "    }\n",
       "\n",
       "    .dataframe tbody tr th {\n",
       "        vertical-align: top;\n",
       "    }\n",
       "\n",
       "    .dataframe thead th {\n",
       "        text-align: right;\n",
       "    }\n",
       "</style>\n",
       "<table border=\"1\" class=\"dataframe\">\n",
       "  <thead>\n",
       "    <tr style=\"text-align: right;\">\n",
       "      <th></th>\n",
       "      <th>시점</th>\n",
       "      <th>행정구역별(읍면동)</th>\n",
       "      <th>일반가구_계</th>\n",
       "      <th>1인</th>\n",
       "      <th>2인</th>\n",
       "      <th>3인</th>\n",
       "      <th>4인</th>\n",
       "      <th>5인</th>\n",
       "      <th>6인</th>\n",
       "      <th>7인 이상</th>\n",
       "    </tr>\n",
       "  </thead>\n",
       "  <tbody>\n",
       "    <tr>\n",
       "      <th>0</th>\n",
       "      <td>2015</td>\n",
       "      <td>전국</td>\n",
       "      <td>19111030</td>\n",
       "      <td>5203440</td>\n",
       "      <td>4993818</td>\n",
       "      <td>4100979</td>\n",
       "      <td>3588931</td>\n",
       "      <td>940413</td>\n",
       "      <td>217474</td>\n",
       "      <td>65975</td>\n",
       "    </tr>\n",
       "    <tr>\n",
       "      <th>1</th>\n",
       "      <td>2015</td>\n",
       "      <td>서울특별시</td>\n",
       "      <td>3784490</td>\n",
       "      <td>1115744</td>\n",
       "      <td>930467</td>\n",
       "      <td>817440</td>\n",
       "      <td>701945</td>\n",
       "      <td>169436</td>\n",
       "      <td>38547</td>\n",
       "      <td>10911</td>\n",
       "    </tr>\n",
       "    <tr>\n",
       "      <th>2</th>\n",
       "      <td>2015</td>\n",
       "      <td>부산광역시</td>\n",
       "      <td>1335900</td>\n",
       "      <td>361749</td>\n",
       "      <td>366048</td>\n",
       "      <td>296742</td>\n",
       "      <td>238031</td>\n",
       "      <td>56971</td>\n",
       "      <td>12928</td>\n",
       "      <td>3431</td>\n",
       "    </tr>\n",
       "    <tr>\n",
       "      <th>3</th>\n",
       "      <td>2015</td>\n",
       "      <td>대구광역시</td>\n",
       "      <td>928528</td>\n",
       "      <td>239517</td>\n",
       "      <td>239824</td>\n",
       "      <td>208795</td>\n",
       "      <td>184258</td>\n",
       "      <td>44071</td>\n",
       "      <td>9582</td>\n",
       "      <td>2481</td>\n",
       "    </tr>\n",
       "    <tr>\n",
       "      <th>4</th>\n",
       "      <td>2015</td>\n",
       "      <td>인천광역시</td>\n",
       "      <td>1045417</td>\n",
       "      <td>243678</td>\n",
       "      <td>265079</td>\n",
       "      <td>245135</td>\n",
       "      <td>220538</td>\n",
       "      <td>55230</td>\n",
       "      <td>12253</td>\n",
       "      <td>3504</td>\n",
       "    </tr>\n",
       "  </tbody>\n",
       "</table>\n",
       "</div>"
      ],
      "text/plain": [
       "     시점 행정구역별(읍면동)    일반가구_계       1인       2인       3인       4인      5인  \\\n",
       "0  2015         전국  19111030  5203440  4993818  4100979  3588931  940413   \n",
       "1  2015      서울특별시   3784490  1115744   930467   817440   701945  169436   \n",
       "2  2015      부산광역시   1335900   361749   366048   296742   238031   56971   \n",
       "3  2015      대구광역시    928528   239517   239824   208795   184258   44071   \n",
       "4  2015      인천광역시   1045417   243678   265079   245135   220538   55230   \n",
       "\n",
       "       6인  7인 이상  \n",
       "0  217474  65975  \n",
       "1   38547  10911  \n",
       "2   12928   3431  \n",
       "3    9582   2481  \n",
       "4   12253   3504  "
      ]
     },
     "execution_count": 13,
     "metadata": {},
     "output_type": "execute_result"
    }
   ],
   "source": [
    "url1= \"https://ilovedata.github.io/teaching/bigdata2/data/korea_house_data_01.csv\"\n",
    "house = pd.read_csv(url1, encoding=\"CP949\")\n",
    "house.head(5)"
   ]
  },
  {
   "cell_type": "markdown",
   "id": "8943c0d5",
   "metadata": {},
   "source": [
    "이제 배운 다양한 메소드를 차례대로 적용하여 연도별 총가구수를 가진 데이터프레임 `house_final` 을 만들어 보자.\n",
    "\n",
    "먼저 열 `\"일반가구_계` 과 행 `전국` 을 제외하고 열이름을 바꾼다. 모두 `inplace= True`을 사용하여 데이터프레임 `house` 가 변경된다."
   ]
  },
  {
   "cell_type": "code",
   "execution_count": 14,
   "id": "e7da1857",
   "metadata": {},
   "outputs": [],
   "source": [
    "house.drop(columns = [\"일반가구_계\"], inplace= True)"
   ]
  },
  {
   "cell_type": "code",
   "execution_count": 15,
   "id": "ee20b4c9",
   "metadata": {},
   "outputs": [],
   "source": [
    "index_for_delete = house[house[\"행정구역별(읍면동)\"] == '전국'].index"
   ]
  },
  {
   "cell_type": "code",
   "execution_count": 16,
   "id": "7b322256",
   "metadata": {},
   "outputs": [],
   "source": [
    "house.drop( index = index_for_delete, inplace= True )"
   ]
  },
  {
   "cell_type": "code",
   "execution_count": 17,
   "id": "24e12872",
   "metadata": {},
   "outputs": [],
   "source": [
    "house.rename( columns={\n",
    "\t\"시점\" : \"year\", \"행정구역별(읍면동)\" : \"region\",\n",
    "\t\"1인\" : \"p1\", \"2인\" : \"p2\", \"3인\" : \"p3\", \"4인\" : \"p4\", \n",
    "\t\"5인\" : \"p5\", \"6인\" : \"p6\", \"7인 이상\" : \"p7plus\"}, \n",
    "\tinplace=True)"
   ]
  },
  {
   "cell_type": "code",
   "execution_count": 18,
   "id": "2cd67c77",
   "metadata": {},
   "outputs": [
    {
     "data": {
      "text/html": [
       "<div>\n",
       "<style scoped>\n",
       "    .dataframe tbody tr th:only-of-type {\n",
       "        vertical-align: middle;\n",
       "    }\n",
       "\n",
       "    .dataframe tbody tr th {\n",
       "        vertical-align: top;\n",
       "    }\n",
       "\n",
       "    .dataframe thead th {\n",
       "        text-align: right;\n",
       "    }\n",
       "</style>\n",
       "<table border=\"1\" class=\"dataframe\">\n",
       "  <thead>\n",
       "    <tr style=\"text-align: right;\">\n",
       "      <th></th>\n",
       "      <th>year</th>\n",
       "      <th>region</th>\n",
       "      <th>p1</th>\n",
       "      <th>p2</th>\n",
       "      <th>p3</th>\n",
       "      <th>p4</th>\n",
       "      <th>p5</th>\n",
       "      <th>p6</th>\n",
       "      <th>p7plus</th>\n",
       "    </tr>\n",
       "  </thead>\n",
       "  <tbody>\n",
       "    <tr>\n",
       "      <th>1</th>\n",
       "      <td>2015</td>\n",
       "      <td>서울특별시</td>\n",
       "      <td>1115744</td>\n",
       "      <td>930467</td>\n",
       "      <td>817440</td>\n",
       "      <td>701945</td>\n",
       "      <td>169436</td>\n",
       "      <td>38547</td>\n",
       "      <td>10911</td>\n",
       "    </tr>\n",
       "    <tr>\n",
       "      <th>2</th>\n",
       "      <td>2015</td>\n",
       "      <td>부산광역시</td>\n",
       "      <td>361749</td>\n",
       "      <td>366048</td>\n",
       "      <td>296742</td>\n",
       "      <td>238031</td>\n",
       "      <td>56971</td>\n",
       "      <td>12928</td>\n",
       "      <td>3431</td>\n",
       "    </tr>\n",
       "    <tr>\n",
       "      <th>3</th>\n",
       "      <td>2015</td>\n",
       "      <td>대구광역시</td>\n",
       "      <td>239517</td>\n",
       "      <td>239824</td>\n",
       "      <td>208795</td>\n",
       "      <td>184258</td>\n",
       "      <td>44071</td>\n",
       "      <td>9582</td>\n",
       "      <td>2481</td>\n",
       "    </tr>\n",
       "    <tr>\n",
       "      <th>4</th>\n",
       "      <td>2015</td>\n",
       "      <td>인천광역시</td>\n",
       "      <td>243678</td>\n",
       "      <td>265079</td>\n",
       "      <td>245135</td>\n",
       "      <td>220538</td>\n",
       "      <td>55230</td>\n",
       "      <td>12253</td>\n",
       "      <td>3504</td>\n",
       "    </tr>\n",
       "    <tr>\n",
       "      <th>5</th>\n",
       "      <td>2015</td>\n",
       "      <td>광주광역시</td>\n",
       "      <td>163577</td>\n",
       "      <td>137662</td>\n",
       "      <td>115701</td>\n",
       "      <td>109612</td>\n",
       "      <td>32199</td>\n",
       "      <td>6647</td>\n",
       "      <td>1759</td>\n",
       "    </tr>\n",
       "  </tbody>\n",
       "</table>\n",
       "</div>"
      ],
      "text/plain": [
       "   year region       p1      p2      p3      p4      p5     p6  p7plus\n",
       "1  2015  서울특별시  1115744  930467  817440  701945  169436  38547   10911\n",
       "2  2015  부산광역시   361749  366048  296742  238031   56971  12928    3431\n",
       "3  2015  대구광역시   239517  239824  208795  184258   44071   9582    2481\n",
       "4  2015  인천광역시   243678  265079  245135  220538   55230  12253    3504\n",
       "5  2015  광주광역시   163577  137662  115701  109612   32199   6647    1759"
      ]
     },
     "execution_count": 18,
     "metadata": {},
     "output_type": "execute_result"
    }
   ],
   "source": [
    "house.head(5)"
   ]
  },
  {
   "cell_type": "markdown",
   "id": "04d1dbdb",
   "metadata": {},
   "source": [
    "이제 년도별로 그룹을 만들어 시도 가구수를 모두 합치고 전국 가구수를 열 `house_total` 에 만들자."
   ]
  },
  {
   "cell_type": "code",
   "execution_count": 19,
   "id": "59678e22",
   "metadata": {},
   "outputs": [],
   "source": [
    "house_final =house.groupby( by=[\"year\"] ).sum().reset_index()"
   ]
  },
  {
   "cell_type": "code",
   "execution_count": 20,
   "id": "701250de",
   "metadata": {},
   "outputs": [],
   "source": [
    "house_final['house_total'] = house_final[ [ \"p1\",\"p2\",\"p3\",\"p4\",\"p5\",\"p6\",\"p7plus\"] ].sum(axis=1) "
   ]
  },
  {
   "cell_type": "code",
   "execution_count": 21,
   "id": "c4eb4a6c",
   "metadata": {},
   "outputs": [
    {
     "data": {
      "text/html": [
       "<div>\n",
       "<style scoped>\n",
       "    .dataframe tbody tr th:only-of-type {\n",
       "        vertical-align: middle;\n",
       "    }\n",
       "\n",
       "    .dataframe tbody tr th {\n",
       "        vertical-align: top;\n",
       "    }\n",
       "\n",
       "    .dataframe thead th {\n",
       "        text-align: right;\n",
       "    }\n",
       "</style>\n",
       "<table border=\"1\" class=\"dataframe\">\n",
       "  <thead>\n",
       "    <tr style=\"text-align: right;\">\n",
       "      <th></th>\n",
       "      <th>year</th>\n",
       "      <th>p1</th>\n",
       "      <th>p2</th>\n",
       "      <th>p3</th>\n",
       "      <th>p4</th>\n",
       "      <th>p5</th>\n",
       "      <th>p6</th>\n",
       "      <th>p7plus</th>\n",
       "      <th>house_total</th>\n",
       "    </tr>\n",
       "  </thead>\n",
       "  <tbody>\n",
       "    <tr>\n",
       "      <th>0</th>\n",
       "      <td>2015</td>\n",
       "      <td>5203440</td>\n",
       "      <td>4993818</td>\n",
       "      <td>4100979</td>\n",
       "      <td>3588931</td>\n",
       "      <td>940413</td>\n",
       "      <td>217474</td>\n",
       "      <td>65975</td>\n",
       "      <td>19111030</td>\n",
       "    </tr>\n",
       "    <tr>\n",
       "      <th>1</th>\n",
       "      <td>2016</td>\n",
       "      <td>5397615</td>\n",
       "      <td>5067166</td>\n",
       "      <td>4151701</td>\n",
       "      <td>3551410</td>\n",
       "      <td>924373</td>\n",
       "      <td>211475</td>\n",
       "      <td>63956</td>\n",
       "      <td>19367696</td>\n",
       "    </tr>\n",
       "    <tr>\n",
       "      <th>2</th>\n",
       "      <td>2017</td>\n",
       "      <td>5618677</td>\n",
       "      <td>5260332</td>\n",
       "      <td>4178641</td>\n",
       "      <td>3473897</td>\n",
       "      <td>886479</td>\n",
       "      <td>197517</td>\n",
       "      <td>58332</td>\n",
       "      <td>19673875</td>\n",
       "    </tr>\n",
       "    <tr>\n",
       "      <th>3</th>\n",
       "      <td>2018</td>\n",
       "      <td>5848594</td>\n",
       "      <td>5445691</td>\n",
       "      <td>4203792</td>\n",
       "      <td>3396320</td>\n",
       "      <td>849167</td>\n",
       "      <td>182886</td>\n",
       "      <td>52738</td>\n",
       "      <td>19979188</td>\n",
       "    </tr>\n",
       "    <tr>\n",
       "      <th>4</th>\n",
       "      <td>2019</td>\n",
       "      <td>6147516</td>\n",
       "      <td>5663330</td>\n",
       "      <td>4217736</td>\n",
       "      <td>3300114</td>\n",
       "      <td>801048</td>\n",
       "      <td>166866</td>\n",
       "      <td>46578</td>\n",
       "      <td>20343188</td>\n",
       "    </tr>\n",
       "    <tr>\n",
       "      <th>5</th>\n",
       "      <td>2020</td>\n",
       "      <td>6643354</td>\n",
       "      <td>5864525</td>\n",
       "      <td>4200629</td>\n",
       "      <td>3271315</td>\n",
       "      <td>761417</td>\n",
       "      <td>147172</td>\n",
       "      <td>38298</td>\n",
       "      <td>20926710</td>\n",
       "    </tr>\n",
       "  </tbody>\n",
       "</table>\n",
       "</div>"
      ],
      "text/plain": [
       "   year       p1       p2       p3       p4      p5      p6  p7plus  \\\n",
       "0  2015  5203440  4993818  4100979  3588931  940413  217474   65975   \n",
       "1  2016  5397615  5067166  4151701  3551410  924373  211475   63956   \n",
       "2  2017  5618677  5260332  4178641  3473897  886479  197517   58332   \n",
       "3  2018  5848594  5445691  4203792  3396320  849167  182886   52738   \n",
       "4  2019  6147516  5663330  4217736  3300114  801048  166866   46578   \n",
       "5  2020  6643354  5864525  4200629  3271315  761417  147172   38298   \n",
       "\n",
       "   house_total  \n",
       "0     19111030  \n",
       "1     19367696  \n",
       "2     19673875  \n",
       "3     19979188  \n",
       "4     20343188  \n",
       "5     20926710  "
      ]
     },
     "execution_count": 21,
     "metadata": {},
     "output_type": "execute_result"
    }
   ],
   "source": [
    "house_final"
   ]
  },
  {
   "cell_type": "markdown",
   "id": "c06de3e8",
   "metadata": {},
   "source": [
    "### 인구 자료의 정리\n",
    "\n",
    "이제 인구 자료를 읽어서 정리하여 필요한 데이터프레임을 만들자."
   ]
  },
  {
   "cell_type": "code",
   "execution_count": 22,
   "id": "0e1b97b3",
   "metadata": {},
   "outputs": [],
   "source": [
    "url2 = \"https://ilovedata.github.io/teaching/bigdata2/data/korea_population_data_01.csv\"\n",
    "pop = pd.read_csv(url2, encoding=\"CP949\")"
   ]
  },
  {
   "cell_type": "code",
   "execution_count": 23,
   "id": "06349092",
   "metadata": {},
   "outputs": [
    {
     "data": {
      "text/html": [
       "<div>\n",
       "<style scoped>\n",
       "    .dataframe tbody tr th:only-of-type {\n",
       "        vertical-align: middle;\n",
       "    }\n",
       "\n",
       "    .dataframe tbody tr th {\n",
       "        vertical-align: top;\n",
       "    }\n",
       "\n",
       "    .dataframe thead th {\n",
       "        text-align: right;\n",
       "    }\n",
       "</style>\n",
       "<table border=\"1\" class=\"dataframe\">\n",
       "  <thead>\n",
       "    <tr style=\"text-align: right;\">\n",
       "      <th></th>\n",
       "      <th>시점</th>\n",
       "      <th>행정구역별(읍면동)</th>\n",
       "      <th>남자(명)</th>\n",
       "      <th>여자(명)</th>\n",
       "    </tr>\n",
       "  </thead>\n",
       "  <tbody>\n",
       "    <tr>\n",
       "      <th>0</th>\n",
       "      <td>2015</td>\n",
       "      <td>서울특별시</td>\n",
       "      <td>4859535</td>\n",
       "      <td>5044777</td>\n",
       "    </tr>\n",
       "    <tr>\n",
       "      <th>1</th>\n",
       "      <td>2015</td>\n",
       "      <td>부산광역시</td>\n",
       "      <td>1701347</td>\n",
       "      <td>1747390</td>\n",
       "    </tr>\n",
       "    <tr>\n",
       "      <th>2</th>\n",
       "      <td>2015</td>\n",
       "      <td>대구광역시</td>\n",
       "      <td>1228511</td>\n",
       "      <td>1237541</td>\n",
       "    </tr>\n",
       "    <tr>\n",
       "      <th>3</th>\n",
       "      <td>2015</td>\n",
       "      <td>인천광역시</td>\n",
       "      <td>1455017</td>\n",
       "      <td>1435434</td>\n",
       "    </tr>\n",
       "    <tr>\n",
       "      <th>4</th>\n",
       "      <td>2015</td>\n",
       "      <td>광주광역시</td>\n",
       "      <td>748867</td>\n",
       "      <td>754014</td>\n",
       "    </tr>\n",
       "  </tbody>\n",
       "</table>\n",
       "</div>"
      ],
      "text/plain": [
       "     시점 행정구역별(읍면동)    남자(명)    여자(명)\n",
       "0  2015      서울특별시  4859535  5044777\n",
       "1  2015      부산광역시  1701347  1747390\n",
       "2  2015      대구광역시  1228511  1237541\n",
       "3  2015      인천광역시  1455017  1435434\n",
       "4  2015      광주광역시   748867   754014"
      ]
     },
     "execution_count": 23,
     "metadata": {},
     "output_type": "execute_result"
    }
   ],
   "source": [
    "pop.head(5)"
   ]
  },
  {
   "cell_type": "markdown",
   "id": "54594a2a",
   "metadata": {},
   "source": [
    "열이름을 영문으로 바꾸고 연도별 총인구수를 가진 열 `pop_total` 를 만들어 보자."
   ]
  },
  {
   "cell_type": "code",
   "execution_count": 24,
   "id": "9b137df0",
   "metadata": {},
   "outputs": [],
   "source": [
    "pop.rename( columns={\n",
    "\t\"시점\" : \"year\", \"행정구역별(읍면동)\" : \"region\",\n",
    "\t\"남자(명)\" : \"male\", \"여자(명)\" : \"female\"}, \n",
    "\tinplace=True)"
   ]
  },
  {
   "cell_type": "code",
   "execution_count": 25,
   "id": "dc0235e5",
   "metadata": {},
   "outputs": [],
   "source": [
    "pop_final = pop.groupby(by=\"year\").sum().reset_index()"
   ]
  },
  {
   "cell_type": "code",
   "execution_count": 26,
   "id": "508742a7",
   "metadata": {},
   "outputs": [],
   "source": [
    "pop_final[\"pop_total\"] =  pop_final[[\"male\", \"female\"]].sum(axis=1)"
   ]
  },
  {
   "cell_type": "code",
   "execution_count": 27,
   "id": "12724d20",
   "metadata": {},
   "outputs": [
    {
     "data": {
      "text/html": [
       "<div>\n",
       "<style scoped>\n",
       "    .dataframe tbody tr th:only-of-type {\n",
       "        vertical-align: middle;\n",
       "    }\n",
       "\n",
       "    .dataframe tbody tr th {\n",
       "        vertical-align: top;\n",
       "    }\n",
       "\n",
       "    .dataframe thead th {\n",
       "        text-align: right;\n",
       "    }\n",
       "</style>\n",
       "<table border=\"1\" class=\"dataframe\">\n",
       "  <thead>\n",
       "    <tr style=\"text-align: right;\">\n",
       "      <th></th>\n",
       "      <th>year</th>\n",
       "      <th>male</th>\n",
       "      <th>female</th>\n",
       "      <th>pop_total</th>\n",
       "    </tr>\n",
       "  </thead>\n",
       "  <tbody>\n",
       "    <tr>\n",
       "      <th>0</th>\n",
       "      <td>2015</td>\n",
       "      <td>25608502</td>\n",
       "      <td>25460873</td>\n",
       "      <td>51069375</td>\n",
       "    </tr>\n",
       "    <tr>\n",
       "      <th>1</th>\n",
       "      <td>2016</td>\n",
       "      <td>25696987</td>\n",
       "      <td>25572567</td>\n",
       "      <td>51269554</td>\n",
       "    </tr>\n",
       "    <tr>\n",
       "      <th>2</th>\n",
       "      <td>2017</td>\n",
       "      <td>25768055</td>\n",
       "      <td>25654452</td>\n",
       "      <td>51422507</td>\n",
       "    </tr>\n",
       "    <tr>\n",
       "      <th>3</th>\n",
       "      <td>2018</td>\n",
       "      <td>25877195</td>\n",
       "      <td>25752317</td>\n",
       "      <td>51629512</td>\n",
       "    </tr>\n",
       "    <tr>\n",
       "      <th>4</th>\n",
       "      <td>2019</td>\n",
       "      <td>25952070</td>\n",
       "      <td>25827133</td>\n",
       "      <td>51779203</td>\n",
       "    </tr>\n",
       "    <tr>\n",
       "      <th>5</th>\n",
       "      <td>2020</td>\n",
       "      <td>25915207</td>\n",
       "      <td>25913929</td>\n",
       "      <td>51829136</td>\n",
       "    </tr>\n",
       "  </tbody>\n",
       "</table>\n",
       "</div>"
      ],
      "text/plain": [
       "   year      male    female  pop_total\n",
       "0  2015  25608502  25460873   51069375\n",
       "1  2016  25696987  25572567   51269554\n",
       "2  2017  25768055  25654452   51422507\n",
       "3  2018  25877195  25752317   51629512\n",
       "4  2019  25952070  25827133   51779203\n",
       "5  2020  25915207  25913929   51829136"
      ]
     },
     "execution_count": 27,
     "metadata": {},
     "output_type": "execute_result"
    }
   ],
   "source": [
    "pop_final"
   ]
  },
  {
   "cell_type": "markdown",
   "id": "e2e0342c",
   "metadata": {},
   "source": [
    "### 데이터 프레임의 결합"
   ]
  },
  {
   "cell_type": "markdown",
   "id": "612552ce",
   "metadata": {},
   "source": [
    "이제 두 개의 데이터프레임 `house_final` 과 `pop_final` 에서 년도(`year`)와  각각 총가구수(`house_total`), 총인구수(`pop_total`) 을 슬라이싱하여 년도로 결합해 보자"
   ]
  },
  {
   "cell_type": "code",
   "execution_count": 28,
   "id": "56352a43",
   "metadata": {},
   "outputs": [],
   "source": [
    "all_final = pd.merge(house_final[['year', 'house_total']], pop_final[['year','pop_total']], on = 'year')"
   ]
  },
  {
   "cell_type": "code",
   "execution_count": 29,
   "id": "070b929e",
   "metadata": {},
   "outputs": [
    {
     "data": {
      "text/html": [
       "<div>\n",
       "<style scoped>\n",
       "    .dataframe tbody tr th:only-of-type {\n",
       "        vertical-align: middle;\n",
       "    }\n",
       "\n",
       "    .dataframe tbody tr th {\n",
       "        vertical-align: top;\n",
       "    }\n",
       "\n",
       "    .dataframe thead th {\n",
       "        text-align: right;\n",
       "    }\n",
       "</style>\n",
       "<table border=\"1\" class=\"dataframe\">\n",
       "  <thead>\n",
       "    <tr style=\"text-align: right;\">\n",
       "      <th></th>\n",
       "      <th>year</th>\n",
       "      <th>house_total</th>\n",
       "      <th>pop_total</th>\n",
       "    </tr>\n",
       "  </thead>\n",
       "  <tbody>\n",
       "    <tr>\n",
       "      <th>0</th>\n",
       "      <td>2015</td>\n",
       "      <td>19111030</td>\n",
       "      <td>51069375</td>\n",
       "    </tr>\n",
       "    <tr>\n",
       "      <th>1</th>\n",
       "      <td>2016</td>\n",
       "      <td>19367696</td>\n",
       "      <td>51269554</td>\n",
       "    </tr>\n",
       "    <tr>\n",
       "      <th>2</th>\n",
       "      <td>2017</td>\n",
       "      <td>19673875</td>\n",
       "      <td>51422507</td>\n",
       "    </tr>\n",
       "    <tr>\n",
       "      <th>3</th>\n",
       "      <td>2018</td>\n",
       "      <td>19979188</td>\n",
       "      <td>51629512</td>\n",
       "    </tr>\n",
       "    <tr>\n",
       "      <th>4</th>\n",
       "      <td>2019</td>\n",
       "      <td>20343188</td>\n",
       "      <td>51779203</td>\n",
       "    </tr>\n",
       "    <tr>\n",
       "      <th>5</th>\n",
       "      <td>2020</td>\n",
       "      <td>20926710</td>\n",
       "      <td>51829136</td>\n",
       "    </tr>\n",
       "  </tbody>\n",
       "</table>\n",
       "</div>"
      ],
      "text/plain": [
       "   year  house_total  pop_total\n",
       "0  2015     19111030   51069375\n",
       "1  2016     19367696   51269554\n",
       "2  2017     19673875   51422507\n",
       "3  2018     19979188   51629512\n",
       "4  2019     20343188   51779203\n",
       "5  2020     20926710   51829136"
      ]
     },
     "execution_count": 29,
     "metadata": {},
     "output_type": "execute_result"
    }
   ],
   "source": [
    "all_final"
   ]
  },
  {
   "cell_type": "markdown",
   "id": "59136ac5",
   "metadata": {},
   "source": [
    "### 결과"
   ]
  },
  {
   "cell_type": "markdown",
   "id": "ef125da5",
   "metadata": {},
   "source": [
    "이제 마지막으로 가구당 평균 인원수를 구하여 열 `avg_person_per_house`에 저장하고 시가에 따른 변화를 그림으로 그려보자."
   ]
  },
  {
   "cell_type": "code",
   "execution_count": 30,
   "id": "b453f7c2",
   "metadata": {},
   "outputs": [],
   "source": [
    "all_final[\"avg_person_per_house\"] = all_final[\"pop_total\"] / all_final[\"house_total\"]"
   ]
  },
  {
   "cell_type": "code",
   "execution_count": 31,
   "id": "39e7a2f7",
   "metadata": {},
   "outputs": [
    {
     "data": {
      "text/html": [
       "<div>\n",
       "<style scoped>\n",
       "    .dataframe tbody tr th:only-of-type {\n",
       "        vertical-align: middle;\n",
       "    }\n",
       "\n",
       "    .dataframe tbody tr th {\n",
       "        vertical-align: top;\n",
       "    }\n",
       "\n",
       "    .dataframe thead th {\n",
       "        text-align: right;\n",
       "    }\n",
       "</style>\n",
       "<table border=\"1\" class=\"dataframe\">\n",
       "  <thead>\n",
       "    <tr style=\"text-align: right;\">\n",
       "      <th></th>\n",
       "      <th>year</th>\n",
       "      <th>house_total</th>\n",
       "      <th>pop_total</th>\n",
       "      <th>avg_person_per_house</th>\n",
       "    </tr>\n",
       "  </thead>\n",
       "  <tbody>\n",
       "    <tr>\n",
       "      <th>0</th>\n",
       "      <td>2015</td>\n",
       "      <td>19111030</td>\n",
       "      <td>51069375</td>\n",
       "      <td>2.672246</td>\n",
       "    </tr>\n",
       "    <tr>\n",
       "      <th>1</th>\n",
       "      <td>2016</td>\n",
       "      <td>19367696</td>\n",
       "      <td>51269554</td>\n",
       "      <td>2.647168</td>\n",
       "    </tr>\n",
       "    <tr>\n",
       "      <th>2</th>\n",
       "      <td>2017</td>\n",
       "      <td>19673875</td>\n",
       "      <td>51422507</td>\n",
       "      <td>2.613746</td>\n",
       "    </tr>\n",
       "    <tr>\n",
       "      <th>3</th>\n",
       "      <td>2018</td>\n",
       "      <td>19979188</td>\n",
       "      <td>51629512</td>\n",
       "      <td>2.584165</td>\n",
       "    </tr>\n",
       "    <tr>\n",
       "      <th>4</th>\n",
       "      <td>2019</td>\n",
       "      <td>20343188</td>\n",
       "      <td>51779203</td>\n",
       "      <td>2.545285</td>\n",
       "    </tr>\n",
       "    <tr>\n",
       "      <th>5</th>\n",
       "      <td>2020</td>\n",
       "      <td>20926710</td>\n",
       "      <td>51829136</td>\n",
       "      <td>2.476698</td>\n",
       "    </tr>\n",
       "  </tbody>\n",
       "</table>\n",
       "</div>"
      ],
      "text/plain": [
       "   year  house_total  pop_total  avg_person_per_house\n",
       "0  2015     19111030   51069375              2.672246\n",
       "1  2016     19367696   51269554              2.647168\n",
       "2  2017     19673875   51422507              2.613746\n",
       "3  2018     19979188   51629512              2.584165\n",
       "4  2019     20343188   51779203              2.545285\n",
       "5  2020     20926710   51829136              2.476698"
      ]
     },
     "execution_count": 31,
     "metadata": {},
     "output_type": "execute_result"
    }
   ],
   "source": [
    "all_final"
   ]
  },
  {
   "cell_type": "code",
   "execution_count": 32,
   "id": "a51cc0ca",
   "metadata": {},
   "outputs": [
    {
     "data": {
      "text/plain": [
       "<AxesSubplot:xlabel='year'>"
      ]
     },
     "execution_count": 32,
     "metadata": {},
     "output_type": "execute_result"
    },
    {
     "data": {
      "image/png": "[encoded data removed]",
      "text/plain": [
       "<Figure size 432x288 with 1 Axes>"
      ]
     },
     "metadata": {
      "needs_background": "light"
     },
     "output_type": "display_data"
    }
   ],
   "source": [
    "all_final.plot.line(x='year', y='avg_person_per_house')"
   ]
  },
  {
   "cell_type": "markdown",
   "id": "cd27bab0",
   "metadata": {},
   "source": [
    "우리가 계산한 결과는 [국가지표체계](https://www.index.go.kr/unify/idx-info.do?idxCd=4229)에서 다시 확인할 수 있다."
   ]
  }
 ],
 "metadata": {
  "kernelspec": {
   "display_name": "Python 3",
   "language": "python",
   "name": "python3"
  },
  "language_info": {
   "codemirror_mode": {
    "name": "ipython",
    "version": 3
   },
   "file_extension": ".py",
   "mimetype": "text/x-python",
   "name": "python",
   "nbconvert_exporter": "python",
   "pygments_lexer": "ipython3",
   "version": "3.8.10"
  }
 },
 "nbformat": 4,
 "nbformat_minor": 5
}
