{
  "nbformat": 4,
  "nbformat_minor": 0,
  "metadata": {
    "colab": {
      "name": "data-probability.ipynb",
      "provenance": []
    },
    "kernelspec": {
      "name": "python3",
      "display_name": "Python 3"
    },
    "language_info": {
      "name": "python"
    }
  },
  "cells": [
    {
      "cell_type": "markdown",
      "metadata": {
        "id": "4txxNVtJZaZG"
      },
      "source": [
        "# 분포와 확률"
      ]
    },
    {
      "cell_type": "markdown",
      "metadata": {
        "id": "gYwgLBQlZhxx"
      },
      "source": [
        "우리는 지난 강의에서 데이터를 분석하기 위해서 자료를 받아 정리한 후 분석을 위한 최종적인 `dataframe`을 만들고 요약하는 방법들을 살펴보있다.\n",
        "\n",
        "이 장에서는 데이터가 가지고 있는 다양한 특성들을 확률과 통계에서 사용되는 **분포(distribution)** 의 개념을 이용하여 파악하는 방법을 배울 것이다. 자료의 분포를 알기 위한 여러 가지 시각화 방법과 요약 통계량에 대하여 배운다.\n",
        "\n",
        "또한 자료의 분포를 결정하는 확률에 대한 기초적인 개념을 배우고 프로그램을 통하여 임의성(randomness)이 어떻게 실제에 구현되는지 예제를 통해서 배운다. "
      ]
    },
    {
      "cell_type": "code",
      "metadata": {
        "id": "eL3UZi6kbYkT"
      },
      "source": [
        ""
      ],
      "execution_count": null,
      "outputs": []
    }
  ]
}