{
  "cells": [
    {
      "cell_type": "markdown",
      "metadata": {
        "id": "nIscvsba6vfZ"
      },
      "source": [
        "# 붓스트랩\n",
        "\n",
        "앞 절에서 우리는 추정량의 정확도를 확률적 언어로 제시하는 방법과 이론적 근거에 대하여 학습하였다.\n",
        "\n",
        "예를 들어 모집단의 지지율에 대한 여론조사에서 확률표본으로 얻은 표본 지지율, 즉  추정량의 정확성은 다음과 같이 확률적인 언어로 정보의 크기와 그 정확성을 제시하였다.\n",
        "\n",
        "1. *모집단에 대한 정보* : 1000명의 표본에서 45.5%의 지지율을 보였다.\n",
        "2. *추정량의 정확성* : 표본 오차는 95% 신뢰수준에 ±3.1%포인트다. \n",
        "\n",
        "앞 절에서 표본 오차를 설명하기 위하여 가상의 모집단에서 모의실험을 통하여 많은 수의 표본을 추출하고 각 표본에 대한 추정치들을 이용하여 표본 오차를 구한 것에 유의하자. 실제로 표본을 추출하는 경우 모집단은 알 수 없으며 표본은 단 한번만 추출한다. 이러한 경우 모집단에서 모의실험을 통해 표본을 여러 번 추출하는 것은 불가능하다. \n",
        "\n",
        "이 절에서는 한 개의 표본을 추출하는 경우 표본 오차를 구하는 방법을 설명하고자 한다. 한 개의 표본만 추출해도 표본 오차를 구하는 간단하고 유용한 방법이 있으며 이 방법을 붓스트랩(bootstrap)이라고 한다. "
      ]
    },
    {
      "cell_type": "code",
      "execution_count": 112,
      "metadata": {
        "colab": {
          "base_uri": "https://localhost:8080/"
        },
        "id": "0i7Np9dQgpaL",
        "outputId": "d2abce50-4e9d-4612-dae1-c01f1d6d4422"
      },
      "outputs": [
        {
          "name": "stdout",
          "output_type": "stream",
          "text": [
            "Reading package lists... Done\n",
            "Building dependency tree       \n",
            "Reading state information... Done\n",
            "fonts-nanum is already the newest version (20170925-1).\n",
            "0 upgraded, 0 newly installed, 0 to remove and 37 not upgraded.\n",
            "/usr/share/fonts: caching, new cache contents: 0 fonts, 1 dirs\n",
            "/usr/share/fonts/truetype: caching, new cache contents: 0 fonts, 3 dirs\n",
            "/usr/share/fonts/truetype/humor-sans: caching, new cache contents: 1 fonts, 0 dirs\n",
            "/usr/share/fonts/truetype/liberation: caching, new cache contents: 16 fonts, 0 dirs\n",
            "/usr/share/fonts/truetype/nanum: caching, new cache contents: 10 fonts, 0 dirs\n",
            "/usr/local/share/fonts: caching, new cache contents: 0 fonts, 0 dirs\n",
            "/root/.local/share/fonts: skipping, no such directory\n",
            "/root/.fonts: skipping, no such directory\n",
            "/var/cache/fontconfig: cleaning cache directory\n",
            "/root/.cache/fontconfig: not cleaning non-existent cache directory\n",
            "/root/.fontconfig: not cleaning non-existent cache directory\n",
            "fc-cache: succeeded\n"
          ]
        }
      ],
      "source": [
        " 한글 폰트가 깨질 때 사용 - 런타임 메뉴에서 다시 시작 및 모두 실행 선택. (출처: https://teddylee777.github.io/colab/colab-korean)\n",
        "!sudo apt-get install -y fonts-nanum\n",
        "!sudo fc-cache -fv\n",
        "!rm ~/.cache/matplotlib -rf"
      ]
    },
    {
      "cell_type": "code",
      "execution_count": 1,
      "metadata": {
        "id": "GPJ2lwTsguXt"
      },
      "outputs": [],
      "source": [
        "# 그림 그리기를 위한 코드와 한글 실행\n",
        "import matplotlib.pyplot as plt\n",
        "from matplotlib import rc\n",
        "%matplotlib inline\n",
        "\n",
        "plt.rc('font', family='NanumBarunGothic') # clolab 에서 한글 사용 \n",
        "plt.rcParams['axes.unicode_minus'] = False \n",
        "plt.rcParams[\"figure.figsize\"] = (8,8)   # 그림 크기 조정"
      ]
    },
    {
      "cell_type": "code",
      "execution_count": 2,
      "metadata": {
        "id": "G_NDglypzQf8"
      },
      "outputs": [],
      "source": [
        "import pandas as pd\n",
        "import numpy as np"
      ]
    },
    {
      "cell_type": "markdown",
      "metadata": {
        "id": "rw6Y2Q2MAAmt"
      },
      "source": [
        "## 추정량의 표준편차\n",
        "\n",
        "모집단의 관심 있는 특성, 즉 모수를 $\\theta$ 라고 하면 추정량은 표본으로 부터 얻은 통계량이다. 확률표본의 임의성(randomness)때문에 추정량은 확률분포를 가진다. 추정량이 확률분포를 가진다는 것은 가능한 값이 여러 개 있다는 것이며 각 값에 대한 확률이 있다는 것이다.\n",
        "\n",
        "앞 절에서는 모집단을 알고 있는 경우 추정량의 분포를 근사하기 위하여 모집단에서 표본을 반복하여 추출하였다. 더 나아가 각 표본으로 부터 추정량의 값을 구할 수 있다. 만약 모의실험의 횟수가 B 라고 하면 우리는 B개의 추정량들을 구할 수 있다.\n",
        "\n",
        "$$ \\hat \\theta_1, \\hat \\theta_2, \\dots, \\hat \\theta_B $$\n",
        "\n",
        "위에서 표본의 크기가 커지면 모의실험으로 구한 B개의 추정량들의 분포가  정규분포와 가까워진다. 이 사실은 중심극한 정리에 의한 결과이다. 또한 B개의 추정량들의 평균은 모수와 매우 가깝게 나타난다.\n",
        "\n",
        "$$ \\bar \\theta = \\frac{\\sum_{i=1}^B \\hat \\theta_i}{B} \\approx \\theta $$\n",
        "\n",
        "\n",
        "\n",
        "또한 B개의 **추정량들의 표준편차를 SD 라고 하면**\n",
        "\n",
        "$$ SD = SD(\\hat \\theta) = \\sqrt{\\frac{\\sum_{i=1}^B (\\hat \\theta_i - \\bar \\theta)^2}{B-1}} $$\n",
        "\n",
        "다음과 같은 확률적 표현이 가능하다.\n",
        "\n",
        "    95%의 확률로 추정량과 모수의 차이는 ± 2SD 이내이다.\n",
        "\n",
        "즉,\n",
        "\n",
        "$$ P( \\theta -2SD \\le \\hat \\theta \\le \\theta+ 2SD ) \\approx 0.95 $$\n",
        "\n",
        "또는 위의 식을 다르게 표현하면 다음과 같다.\n",
        "\n",
        "$$ P( | \\hat \\theta -\\theta| \\le 2SD ) \\approx 0.95 $$\n",
        "\n",
        "    그런데 문제는 실제 표본을 추출하는 경우 우리는 한 개의 표본만 추출하며 따라서 우리가 얻을수 있는 추정량의 값은 1개 밖에 없다. \n",
        "\n",
        "이런 실제 상황에서 추정량의 표준편차 SD를 어떻게 구할까??? 만약 여론조사에서 1000명으로 구성된 하나의 표본을 추출하고 표본 지지율 35%를 얻었다면 SD 를 구할 방법이 없을 것 같다. 왜냐하면 1개의 값으로는 표준편차를 구할 수 없기 때문이다.\n",
        "\n",
        "$$ \\hat \\theta = 0.35 \\rightarrow SD? $$\n"
      ]
    },
    {
      "cell_type": "markdown",
      "metadata": {
        "id": "pf3sAKn2H0n0"
      },
      "source": [
        "## 붓스트랩\n",
        "\n",
        "**붓스트랩(bootstrap)** 은 하나의 표본으로 부터 추정량의 경험적 분포를 근사적으로 구할 수 있는 방법이다. 붓스트랩은 통계학에서 발견한 획기적인 방법 중의 하나로서 컴퓨터를 이용한 모의실험(simulation)을 이용한다.\n",
        "\n",
        "붓스트랩 방법의 아이디어는 다음과 같이 매우 간단하다. \n",
        "\n",
        "    표본을 모집단처럼 이용하자!! \n",
        "\n",
        "위에서 우리가 모집단을 알고 있을 때 어떻게 추정량의 분포를 모의실험을 통하여 근사적으로 구하는지 다시 생각해 보자. 다음과 그림과 같이 우리는 모집단에서 많은 수의 표본들을 반복적으로 추출하여 여러 개의 추정치를 구하는 모의실험을 수행해 보았다.\n",
        "\n",
        "![모집단을 이용한 모의실험](../../images/bootstrap1.png)\n",
        "\n",
        "이제 한 개의 표본이 있다고 하자. **한 개의 표본을 모집단이라고 생각하고** 표본에서 많은 수의 표본들을 다시 **재추출(resampling)** 하여 여러 개의 추정치를 구하는 방법이 붓스트랩이다.\n",
        "\n",
        "![붓스트랩](../../images/bootstrap2.png)\n",
        "\n",
        "여기서 유의해야 할 점은 표본에서 **표본을 재추출하는 경우 복원추출** 을 사용해야 한다는 것이다. 즉, 재추출은 $n$개의 표본에서 $n$개를 복원추출하는 방법이다.\n",
        "\n",
        "붓스트랩 방법을 한마다로 요약하면 표본에서 표본을 재추출하는 방법이다.\n",
        "\n",
        "\n",
        "이제 앞 장에서 고려한 지지율을 추정하는 여론 조사에 대하여 붓스트랩 방법을 이용하여 표본 지지율의 경험적 분포를 근사적으로 구하고 추정량의 표준편차 SD를 구해보자.\n",
        "\n",
        "먼저 모집단 `P` 을 만들자.\n"
      ]
    },
    {
      "cell_type": "code",
      "execution_count": 115,
      "metadata": {
        "id": "VhL_kZ6uzUm0"
      },
      "outputs": [],
      "source": [
        "# 모집단의 수\n",
        "N = 100000\n",
        "\n",
        "# 모집단의 지지율\n",
        "theta = 0.5\n",
        "\n",
        "# 지지하는 유권자의 수 \n",
        "favor = int(N*theta)\n",
        "\n",
        "# 반대하는 유권자의 수 \n",
        "opposite = N-favor\n",
        "\n",
        "# 모집단 (1=지지, 0=반대)\n",
        "P = np.concatenate((np.ones(favor), np.zeros(opposite)), axis=0)"
      ]
    },
    {
      "cell_type": "markdown",
      "metadata": {
        "id": "YIUKdBiucy3x"
      },
      "source": [
        "이제 1000명으로 구성돤 하나의 확률표본을 추출해 보자 "
      ]
    },
    {
      "cell_type": "code",
      "execution_count": 116,
      "metadata": {
        "id": "q2klp8Juc91x"
      },
      "outputs": [],
      "source": [
        "# 표본의 수\n",
        "n = 1000 \n",
        "\n",
        "# 하나의 표본을 추츨\n",
        "one_sample = np.random.choice(P, n, replace=False)"
      ]
    },
    {
      "cell_type": "markdown",
      "metadata": {
        "id": "n7Y2i0MWhE14"
      },
      "source": [
        "위에서 추출한 표본으로 부터 얻은 표본 지지율 $\\hat \\theta$ 은 다음과 같다."
      ]
    },
    {
      "cell_type": "code",
      "execution_count": 117,
      "metadata": {
        "colab": {
          "base_uri": "https://localhost:8080/"
        },
        "id": "FJ4xiilFhOPW",
        "outputId": "7e6015a7-09fc-4519-8304-c854d64c516a"
      },
      "outputs": [
        {
          "data": {
            "text/plain": [
              "0.499"
            ]
          },
          "execution_count": 117,
          "metadata": {},
          "output_type": "execute_result"
        }
      ],
      "source": [
        "hat_theta = np.mean(one_sample)\n",
        "hat_theta"
      ]
    },
    {
      "cell_type": "markdown",
      "metadata": {
        "id": "wOgOCFSxdI6U"
      },
      "source": [
        "다음으로 붓스트랩을 이용하여 재표본을 반복적으로 추출하고 지지율를 구해보자. 붓스트램도 모의실험이므로 모의실험의 회수를 크게 해야 한다. 아래 코드에서 붓스트랩의 모의실험 횟수는 1000번이다 (B=1000).  \n",
        "\n",
        "붓스트랩은 모집단에서 표본을 반복적으로 추출하는 것이 아니라 **주어진 하나의 표본에서 \n",
        "표본을 반복적으로 재추출(resampling from sample)** 한다는 것이다. "
      ]
    },
    {
      "cell_type": "code",
      "execution_count": 118,
      "metadata": {
        "id": "7CtOgSo3dOfL"
      },
      "outputs": [],
      "source": [
        "# 붓스트랩 모의실험의 횟수\n",
        "B = 1000 \n",
        "\n",
        "# 붓스트랩 - 표본의 재추출을 B번 반복하여 B개의 지지율(추정량)을 구한다.\n",
        "\n",
        "## B 개의 추정치를 저장할 데이터프레임\n",
        "boostrap_estimate = pd.DataFrame({'resample_estimate':np.zeros(B)})\n",
        "\n",
        "## 붓스트랩을 위한 모의실험 : 복원추출(replace=True)에 유의\n",
        "for i in np.arange(B):\n",
        "  resample = np.random.choice(one_sample, n, replace=True)\n",
        "  boostrap_estimate.loc[i,'resample_estimate'] = np.mean(resample)"
      ]
    },
    {
      "cell_type": "markdown",
      "metadata": {
        "id": "r_SSb3J2BYs-"
      },
      "source": [
        "붓스트랩을 이용하여 표본 지지율의 분포, 즉 추정량의 경험적 분포를 히스토그램으로 나타내어 보자."
      ]
    },
    {
      "cell_type": "code",
      "execution_count": 119,
      "metadata": {
        "colab": {
          "base_uri": "https://localhost:8080/",
          "height": 483
        },
        "id": "NNCBRTORBW1s",
        "outputId": "88af8af3-aaf4-42cd-85de-5c2d66c55eca"
      },
      "outputs": [
        {
          "data": {
            "image/png": "[encoded data removed]",
            "text/plain": [
              "<Figure size 576x576 with 1 Axes>"
            ]
          },
          "metadata": {
            "needs_background": "light"
          },
          "output_type": "display_data"
        }
      ],
      "source": [
        "# 히스토그램\n",
        "p= boostrap_estimate.plot.hist( density=True)\n"
      ]
    },
    {
      "cell_type": "markdown",
      "metadata": {
        "id": "-V1UWa6JewN1"
      },
      "source": [
        "이제  붓스트랩으로 구한 1000개 지지율의 표준편차 SD를 구해보자. "
      ]
    },
    {
      "cell_type": "code",
      "execution_count": 120,
      "metadata": {
        "colab": {
          "base_uri": "https://localhost:8080/"
        },
        "id": "pUhhqkv1ewhX",
        "outputId": "ffa8ae8d-8c07-4d5b-bf8c-feb32e1fa4d5"
      },
      "outputs": [
        {
          "data": {
            "text/plain": [
              "0.01615287300471055"
            ]
          },
          "execution_count": 120,
          "metadata": {},
          "output_type": "execute_result"
        }
      ],
      "source": [
        "# 붓스트랩으로 구한 B개의 지지율의 표준편차\n",
        "SD = float(boostrap_estimate.std())\n",
        "SD"
      ]
    },
    {
      "cell_type": "markdown",
      "metadata": {
        "id": "hIXNCP-NfZVT"
      },
      "source": [
        "앞 절에서 우리는 표본의 크기가 $n=1000$ 일 경우 지지율에 대한 이론적으로 정확한 표본 오차가 $2SD=0.0316$ 으로 주어지는 것을 배웠다. \n",
        "\n",
        "위에서 구한 붓스트랩을 이용한 표본 오차 $2SD$의 값이 정확한 표본오차와 매우 유사하다는 것을 알 수 있다."
      ]
    },
    {
      "cell_type": "code",
      "execution_count": 121,
      "metadata": {
        "colab": {
          "base_uri": "https://localhost:8080/"
        },
        "id": "zjgI243A0Ugz",
        "outputId": "8aa728cc-0f3f-45ab-8443-e53ad9e264a4"
      },
      "outputs": [
        {
          "data": {
            "text/plain": [
              "0.0323057460094211"
            ]
          },
          "execution_count": 121,
          "metadata": {},
          "output_type": "execute_result"
        }
      ],
      "source": [
        "2*SD"
      ]
    },
    {
      "cell_type": "markdown",
      "metadata": {
        "id": "ANZvhAI7oA11"
      },
      "source": [
        "## 신뢰구간\n",
        "\n",
        "### 추정량의 경험적 분포 \n",
        "\n",
        "\n"
      ]
    },
    {
      "cell_type": "markdown",
      "metadata": {
        "id": "jiFKtmAKgZ_9"
      },
      "source": [
        "붓스트랩으로 구한 1000개의 추정치, 즉 1000개의 표본 지지율의 분포를 히스토그램으로 그려보자. \n",
        "아래 주어진 히스토그램은 **붓스트랩으로 구한 추정량의 경험적 분포** (empirical distribution of estimator)이다. \n"
      ]
    },
    {
      "cell_type": "code",
      "execution_count": 122,
      "metadata": {
        "colab": {
          "base_uri": "https://localhost:8080/",
          "height": 483
        },
        "id": "jaDdVknEg30k",
        "outputId": "65259f9a-f1a4-47a3-eadd-6d4a1f7eebdc"
      },
      "outputs": [
        {
          "data": {
            "image/png": "[encoded data removed]",
            "text/plain": [
              "<Figure size 576x576 with 1 Axes>"
            ]
          },
          "metadata": {
            "needs_background": "light"
          },
          "output_type": "display_data"
        }
      ],
      "source": [
        "# 히스토그램\n",
        "p= boostrap_estimate.plot.hist( density=True)"
      ]
    },
    {
      "cell_type": "markdown",
      "metadata": {
        "id": "00J4hLDsuKK7"
      },
      "source": [
        "### 백분위수에 의한 신뢰구간\n",
        "\n",
        "이제 붓스트랩으로 구한 1000개의 추정치(지지율)들을 순서대로 늘어 놓았을때 2.5%백분위수와 97.5% 백분위수를 구해보자. 우리가 1사분위수(Q1, 25%백분위수) 또는 3사분위수(Q3 75%백분위수)를 구하는 방법과 유사하게 구할 수 있다.\n",
        "\n",
        "`pandas` 라이브러리의 `percentile` 메소드를 사용하면 2.5%와 97.5% 백분위수를 구할 수 있다."
      ]
    },
    {
      "cell_type": "code",
      "execution_count": 123,
      "metadata": {
        "colab": {
          "base_uri": "https://localhost:8080/"
        },
        "id": "jnU0H5K_vR6C",
        "outputId": "bf6cf5bf-e1ab-4c79-a5e2-b232e48a5bc1"
      },
      "outputs": [
        {
          "data": {
            "text/plain": [
              "(0.467, 0.5320250000000001)"
            ]
          },
          "execution_count": 123,
          "metadata": {},
          "output_type": "execute_result"
        }
      ],
      "source": [
        "lower_bound = float(boostrap_estimate.quantile(0.025))\n",
        "upper_bound = float(boostrap_estimate.quantile(0.975))\n",
        "\n",
        "(lower_bound, upper_bound)"
      ]
    },
    {
      "cell_type": "markdown",
      "metadata": {
        "id": "axT736mYxWFs"
      },
      "source": [
        "\n",
        "위와 같이 2.5%백분위수 $\\hat \\theta_{(0.025)}$ 와 97.5% 백분위수 $\\hat \\theta_{(0.975)}$로 만든 구간을 **모수 $\\theta$ 에 대한 95% 신뢰구간(confidence interval)** 이라고 한다. \n",
        "이때 **95%를 신뢰수준(confidence level)** 이라고 부른다.\n",
        "\n",
        "95%의 의미는 붓스트랩을 이용하여 만든 1000개의 추정값들 중 95%, 즉 950개의 추정값이 주어진 구간 안에 있다는 것이다. 붓스트랩을 이용한 추정량의 경험적 분포를 이용하여 만든 구간이다. \n",
        "\n",
        "\n",
        "$$ \\text{Confidence Interval} = (\\hat \\theta_{(0.025)}, \\hat \\theta_{(0.975)}) $$\n"
      ]
    },
    {
      "cell_type": "code",
      "execution_count": 124,
      "metadata": {
        "colab": {
          "base_uri": "https://localhost:8080/",
          "height": 483
        },
        "id": "2s1XwAzx8ZbK",
        "outputId": "2d8d7faa-34a6-4416-ce03-b206bd97b5da"
      },
      "outputs": [
        {
          "data": {
            "image/png": "[encoded data removed]",
            "text/plain": [
              "<Figure size 576x576 with 1 Axes>"
            ]
          },
          "metadata": {
            "needs_background": "light"
          },
          "output_type": "display_data"
        }
      ],
      "source": [
        "# 히스토그램\n",
        "p= boostrap_estimate.plot.hist( density=True)\n",
        "\n",
        "# 2.5%백분위수와 97.5% 백분위수 사이 구간은 빨간색으로 \n",
        "for rectangle in p.patches:\n",
        "    if rectangle.get_x() >=  lower_bound and rectangle.get_x() <=  upper_bound :\n",
        "        rectangle.set_facecolor('red')"
      ]
    },
    {
      "cell_type": "markdown",
      "metadata": {
        "id": "e-9aBwt1xHy3"
      },
      "source": [
        "### 표준 편차에 의한 신뢰구간"
      ]
    },
    {
      "cell_type": "markdown",
      "metadata": {
        "id": "yDeS2hl4m3vL"
      },
      "source": [
        "우리는 95% 신뢰구간(confidence interval)을 위에서 구한 추정량의 표준 편차 SD를 이용하여 다음과 같이 구할 수 있다. \n",
        "\n",
        "$$ \\text{Confidence Interval} = (\\hat \\theta -2SD, \\hat \\theta+ 2SD) $$\n",
        "\n",
        "위의 주어진 구간의 죄우 값을 계산하면 다음과 같다. "
      ]
    },
    {
      "cell_type": "code",
      "execution_count": 125,
      "metadata": {
        "colab": {
          "base_uri": "https://localhost:8080/"
        },
        "id": "R-zJWFqJmUta",
        "outputId": "2e4da51c-ec32-4ddb-a465-bf2a727c1b78"
      },
      "outputs": [
        {
          "data": {
            "text/plain": [
              "(0.4666942539905789, 0.531305746009421)"
            ]
          },
          "execution_count": 125,
          "metadata": {},
          "output_type": "execute_result"
        }
      ],
      "source": [
        "lower_bound_2 = hat_theta -2*SD\n",
        "upper_bound_2 = hat_theta + 2*SD\n",
        "\n",
        "(lower_bound_2, upper_bound_2)"
      ]
    },
    {
      "cell_type": "markdown",
      "metadata": {
        "id": "ScS-Re0T8r7G"
      },
      "source": [
        "붓스트랩의 백분위수로 구한 신뢰구간 $(\\hat \\theta_{(0.025)}, \\hat \\theta_{(0.975)}) $이 추정량의 표준 편차 SD로 구한   신뢰구간 $(\\hat \\theta -2SD, \\hat \\theta+ 2SD$)과  매우 유사함을 알 수 있다.\n"
      ]
    },
    {
      "cell_type": "markdown",
      "metadata": {
        "id": "fFu5JHqS-rfa"
      },
      "source": [
        "### 신뢰구간의 해석\n",
        "\n",
        "신뢰구간은 표본으로부터 얻어지는 것이기 때문에 임의성을 가진다. 표본이 임의성을 가지므로 신뢰구간의 하한(lower bound)과 상한(upper bound)도 임의성을 가진다. 실제 상황에서 추정량의 값과 모수의 정확한 차이를 알 수 없듯이 표본으로 구한 특정한 신뢰구간에 대하여 구간 안에 모수가 포함되었는지 정확하게 알 수 없다. \n",
        "\n",
        "**95% 신뢰구간의 의미는 \"임의의 구간\" $(\\hat \\theta -2SD, \\hat \\theta+ 2SD)$ 이 관심있는 모수 $\\theta$를 포함할 확률이 0.95라는 의미이다.**  이는 위에서 배운 중심극한 정리의 결과를 응용한 것이다. 즉\n",
        "\n",
        "$$ P[ \\theta \\in (\\hat \\theta -2SD, \\hat \\theta+ 2SD) ] \\approx 0.95, \\quad \n",
        "\\hat \\theta \\text{ is random} $$\n",
        "\n",
        "신뢰구간의 신뢰수준(confidence level)이 95% 라는 의미는 여러분이 만약 모집단을 이용한 모의실험으로 100개의 신뢰구간을 구하면 그 중에 약 95개의 구간이 모수를 포함한다는 것으로 해석하면 된다. \n",
        "\n",
        "참고할 점은 통계학의 한 분야인 베이지안 통계(bayesian statsitics)에서는 모수도 임의성이 있다고 보기 때문에 **\"여러분이 구한 특정한 신뢰구간\"** 에 모수가 포함될 확률이 95% 이라고 말할 수 있다.\n",
        "\n",
        "$$ P[ \\theta \\in (0.4667, 0.5313) ] \\approx 0.95 $$\n",
        "\n",
        "이러한 신뢰구간에 대한 서로 다른 해석의 차이를 여러분들이 이해하는 것은 어려운 일이다.\n",
        "\n",
        "- 결론적으로 여러분이 구한 95% 신뢰구간에 모수가 포함되었을 가능성이 95%라고 생각해도 큰 문제는 없다. \n",
        "\n",
        "일반적으로 백분위수를 이용한 신뢰구간과 표준편차  SD 를 이용한 신뢰구간은 정확하게 일치하지 않는다. \n",
        "하지만 표본의 크기가 커지면 중심극한 정리에 의하여 추정량의 분포가 정규분포에 가까워지므로 백분위수를 이용한 신뢰구간과 SD를 이용한 신뢰구간은 점점 일치한다. \n",
        "\n",
        "$$ \\hat \\theta_{(0.025)} \\approx \\hat \\theta -2SD, \\quad \\hat \\theta_{(0.975)} \\approx \\hat \\theta +2SD $$\n",
        "\n",
        "\n"
      ]
    },
    {
      "cell_type": "markdown",
      "metadata": {
        "id": "QsivEp4Izy-S"
      },
      "source": [
        "## 예제: 공공 자전거\n",
        "\n",
        "앞 절에서 다룬 공공 자전거 자료에서 이용시간과 이용거리에 대한 **중앙값(median)에 대한 신뢰구간**을 \n",
        "붓스트랩 방법으로 구하는 법을 살펴보자.\n",
        "\n",
        "먼저 자료를 데이터프레임 `bike` 에 저장한다."
      ]
    },
    {
      "cell_type": "code",
      "execution_count": 127,
      "metadata": {
        "id": "g_oXz8wE1cNF"
      },
      "outputs": [],
      "source": [
        "url1 = \"https://ilovedata.github.io/teaching/bigdata2/data/seoul_bike_201909_3.csv\"\n",
        "bike = pd.read_csv(url1, encoding=\"CP949\")"
      ]
    },
    {
      "cell_type": "code",
      "execution_count": 69,
      "metadata": {
        "colab": {
          "base_uri": "https://localhost:8080/",
          "height": 422
        },
        "id": "W5XUUC1k2hNJ",
        "outputId": "8d511419-7a38-4b04-8bfa-2dc78e32f279"
      },
      "outputs": [
        {
          "data": {
            "text/html": [
              "<div>\n",
              "<style scoped>\n",
              "    .dataframe tbody tr th:only-of-type {\n",
              "        vertical-align: middle;\n",
              "    }\n",
              "\n",
              "    .dataframe tbody tr th {\n",
              "        vertical-align: top;\n",
              "    }\n",
              "\n",
              "    .dataframe thead th {\n",
              "        text-align: right;\n",
              "    }\n",
              "</style>\n",
              "<table border=\"1\" class=\"dataframe\">\n",
              "  <thead>\n",
              "    <tr style=\"text-align: right;\">\n",
              "      <th></th>\n",
              "      <th>자전거번호</th>\n",
              "      <th>대여일시</th>\n",
              "      <th>대여 대여소번호</th>\n",
              "      <th>대여 대여소명</th>\n",
              "      <th>대여거치대</th>\n",
              "      <th>반납일시</th>\n",
              "      <th>반납대여소번호</th>\n",
              "      <th>반납대여소명</th>\n",
              "      <th>반납거치대</th>\n",
              "      <th>이용시간</th>\n",
              "      <th>이용거리</th>\n",
              "    </tr>\n",
              "  </thead>\n",
              "  <tbody>\n",
              "    <tr>\n",
              "      <th>0</th>\n",
              "      <td>SPB-17003</td>\n",
              "      <td>2019-09-28 16:10:55</td>\n",
              "      <td>368</td>\n",
              "      <td>SK 서린빌딩 앞</td>\n",
              "      <td>4</td>\n",
              "      <td>2019-09-28 17:03:32</td>\n",
              "      <td>2002</td>\n",
              "      <td>노들역 1번출구</td>\n",
              "      <td>14</td>\n",
              "      <td>52</td>\n",
              "      <td>8940.0</td>\n",
              "    </tr>\n",
              "    <tr>\n",
              "      <th>1</th>\n",
              "      <td>SPB-14405</td>\n",
              "      <td>2019-09-28 16:48:16</td>\n",
              "      <td>2024</td>\n",
              "      <td>상도역 1번출구</td>\n",
              "      <td>3</td>\n",
              "      <td>2019-09-28 17:03:44</td>\n",
              "      <td>2002</td>\n",
              "      <td>노들역 1번출구</td>\n",
              "      <td>18</td>\n",
              "      <td>15</td>\n",
              "      <td>1910.0</td>\n",
              "    </tr>\n",
              "    <tr>\n",
              "      <th>2</th>\n",
              "      <td>SPB-18431</td>\n",
              "      <td>2019-09-28 16:59:54</td>\n",
              "      <td>2002</td>\n",
              "      <td>노들역 1번출구</td>\n",
              "      <td>10</td>\n",
              "      <td>2019-09-28 17:03:57</td>\n",
              "      <td>2002</td>\n",
              "      <td>노들역 1번출구</td>\n",
              "      <td>10</td>\n",
              "      <td>2</td>\n",
              "      <td>30.0</td>\n",
              "    </tr>\n",
              "    <tr>\n",
              "      <th>3</th>\n",
              "      <td>SPB-04853</td>\n",
              "      <td>2019-09-28 15:31:49</td>\n",
              "      <td>207</td>\n",
              "      <td>여의나루역 1번출구 앞</td>\n",
              "      <td>32</td>\n",
              "      <td>2019-09-28 17:10:12</td>\n",
              "      <td>2002</td>\n",
              "      <td>노들역 1번출구</td>\n",
              "      <td>19</td>\n",
              "      <td>98</td>\n",
              "      <td>9610.0</td>\n",
              "    </tr>\n",
              "    <tr>\n",
              "      <th>4</th>\n",
              "      <td>SPB-11122</td>\n",
              "      <td>2019-09-28 15:35:41</td>\n",
              "      <td>207</td>\n",
              "      <td>여의나루역 1번출구 앞</td>\n",
              "      <td>14</td>\n",
              "      <td>2019-09-28 17:10:37</td>\n",
              "      <td>2002</td>\n",
              "      <td>노들역 1번출구</td>\n",
              "      <td>18</td>\n",
              "      <td>90</td>\n",
              "      <td>9450.0</td>\n",
              "    </tr>\n",
              "    <tr>\n",
              "      <th>...</th>\n",
              "      <td>...</td>\n",
              "      <td>...</td>\n",
              "      <td>...</td>\n",
              "      <td>...</td>\n",
              "      <td>...</td>\n",
              "      <td>...</td>\n",
              "      <td>...</td>\n",
              "      <td>...</td>\n",
              "      <td>...</td>\n",
              "      <td>...</td>\n",
              "      <td>...</td>\n",
              "    </tr>\n",
              "    <tr>\n",
              "      <th>407584</th>\n",
              "      <td>SPB-24072</td>\n",
              "      <td>2019-09-12 08:56:34</td>\n",
              "      <td>240</td>\n",
              "      <td>문래역 4번출구 앞</td>\n",
              "      <td>9</td>\n",
              "      <td>2019-09-12 09:03:37</td>\n",
              "      <td>99999</td>\n",
              "      <td>영남단말기정비</td>\n",
              "      <td>2</td>\n",
              "      <td>6</td>\n",
              "      <td>720.0</td>\n",
              "    </tr>\n",
              "    <tr>\n",
              "      <th>407585</th>\n",
              "      <td>SPB-16130</td>\n",
              "      <td>2019-09-18 10:13:09</td>\n",
              "      <td>99999</td>\n",
              "      <td>영남단말기정비</td>\n",
              "      <td>1</td>\n",
              "      <td>2019-09-18 11:38:30</td>\n",
              "      <td>99999</td>\n",
              "      <td>영남단말기정비</td>\n",
              "      <td>1</td>\n",
              "      <td>85</td>\n",
              "      <td>40.0</td>\n",
              "    </tr>\n",
              "    <tr>\n",
              "      <th>407586</th>\n",
              "      <td>SPB-03728</td>\n",
              "      <td>2019-09-25 08:00:28</td>\n",
              "      <td>2183</td>\n",
              "      <td>동방1교</td>\n",
              "      <td>7</td>\n",
              "      <td>2019-09-25 08:54:02</td>\n",
              "      <td>99999</td>\n",
              "      <td>영남단말기정비</td>\n",
              "      <td>5</td>\n",
              "      <td>53</td>\n",
              "      <td>12910.0</td>\n",
              "    </tr>\n",
              "    <tr>\n",
              "      <th>407587</th>\n",
              "      <td>SPB-08928</td>\n",
              "      <td>2019-09-30 07:49:27</td>\n",
              "      <td>2183</td>\n",
              "      <td>동방1교</td>\n",
              "      <td>10</td>\n",
              "      <td>2019-09-30 09:42:27</td>\n",
              "      <td>99999</td>\n",
              "      <td>영남단말기정비</td>\n",
              "      <td>7</td>\n",
              "      <td>2</td>\n",
              "      <td>0.0</td>\n",
              "    </tr>\n",
              "    <tr>\n",
              "      <th>407588</th>\n",
              "      <td>SPB-06988</td>\n",
              "      <td>2019-09-30 09:58:43</td>\n",
              "      <td>99999</td>\n",
              "      <td>영남단말기정비</td>\n",
              "      <td>5</td>\n",
              "      <td>2019-09-30 13:01:26</td>\n",
              "      <td>99999</td>\n",
              "      <td>영남단말기정비</td>\n",
              "      <td>5</td>\n",
              "      <td>182</td>\n",
              "      <td>10.0</td>\n",
              "    </tr>\n",
              "  </tbody>\n",
              "</table>\n",
              "<p>407589 rows × 11 columns</p>\n",
              "</div>"
            ],
            "text/plain": [
              "            자전거번호                 대여일시  대여 대여소번호  ... 반납거치대  이용시간     이용거리\n",
              "0       SPB-17003  2019-09-28 16:10:55       368  ...    14    52   8940.0\n",
              "1       SPB-14405  2019-09-28 16:48:16      2024  ...    18    15   1910.0\n",
              "2       SPB-18431  2019-09-28 16:59:54      2002  ...    10     2     30.0\n",
              "3       SPB-04853  2019-09-28 15:31:49       207  ...    19    98   9610.0\n",
              "4       SPB-11122  2019-09-28 15:35:41       207  ...    18    90   9450.0\n",
              "...           ...                  ...       ...  ...   ...   ...      ...\n",
              "407584  SPB-24072  2019-09-12 08:56:34       240  ...     2     6    720.0\n",
              "407585  SPB-16130  2019-09-18 10:13:09     99999  ...     1    85     40.0\n",
              "407586  SPB-03728  2019-09-25 08:00:28      2183  ...     5    53  12910.0\n",
              "407587  SPB-08928  2019-09-30 07:49:27      2183  ...     7     2      0.0\n",
              "407588  SPB-06988  2019-09-30 09:58:43     99999  ...     5   182     10.0\n",
              "\n",
              "[407589 rows x 11 columns]"
            ]
          },
          "execution_count": 69,
          "metadata": {},
          "output_type": "execute_result"
        }
      ],
      "source": [
        "bike"
      ]
    },
    {
      "cell_type": "markdown",
      "metadata": {
        "id": "39P0BfeP0kFY"
      },
      "source": [
        "이용시간과 이용거리의 열이름을 각각  `time` 과 `distance` 로 바꾸고 두 열만 포함하는 데이터프레임 `bike2`를 만들자."
      ]
    },
    {
      "cell_type": "code",
      "execution_count": 128,
      "metadata": {
        "id": "sMeYqLYl1e4-"
      },
      "outputs": [],
      "source": [
        "bike2 = bike[ [\"이용시간\",\"이용거리\"] ].rename(columns={\"이용시간\":\"time\", \"이용거리\":\"distance\"})"
      ]
    },
    {
      "cell_type": "code",
      "execution_count": 129,
      "metadata": {
        "colab": {
          "base_uri": "https://localhost:8080/",
          "height": 422
        },
        "id": "8JPkuKkq1e84",
        "outputId": "d971e84f-d2af-4d92-ea48-ad43ae9e1107"
      },
      "outputs": [
        {
          "data": {
            "text/html": [
              "<div>\n",
              "<style scoped>\n",
              "    .dataframe tbody tr th:only-of-type {\n",
              "        vertical-align: middle;\n",
              "    }\n",
              "\n",
              "    .dataframe tbody tr th {\n",
              "        vertical-align: top;\n",
              "    }\n",
              "\n",
              "    .dataframe thead th {\n",
              "        text-align: right;\n",
              "    }\n",
              "</style>\n",
              "<table border=\"1\" class=\"dataframe\">\n",
              "  <thead>\n",
              "    <tr style=\"text-align: right;\">\n",
              "      <th></th>\n",
              "      <th>time</th>\n",
              "      <th>distance</th>\n",
              "    </tr>\n",
              "  </thead>\n",
              "  <tbody>\n",
              "    <tr>\n",
              "      <th>0</th>\n",
              "      <td>52</td>\n",
              "      <td>8940.0</td>\n",
              "    </tr>\n",
              "    <tr>\n",
              "      <th>1</th>\n",
              "      <td>15</td>\n",
              "      <td>1910.0</td>\n",
              "    </tr>\n",
              "    <tr>\n",
              "      <th>2</th>\n",
              "      <td>2</td>\n",
              "      <td>30.0</td>\n",
              "    </tr>\n",
              "    <tr>\n",
              "      <th>3</th>\n",
              "      <td>98</td>\n",
              "      <td>9610.0</td>\n",
              "    </tr>\n",
              "    <tr>\n",
              "      <th>4</th>\n",
              "      <td>90</td>\n",
              "      <td>9450.0</td>\n",
              "    </tr>\n",
              "    <tr>\n",
              "      <th>...</th>\n",
              "      <td>...</td>\n",
              "      <td>...</td>\n",
              "    </tr>\n",
              "    <tr>\n",
              "      <th>407584</th>\n",
              "      <td>6</td>\n",
              "      <td>720.0</td>\n",
              "    </tr>\n",
              "    <tr>\n",
              "      <th>407585</th>\n",
              "      <td>85</td>\n",
              "      <td>40.0</td>\n",
              "    </tr>\n",
              "    <tr>\n",
              "      <th>407586</th>\n",
              "      <td>53</td>\n",
              "      <td>12910.0</td>\n",
              "    </tr>\n",
              "    <tr>\n",
              "      <th>407587</th>\n",
              "      <td>2</td>\n",
              "      <td>0.0</td>\n",
              "    </tr>\n",
              "    <tr>\n",
              "      <th>407588</th>\n",
              "      <td>182</td>\n",
              "      <td>10.0</td>\n",
              "    </tr>\n",
              "  </tbody>\n",
              "</table>\n",
              "<p>407589 rows × 2 columns</p>\n",
              "</div>"
            ],
            "text/plain": [
              "        time  distance\n",
              "0         52    8940.0\n",
              "1         15    1910.0\n",
              "2          2      30.0\n",
              "3         98    9610.0\n",
              "4         90    9450.0\n",
              "...      ...       ...\n",
              "407584     6     720.0\n",
              "407585    85      40.0\n",
              "407586    53   12910.0\n",
              "407587     2       0.0\n",
              "407588   182      10.0\n",
              "\n",
              "[407589 rows x 2 columns]"
            ]
          },
          "execution_count": 129,
          "metadata": {},
          "output_type": "execute_result"
        }
      ],
      "source": [
        "bike2"
      ]
    },
    {
      "cell_type": "code",
      "execution_count": 130,
      "metadata": {
        "colab": {
          "base_uri": "https://localhost:8080/",
          "height": 299
        },
        "id": "d8BlWa9e2aKA",
        "outputId": "cd5118ef-5348-4f77-d745-35f2ac4ae554"
      },
      "outputs": [
        {
          "data": {
            "text/html": [
              "<div>\n",
              "<style scoped>\n",
              "    .dataframe tbody tr th:only-of-type {\n",
              "        vertical-align: middle;\n",
              "    }\n",
              "\n",
              "    .dataframe tbody tr th {\n",
              "        vertical-align: top;\n",
              "    }\n",
              "\n",
              "    .dataframe thead th {\n",
              "        text-align: right;\n",
              "    }\n",
              "</style>\n",
              "<table border=\"1\" class=\"dataframe\">\n",
              "  <thead>\n",
              "    <tr style=\"text-align: right;\">\n",
              "      <th></th>\n",
              "      <th>time</th>\n",
              "      <th>distance</th>\n",
              "    </tr>\n",
              "  </thead>\n",
              "  <tbody>\n",
              "    <tr>\n",
              "      <th>count</th>\n",
              "      <td>407589.000000</td>\n",
              "      <td>407589.000000</td>\n",
              "    </tr>\n",
              "    <tr>\n",
              "      <th>mean</th>\n",
              "      <td>30.156827</td>\n",
              "      <td>4253.336228</td>\n",
              "    </tr>\n",
              "    <tr>\n",
              "      <th>std</th>\n",
              "      <td>32.065934</td>\n",
              "      <td>5782.673901</td>\n",
              "    </tr>\n",
              "    <tr>\n",
              "      <th>min</th>\n",
              "      <td>1.000000</td>\n",
              "      <td>0.000000</td>\n",
              "    </tr>\n",
              "    <tr>\n",
              "      <th>25%</th>\n",
              "      <td>8.000000</td>\n",
              "      <td>1200.000000</td>\n",
              "    </tr>\n",
              "    <tr>\n",
              "      <th>50%</th>\n",
              "      <td>18.000000</td>\n",
              "      <td>2380.000000</td>\n",
              "    </tr>\n",
              "    <tr>\n",
              "      <th>75%</th>\n",
              "      <td>43.000000</td>\n",
              "      <td>5130.000000</td>\n",
              "    </tr>\n",
              "    <tr>\n",
              "      <th>max</th>\n",
              "      <td>2479.000000</td>\n",
              "      <td>153490.000000</td>\n",
              "    </tr>\n",
              "  </tbody>\n",
              "</table>\n",
              "</div>"
            ],
            "text/plain": [
              "                time       distance\n",
              "count  407589.000000  407589.000000\n",
              "mean       30.156827    4253.336228\n",
              "std        32.065934    5782.673901\n",
              "min         1.000000       0.000000\n",
              "25%         8.000000    1200.000000\n",
              "50%        18.000000    2380.000000\n",
              "75%        43.000000    5130.000000\n",
              "max      2479.000000  153490.000000"
            ]
          },
          "execution_count": 130,
          "metadata": {},
          "output_type": "execute_result"
        }
      ],
      "source": [
        "bike2.describe()"
      ]
    },
    {
      "cell_type": "markdown",
      "metadata": {
        "id": "pa4Qtm40062j"
      },
      "source": [
        "이제 1000개의 표본을 추출해 보자."
      ]
    },
    {
      "cell_type": "code",
      "execution_count": 131,
      "metadata": {
        "colab": {
          "base_uri": "https://localhost:8080/",
          "height": 422
        },
        "id": "AQu2x-bj1SX3",
        "outputId": "68ec4463-867b-485f-adf1-c7ecbc0821c6"
      },
      "outputs": [
        {
          "data": {
            "text/html": [
              "<div>\n",
              "<style scoped>\n",
              "    .dataframe tbody tr th:only-of-type {\n",
              "        vertical-align: middle;\n",
              "    }\n",
              "\n",
              "    .dataframe tbody tr th {\n",
              "        vertical-align: top;\n",
              "    }\n",
              "\n",
              "    .dataframe thead th {\n",
              "        text-align: right;\n",
              "    }\n",
              "</style>\n",
              "<table border=\"1\" class=\"dataframe\">\n",
              "  <thead>\n",
              "    <tr style=\"text-align: right;\">\n",
              "      <th></th>\n",
              "      <th>time</th>\n",
              "      <th>distance</th>\n",
              "    </tr>\n",
              "  </thead>\n",
              "  <tbody>\n",
              "    <tr>\n",
              "      <th>50771</th>\n",
              "      <td>25</td>\n",
              "      <td>1830.0</td>\n",
              "    </tr>\n",
              "    <tr>\n",
              "      <th>179510</th>\n",
              "      <td>20</td>\n",
              "      <td>3670.0</td>\n",
              "    </tr>\n",
              "    <tr>\n",
              "      <th>167844</th>\n",
              "      <td>8</td>\n",
              "      <td>1180.0</td>\n",
              "    </tr>\n",
              "    <tr>\n",
              "      <th>244482</th>\n",
              "      <td>3</td>\n",
              "      <td>210.0</td>\n",
              "    </tr>\n",
              "    <tr>\n",
              "      <th>102805</th>\n",
              "      <td>9</td>\n",
              "      <td>1330.0</td>\n",
              "    </tr>\n",
              "    <tr>\n",
              "      <th>...</th>\n",
              "      <td>...</td>\n",
              "      <td>...</td>\n",
              "    </tr>\n",
              "    <tr>\n",
              "      <th>333457</th>\n",
              "      <td>10</td>\n",
              "      <td>1140.0</td>\n",
              "    </tr>\n",
              "    <tr>\n",
              "      <th>355981</th>\n",
              "      <td>25</td>\n",
              "      <td>7760.0</td>\n",
              "    </tr>\n",
              "    <tr>\n",
              "      <th>252088</th>\n",
              "      <td>50</td>\n",
              "      <td>3970.0</td>\n",
              "    </tr>\n",
              "    <tr>\n",
              "      <th>282282</th>\n",
              "      <td>12</td>\n",
              "      <td>1610.0</td>\n",
              "    </tr>\n",
              "    <tr>\n",
              "      <th>273850</th>\n",
              "      <td>8</td>\n",
              "      <td>1630.0</td>\n",
              "    </tr>\n",
              "  </tbody>\n",
              "</table>\n",
              "<p>1000 rows × 2 columns</p>\n",
              "</div>"
            ],
            "text/plain": [
              "        time  distance\n",
              "50771     25    1830.0\n",
              "179510    20    3670.0\n",
              "167844     8    1180.0\n",
              "244482     3     210.0\n",
              "102805     9    1330.0\n",
              "...      ...       ...\n",
              "333457    10    1140.0\n",
              "355981    25    7760.0\n",
              "252088    50    3970.0\n",
              "282282    12    1610.0\n",
              "273850     8    1630.0\n",
              "\n",
              "[1000 rows x 2 columns]"
            ]
          },
          "execution_count": 131,
          "metadata": {},
          "output_type": "execute_result"
        }
      ],
      "source": [
        "# 표본의 수\n",
        "n = 1000 \n",
        "\n",
        "one_sample = bike2.sample(n=n, replace=False, random_state=13312)\n",
        "one_sample"
      ]
    },
    {
      "cell_type": "code",
      "execution_count": 132,
      "metadata": {
        "colab": {
          "base_uri": "https://localhost:8080/",
          "height": 299
        },
        "id": "Qc78LeHw6XqA",
        "outputId": "9643d3e9-c924-4250-8ec2-70fa59bd29c8"
      },
      "outputs": [
        {
          "data": {
            "text/html": [
              "<div>\n",
              "<style scoped>\n",
              "    .dataframe tbody tr th:only-of-type {\n",
              "        vertical-align: middle;\n",
              "    }\n",
              "\n",
              "    .dataframe tbody tr th {\n",
              "        vertical-align: top;\n",
              "    }\n",
              "\n",
              "    .dataframe thead th {\n",
              "        text-align: right;\n",
              "    }\n",
              "</style>\n",
              "<table border=\"1\" class=\"dataframe\">\n",
              "  <thead>\n",
              "    <tr style=\"text-align: right;\">\n",
              "      <th></th>\n",
              "      <th>time</th>\n",
              "      <th>distance</th>\n",
              "    </tr>\n",
              "  </thead>\n",
              "  <tbody>\n",
              "    <tr>\n",
              "      <th>count</th>\n",
              "      <td>1000.000000</td>\n",
              "      <td>1000.000000</td>\n",
              "    </tr>\n",
              "    <tr>\n",
              "      <th>mean</th>\n",
              "      <td>28.150000</td>\n",
              "      <td>3923.110000</td>\n",
              "    </tr>\n",
              "    <tr>\n",
              "      <th>std</th>\n",
              "      <td>28.664598</td>\n",
              "      <td>4723.684348</td>\n",
              "    </tr>\n",
              "    <tr>\n",
              "      <th>min</th>\n",
              "      <td>1.000000</td>\n",
              "      <td>0.000000</td>\n",
              "    </tr>\n",
              "    <tr>\n",
              "      <th>25%</th>\n",
              "      <td>8.000000</td>\n",
              "      <td>1247.500000</td>\n",
              "    </tr>\n",
              "    <tr>\n",
              "      <th>50%</th>\n",
              "      <td>18.000000</td>\n",
              "      <td>2345.000000</td>\n",
              "    </tr>\n",
              "    <tr>\n",
              "      <th>75%</th>\n",
              "      <td>41.000000</td>\n",
              "      <td>5040.000000</td>\n",
              "    </tr>\n",
              "    <tr>\n",
              "      <th>max</th>\n",
              "      <td>321.000000</td>\n",
              "      <td>70890.000000</td>\n",
              "    </tr>\n",
              "  </tbody>\n",
              "</table>\n",
              "</div>"
            ],
            "text/plain": [
              "              time      distance\n",
              "count  1000.000000   1000.000000\n",
              "mean     28.150000   3923.110000\n",
              "std      28.664598   4723.684348\n",
              "min       1.000000      0.000000\n",
              "25%       8.000000   1247.500000\n",
              "50%      18.000000   2345.000000\n",
              "75%      41.000000   5040.000000\n",
              "max     321.000000  70890.000000"
            ]
          },
          "execution_count": 132,
          "metadata": {},
          "output_type": "execute_result"
        }
      ],
      "source": [
        "one_sample.describe()"
      ]
    },
    {
      "cell_type": "markdown",
      "metadata": {
        "id": "VZi-Lerb1f_g"
      },
      "source": [
        "이제 추출한 표본에서 100개의 붓스트랩 재표본 1000개를 이용하여 이용시간과 이용거리의 중간값를 만들어 보자. `numpy` 라이브러리의 `median` 함수를 사용할 것이다. "
      ]
    },
    {
      "cell_type": "code",
      "execution_count": 133,
      "metadata": {
        "colab": {
          "base_uri": "https://localhost:8080/",
          "height": 422
        },
        "id": "Yg05JCjC4iST",
        "outputId": "d3624ff6-a3b2-4a1c-cb4c-537c4272d6a1"
      },
      "outputs": [
        {
          "data": {
            "text/html": [
              "<div>\n",
              "<style scoped>\n",
              "    .dataframe tbody tr th:only-of-type {\n",
              "        vertical-align: middle;\n",
              "    }\n",
              "\n",
              "    .dataframe tbody tr th {\n",
              "        vertical-align: top;\n",
              "    }\n",
              "\n",
              "    .dataframe thead th {\n",
              "        text-align: right;\n",
              "    }\n",
              "</style>\n",
              "<table border=\"1\" class=\"dataframe\">\n",
              "  <thead>\n",
              "    <tr style=\"text-align: right;\">\n",
              "      <th></th>\n",
              "      <th>time_boot</th>\n",
              "      <th>distance_boot</th>\n",
              "    </tr>\n",
              "  </thead>\n",
              "  <tbody>\n",
              "    <tr>\n",
              "      <th>0</th>\n",
              "      <td>18.0</td>\n",
              "      <td>4184.59</td>\n",
              "    </tr>\n",
              "    <tr>\n",
              "      <th>1</th>\n",
              "      <td>17.0</td>\n",
              "      <td>3849.55</td>\n",
              "    </tr>\n",
              "    <tr>\n",
              "      <th>2</th>\n",
              "      <td>18.0</td>\n",
              "      <td>4031.78</td>\n",
              "    </tr>\n",
              "    <tr>\n",
              "      <th>3</th>\n",
              "      <td>18.0</td>\n",
              "      <td>4157.10</td>\n",
              "    </tr>\n",
              "    <tr>\n",
              "      <th>4</th>\n",
              "      <td>19.0</td>\n",
              "      <td>3966.78</td>\n",
              "    </tr>\n",
              "    <tr>\n",
              "      <th>...</th>\n",
              "      <td>...</td>\n",
              "      <td>...</td>\n",
              "    </tr>\n",
              "    <tr>\n",
              "      <th>995</th>\n",
              "      <td>17.5</td>\n",
              "      <td>3884.88</td>\n",
              "    </tr>\n",
              "    <tr>\n",
              "      <th>996</th>\n",
              "      <td>19.0</td>\n",
              "      <td>3935.96</td>\n",
              "    </tr>\n",
              "    <tr>\n",
              "      <th>997</th>\n",
              "      <td>19.0</td>\n",
              "      <td>3819.56</td>\n",
              "    </tr>\n",
              "    <tr>\n",
              "      <th>998</th>\n",
              "      <td>17.0</td>\n",
              "      <td>3639.65</td>\n",
              "    </tr>\n",
              "    <tr>\n",
              "      <th>999</th>\n",
              "      <td>19.0</td>\n",
              "      <td>3848.63</td>\n",
              "    </tr>\n",
              "  </tbody>\n",
              "</table>\n",
              "<p>1000 rows × 2 columns</p>\n",
              "</div>"
            ],
            "text/plain": [
              "     time_boot  distance_boot\n",
              "0         18.0        4184.59\n",
              "1         17.0        3849.55\n",
              "2         18.0        4031.78\n",
              "3         18.0        4157.10\n",
              "4         19.0        3966.78\n",
              "..         ...            ...\n",
              "995       17.5        3884.88\n",
              "996       19.0        3935.96\n",
              "997       19.0        3819.56\n",
              "998       17.0        3639.65\n",
              "999       19.0        3848.63\n",
              "\n",
              "[1000 rows x 2 columns]"
            ]
          },
          "execution_count": 133,
          "metadata": {},
          "output_type": "execute_result"
        }
      ],
      "source": [
        "# 붓스트랩 모의실험의 횟수\n",
        "B = 1000 \n",
        "\n",
        "# 붓스트랩 - 표본에서 B번 반복하여  재추출 표본을 만들고  B개의 추정값을 구한다.\n",
        "bootstrap_estimates = pd.DataFrame({'time_boot':np.zeros(B), 'distance_boot':np.zeros(B)})\n",
        "\n",
        "for i in np.arange(B):\n",
        "  boot_sample = one_sample.sample(n=n, replace=True, random_state=i)\n",
        "  bootstrap_estimates.loc[i,'time_boot'] = np.median(boot_sample.time)\n",
        "  bootstrap_estimates.loc[i,'distance_boot'] = np.mean(boot_sample.distance)\n",
        "\n",
        "bootstrap_estimates "
      ]
    },
    {
      "cell_type": "markdown",
      "metadata": {
        "id": "vR-M2HKn3Eaf"
      },
      "source": [
        "1000개의 붓스트랩 재표본으로 부터 구한 이용시간과 이용거리의 중간값들의 분포를 히스토그램으로 그려보자."
      ]
    },
    {
      "cell_type": "code",
      "execution_count": 134,
      "metadata": {
        "colab": {
          "base_uri": "https://localhost:8080/",
          "height": 500
        },
        "id": "BOR9-4CI3Vj4",
        "outputId": "88ac32d6-93e6-485e-d4ee-b5e388a6b064"
      },
      "outputs": [
        {
          "data": {
            "text/plain": [
              "<matplotlib.axes._subplots.AxesSubplot at 0x7f42e5cc8c50>"
            ]
          },
          "execution_count": 134,
          "metadata": {},
          "output_type": "execute_result"
        },
        {
          "data": {
            "image/png": "[encoded data removed]",
            "text/plain": [
              "<Figure size 576x576 with 1 Axes>"
            ]
          },
          "metadata": {
            "needs_background": "light"
          },
          "output_type": "display_data"
        }
      ],
      "source": [
        "bootstrap_estimates[[\"time_boot\"]].plot.hist( density=True)"
      ]
    },
    {
      "cell_type": "code",
      "execution_count": 135,
      "metadata": {
        "colab": {
          "base_uri": "https://localhost:8080/",
          "height": 500
        },
        "id": "4QAmu0ds3Vxa",
        "outputId": "81e4c570-eace-4929-ef11-29fbd25b9a51"
      },
      "outputs": [
        {
          "data": {
            "text/plain": [
              "<matplotlib.axes._subplots.AxesSubplot at 0x7f42d89f1c10>"
            ]
          },
          "execution_count": 135,
          "metadata": {},
          "output_type": "execute_result"
        },
        {
          "data": {
            "image/png": "[encoded data removed]",
            "text/plain": [
              "<Figure size 576x576 with 1 Axes>"
            ]
          },
          "metadata": {
            "needs_background": "light"
          },
          "output_type": "display_data"
        }
      ],
      "source": [
        "p= bootstrap_estimates[[\"distance_boot\"]].plot.hist( density=True)\n",
        "p"
      ]
    },
    {
      "cell_type": "markdown",
      "metadata": {
        "id": "AKtB1Tzq5ahs"
      },
      "source": [
        "붓스트랩 재표본의 백분위수를 이용하여 모집단 이용시간 중간값에 대한  95% 신뢰구간을 구하면 다음과 같다. "
      ]
    },
    {
      "cell_type": "code",
      "execution_count": 136,
      "metadata": {
        "colab": {
          "base_uri": "https://localhost:8080/"
        },
        "id": "5AoWsI1x5YSy",
        "outputId": "6fc13c20-7002-4a03-a989-395f3671bf6e"
      },
      "outputs": [
        {
          "data": {
            "text/plain": [
              "(16.5, 20.0)"
            ]
          },
          "execution_count": 136,
          "metadata": {},
          "output_type": "execute_result"
        }
      ],
      "source": [
        "lower_bound = float(bootstrap_estimates[[\"time_boot\"]].quantile(0.025))\n",
        "upper_bound = float(bootstrap_estimates[[\"time_boot\"]].quantile(0.975))\n",
        "\n",
        "(lower_bound, upper_bound)"
      ]
    },
    {
      "cell_type": "markdown",
      "metadata": {
        "id": "wXcHN9N76N0E"
      },
      "source": [
        "붓스트랩 재표본의 백분위수를 이용하여 모집단 이용거리 중간값에 대한  95% 신뢰구간을 구하면 다음과 같다. "
      ]
    },
    {
      "cell_type": "code",
      "execution_count": 137,
      "metadata": {
        "colab": {
          "base_uri": "https://localhost:8080/"
        },
        "id": "I7-h1XqV5blR",
        "outputId": "0e376c62-4e23-4012-b3fb-8e41e00663f2"
      },
      "outputs": [
        {
          "data": {
            "text/plain": [
              "(3643.26675, 4227.87525)"
            ]
          },
          "execution_count": 137,
          "metadata": {},
          "output_type": "execute_result"
        }
      ],
      "source": [
        "lower_bound = float(bootstrap_estimates[[\"distance_boot\"]].quantile(0.025))\n",
        "upper_bound = float(bootstrap_estimates[[\"distance_boot\"]].quantile(0.975))\n",
        "\n",
        "(lower_bound, upper_bound)"
      ]
    },
    {
      "cell_type": "markdown",
      "metadata": {
        "id": "EKcswrdBNg22"
      },
      "source": [
        "## 특별한 추정량: 표본 평균\n",
        "\n",
        "\n",
        "통계 이론에 의하면 다음과 같이 추정량의 형태가 특별한 경우 추정량의 표준편차 SD 를 붓스트랩 방법을 이용하지 않고 구할 수 있다.\n",
        "\n",
        "만약 표본 $S$ 에 포함된 $n$ 개의 값들을 $x_1, x_2, \\dots, x_n$이라고 하면 표본 평균(sample mean) 은 다음과 같다.\n",
        "\n",
        "$$ \\bar x =\\frac{\\sum_{i=1}^n x_i}{n} $$\n",
        "\n",
        "만약 **관심있는 모수 $\\theta$ 가 모집단의 평균이라면 추정량은 표본 평균** $\\hat \\theta = \\bar x$ 이며 표본 평균의 SD를 다음과 같이 직접 구할 수 있다. \n",
        "\n",
        "$$ SD(\\bar x) \\approx \\frac{\\text{표본의 표준편차}}{\\sqrt{n}} $$\n",
        "\n",
        "위에서 **표본의 표준편차** 는 표본에 속한 값들의 표준편차이다. \n",
        "\n",
        "$$ \\text{표본의 표준편차} = \\sqrt{ \\frac{\\sum_{i=1}^n (x_i - \\bar x)^2}{n-1}} $$"
      ]
    },
    {
      "cell_type": "code",
      "execution_count": null,
      "metadata": {
        "id": "1UII4VR36jKv"
      },
      "outputs": [],
      "source": []
    }
  ],
  "metadata": {
    "colab": {
      "collapsed_sections": [],
      "name": "bootstrap.ipynb",
      "provenance": [],
      "toc_visible": true
    },
    "kernelspec": {
      "display_name": "Python 3",
      "name": "python3"
    },
    "language_info": {
      "codemirror_mode": {
        "name": "ipython",
        "version": 3
      },
      "file_extension": ".py",
      "mimetype": "text/x-python",
      "name": "python",
      "nbconvert_exporter": "python",
      "pygments_lexer": "ipython3",
      "version": "3.8.12"
    }
  },
  "nbformat": 4,
  "nbformat_minor": 0
}
