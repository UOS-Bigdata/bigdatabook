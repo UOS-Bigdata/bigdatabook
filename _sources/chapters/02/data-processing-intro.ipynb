{
 "cells": [
  {
   "cell_type": "markdown",
   "source": [
    "# 데이터 처리"
   ],
   "metadata": {}
  },
  {
   "cell_type": "markdown",
   "source": [
    "파이썬 프로그래밍 언어에 대하여 자세히 알아보기 전에 두 가지 예제를 통해서 파이썬 프로그램으로 데이터를 처리하는 연습을 해보려고 한다.\n",
    "\n",
    "데이터를 다루고 정리하여 요약할 때 우리가 가장 쉽게 사용할 수 있는 컴퓨터 앱은 마이크로소프트 엑셀(MicroSoft Excel)이다.\n",
    "\n",
    "![excel](../../images/excel-file.png)\n",
    "\n",
    "많은 일상적인 작업이나 업무에서 엑셀에 데이터를 입력하고 제공하는 다양한 기능으로 데이터를 처리하여  원하는 결과를 얻는다. \n",
    "이러한 엑셀을 이용한 작업은 기본적으로 사용자가 메뉴를 클릭하거나 손으로 복사하고 붙이는 일로 구성된다. 물론 엑셀도 자체 프로그래밍 언어을 이용할 수 있지만 대부분의 일상적인 작업들은 손으로 이루어지며 이는 다른 사람이 반복해서 재현하기 쉽지 않다.  \n",
    "\n",
    "파이썬 등 컴퓨터 언어를 이용하여 데이터를 처리하면 유사한 작업을 반복하기 쉽우며 작업 내용이 변경되어도 신속하게 적용하여 효율적으로 일을 할 수 있다. 즉, 자동화(automation)가 가능한 것이다. 기본적으로 컴퓨터 프로그램은 복잡한 작업을 자동화하는 기능을 하며 최근에는 기계학습과 인공지능으로 모든 분야에서의 자동화가 더욱 가속화되고 있다. \n",
    "\n",
    "\n",
    "\n",
    "첫 번째 예제로 엑셀로 할 수 있는 자료를 처리하는 간단한 작업을  `pandas` 라이브러리에서 제공하는 데이터프레임(DataFrame)과 함수들을 이용하여 프로그램으로 구현해 볼 것이다.\n",
    "\n",
    "두 번째 예제는 소설 *어린 왕자*의 텍스트 화일을 이용하여 소설에 특정한 문자열이 나타나는 빈도를 구하는 간단한 프로그램을 만들어 본다. "
   ],
   "metadata": {},
   "attachments": {}
  },
  {
   "cell_type": "markdown",
   "source": [
    "## `pandas` 라이브러리"
   ],
   "metadata": {}
  },
  {
   "cell_type": "markdown",
   "source": [
    "먼저 `pandas` 라이브러리를 불러오자. 앞 절에서 설명한 것처럼 명령어 `import` 를 사용하여 `pandas` 라이브러리를 불러오는데 다음과 같은 명령어를 실행한다.\n",
    "\n",
    "아래 명령어에서  `as` 는 `pandas` 라이브러리를 불러올 때 그 이름을 줄여서 `pd` 로 하겠다는 의미이다. "
   ],
   "metadata": {}
  },
  {
   "cell_type": "code",
   "execution_count": 15,
   "source": [
    "import pandas as pd"
   ],
   "outputs": [],
   "metadata": {}
  },
  {
   "cell_type": "markdown",
   "source": [
    "## 데이터프레임 "
   ],
   "metadata": {}
  },
  {
   "cell_type": "markdown",
   "source": [
    "### 데이터프레임  정의"
   ],
   "metadata": {}
  },
  {
   "cell_type": "markdown",
   "source": [
    "`pandas` 라이브러리의 데이터프레임은 표와 같은 스프레드시트 형식의 자료 구조를 제공한다. 즉, 2차원 행렬 데이터로 행(`row`)과 열(`column`)으로 이루어 졌으며 일반적으로 행은 자료의 레코드를 나타내며 열은 변수로 구성된다. "
   ],
   "metadata": {}
  },
  {
   "cell_type": "markdown",
   "source": [
    "![dataframe](../../images/dataframe01.png)"
   ],
   "metadata": {},
   "attachments": {
    "dataframe01.svg": {
     "image/svg+xml": [
      "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"
     ]
    }
   }
  },
  {
   "cell_type": "markdown",
   "source": [
    "이제 4명의 학생의 이름(`name`), 성별(`sex`), 나이(`age`)로 구성된 4개의 행과 3개 열을 가진 데이터프레임 `df` 를 만들어 보자.\n",
    "\n",
    "`pd.DataFrame()` 는 `pd` 로 지정된 `pandas` 라이브러리의 함수 `DataFrame()` 을 사용하겠다는 의미이다.\n",
    "라이브러리의 함수 `DataFrame`의 괄호 안에 인자는 괄호 `{` 로 시작하여 괄호 `}` 로 끝나는 표현식이 들어 간다.\n",
    "\n",
    "- 괄호 `{}` 안에 있는 표현식은 나중에 배울 사전(`dictionary`) 형식의 데이터를 만들어 준다.\n",
    "\n",
    "\n",
    "괄호 `{}` 안에 있는 첫 번째 요소는 이름을 나타내는 열을 만드는 표현식이며 열의 이름은 `name` 이고 원소들은 성명으로 구성된 리스트이다.\n",
    "\n",
    "```\n",
    "'name' : ['이철수', '김영희', '홍길동', 'John Smith']\n",
    "```\n",
    "\n",
    "괄호 `{}` 안에 있는 두 번째 요소는 성별을 나타내는 열을 만드는 표현식이며 열의 이름은 `sex` 이고 원소들은 문자열 `m` 과 `'f` 로 구성된 리스트이다.\n",
    "\n",
    "```\n",
    "'sex'  : ['M', 'F', 'M', 'M']\n",
    "```\n",
    "괄호 `{}` 안에 있는 세 번째 요소는 나이을 나타내는 열을 만드는 표현식이며 열의 이름은 `age` 이고 원소들은 정수로 구성된 리스트이다.\n",
    "\n",
    "```\n",
    "'age'  : [ 23, 25, 21, 33]\n",
    "```\n",
    "\n",
    "- 각 열을 나타내는 3개의 요소는 쉼표로 분리한다.\n"
   ],
   "metadata": {}
  },
  {
   "cell_type": "code",
   "execution_count": 16,
   "source": [
    "df = pd.DataFrame(\n",
    "    { 'name' : ['이철수', '김영희', '홍길동', 'John Smith'],\n",
    "      'sex'  : ['M', 'F', 'M', 'M'],\n",
    "      'age'  : [ 23, 25, 21, 33]\n",
    "    } )"
   ],
   "outputs": [],
   "metadata": {}
  },
  {
   "cell_type": "code",
   "execution_count": 17,
   "source": [
    "df"
   ],
   "outputs": [
    {
     "output_type": "execute_result",
     "data": {
      "text/html": [
       "<div>\n",
       "<style scoped>\n",
       "    .dataframe tbody tr th:only-of-type {\n",
       "        vertical-align: middle;\n",
       "    }\n",
       "\n",
       "    .dataframe tbody tr th {\n",
       "        vertical-align: top;\n",
       "    }\n",
       "\n",
       "    .dataframe thead th {\n",
       "        text-align: right;\n",
       "    }\n",
       "</style>\n",
       "<table border=\"1\" class=\"dataframe\">\n",
       "  <thead>\n",
       "    <tr style=\"text-align: right;\">\n",
       "      <th></th>\n",
       "      <th>name</th>\n",
       "      <th>sex</th>\n",
       "      <th>age</th>\n",
       "    </tr>\n",
       "  </thead>\n",
       "  <tbody>\n",
       "    <tr>\n",
       "      <th>0</th>\n",
       "      <td>이철수</td>\n",
       "      <td>M</td>\n",
       "      <td>23</td>\n",
       "    </tr>\n",
       "    <tr>\n",
       "      <th>1</th>\n",
       "      <td>김영희</td>\n",
       "      <td>F</td>\n",
       "      <td>25</td>\n",
       "    </tr>\n",
       "    <tr>\n",
       "      <th>2</th>\n",
       "      <td>홍길동</td>\n",
       "      <td>M</td>\n",
       "      <td>21</td>\n",
       "    </tr>\n",
       "    <tr>\n",
       "      <th>3</th>\n",
       "      <td>John Smith</td>\n",
       "      <td>M</td>\n",
       "      <td>33</td>\n",
       "    </tr>\n",
       "  </tbody>\n",
       "</table>\n",
       "</div>"
      ],
      "text/plain": [
       "         name sex  age\n",
       "0         이철수   M   23\n",
       "1         김영희   F   25\n",
       "2         홍길동   M   21\n",
       "3  John Smith   M   33"
      ]
     },
     "metadata": {},
     "execution_count": 17
    }
   ],
   "metadata": {}
  },
  {
   "cell_type": "markdown",
   "source": [
    "### 데이터프레임 슬라이싱"
   ],
   "metadata": {}
  },
  {
   "cell_type": "markdown",
   "source": [
    "이제  데이터프레임이 정의되었다. 데이터프레임울 출력할 때 가장 왼쪽 열이 나타난 숫자 0,1,2,3 은 각 행의 인덱스를 나타낸다.\n",
    "\n",
    "이제 데이터프레임의 하나의 열을 따로 지정하여 슬리이싱해보자. 데이터프레임의 열을 슬라이싱할 때는 열의 인데스로 열의 이름(문자열)을 사용한다.    "
   ],
   "metadata": {}
  },
  {
   "cell_type": "code",
   "execution_count": 18,
   "source": [
    "df['name']"
   ],
   "outputs": [
    {
     "output_type": "execute_result",
     "data": {
      "text/plain": [
       "0           이철수\n",
       "1           김영희\n",
       "2           홍길동\n",
       "3    John Smith\n",
       "Name: name, dtype: object"
      ]
     },
     "metadata": {},
     "execution_count": 18
    }
   ],
   "metadata": {}
  },
  {
   "cell_type": "code",
   "execution_count": 19,
   "source": [
    "df['age']"
   ],
   "outputs": [
    {
     "output_type": "execute_result",
     "data": {
      "text/plain": [
       "0    23\n",
       "1    25\n",
       "2    21\n",
       "3    33\n",
       "Name: age, dtype: int64"
      ]
     },
     "metadata": {},
     "execution_count": 19
    }
   ],
   "metadata": {}
  },
  {
   "cell_type": "markdown",
   "source": [
    "두 개 이상의 열들을 슬라이싱하려면 리스트를 사용한다."
   ],
   "metadata": {}
  },
  {
   "cell_type": "code",
   "execution_count": 20,
   "source": [
    "df[ ['age', 'name'] ]"
   ],
   "outputs": [
    {
     "output_type": "execute_result",
     "data": {
      "text/html": [
       "<div>\n",
       "<style scoped>\n",
       "    .dataframe tbody tr th:only-of-type {\n",
       "        vertical-align: middle;\n",
       "    }\n",
       "\n",
       "    .dataframe tbody tr th {\n",
       "        vertical-align: top;\n",
       "    }\n",
       "\n",
       "    .dataframe thead th {\n",
       "        text-align: right;\n",
       "    }\n",
       "</style>\n",
       "<table border=\"1\" class=\"dataframe\">\n",
       "  <thead>\n",
       "    <tr style=\"text-align: right;\">\n",
       "      <th></th>\n",
       "      <th>age</th>\n",
       "      <th>name</th>\n",
       "    </tr>\n",
       "  </thead>\n",
       "  <tbody>\n",
       "    <tr>\n",
       "      <th>0</th>\n",
       "      <td>23</td>\n",
       "      <td>이철수</td>\n",
       "    </tr>\n",
       "    <tr>\n",
       "      <th>1</th>\n",
       "      <td>25</td>\n",
       "      <td>김영희</td>\n",
       "    </tr>\n",
       "    <tr>\n",
       "      <th>2</th>\n",
       "      <td>21</td>\n",
       "      <td>홍길동</td>\n",
       "    </tr>\n",
       "    <tr>\n",
       "      <th>3</th>\n",
       "      <td>33</td>\n",
       "      <td>John Smith</td>\n",
       "    </tr>\n",
       "  </tbody>\n",
       "</table>\n",
       "</div>"
      ],
      "text/plain": [
       "   age        name\n",
       "0   23         이철수\n",
       "1   25         김영희\n",
       "2   21         홍길동\n",
       "3   33  John Smith"
      ]
     },
     "metadata": {},
     "execution_count": 20
    }
   ],
   "metadata": {}
  },
  {
   "cell_type": "markdown",
   "source": [
    "데이터프레임의 열을 슬라이스할 때 유의할 점은 데이터프레임의 열의 인덱스는 숫자가 아닌 문자열 `name` 이다. 따라서 데이터프레임의 열에 대한 인덱스로서 문자가 가능하다.\n",
    "\n",
    "**데이터프레임의 하나의 열은 시리즈(`Series`)라고 부른다.**\n",
    "\n",
    "![series](../../images/series.png)\n",
    "\n",
    "참고로 데이터프레임의 열을 슬라이스하는 경우 괄호 `[]` 를 사용하지 않고 다음과 같이 마침표 `.` 를 사용할 수 있다. "
   ],
   "metadata": {}
  },
  {
   "cell_type": "code",
   "execution_count": 21,
   "source": [
    "df.age"
   ],
   "outputs": [
    {
     "output_type": "execute_result",
     "data": {
      "text/plain": [
       "0    23\n",
       "1    25\n",
       "2    21\n",
       "3    33\n",
       "Name: age, dtype: int64"
      ]
     },
     "metadata": {},
     "execution_count": 21
    }
   ],
   "metadata": {}
  },
  {
   "cell_type": "markdown",
   "source": [
    "이제 데이터프레임 `df` 에서 나이가 25세 이상인 행들만 선택해 보자. 일단 나이로 구성된 시리즈에 다음과 같이 비교연산자를 사용할 수 있다. "
   ],
   "metadata": {}
  },
  {
   "cell_type": "code",
   "execution_count": 22,
   "source": [
    "df['age'] >= 25"
   ],
   "outputs": [
    {
     "output_type": "execute_result",
     "data": {
      "text/plain": [
       "0    False\n",
       "1     True\n",
       "2    False\n",
       "3     True\n",
       "Name: age, dtype: bool"
      ]
     },
     "metadata": {},
     "execution_count": 22
    }
   ],
   "metadata": {}
  },
  {
   "cell_type": "markdown",
   "source": [
    "논리 표현식 `df['age'] >= 25` 의 결과는 참과 거짓으로 구성된 시리즈이다. \n",
    "\n",
    "이제 참과 거짓으로 구성된 시리즈를 인덱스로 이용하여 데이터프레임 `df` 의 행을 슬라이싱하자. "
   ],
   "metadata": {}
  },
  {
   "cell_type": "code",
   "execution_count": 23,
   "source": [
    "df[ df['age'] >= 25 ]"
   ],
   "outputs": [
    {
     "output_type": "execute_result",
     "data": {
      "text/html": [
       "<div>\n",
       "<style scoped>\n",
       "    .dataframe tbody tr th:only-of-type {\n",
       "        vertical-align: middle;\n",
       "    }\n",
       "\n",
       "    .dataframe tbody tr th {\n",
       "        vertical-align: top;\n",
       "    }\n",
       "\n",
       "    .dataframe thead th {\n",
       "        text-align: right;\n",
       "    }\n",
       "</style>\n",
       "<table border=\"1\" class=\"dataframe\">\n",
       "  <thead>\n",
       "    <tr style=\"text-align: right;\">\n",
       "      <th></th>\n",
       "      <th>name</th>\n",
       "      <th>sex</th>\n",
       "      <th>age</th>\n",
       "    </tr>\n",
       "  </thead>\n",
       "  <tbody>\n",
       "    <tr>\n",
       "      <th>1</th>\n",
       "      <td>김영희</td>\n",
       "      <td>F</td>\n",
       "      <td>25</td>\n",
       "    </tr>\n",
       "    <tr>\n",
       "      <th>3</th>\n",
       "      <td>John Smith</td>\n",
       "      <td>M</td>\n",
       "      <td>33</td>\n",
       "    </tr>\n",
       "  </tbody>\n",
       "</table>\n",
       "</div>"
      ],
      "text/plain": [
       "         name sex  age\n",
       "1         김영희   F   25\n",
       "3  John Smith   M   33"
      ]
     },
     "metadata": {},
     "execution_count": 23
    }
   ],
   "metadata": {}
  },
  {
   "cell_type": "markdown",
   "source": [
    "### 데이터프레임 메소드"
   ],
   "metadata": {}
  },
  {
   "cell_type": "markdown",
   "source": [
    "\n",
    "데이터프레임에서 숫자로 구성된 열들의 기초 통계량은 다음과 같이 구할 수 있다."
   ],
   "metadata": {}
  },
  {
   "cell_type": "code",
   "execution_count": 24,
   "source": [
    "df.describe()"
   ],
   "outputs": [
    {
     "output_type": "execute_result",
     "data": {
      "text/html": [
       "<div>\n",
       "<style scoped>\n",
       "    .dataframe tbody tr th:only-of-type {\n",
       "        vertical-align: middle;\n",
       "    }\n",
       "\n",
       "    .dataframe tbody tr th {\n",
       "        vertical-align: top;\n",
       "    }\n",
       "\n",
       "    .dataframe thead th {\n",
       "        text-align: right;\n",
       "    }\n",
       "</style>\n",
       "<table border=\"1\" class=\"dataframe\">\n",
       "  <thead>\n",
       "    <tr style=\"text-align: right;\">\n",
       "      <th></th>\n",
       "      <th>age</th>\n",
       "    </tr>\n",
       "  </thead>\n",
       "  <tbody>\n",
       "    <tr>\n",
       "      <th>count</th>\n",
       "      <td>4.000000</td>\n",
       "    </tr>\n",
       "    <tr>\n",
       "      <th>mean</th>\n",
       "      <td>25.500000</td>\n",
       "    </tr>\n",
       "    <tr>\n",
       "      <th>std</th>\n",
       "      <td>5.259911</td>\n",
       "    </tr>\n",
       "    <tr>\n",
       "      <th>min</th>\n",
       "      <td>21.000000</td>\n",
       "    </tr>\n",
       "    <tr>\n",
       "      <th>25%</th>\n",
       "      <td>22.500000</td>\n",
       "    </tr>\n",
       "    <tr>\n",
       "      <th>50%</th>\n",
       "      <td>24.000000</td>\n",
       "    </tr>\n",
       "    <tr>\n",
       "      <th>75%</th>\n",
       "      <td>27.000000</td>\n",
       "    </tr>\n",
       "    <tr>\n",
       "      <th>max</th>\n",
       "      <td>33.000000</td>\n",
       "    </tr>\n",
       "  </tbody>\n",
       "</table>\n",
       "</div>"
      ],
      "text/plain": [
       "             age\n",
       "count   4.000000\n",
       "mean   25.500000\n",
       "std     5.259911\n",
       "min    21.000000\n",
       "25%    22.500000\n",
       "50%    24.000000\n",
       "75%    27.000000\n",
       "max    33.000000"
      ]
     },
     "metadata": {},
     "execution_count": 24
    }
   ],
   "metadata": {}
  },
  {
   "cell_type": "markdown",
   "source": [
    "앞에서 여러 번 보았듯이 파이선에서는 마침표가 자주 사용된다. `df.describe()`는 데이터프레임 `df` 의 열들 중에 숫자로 구성된 열의 가초 통계량을 함수 `describe()` 로 구하는 표현식이다.\n",
    "\n",
    "데이터프레임 `df` 마침표 뒤에 나오는 함수 또는 표현식을 **데이터프레임의 메소드(method)** 라고 부른다. \n",
    "\n",
    "- 마침표 뒤에 나오는 함수는 데이터프레임에 지정한 작업을 수행한다.\n",
    "- 마침표 뒤에 나오는 표현식은 데이터프레임의 특정 성질을 나타내 준다.\n",
    "\n",
    "\n",
    "유사한 형식으로 데이터프레임 `df` 의 각 열에 대한 최대값도 구할 수 있다. 아래 명령어들이 무슨 작업을 하는 것인가 생각해 보자.\n"
   ],
   "metadata": {}
  },
  {
   "cell_type": "code",
   "execution_count": 25,
   "source": [
    "# 함수 max() 는 각 열의 최대값을 구하는 작업을 수행\n",
    "df.max() "
   ],
   "outputs": [
    {
     "output_type": "execute_result",
     "data": {
      "text/plain": [
       "name    홍길동\n",
       "sex       M\n",
       "age      33\n",
       "dtype: object"
      ]
     },
     "metadata": {},
     "execution_count": 25
    }
   ],
   "metadata": {}
  },
  {
   "cell_type": "code",
   "execution_count": 26,
   "source": [
    "# 표현식 shape 는 행과 열의 개수를 출력 (행의 개수 =4, 열의 개수 =3)\n",
    "df.shape "
   ],
   "outputs": [
    {
     "output_type": "execute_result",
     "data": {
      "text/plain": [
       "(4, 3)"
      ]
     },
     "metadata": {},
     "execution_count": 26
    }
   ],
   "metadata": {}
  },
  {
   "cell_type": "markdown",
   "source": [
    "데이터프레임 `df` 의 원소는 행과 열의 숫자로 구성된 인덱스로 슬라이싱할 수 있다. 이 때 사용되는 메소드가 `iloc`이며 특별하게 괄호 `[]` 를 사용하고 \n",
    "행과 열의 인덱스를 쉼표로 구분한다.\n",
    "\n",
    "아래 명령어는 데이터프레임 `df`의 두 번째 행(index=1)과 첫 번째 열(indec=0)에 해당하는 원소를 슬라이싱한다."
   ],
   "metadata": {}
  },
  {
   "cell_type": "code",
   "execution_count": 27,
   "source": [
    "df.iloc[1,0]"
   ],
   "outputs": [
    {
     "output_type": "execute_result",
     "data": {
      "text/plain": [
       "'김영희'"
      ]
     },
     "metadata": {},
     "execution_count": 27
    }
   ],
   "metadata": {}
  },
  {
   "cell_type": "code",
   "execution_count": 28,
   "source": [
    "df.iloc[2,2]"
   ],
   "outputs": [
    {
     "output_type": "execute_result",
     "data": {
      "text/plain": [
       "21"
      ]
     },
     "metadata": {},
     "execution_count": 28
    }
   ],
   "metadata": {}
  },
  {
   "cell_type": "code",
   "execution_count": null,
   "source": [],
   "outputs": [],
   "metadata": {}
  }
 ],
 "metadata": {
  "kernelspec": {
   "name": "python3",
   "display_name": "Python 3.8.10 64-bit (conda)"
  },
  "language_info": {
   "codemirror_mode": {
    "name": "ipython",
    "version": 3
   },
   "file_extension": ".py",
   "mimetype": "text/x-python",
   "name": "python",
   "nbconvert_exporter": "python",
   "pygments_lexer": "ipython3",
   "version": "3.8.10"
  },
  "interpreter": {
   "hash": "3c743bb9761483425747f572da09963146dc6d92679c768be5abee3553babfe7"
  }
 },
 "nbformat": 4,
 "nbformat_minor": 5
}