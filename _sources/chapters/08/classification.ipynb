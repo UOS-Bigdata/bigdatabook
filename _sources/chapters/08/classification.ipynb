{
 "cells": [
  {
   "cell_type": "markdown",
   "metadata": {
    "id": "LVR7NOQBRJg0"
   },
   "source": [
    "# 분류와 예측모형"
   ]
  },
  {
   "cell_type": "markdown",
   "metadata": {
    "id": "zDVRaITFo1e6"
   },
   "source": [
    "필요한 패키지와 라이브러리 설치하고 사용할 함수를 먼저 정의한다."
   ]
  },
  {
   "cell_type": "code",
   "execution_count": 1,
   "metadata": {
    "colab": {
     "base_uri": "https://localhost:8080/"
    },
    "id": "TMpOII92RGPW",
    "outputId": "3d785ede-c8a8-4832-96a4-bc14be3bc2c9"
   },
   "outputs": [
    {
     "name": "stdout",
     "output_type": "stream",
     "text": [
      "Reading package lists... Done\n",
      "Building dependency tree       \n",
      "Reading state information... Done\n",
      "fonts-nanum is already the newest version (20170925-1).\n",
      "0 upgraded, 0 newly installed, 0 to remove and 37 not upgraded.\n",
      "/usr/share/fonts: caching, new cache contents: 0 fonts, 1 dirs\n",
      "/usr/share/fonts/truetype: caching, new cache contents: 0 fonts, 3 dirs\n",
      "/usr/share/fonts/truetype/humor-sans: caching, new cache contents: 1 fonts, 0 dirs\n",
      "/usr/share/fonts/truetype/liberation: caching, new cache contents: 16 fonts, 0 dirs\n",
      "/usr/share/fonts/truetype/nanum: caching, new cache contents: 10 fonts, 0 dirs\n",
      "/usr/local/share/fonts: caching, new cache contents: 0 fonts, 0 dirs\n",
      "/root/.local/share/fonts: skipping, no such directory\n",
      "/root/.fonts: skipping, no such directory\n",
      "/var/cache/fontconfig: cleaning cache directory\n",
      "/root/.cache/fontconfig: not cleaning non-existent cache directory\n",
      "/root/.fontconfig: not cleaning non-existent cache directory\n",
      "fc-cache: succeeded\n"
     ]
    }
   ],
   "source": [
    "# 한글 폰트가 깨질 때 사용 - 런타임 메뉴에서 다시 시작 및 모두 실행 선택. (출처: https://teddylee777.github.io/colab/colab-korean)\n",
    "!sudo apt-get install -y fonts-nanum\n",
    "!sudo fc-cache -fv\n",
    "!rm ~/.cache/matplotlib -rf"
   ]
  },
  {
   "cell_type": "code",
   "execution_count": 2,
   "metadata": {
    "colab": {
     "base_uri": "https://localhost:8080/"
    },
    "id": "gPt9TXh8bxZx",
    "outputId": "d7ab3490-41ef-4dd6-c620-d3b716d9f918"
   },
   "outputs": [
    {
     "name": "stdout",
     "output_type": "stream",
     "text": [
      "Requirement already satisfied: pandas-profiling in /usr/local/lib/python3.7/dist-packages (3.1.0)\n",
      "Requirement already satisfied: markupsafe~=2.0.1 in /usr/local/lib/python3.7/dist-packages (from pandas-profiling) (2.0.1)\n",
      "Requirement already satisfied: phik>=0.11.1 in /usr/local/lib/python3.7/dist-packages (from pandas-profiling) (0.12.0)\n",
      "Requirement already satisfied: requests>=2.24.0 in /usr/local/lib/python3.7/dist-packages (from pandas-profiling) (2.26.0)\n",
      "Requirement already satisfied: pydantic>=1.8.1 in /usr/local/lib/python3.7/dist-packages (from pandas-profiling) (1.8.2)\n",
      "Requirement already satisfied: pandas!=1.0.0,!=1.0.1,!=1.0.2,!=1.1.0,>=0.25.3 in /usr/local/lib/python3.7/dist-packages (from pandas-profiling) (1.1.5)\n",
      "Requirement already satisfied: multimethod>=1.4 in /usr/local/lib/python3.7/dist-packages (from pandas-profiling) (1.6)\n",
      "Requirement already satisfied: htmlmin>=0.1.12 in /usr/local/lib/python3.7/dist-packages (from pandas-profiling) (0.1.12)\n",
      "Requirement already satisfied: jinja2>=2.11.1 in /usr/local/lib/python3.7/dist-packages (from pandas-profiling) (2.11.3)\n",
      "Requirement already satisfied: tqdm>=4.48.2 in /usr/local/lib/python3.7/dist-packages (from pandas-profiling) (4.62.3)\n",
      "Requirement already satisfied: PyYAML>=5.0.0 in /usr/local/lib/python3.7/dist-packages (from pandas-profiling) (6.0)\n",
      "Requirement already satisfied: seaborn>=0.10.1 in /usr/local/lib/python3.7/dist-packages (from pandas-profiling) (0.11.2)\n",
      "Requirement already satisfied: joblib~=1.0.1 in /usr/local/lib/python3.7/dist-packages (from pandas-profiling) (1.0.1)\n",
      "Requirement already satisfied: matplotlib>=3.2.0 in /usr/local/lib/python3.7/dist-packages (from pandas-profiling) (3.2.2)\n",
      "Requirement already satisfied: tangled-up-in-unicode==0.1.0 in /usr/local/lib/python3.7/dist-packages (from pandas-profiling) (0.1.0)\n",
      "Requirement already satisfied: scipy>=1.4.1 in /usr/local/lib/python3.7/dist-packages (from pandas-profiling) (1.7.3)\n",
      "Requirement already satisfied: numpy>=1.16.0 in /usr/local/lib/python3.7/dist-packages (from pandas-profiling) (1.19.5)\n",
      "Requirement already satisfied: missingno>=0.4.2 in /usr/local/lib/python3.7/dist-packages (from pandas-profiling) (0.5.0)\n",
      "Requirement already satisfied: visions[type_image_path]==0.7.4 in /usr/local/lib/python3.7/dist-packages (from pandas-profiling) (0.7.4)\n",
      "Requirement already satisfied: networkx>=2.4 in /usr/local/lib/python3.7/dist-packages (from visions[type_image_path]==0.7.4->pandas-profiling) (2.6.3)\n",
      "Requirement already satisfied: attrs>=19.3.0 in /usr/local/lib/python3.7/dist-packages (from visions[type_image_path]==0.7.4->pandas-profiling) (21.2.0)\n",
      "Requirement already satisfied: Pillow in /usr/local/lib/python3.7/dist-packages (from visions[type_image_path]==0.7.4->pandas-profiling) (7.1.2)\n",
      "Requirement already satisfied: imagehash in /usr/local/lib/python3.7/dist-packages (from visions[type_image_path]==0.7.4->pandas-profiling) (4.2.1)\n",
      "Requirement already satisfied: kiwisolver>=1.0.1 in /usr/local/lib/python3.7/dist-packages (from matplotlib>=3.2.0->pandas-profiling) (1.3.2)\n",
      "Requirement already satisfied: cycler>=0.10 in /usr/local/lib/python3.7/dist-packages (from matplotlib>=3.2.0->pandas-profiling) (0.11.0)\n",
      "Requirement already satisfied: pyparsing!=2.0.4,!=2.1.2,!=2.1.6,>=2.0.1 in /usr/local/lib/python3.7/dist-packages (from matplotlib>=3.2.0->pandas-profiling) (3.0.6)\n",
      "Requirement already satisfied: python-dateutil>=2.1 in /usr/local/lib/python3.7/dist-packages (from matplotlib>=3.2.0->pandas-profiling) (2.8.2)\n",
      "Requirement already satisfied: pytz>=2017.2 in /usr/local/lib/python3.7/dist-packages (from pandas!=1.0.0,!=1.0.1,!=1.0.2,!=1.1.0,>=0.25.3->pandas-profiling) (2018.9)\n",
      "Requirement already satisfied: typing-extensions>=3.7.4.3 in /usr/local/lib/python3.7/dist-packages (from pydantic>=1.8.1->pandas-profiling) (3.10.0.2)\n",
      "Requirement already satisfied: six>=1.5 in /usr/local/lib/python3.7/dist-packages (from python-dateutil>=2.1->matplotlib>=3.2.0->pandas-profiling) (1.15.0)\n",
      "Requirement already satisfied: urllib3<1.27,>=1.21.1 in /usr/local/lib/python3.7/dist-packages (from requests>=2.24.0->pandas-profiling) (1.24.3)\n",
      "Requirement already satisfied: charset-normalizer~=2.0.0 in /usr/local/lib/python3.7/dist-packages (from requests>=2.24.0->pandas-profiling) (2.0.8)\n",
      "Requirement already satisfied: certifi>=2017.4.17 in /usr/local/lib/python3.7/dist-packages (from requests>=2.24.0->pandas-profiling) (2021.10.8)\n",
      "Requirement already satisfied: idna<4,>=2.5 in /usr/local/lib/python3.7/dist-packages (from requests>=2.24.0->pandas-profiling) (2.10)\n",
      "Requirement already satisfied: PyWavelets in /usr/local/lib/python3.7/dist-packages (from imagehash->visions[type_image_path]==0.7.4->pandas-profiling) (1.2.0)\n"
     ]
    }
   ],
   "source": [
    "# pandas 라이브러리의 탐색적 데이터 분석 도구(explanatory data analysis tool, profiling)를 설치한다.\n",
    "!pip install -U pandas-profiling"
   ]
  },
  {
   "cell_type": "code",
   "execution_count": 3,
   "metadata": {
    "id": "Ton6J8vKRNz3"
   },
   "outputs": [],
   "source": [
    "import numpy as np\n",
    "import pandas as pd\n",
    "import pandas_profiling\n",
    "\n",
    "import matplotlib.pyplot as plt\n",
    "import seaborn as sns\n",
    "\n",
    "from itertools import product"
   ]
  },
  {
   "cell_type": "code",
   "execution_count": 4,
   "metadata": {
    "id": "uSaXL4u_ReC_"
   },
   "outputs": [],
   "source": [
    "from matplotlib import rc\n",
    "%matplotlib inline\n",
    "\n",
    "plt.rc('font', family='NanumBarunGothic') # clolab 에서 한글 사용 \n",
    "plt.rcParams['axes.unicode_minus'] = False \n",
    "plt.rcParams[\"figure.figsize\"] = (10,7)   # 그림 크기 조정"
   ]
  },
  {
   "cell_type": "code",
   "execution_count": 28,
   "metadata": {
    "id": "QrapFoQJbMR9"
   },
   "outputs": [],
   "source": [
    "#기계학습 모형\n",
    "from sklearn.linear_model import LogisticRegression\n",
    "from sklearn.tree import DecisionTreeClassifier\n",
    "from sklearn.neighbors import KNeighborsClassifier\n",
    "from sklearn.svm import SVC\n",
    "from sklearn import tree\n",
    "\n",
    "# 기계학습 평가 도구\n",
    "from sklearn.metrics import accuracy_score, f1_score\n",
    "from sklearn.model_selection import train_test_split\n",
    "\n"
   ]
  },
  {
   "cell_type": "code",
   "execution_count": 6,
   "metadata": {
    "id": "-suxIl02MeoJ"
   },
   "outputs": [],
   "source": [
    "# 표준화 함수\n",
    "def standarize(x):\n",
    "  return (x - np.mean(x))/np.std(x)"
   ]
  },
  {
   "cell_type": "markdown",
   "metadata": {
    "id": "-eV6OTwVmYr1"
   },
   "source": [
    "## 분류 \n",
    "\n",
    "\n",
    "앞 절에서는 반응변수 $y$ 가 연속형 변수인 경우 설명변수 $x$ 에 따라서 반응변수의 평균을 예측하는 선형 회귀 모형을 배웠다. 앞 절에서 배운 선형 회귀모형은 예측 모형 중에서 가장 단순한 모형이며 다음과 같은 경우로 확장할 수 있다.\n",
    "\n",
    "- 설명변수가 2개 이상인 경우\n",
    "- $E(y|x)$ 가 비선형(nonlinear) 인 경우 \n",
    "\n",
    "\n",
    "이제 이 절에서는 반응변수가 연속형이 아닌 범주형 변수인 경우를 고려할 것이다. 반응 변수가 범주형인 경우 예측하는 경우를 우리는 **분류(classification)** 이라고 부른다. 이  절에서는 **2개의 가능한 경우를 가지는 범주형 변수, 즉 이항 변수(binary variable)을 예측** 하는 경우에 대하여 알아보고자 한다.\n",
    "\n",
    "앞에서 가설 검정을 배울 때 강조한 것처럼 우리는 살아가면서 수많은 결정을 내린다. 대부분의 결정은 가능한 두 개의 선택 중에 하나를 선택하는 것이다. 여러분의 결정은 주어진 상황에 대하여  경험과 지식을 기반으로 이루어 진다. 즉, 인간은 배운 지식과 습득한 경험을 기반으로 결정을 내리는 것이다. 이러하 인간의 결정하는 절차를 데이터를 기반으로 하여 통계적 방법과 컴퓨터 알고리즘을 이용하여 구현하는 것은 **기계 학습(machine learning)** 또는 **인공 지능(artificial intelligence)** 라고 부른다. 최근에 활발하게 사용되는  딥러닝(deep learning)도 인간의 결정 과정을 더욱 정교하게 구현한 예측 방법이다.\n",
    "\n",
    "이제 분류에 사용되는 기계학습 방법 중에 대표적인 몇 가지 예측 방법들의 개념과 구현 방법을 간단한 예제들을 통해서 알아보고자 한다. \n",
    "\n",
    "\n"
   ]
  },
  {
   "cell_type": "markdown",
   "metadata": {
    "id": "-cyN4-8vtjfV"
   },
   "source": [
    "## 데이터의 구조와 전처리\n",
    "\n",
    "\n",
    "### 예제: 잔디 제초 트랙터\n",
    "\n",
    "여러분이 아파트가 아닌 마당이 있는 단독주택을 구입하고 싶디면 푸른 잔디가 있는 넓은 정원이 있는 것이 좋을 것이다. 하지만 여러분이 이런 넓은 정원이 있는 주택에 산다면 누군가는 정원을 돌봐야 하고 잔디를 주기적을 깍아주어야 한다.\n",
    "\n",
    "미국의 한 기업은 앉아서 운전하는 잔디를 제초할 수 있는 트랙터(lawn mower)를 생산하고 있다. 넓은 대지를 가진 주택을 소유하고 있는 사람들이 제초 트랙터를 살 가능성이 높을 것이라는 것은 예상하기 쉽다. 또한 넓은 정원을 가진 사람들은 소득도 일반적으로 높을 것이라고 예상할 수 있다. \n",
    "\n",
    "이 기업의 마케팅 부서에서는 제초 트랙터를 살 가능성이 높은 사람들에게  홍보를 하려고 한다. 제품 홍보의 대상이 되는 사람들을 선택하기 위하여 실제 데이터를 수집하였다. 수집한 데이터는 다음과 같은 3개의 변수로 구성되어 있다.\n",
    "\n",
    "- `lotsize`: 주택의 대지 변적 (단위: 1,000 square feet)\n",
    "- `income` : 연소득 (단위: $1,000)\n",
    "- `class` : 제초 트랙터의 보유 여부( 1=보유 , 2=미보유)\n",
    "\n",
    "이제 데이터를 외부화일에서 읽어서 데이터프레임 `lawn_mower_0` 에 저장하자. 데이터프레임 `lawn_mower_0`는 모두 24개 레코드로 구성되어 있다.\n"
   ]
  },
  {
   "cell_type": "code",
   "execution_count": 7,
   "metadata": {
    "id": "OWX-v0OEXDDs"
   },
   "outputs": [],
   "source": [
    "url1 = \"https://ilovedata.github.io/teaching/bigdata2/data/lawn-mower.txt\"\n",
    "lawn_mower_0 = pd.read_csv(url1, delim_whitespace=True)"
   ]
  },
  {
   "cell_type": "code",
   "execution_count": 8,
   "metadata": {
    "colab": {
     "base_uri": "https://localhost:8080/",
     "height": 802
    },
    "id": "0TbiVPXVxx3u",
    "outputId": "bd8d37f7-8151-4747-dc88-d6f763cfa7de"
   },
   "outputs": [
    {
     "data": {
      "text/html": [
       "<div>\n",
       "<style scoped>\n",
       "    .dataframe tbody tr th:only-of-type {\n",
       "        vertical-align: middle;\n",
       "    }\n",
       "\n",
       "    .dataframe tbody tr th {\n",
       "        vertical-align: top;\n",
       "    }\n",
       "\n",
       "    .dataframe thead th {\n",
       "        text-align: right;\n",
       "    }\n",
       "</style>\n",
       "<table border=\"1\" class=\"dataframe\">\n",
       "  <thead>\n",
       "    <tr style=\"text-align: right;\">\n",
       "      <th></th>\n",
       "      <th>income</th>\n",
       "      <th>lotsize</th>\n",
       "      <th>class</th>\n",
       "    </tr>\n",
       "  </thead>\n",
       "  <tbody>\n",
       "    <tr>\n",
       "      <th>0</th>\n",
       "      <td>60.0</td>\n",
       "      <td>18.4</td>\n",
       "      <td>1</td>\n",
       "    </tr>\n",
       "    <tr>\n",
       "      <th>1</th>\n",
       "      <td>85.5</td>\n",
       "      <td>16.8</td>\n",
       "      <td>1</td>\n",
       "    </tr>\n",
       "    <tr>\n",
       "      <th>2</th>\n",
       "      <td>64.8</td>\n",
       "      <td>21.6</td>\n",
       "      <td>1</td>\n",
       "    </tr>\n",
       "    <tr>\n",
       "      <th>3</th>\n",
       "      <td>61.5</td>\n",
       "      <td>20.8</td>\n",
       "      <td>1</td>\n",
       "    </tr>\n",
       "    <tr>\n",
       "      <th>4</th>\n",
       "      <td>87.0</td>\n",
       "      <td>23.6</td>\n",
       "      <td>1</td>\n",
       "    </tr>\n",
       "    <tr>\n",
       "      <th>5</th>\n",
       "      <td>110.1</td>\n",
       "      <td>19.2</td>\n",
       "      <td>1</td>\n",
       "    </tr>\n",
       "    <tr>\n",
       "      <th>6</th>\n",
       "      <td>108.0</td>\n",
       "      <td>17.6</td>\n",
       "      <td>1</td>\n",
       "    </tr>\n",
       "    <tr>\n",
       "      <th>7</th>\n",
       "      <td>82.8</td>\n",
       "      <td>22.4</td>\n",
       "      <td>1</td>\n",
       "    </tr>\n",
       "    <tr>\n",
       "      <th>8</th>\n",
       "      <td>69.0</td>\n",
       "      <td>20.0</td>\n",
       "      <td>1</td>\n",
       "    </tr>\n",
       "    <tr>\n",
       "      <th>9</th>\n",
       "      <td>93.0</td>\n",
       "      <td>20.8</td>\n",
       "      <td>1</td>\n",
       "    </tr>\n",
       "    <tr>\n",
       "      <th>10</th>\n",
       "      <td>51.0</td>\n",
       "      <td>22.0</td>\n",
       "      <td>1</td>\n",
       "    </tr>\n",
       "    <tr>\n",
       "      <th>11</th>\n",
       "      <td>81.0</td>\n",
       "      <td>20.0</td>\n",
       "      <td>1</td>\n",
       "    </tr>\n",
       "    <tr>\n",
       "      <th>12</th>\n",
       "      <td>75.0</td>\n",
       "      <td>19.6</td>\n",
       "      <td>2</td>\n",
       "    </tr>\n",
       "    <tr>\n",
       "      <th>13</th>\n",
       "      <td>52.8</td>\n",
       "      <td>20.8</td>\n",
       "      <td>2</td>\n",
       "    </tr>\n",
       "    <tr>\n",
       "      <th>14</th>\n",
       "      <td>64.8</td>\n",
       "      <td>17.2</td>\n",
       "      <td>2</td>\n",
       "    </tr>\n",
       "    <tr>\n",
       "      <th>15</th>\n",
       "      <td>43.2</td>\n",
       "      <td>20.4</td>\n",
       "      <td>2</td>\n",
       "    </tr>\n",
       "    <tr>\n",
       "      <th>16</th>\n",
       "      <td>84.0</td>\n",
       "      <td>17.6</td>\n",
       "      <td>2</td>\n",
       "    </tr>\n",
       "    <tr>\n",
       "      <th>17</th>\n",
       "      <td>49.2</td>\n",
       "      <td>17.6</td>\n",
       "      <td>2</td>\n",
       "    </tr>\n",
       "    <tr>\n",
       "      <th>18</th>\n",
       "      <td>59.4</td>\n",
       "      <td>16.0</td>\n",
       "      <td>2</td>\n",
       "    </tr>\n",
       "    <tr>\n",
       "      <th>19</th>\n",
       "      <td>66.0</td>\n",
       "      <td>18.4</td>\n",
       "      <td>2</td>\n",
       "    </tr>\n",
       "    <tr>\n",
       "      <th>20</th>\n",
       "      <td>47.4</td>\n",
       "      <td>16.4</td>\n",
       "      <td>2</td>\n",
       "    </tr>\n",
       "    <tr>\n",
       "      <th>21</th>\n",
       "      <td>33.0</td>\n",
       "      <td>18.8</td>\n",
       "      <td>2</td>\n",
       "    </tr>\n",
       "    <tr>\n",
       "      <th>22</th>\n",
       "      <td>51.0</td>\n",
       "      <td>14.0</td>\n",
       "      <td>2</td>\n",
       "    </tr>\n",
       "    <tr>\n",
       "      <th>23</th>\n",
       "      <td>63.0</td>\n",
       "      <td>14.8</td>\n",
       "      <td>2</td>\n",
       "    </tr>\n",
       "  </tbody>\n",
       "</table>\n",
       "</div>"
      ],
      "text/plain": [
       "    income  lotsize  class\n",
       "0     60.0     18.4      1\n",
       "1     85.5     16.8      1\n",
       "2     64.8     21.6      1\n",
       "3     61.5     20.8      1\n",
       "4     87.0     23.6      1\n",
       "5    110.1     19.2      1\n",
       "6    108.0     17.6      1\n",
       "7     82.8     22.4      1\n",
       "8     69.0     20.0      1\n",
       "9     93.0     20.8      1\n",
       "10    51.0     22.0      1\n",
       "11    81.0     20.0      1\n",
       "12    75.0     19.6      2\n",
       "13    52.8     20.8      2\n",
       "14    64.8     17.2      2\n",
       "15    43.2     20.4      2\n",
       "16    84.0     17.6      2\n",
       "17    49.2     17.6      2\n",
       "18    59.4     16.0      2\n",
       "19    66.0     18.4      2\n",
       "20    47.4     16.4      2\n",
       "21    33.0     18.8      2\n",
       "22    51.0     14.0      2\n",
       "23    63.0     14.8      2"
      ]
     },
     "execution_count": 8,
     "metadata": {},
     "output_type": "execute_result"
    }
   ],
   "source": [
    "lawn_mower_0"
   ]
  },
  {
   "cell_type": "markdown",
   "metadata": {
    "id": "vGZnd0Es3G0d"
   },
   "source": [
    "마케팅 부서의 목적은 무었인가? 만약 어떤 사람이 거주하는 주택의 대지 면적과 소득을 알았을 때 이 사람이 제초 트랙터를 구입할 가능성을 예측하고 싶은 것이다. \n",
    "\n",
    "구입할 가능성이 크다면 더 적극적인 방법으로 홍보를 할 것이다. 이렇게 고객들을 제초 트랙터를 구입할 가능성이 높은 사람과 낮은 사람으로 잘 분류할 수 있다면 회사는 효율적인 마케팅을 수행할 수 있다. \n",
    "\n",
    "아래 산점도는 데이터에서 주택의 대지 면적과 연소득에 대하여  제초 트랙터의 보유 여부를 나타낸 것이다.\n",
    "예측한 대로 대지의 면적이 클수록, 그리도 연소득이 높을수록 제초 트랙터를 구입할 가능성이 높다.\n",
    "\n",
    "만약 새로운 고객의 연소득이 `income=70` 이고  주택의대지 면적이 `lotsize=19`이라면 (아래 그림의 빨간점) 마케팅 직원은 이 고객을 어떻게 분류해야 하는가? 새로운 고객은 제초 트랙터를 구입할 가능성이 높은가?\n",
    "\n"
   ]
  },
  {
   "cell_type": "code",
   "execution_count": 9,
   "metadata": {
    "colab": {
     "base_uri": "https://localhost:8080/",
     "height": 460
    },
    "id": "ovDDfxTp3B3t",
    "outputId": "8b99af0a-9b8c-406a-8f50-fd5abd182c28"
   },
   "outputs": [
    {
     "data": {
      "text/plain": [
       "<matplotlib.collections.PathCollection at 0x7ff2e06bf450>"
      ]
     },
     "execution_count": 9,
     "metadata": {},
     "output_type": "execute_result"
    },
    {
     "data": {
      "image/png": "[encoded data removed]",
      "text/plain": [
       "<Figure size 720x504 with 1 Axes>"
      ]
     },
     "metadata": {
      "needs_background": "light"
     },
     "output_type": "display_data"
    }
   ],
   "source": [
    "sns.scatterplot(data=lawn_mower_0, x= \"income\", y= \"lotsize\", hue=\"class\", s=100, palette=\"deep\")\n",
    "plt.scatter(x=70, y=19, color='r', s=200)"
   ]
  },
  {
   "cell_type": "markdown",
   "metadata": {
    "id": "Y5jTKmQKx1Si"
   },
   "source": [
    "### 데이터 전처리\n",
    "\n",
    "\n",
    "분류에서는 일반적으로  2개의 가능한 선택을 성공(success)와 실패(failure)라고 구분한다. \n",
    "\n",
    "예를 들어서 고객이  제초 트랙터를 구입하는 사건을 성공, 구입하지 않으면 실패라고 할 수 있다. 성공과 실패는 문제에 따라서 적절하게 정의한다.\n",
    "\n",
    "반응변수 $y$를 다음과 같이 성공이면 1, 실패면 0으로 정의하자. 이렇게 2개의 가능한 범주를 가지는 변수를 이항변수(binary variable)라고부른다.\n",
    "\n",
    "$$\n",
    "\\begin{equation}\n",
    "y = \\begin{cases}\n",
    "0 & \\text{ if failure }\\\\\n",
    "1 & \\text{ if success} \n",
    "\\end{cases}\n",
    "\\end{equation}\n",
    "$$\n",
    "\n",
    "이제 데이터프레임에서  위에서 정의한 대로 반응변수의 값을 성공과 실패에 따라서 1과 0으로 바꾼다.\n",
    "\n",
    " 기계학습 방법을 사용하는 경우 데이터에서 반응변수의 값을 0과 1로 코딩하는 것이 일반적이고 통상적이 절차이다. 우리가 사용하는  라이브러리 `SKlearn` 도 이러한 규칙을 따른다. \n",
    " \n",
    "또한 연속형 설명변수들은 모두 표준화 하는 것이 여러 가지 예측 모형을 적용할 때 필요하다. \n",
    "\n",
    "기계학습 모형을 사용하고자 할 때 다음과 같은 전처리를 반드시 해주는 것이 좋다.\n",
    "\n",
    "- **반응변수를 0 과 1로 코딩한다.**\n",
    "- **연속형 설명변수는 표준화한다.**\n",
    "\n",
    "또한 앞에서 언급한 새로운 고객의 연소득과 대지 면적을 대이터프레임 `lawn_mower`에 추가하자.  새로운 고객의 제품 구입의 여부는 알 수 없고 예측해야 하는 목표이다. 따라서 구입 여부는 결측값(missing) `np.NaN` 으로 입력한다. \n",
    "\n",
    "\n",
    "이제 데이터프레임 `lawn_mower` 의 변수들을 표준화하고 재코딩하자. 반응변수의 열이름을 `buy`로 변환한다.  "
   ]
  },
  {
   "cell_type": "code",
   "execution_count": 10,
   "metadata": {
    "colab": {
     "base_uri": "https://localhost:8080/",
     "height": 833
    },
    "id": "vzaWtk5e772H",
    "outputId": "d2cec21a-7067-4a27-c31b-d8a087958a9b"
   },
   "outputs": [
    {
     "data": {
      "text/html": [
       "<div>\n",
       "<style scoped>\n",
       "    .dataframe tbody tr th:only-of-type {\n",
       "        vertical-align: middle;\n",
       "    }\n",
       "\n",
       "    .dataframe tbody tr th {\n",
       "        vertical-align: top;\n",
       "    }\n",
       "\n",
       "    .dataframe thead th {\n",
       "        text-align: right;\n",
       "    }\n",
       "</style>\n",
       "<table border=\"1\" class=\"dataframe\">\n",
       "  <thead>\n",
       "    <tr style=\"text-align: right;\">\n",
       "      <th></th>\n",
       "      <th>income</th>\n",
       "      <th>lotsize</th>\n",
       "      <th>class</th>\n",
       "    </tr>\n",
       "  </thead>\n",
       "  <tbody>\n",
       "    <tr>\n",
       "      <th>0</th>\n",
       "      <td>60.0</td>\n",
       "      <td>18.4</td>\n",
       "      <td>1.0</td>\n",
       "    </tr>\n",
       "    <tr>\n",
       "      <th>1</th>\n",
       "      <td>85.5</td>\n",
       "      <td>16.8</td>\n",
       "      <td>1.0</td>\n",
       "    </tr>\n",
       "    <tr>\n",
       "      <th>2</th>\n",
       "      <td>64.8</td>\n",
       "      <td>21.6</td>\n",
       "      <td>1.0</td>\n",
       "    </tr>\n",
       "    <tr>\n",
       "      <th>3</th>\n",
       "      <td>61.5</td>\n",
       "      <td>20.8</td>\n",
       "      <td>1.0</td>\n",
       "    </tr>\n",
       "    <tr>\n",
       "      <th>4</th>\n",
       "      <td>87.0</td>\n",
       "      <td>23.6</td>\n",
       "      <td>1.0</td>\n",
       "    </tr>\n",
       "    <tr>\n",
       "      <th>5</th>\n",
       "      <td>110.1</td>\n",
       "      <td>19.2</td>\n",
       "      <td>1.0</td>\n",
       "    </tr>\n",
       "    <tr>\n",
       "      <th>6</th>\n",
       "      <td>108.0</td>\n",
       "      <td>17.6</td>\n",
       "      <td>1.0</td>\n",
       "    </tr>\n",
       "    <tr>\n",
       "      <th>7</th>\n",
       "      <td>82.8</td>\n",
       "      <td>22.4</td>\n",
       "      <td>1.0</td>\n",
       "    </tr>\n",
       "    <tr>\n",
       "      <th>8</th>\n",
       "      <td>69.0</td>\n",
       "      <td>20.0</td>\n",
       "      <td>1.0</td>\n",
       "    </tr>\n",
       "    <tr>\n",
       "      <th>9</th>\n",
       "      <td>93.0</td>\n",
       "      <td>20.8</td>\n",
       "      <td>1.0</td>\n",
       "    </tr>\n",
       "    <tr>\n",
       "      <th>10</th>\n",
       "      <td>51.0</td>\n",
       "      <td>22.0</td>\n",
       "      <td>1.0</td>\n",
       "    </tr>\n",
       "    <tr>\n",
       "      <th>11</th>\n",
       "      <td>81.0</td>\n",
       "      <td>20.0</td>\n",
       "      <td>1.0</td>\n",
       "    </tr>\n",
       "    <tr>\n",
       "      <th>12</th>\n",
       "      <td>75.0</td>\n",
       "      <td>19.6</td>\n",
       "      <td>2.0</td>\n",
       "    </tr>\n",
       "    <tr>\n",
       "      <th>13</th>\n",
       "      <td>52.8</td>\n",
       "      <td>20.8</td>\n",
       "      <td>2.0</td>\n",
       "    </tr>\n",
       "    <tr>\n",
       "      <th>14</th>\n",
       "      <td>64.8</td>\n",
       "      <td>17.2</td>\n",
       "      <td>2.0</td>\n",
       "    </tr>\n",
       "    <tr>\n",
       "      <th>15</th>\n",
       "      <td>43.2</td>\n",
       "      <td>20.4</td>\n",
       "      <td>2.0</td>\n",
       "    </tr>\n",
       "    <tr>\n",
       "      <th>16</th>\n",
       "      <td>84.0</td>\n",
       "      <td>17.6</td>\n",
       "      <td>2.0</td>\n",
       "    </tr>\n",
       "    <tr>\n",
       "      <th>17</th>\n",
       "      <td>49.2</td>\n",
       "      <td>17.6</td>\n",
       "      <td>2.0</td>\n",
       "    </tr>\n",
       "    <tr>\n",
       "      <th>18</th>\n",
       "      <td>59.4</td>\n",
       "      <td>16.0</td>\n",
       "      <td>2.0</td>\n",
       "    </tr>\n",
       "    <tr>\n",
       "      <th>19</th>\n",
       "      <td>66.0</td>\n",
       "      <td>18.4</td>\n",
       "      <td>2.0</td>\n",
       "    </tr>\n",
       "    <tr>\n",
       "      <th>20</th>\n",
       "      <td>47.4</td>\n",
       "      <td>16.4</td>\n",
       "      <td>2.0</td>\n",
       "    </tr>\n",
       "    <tr>\n",
       "      <th>21</th>\n",
       "      <td>33.0</td>\n",
       "      <td>18.8</td>\n",
       "      <td>2.0</td>\n",
       "    </tr>\n",
       "    <tr>\n",
       "      <th>22</th>\n",
       "      <td>51.0</td>\n",
       "      <td>14.0</td>\n",
       "      <td>2.0</td>\n",
       "    </tr>\n",
       "    <tr>\n",
       "      <th>23</th>\n",
       "      <td>63.0</td>\n",
       "      <td>14.8</td>\n",
       "      <td>2.0</td>\n",
       "    </tr>\n",
       "    <tr>\n",
       "      <th>24</th>\n",
       "      <td>70.0</td>\n",
       "      <td>19.0</td>\n",
       "      <td>NaN</td>\n",
       "    </tr>\n",
       "  </tbody>\n",
       "</table>\n",
       "</div>"
      ],
      "text/plain": [
       "    income  lotsize  class\n",
       "0     60.0     18.4    1.0\n",
       "1     85.5     16.8    1.0\n",
       "2     64.8     21.6    1.0\n",
       "3     61.5     20.8    1.0\n",
       "4     87.0     23.6    1.0\n",
       "5    110.1     19.2    1.0\n",
       "6    108.0     17.6    1.0\n",
       "7     82.8     22.4    1.0\n",
       "8     69.0     20.0    1.0\n",
       "9     93.0     20.8    1.0\n",
       "10    51.0     22.0    1.0\n",
       "11    81.0     20.0    1.0\n",
       "12    75.0     19.6    2.0\n",
       "13    52.8     20.8    2.0\n",
       "14    64.8     17.2    2.0\n",
       "15    43.2     20.4    2.0\n",
       "16    84.0     17.6    2.0\n",
       "17    49.2     17.6    2.0\n",
       "18    59.4     16.0    2.0\n",
       "19    66.0     18.4    2.0\n",
       "20    47.4     16.4    2.0\n",
       "21    33.0     18.8    2.0\n",
       "22    51.0     14.0    2.0\n",
       "23    63.0     14.8    2.0\n",
       "24    70.0     19.0    NaN"
      ]
     },
     "execution_count": 10,
     "metadata": {},
     "output_type": "execute_result"
    }
   ],
   "source": [
    "# 새로운 고객 자료\n",
    "new_customer = pd.DataFrame({'income':[70], 'lotsize':[19], 'class': [np.NaN]})\n",
    "# 조사한 데이터프레임에 새로운 고객자료 추가\n",
    "lawn_mower_0 = lawn_mower_0.append( new_customer).reset_index(drop=True)\n",
    "lawn_mower_0"
   ]
  },
  {
   "cell_type": "code",
   "execution_count": 11,
   "metadata": {
    "colab": {
     "base_uri": "https://localhost:8080/",
     "height": 833
    },
    "id": "0mMh99VilbiO",
    "outputId": "5612a85c-363a-4cf3-df2e-102e7043c362"
   },
   "outputs": [
    {
     "data": {
      "text/html": [
       "<div>\n",
       "<style scoped>\n",
       "    .dataframe tbody tr th:only-of-type {\n",
       "        vertical-align: middle;\n",
       "    }\n",
       "\n",
       "    .dataframe tbody tr th {\n",
       "        vertical-align: top;\n",
       "    }\n",
       "\n",
       "    .dataframe thead th {\n",
       "        text-align: right;\n",
       "    }\n",
       "</style>\n",
       "<table border=\"1\" class=\"dataframe\">\n",
       "  <thead>\n",
       "    <tr style=\"text-align: right;\">\n",
       "      <th></th>\n",
       "      <th>income</th>\n",
       "      <th>lotsize</th>\n",
       "      <th>buy</th>\n",
       "    </tr>\n",
       "  </thead>\n",
       "  <tbody>\n",
       "    <tr>\n",
       "      <th>0</th>\n",
       "      <td>-0.447666</td>\n",
       "      <td>-0.236997</td>\n",
       "      <td>1.0</td>\n",
       "    </tr>\n",
       "    <tr>\n",
       "      <th>1</th>\n",
       "      <td>0.895331</td>\n",
       "      <td>-0.923946</td>\n",
       "      <td>1.0</td>\n",
       "    </tr>\n",
       "    <tr>\n",
       "      <th>2</th>\n",
       "      <td>-0.194866</td>\n",
       "      <td>1.136900</td>\n",
       "      <td>1.0</td>\n",
       "    </tr>\n",
       "    <tr>\n",
       "      <th>3</th>\n",
       "      <td>-0.368666</td>\n",
       "      <td>0.793426</td>\n",
       "      <td>1.0</td>\n",
       "    </tr>\n",
       "    <tr>\n",
       "      <th>4</th>\n",
       "      <td>0.974331</td>\n",
       "      <td>1.995586</td>\n",
       "      <td>1.0</td>\n",
       "    </tr>\n",
       "    <tr>\n",
       "      <th>5</th>\n",
       "      <td>2.190928</td>\n",
       "      <td>0.106477</td>\n",
       "      <td>1.0</td>\n",
       "    </tr>\n",
       "    <tr>\n",
       "      <th>6</th>\n",
       "      <td>2.080329</td>\n",
       "      <td>-0.580472</td>\n",
       "      <td>1.0</td>\n",
       "    </tr>\n",
       "    <tr>\n",
       "      <th>7</th>\n",
       "      <td>0.753132</td>\n",
       "      <td>1.480374</td>\n",
       "      <td>1.0</td>\n",
       "    </tr>\n",
       "    <tr>\n",
       "      <th>8</th>\n",
       "      <td>0.026333</td>\n",
       "      <td>0.449951</td>\n",
       "      <td>1.0</td>\n",
       "    </tr>\n",
       "    <tr>\n",
       "      <th>9</th>\n",
       "      <td>1.290330</td>\n",
       "      <td>0.793426</td>\n",
       "      <td>1.0</td>\n",
       "    </tr>\n",
       "    <tr>\n",
       "      <th>10</th>\n",
       "      <td>-0.921665</td>\n",
       "      <td>1.308637</td>\n",
       "      <td>1.0</td>\n",
       "    </tr>\n",
       "    <tr>\n",
       "      <th>11</th>\n",
       "      <td>0.658332</td>\n",
       "      <td>0.449951</td>\n",
       "      <td>1.0</td>\n",
       "    </tr>\n",
       "    <tr>\n",
       "      <th>12</th>\n",
       "      <td>0.342333</td>\n",
       "      <td>0.278214</td>\n",
       "      <td>0.0</td>\n",
       "    </tr>\n",
       "    <tr>\n",
       "      <th>13</th>\n",
       "      <td>-0.826865</td>\n",
       "      <td>0.793426</td>\n",
       "      <td>0.0</td>\n",
       "    </tr>\n",
       "    <tr>\n",
       "      <th>14</th>\n",
       "      <td>-0.194866</td>\n",
       "      <td>-0.752209</td>\n",
       "      <td>0.0</td>\n",
       "    </tr>\n",
       "    <tr>\n",
       "      <th>15</th>\n",
       "      <td>-1.332464</td>\n",
       "      <td>0.621689</td>\n",
       "      <td>0.0</td>\n",
       "    </tr>\n",
       "    <tr>\n",
       "      <th>16</th>\n",
       "      <td>0.816331</td>\n",
       "      <td>-0.580472</td>\n",
       "      <td>0.0</td>\n",
       "    </tr>\n",
       "    <tr>\n",
       "      <th>17</th>\n",
       "      <td>-1.016464</td>\n",
       "      <td>-0.580472</td>\n",
       "      <td>0.0</td>\n",
       "    </tr>\n",
       "    <tr>\n",
       "      <th>18</th>\n",
       "      <td>-0.479266</td>\n",
       "      <td>-1.267420</td>\n",
       "      <td>0.0</td>\n",
       "    </tr>\n",
       "    <tr>\n",
       "      <th>19</th>\n",
       "      <td>-0.131666</td>\n",
       "      <td>-0.236997</td>\n",
       "      <td>0.0</td>\n",
       "    </tr>\n",
       "    <tr>\n",
       "      <th>20</th>\n",
       "      <td>-1.111264</td>\n",
       "      <td>-1.095683</td>\n",
       "      <td>0.0</td>\n",
       "    </tr>\n",
       "    <tr>\n",
       "      <th>21</th>\n",
       "      <td>-1.869662</td>\n",
       "      <td>-0.065260</td>\n",
       "      <td>0.0</td>\n",
       "    </tr>\n",
       "    <tr>\n",
       "      <th>22</th>\n",
       "      <td>-0.921665</td>\n",
       "      <td>-2.126106</td>\n",
       "      <td>0.0</td>\n",
       "    </tr>\n",
       "    <tr>\n",
       "      <th>23</th>\n",
       "      <td>-0.289666</td>\n",
       "      <td>-1.782632</td>\n",
       "      <td>0.0</td>\n",
       "    </tr>\n",
       "    <tr>\n",
       "      <th>24</th>\n",
       "      <td>0.079000</td>\n",
       "      <td>0.020608</td>\n",
       "      <td>NaN</td>\n",
       "    </tr>\n",
       "  </tbody>\n",
       "</table>\n",
       "</div>"
      ],
      "text/plain": [
       "      income   lotsize  buy\n",
       "0  -0.447666 -0.236997  1.0\n",
       "1   0.895331 -0.923946  1.0\n",
       "2  -0.194866  1.136900  1.0\n",
       "3  -0.368666  0.793426  1.0\n",
       "4   0.974331  1.995586  1.0\n",
       "5   2.190928  0.106477  1.0\n",
       "6   2.080329 -0.580472  1.0\n",
       "7   0.753132  1.480374  1.0\n",
       "8   0.026333  0.449951  1.0\n",
       "9   1.290330  0.793426  1.0\n",
       "10 -0.921665  1.308637  1.0\n",
       "11  0.658332  0.449951  1.0\n",
       "12  0.342333  0.278214  0.0\n",
       "13 -0.826865  0.793426  0.0\n",
       "14 -0.194866 -0.752209  0.0\n",
       "15 -1.332464  0.621689  0.0\n",
       "16  0.816331 -0.580472  0.0\n",
       "17 -1.016464 -0.580472  0.0\n",
       "18 -0.479266 -1.267420  0.0\n",
       "19 -0.131666 -0.236997  0.0\n",
       "20 -1.111264 -1.095683  0.0\n",
       "21 -1.869662 -0.065260  0.0\n",
       "22 -0.921665 -2.126106  0.0\n",
       "23 -0.289666 -1.782632  0.0\n",
       "24  0.079000  0.020608  NaN"
      ]
     },
     "execution_count": 11,
     "metadata": {},
     "output_type": "execute_result"
    }
   ],
   "source": [
    "# 데이터프레임 복사본 생성\n",
    "lawn_mower = lawn_mower_0\n",
    "# 새로운 반응변수 buy 를 정의 (0과 1)\n",
    "lawn_mower['buy'] = 2- lawn_mower['class']\n",
    "# 원래 반응변수 열 class 삭제\n",
    "lawn_mower.drop(columns=['class'], inplace=True)\n",
    "# 독립변수 표준화\n",
    "lawn_mower['income'] = standarize(lawn_mower.income)\n",
    "lawn_mower['lotsize'] = standarize(lawn_mower.lotsize)\n",
    "\n",
    "lawn_mower"
   ]
  },
  {
   "cell_type": "markdown",
   "metadata": {
    "id": "y120DRfE9a12"
   },
   "source": [
    "### 학습과 예측 데이터의 분리\n",
    "\n",
    "위에서 만든 데이타프레임 `lwan_mower` 에는 반응변수의 결과가 있는 자료와 새로 예측할 자료가 같이 포함되어 있다. 설면변수를 표준화를 하기 위하여  새로 예측할 자료를 원자료에 포람시켜 준 것이다.\n",
    "\n",
    "우리는 이제 반응변수의 결과가 있는 원래 자료를 이용하여  예측 모형을 학습시킬 것이다.  **반응변수의 결과가 포함된 자료를 학습 데이터(training data) 라고 한다.** \n",
    "\n",
    "또한 우리가 예측하고자 하는 새로운 고객에 대한 자료는 반응변수의 값이 없는 데이터이다. **이렇게 예측을 하려고 하는 데이터를 검증 데이터(test data, validation data)** 라고 한다.\n",
    "\n",
    "학습데이터와 검증 데이터를 분리한 후 설명변수와 반응변수를 다시 분리하여 `numpy` 행렬 형식으로 저장해야 한다.\n",
    "\n",
    "이제 다음과 같이 학습 데이터와 검증 데이터를  설명변수와 반응변수로 나누어 저장하자.\n",
    "\n",
    "- `X_train`: 학습 데이터의 셜명변수 값이 포함된 `numpy` 행렬\n",
    "- `y_train`: 학습 데이터의 반응변수 값이 포함된 `numpy` 행렬\n",
    "- `X_predict`: 검증 데이터의 셜명변수 값이 포함된 `numpy` 행렬\n",
    "\n",
    "아래 코드에서 `isnull()` 은 결측값이 존재하는지 확인하는 메소드이다. 결측값이 있는 경우 `True`, 아니면 `False` 를 생성한다. "
   ]
  },
  {
   "cell_type": "code",
   "execution_count": 12,
   "metadata": {
    "colab": {
     "base_uri": "https://localhost:8080/"
    },
    "id": "kTew-v6tBHJA",
    "outputId": "97047f96-27a3-4dba-dfa2-8f673668f861"
   },
   "outputs": [
    {
     "data": {
      "text/plain": [
       "0     False\n",
       "1     False\n",
       "2     False\n",
       "3     False\n",
       "4     False\n",
       "5     False\n",
       "6     False\n",
       "7     False\n",
       "8     False\n",
       "9     False\n",
       "10    False\n",
       "11    False\n",
       "12    False\n",
       "13    False\n",
       "14    False\n",
       "15    False\n",
       "16    False\n",
       "17    False\n",
       "18    False\n",
       "19    False\n",
       "20    False\n",
       "21    False\n",
       "22    False\n",
       "23    False\n",
       "24     True\n",
       "Name: buy, dtype: bool"
      ]
     },
     "execution_count": 12,
     "metadata": {},
     "output_type": "execute_result"
    }
   ],
   "source": [
    " lawn_mower.buy.isnull()"
   ]
  },
  {
   "cell_type": "code",
   "execution_count": 13,
   "metadata": {
    "colab": {
     "base_uri": "https://localhost:8080/"
    },
    "id": "beFHfHuCAHua",
    "outputId": "b832a56d-4484-4d35-aff6-215a407ec5eb"
   },
   "outputs": [
    {
     "data": {
      "text/plain": [
       "array([1., 1., 1., 1., 1., 1., 1., 1., 1., 1., 1., 1., 0., 0., 0., 0., 0.,\n",
       "       0., 0., 0., 0., 0., 0., 0.])"
      ]
     },
     "execution_count": 13,
     "metadata": {},
     "output_type": "execute_result"
    }
   ],
   "source": [
    "# 학습데이터 - 설명변수\n",
    "X_train = np.array(lawn_mower.loc[~lawn_mower.buy.isnull() ].drop(columns='buy'))\n",
    "# 학습데이터 - 반응변수\n",
    "y_train = np.array(lawn_mower.loc[~lawn_mower.buy.isnull(), 'buy'])\n",
    "# 예측데이터 - 설명변수\n",
    "X_predict = np.array(lawn_mower.loc[lawn_mower.buy.isnull() ].drop(columns='buy'))\n",
    "\n",
    "y_train"
   ]
  },
  {
   "cell_type": "markdown",
   "metadata": {
    "id": "9OpMa8OdCsht"
   },
   "source": [
    "## 로지스틱 회귀모형\n",
    "\n",
    "\n",
    "이제 잔디 제초 트랙터 데이터를 이용하여 분류를 수행하는 검증모형을 만들려고 한다.\n",
    "\n",
    "여러분이 아래 산점도에 주어진 데이터를 보고 새로운 고객(`income=70`, `lotsize=19`) 을 어떻게 분류하겠는가?"
   ]
  },
  {
   "cell_type": "code",
   "execution_count": 14,
   "metadata": {
    "colab": {
     "base_uri": "https://localhost:8080/",
     "height": 459
    },
    "id": "Rvw7xrCFZ7k5",
    "outputId": "41eab1fb-6868-4d82-cf8b-199459c717cb"
   },
   "outputs": [
    {
     "data": {
      "text/plain": [
       "<matplotlib.collections.PathCollection at 0x7ff2df6f4050>"
      ]
     },
     "execution_count": 14,
     "metadata": {},
     "output_type": "execute_result"
    },
    {
     "data": {
      "image/png": "[encoded data removed]",
      "text/plain": [
       "<Figure size 720x504 with 1 Axes>"
      ]
     },
     "metadata": {
      "needs_background": "light"
     },
     "output_type": "display_data"
    }
   ],
   "source": [
    "sns.scatterplot(data=lawn_mower, x= \"income\", y= \"lotsize\", hue=\"buy\", s=100, palette=\"deep\")\n",
    "plt.scatter(x=0.079000, y=0.020608, color='r', s=200)"
   ]
  },
  {
   "cell_type": "markdown",
   "metadata": {
    "id": "UR6P88opFMlF"
   },
   "source": [
    "### 로지스틱 회귀모형의 정의\n",
    "\n",
    "여러분은 위의 산점도에서  연소득이 많아질수록 그리고 주택의 대지 면적이 증가할수록 제초 트랙터를 구입할 가능성이 높아짐을 알 수 있다. \n",
    "\n",
    "우리는 앞에서 임의의 사건이 일어날 가능성을 확률로 수치화하는 것을 배웠다. 이러한 개념을 적용하면 \n",
    "다음과 같이 데이터의 산점도가 주는 정보를 요약할 수 있다.\n",
    "\n",
    "\n",
    "- **연소득이 많아질수록 그리고 주택의 대지 면적이 증가할수록 제초 트랙터를 구입할 확률이 높아진다**\n",
    "\n",
    "연소득을 $x_1$,주택의 대지 면적을 $x_2$ 라고 하고 제초 트랙터를 구입하는 사건(성공)을 $y=1$ 이라고 하면 위의 문구를 다음과 같은 관계식으로 나타낼 수 있다.\n",
    "\n",
    "$$ P(y=1 | x_1, x_2 ) \\propto x_1 \\quad \\text{and} \\quad  P(y=1 | x_1, x_2 ) \\propto x_2  $$\n",
    "\n",
    "위의 관계를 다음과 같이 나타내는 기계학습 모형을 **로지스틱 회귀모형(logistic regression model)** 이라고 한다.\n",
    "\n",
    "$$ \n",
    "\\begin{align}\n",
    "P(y=1 | x_1, x_2 )  & = \\frac{ \\exp(\\beta_0 + \\beta_1 x_1 + \\beta_2 x_2)}{1+ \\exp(\\beta_0 + \\beta_1 x_1 + \\beta_2 x_2)}  \\\\ \n",
    " & = \\frac{1}{1+ \\exp(-[\\beta_0 + \\beta_1 x_1 + \\beta_2 x_2])}\n",
    "\\end{align}\n",
    "$$\n",
    "\n",
    "위의 회귀 모형식에서 만약에 회귀 계수(regression coefficient) $\\beta_1$과 $\\beta_2$ 가 양수이면 제초 트랙터를 구입히는 사건에 대한 확률은 연소득, 주택의 대지 면적과 비선형적으로 비례적관계를 가진다.\n",
    "\n",
    "\n",
    "위에서 주어진 로지스틱 회귀모형에서 주어진 독립변수의 값 $x_1$ 과 $x_2$ 에서 계산된 성공의 확률 $P(y=1|x_1,x_2)$ 가 0.5 보다 크면 성공($\\hat y=1$)이라고 예측하고 0.5보다 작으면 실패($\\hat y=0$)라고 예측한다.  \n",
    "\n",
    "\n",
    "- **만약 $P(y=1| x_1, x_2) > 0.5$ 이면 성공 $\\hat y=1$ 으로 예측한다.**\n",
    "- **만약 $P(y=1| x_1, x_2) < 0.5$ 이면 실패 $\\hat y=0$ 로 예측한다.**\n"
   ]
  },
  {
   "cell_type": "markdown",
   "metadata": {
    "id": "KaneYoIGsON-"
   },
   "source": [
    "### 분류 경계선\n",
    "\n",
    "로지스틱 회귀모형에서 추정된 확률 $P(y|x_1, x_2)$ 이 0.5 가 되는 독립변수들의 집합을 **분류 경계선 (Decision boundary)** 라고 부른다. \n",
    "\n",
    "$$ \\text{Decision boundary} = \\{ x_1, x_2 | P(y|x_1, x_2) = 0.5 \\} $$\n",
    "\n",
    "가장 간단한 예로 하나의 독립변수 $x_1$ 만 고려한 로지스틱 회귀모형은 다음과 같고 함수관계를 그리면 다음 그림과 같이 나타난다. \n",
    "\n",
    "$$ P(y=1 | x_1) = \\frac{ \\exp(\\beta_0 + \\beta_1 x_1 )}{1+ \\exp(\\beta_0 + \\beta_1 x_1 )}  = \\frac{ 1}{1+ \\exp(-[\\beta_0 + \\beta_1 x_1] )}$$\n",
    "\n",
    "아래 그림의 수평선은 확률이 0.5인 선이고 수직선이 바로 분류 경계선이다."
   ]
  },
  {
   "cell_type": "code",
   "execution_count": 15,
   "metadata": {
    "colab": {
     "base_uri": "https://localhost:8080/",
     "height": 428
    },
    "id": "qjw-PCCOKhE8",
    "outputId": "9239e914-faa7-4902-e9c9-49c7e0b5b8db"
   },
   "outputs": [
    {
     "data": {
      "image/png": "[encoded data removed]",
      "text/plain": [
       "<Figure size 720x504 with 1 Axes>"
      ]
     },
     "metadata": {
      "needs_background": "light"
     },
     "output_type": "display_data"
    }
   ],
   "source": [
    "def logistic_curve(x, beta0, beta1):\n",
    "  p = 1.0/(1.0+ np.exp(-beta0 -beta1*x)) \n",
    "  return p\n",
    "\n",
    "xx = np.arange(-2,2,0.01)\n",
    "b0 = 0.0\n",
    "b1 = 3.0\n",
    "\n",
    "plt.plot(xx, logistic_curve(xx,b0,b1) )\n",
    "plt.axhline(y=0.5, color='r')\n",
    "plt.axvline(x=0.0, color='b')\n",
    "plt.show()"
   ]
  },
  {
   "cell_type": "markdown",
   "metadata": {
    "id": "nk6meV9lNZP7"
   },
   "source": [
    "### 모형의 적합\n",
    "\n",
    "이제 두 개의 독립변수와 반응변수의 값이 포함된 학습 데이터를 이용하여 로지스틱 회귀모형을 적합해보자. \n",
    "\n",
    "먼저 `SKlearn` 라이브러리의 `LogisticRegression()` 를 이용하여 로지스틱 회귀모형을 정의한다. 다음으로 `fit()` 메소드에  학습데이터 `X_train` 와  `y_train` 를 인자로 입력하여 모형의 계수\n",
    "$\\beta_0$, $\\beta_1$, $\\beta_2$ 를 추정한다.\n",
    "\n",
    "추정의 결과는 `lawn_logistic_fit` 에 저장한다."
   ]
  },
  {
   "cell_type": "code",
   "execution_count": 16,
   "metadata": {
    "colab": {
     "base_uri": "https://localhost:8080/"
    },
    "id": "jfFWGUcbQkSr",
    "outputId": "3cb4dcd9-293c-4ef7-938e-4477de53fee4"
   },
   "outputs": [
    {
     "data": {
      "text/plain": [
       "LogisticRegression()"
      ]
     },
     "execution_count": 16,
     "metadata": {},
     "output_type": "execute_result"
    }
   ],
   "source": [
    "lawn_logistic_fit = LogisticRegression()\n",
    "lawn_logistic_fit.fit(X_train, y_train)"
   ]
  },
  {
   "cell_type": "markdown",
   "metadata": {
    "id": "-voIyy3FTzDL"
   },
   "source": [
    "이제 계수의 추정값 $\\hat \\beta_0$, $\\hat \\beta_1$, $\\hat \\beta_2$ 를 구해보자.\n",
    "\n",
    "- `intercept_[0]` 메소드: 절편의 추정값\n",
    "- `coef_.T`: 기울기 계수의 추정값 벡터\n",
    "\n"
   ]
  },
  {
   "cell_type": "code",
   "execution_count": 17,
   "metadata": {
    "colab": {
     "base_uri": "https://localhost:8080/"
    },
    "id": "9SWDMQZbRGLB",
    "outputId": "60a68d84-19fc-4db3-9317-429041f0c495"
   },
   "outputs": [
    {
     "data": {
      "text/plain": [
       "(-0.006771974798307603, array([1.15076653]), array([1.18178588]))"
      ]
     },
     "execution_count": 17,
     "metadata": {},
     "output_type": "execute_result"
    }
   ],
   "source": [
    "# beta0\n",
    "b0 = lawn_logistic_fit.intercept_[0]\n",
    "\n",
    "# beta1, beta2 \n",
    "b1, b2 = lawn_logistic_fit.coef_.T\n",
    "\n",
    "b0,b1,b2"
   ]
  },
  {
   "cell_type": "markdown",
   "metadata": {
    "id": "DMHuQ2HTUITL"
   },
   "source": [
    "이제 위에서 추정된 계수를 이용하여 성공 확률의 예측식을 다음과 같이 나타낼 수 있다. \n",
    "\n",
    "\n",
    "$$ \n",
    "\\begin{align}\n",
    "P(y=1 | x_1, x_2 )  & = \\frac{ 1}\n",
    "{1+ \\exp(-[\\beta_0 + \\beta_1 x_1 + \\beta_2 x_2] )} \\\\ \n",
    "& =  \\frac{ 1}{1+ \\exp[0.00678 - (1.1508) x_1 - (1.1818) x_2]} \n",
    "\\end{align}\n",
    "$$\n",
    "\n",
    "또한 분류 경계선을 다음과 같이 나타낼 수 있다. \n",
    "\n",
    "$$  \\frac{ 1}{1+ \\exp[0.00678 - (1.1508) x_1 - (1.1818) x_2]}  = 0.5 $$\n",
    "\n",
    "\n",
    "아래 그림에서 점선으로 나타난 분류 경계선의 위쪽 부분은 예측 확률 $E(y=1|x_1,x_2)$ 가 0.5 보다 크므로 성공($\\hat y =1$)이라고 예측한다.\n",
    "반대로  경계선의 아래쪽 부분은 예측 확률 $E(y=1|x_1,x_2)$ 가 0.5 보다 작으므로 실패라고 예측한다.\n",
    "\n"
   ]
  },
  {
   "cell_type": "code",
   "execution_count": 18,
   "metadata": {
    "colab": {
     "base_uri": "https://localhost:8080/",
     "height": 459
    },
    "id": "8Qi6a_bDFM6M",
    "outputId": "7ad3a1c0-cf30-4284-994c-26b56e57e5a8"
   },
   "outputs": [
    {
     "data": {
      "text/plain": [
       "<matplotlib.legend.Legend at 0x7ff2d6dbbb50>"
      ]
     },
     "execution_count": 18,
     "metadata": {},
     "output_type": "execute_result"
    },
    {
     "data": {
      "image/png": "[encoded data removed]",
      "text/plain": [
       "<Figure size 720x504 with 1 Axes>"
      ]
     },
     "metadata": {
      "needs_background": "light"
     },
     "output_type": "display_data"
    }
   ],
   "source": [
    "# 분류 경계선을의 절편과 기울기 계산\n",
    "c = -b0/b2\n",
    "m = -b1/b2\n",
    "\n",
    "# 분류 경계선의 그래프 값을 계산\n",
    "xmin, xmax = -2.2, 2.2\n",
    "ymin, ymax = -2.2, 2.2\n",
    "xd = np.array([xmin, xmax])\n",
    "yd = m*xd + c\n",
    "\n",
    "# 데이터의 산점도\n",
    "sns.scatterplot(data=lawn_mower, x= \"income\", y= \"lotsize\", hue=\"buy\", s=100, palette=\"deep\")\n",
    "\n",
    "# 새로운 고객\n",
    "plt.scatter(x=0.079000, y=0.020608, color='r', s=200)\n",
    "\n",
    "# 분류 경계선 그리기\n",
    "plt.plot(xd, yd, 'k', lw=1, ls='--', label='Decision Boundary')\n",
    "plt.fill_between(xd, yd, ymin, color='tab:blue', alpha=0.2)\n",
    "plt.fill_between(xd, yd, ymax, color='tab:orange', alpha=0.2)\n",
    "plt.legend()"
   ]
  },
  {
   "cell_type": "markdown",
   "metadata": {
    "id": "Krt6qI00WJ_1"
   },
   "source": [
    "### 분류를 위한 예측\n",
    "\n",
    "이제 새로운 고객에 대한 예측을 수행해 보자. 새로운 고객의 연소득이 `income=70` 이고  주택의대지 면적이 `lotsize=19` 인 경우 아래 코드 `lawn_logistic_fit.predict(X_predict)` 의 결과가 1 이므로 성공($\\hat y=1$)으로 예측한다. \n",
    "\n",
    "- `predict(x)` : 인자로 주어진 설명변수 행렬 `x` 에 대한 예측값(성공=1, 실패=0)을 구해준다.\n",
    "\n",
    "즉, 새로운 고객은 제초 트랙터를 구입할 것으로 예측한다는 의미이다.\n"
   ]
  },
  {
   "cell_type": "code",
   "execution_count": 19,
   "metadata": {
    "colab": {
     "base_uri": "https://localhost:8080/"
    },
    "id": "SjMXfAN8W32D",
    "outputId": "303a3d25-9322-45cb-a77a-bd2ccf5bab0f"
   },
   "outputs": [
    {
     "data": {
      "text/plain": [
       "array([[0.07899982, 0.02060846]])"
      ]
     },
     "execution_count": 19,
     "metadata": {},
     "output_type": "execute_result"
    }
   ],
   "source": [
    "X_predict"
   ]
  },
  {
   "cell_type": "code",
   "execution_count": 20,
   "metadata": {
    "colab": {
     "base_uri": "https://localhost:8080/"
    },
    "id": "XzmVCfc8IDLZ",
    "outputId": "1e86b79d-02a0-4fc0-86a8-074584765bc9"
   },
   "outputs": [
    {
     "data": {
      "text/plain": [
       "array([1.])"
      ]
     },
     "execution_count": 20,
     "metadata": {},
     "output_type": "execute_result"
    }
   ],
   "source": [
    "new_pred =lawn_logistic_fit.predict(X_predict)\n",
    "new_pred"
   ]
  },
  {
   "cell_type": "markdown",
   "metadata": {
    "id": "z3gRF2kzZQfa"
   },
   "source": [
    "적합된 로지스틱 모형을을 이용하여 학습자료에 대한 반응변수의 예측값을 구해보자."
   ]
  },
  {
   "cell_type": "code",
   "execution_count": 21,
   "metadata": {
    "colab": {
     "base_uri": "https://localhost:8080/"
    },
    "id": "9rD1FTclJCB_",
    "outputId": "c3daba3d-42cd-41b2-f54f-e4d724dd161c"
   },
   "outputs": [
    {
     "data": {
      "text/plain": [
       "array([0., 0., 1., 1., 1., 1., 1., 1., 1., 1., 1., 1., 1., 0., 0., 0., 1.,\n",
       "       0., 0., 0., 0., 0., 0., 0.])"
      ]
     },
     "execution_count": 21,
     "metadata": {},
     "output_type": "execute_result"
    }
   ],
   "source": [
    "buy_pred = lawn_logistic_fit.predict(X_train)\n",
    "buy_pred"
   ]
  },
  {
   "cell_type": "markdown",
   "metadata": {
    "id": "0qI79QoabVhU"
   },
   "source": [
    "적합된 로지스틱 모형을을 이용하여 학습자료에 대한 반응변수의 예측값을 원래 데이터프레임 `lawn_mower` 에 열이름 `buy_pred` 로 새롭게 추가하였다."
   ]
  },
  {
   "cell_type": "code",
   "execution_count": 22,
   "metadata": {
    "colab": {
     "base_uri": "https://localhost:8080/",
     "height": 833
    },
    "id": "QRQu1eaIJEjv",
    "outputId": "b93713bd-ea0a-4374-e832-5286ed47e161"
   },
   "outputs": [
    {
     "data": {
      "text/html": [
       "<div>\n",
       "<style scoped>\n",
       "    .dataframe tbody tr th:only-of-type {\n",
       "        vertical-align: middle;\n",
       "    }\n",
       "\n",
       "    .dataframe tbody tr th {\n",
       "        vertical-align: top;\n",
       "    }\n",
       "\n",
       "    .dataframe thead th {\n",
       "        text-align: right;\n",
       "    }\n",
       "</style>\n",
       "<table border=\"1\" class=\"dataframe\">\n",
       "  <thead>\n",
       "    <tr style=\"text-align: right;\">\n",
       "      <th></th>\n",
       "      <th>income</th>\n",
       "      <th>lotsize</th>\n",
       "      <th>buy</th>\n",
       "      <th>buy_pred</th>\n",
       "    </tr>\n",
       "  </thead>\n",
       "  <tbody>\n",
       "    <tr>\n",
       "      <th>0</th>\n",
       "      <td>-0.447666</td>\n",
       "      <td>-0.236997</td>\n",
       "      <td>1.0</td>\n",
       "      <td>0.0</td>\n",
       "    </tr>\n",
       "    <tr>\n",
       "      <th>1</th>\n",
       "      <td>0.895331</td>\n",
       "      <td>-0.923946</td>\n",
       "      <td>1.0</td>\n",
       "      <td>0.0</td>\n",
       "    </tr>\n",
       "    <tr>\n",
       "      <th>2</th>\n",
       "      <td>-0.194866</td>\n",
       "      <td>1.136900</td>\n",
       "      <td>1.0</td>\n",
       "      <td>1.0</td>\n",
       "    </tr>\n",
       "    <tr>\n",
       "      <th>3</th>\n",
       "      <td>-0.368666</td>\n",
       "      <td>0.793426</td>\n",
       "      <td>1.0</td>\n",
       "      <td>1.0</td>\n",
       "    </tr>\n",
       "    <tr>\n",
       "      <th>4</th>\n",
       "      <td>0.974331</td>\n",
       "      <td>1.995586</td>\n",
       "      <td>1.0</td>\n",
       "      <td>1.0</td>\n",
       "    </tr>\n",
       "    <tr>\n",
       "      <th>5</th>\n",
       "      <td>2.190928</td>\n",
       "      <td>0.106477</td>\n",
       "      <td>1.0</td>\n",
       "      <td>1.0</td>\n",
       "    </tr>\n",
       "    <tr>\n",
       "      <th>6</th>\n",
       "      <td>2.080329</td>\n",
       "      <td>-0.580472</td>\n",
       "      <td>1.0</td>\n",
       "      <td>1.0</td>\n",
       "    </tr>\n",
       "    <tr>\n",
       "      <th>7</th>\n",
       "      <td>0.753132</td>\n",
       "      <td>1.480374</td>\n",
       "      <td>1.0</td>\n",
       "      <td>1.0</td>\n",
       "    </tr>\n",
       "    <tr>\n",
       "      <th>8</th>\n",
       "      <td>0.026333</td>\n",
       "      <td>0.449951</td>\n",
       "      <td>1.0</td>\n",
       "      <td>1.0</td>\n",
       "    </tr>\n",
       "    <tr>\n",
       "      <th>9</th>\n",
       "      <td>1.290330</td>\n",
       "      <td>0.793426</td>\n",
       "      <td>1.0</td>\n",
       "      <td>1.0</td>\n",
       "    </tr>\n",
       "    <tr>\n",
       "      <th>10</th>\n",
       "      <td>-0.921665</td>\n",
       "      <td>1.308637</td>\n",
       "      <td>1.0</td>\n",
       "      <td>1.0</td>\n",
       "    </tr>\n",
       "    <tr>\n",
       "      <th>11</th>\n",
       "      <td>0.658332</td>\n",
       "      <td>0.449951</td>\n",
       "      <td>1.0</td>\n",
       "      <td>1.0</td>\n",
       "    </tr>\n",
       "    <tr>\n",
       "      <th>12</th>\n",
       "      <td>0.342333</td>\n",
       "      <td>0.278214</td>\n",
       "      <td>0.0</td>\n",
       "      <td>1.0</td>\n",
       "    </tr>\n",
       "    <tr>\n",
       "      <th>13</th>\n",
       "      <td>-0.826865</td>\n",
       "      <td>0.793426</td>\n",
       "      <td>0.0</td>\n",
       "      <td>0.0</td>\n",
       "    </tr>\n",
       "    <tr>\n",
       "      <th>14</th>\n",
       "      <td>-0.194866</td>\n",
       "      <td>-0.752209</td>\n",
       "      <td>0.0</td>\n",
       "      <td>0.0</td>\n",
       "    </tr>\n",
       "    <tr>\n",
       "      <th>15</th>\n",
       "      <td>-1.332464</td>\n",
       "      <td>0.621689</td>\n",
       "      <td>0.0</td>\n",
       "      <td>0.0</td>\n",
       "    </tr>\n",
       "    <tr>\n",
       "      <th>16</th>\n",
       "      <td>0.816331</td>\n",
       "      <td>-0.580472</td>\n",
       "      <td>0.0</td>\n",
       "      <td>1.0</td>\n",
       "    </tr>\n",
       "    <tr>\n",
       "      <th>17</th>\n",
       "      <td>-1.016464</td>\n",
       "      <td>-0.580472</td>\n",
       "      <td>0.0</td>\n",
       "      <td>0.0</td>\n",
       "    </tr>\n",
       "    <tr>\n",
       "      <th>18</th>\n",
       "      <td>-0.479266</td>\n",
       "      <td>-1.267420</td>\n",
       "      <td>0.0</td>\n",
       "      <td>0.0</td>\n",
       "    </tr>\n",
       "    <tr>\n",
       "      <th>19</th>\n",
       "      <td>-0.131666</td>\n",
       "      <td>-0.236997</td>\n",
       "      <td>0.0</td>\n",
       "      <td>0.0</td>\n",
       "    </tr>\n",
       "    <tr>\n",
       "      <th>20</th>\n",
       "      <td>-1.111264</td>\n",
       "      <td>-1.095683</td>\n",
       "      <td>0.0</td>\n",
       "      <td>0.0</td>\n",
       "    </tr>\n",
       "    <tr>\n",
       "      <th>21</th>\n",
       "      <td>-1.869662</td>\n",
       "      <td>-0.065260</td>\n",
       "      <td>0.0</td>\n",
       "      <td>0.0</td>\n",
       "    </tr>\n",
       "    <tr>\n",
       "      <th>22</th>\n",
       "      <td>-0.921665</td>\n",
       "      <td>-2.126106</td>\n",
       "      <td>0.0</td>\n",
       "      <td>0.0</td>\n",
       "    </tr>\n",
       "    <tr>\n",
       "      <th>23</th>\n",
       "      <td>-0.289666</td>\n",
       "      <td>-1.782632</td>\n",
       "      <td>0.0</td>\n",
       "      <td>0.0</td>\n",
       "    </tr>\n",
       "    <tr>\n",
       "      <th>24</th>\n",
       "      <td>0.079000</td>\n",
       "      <td>0.020608</td>\n",
       "      <td>NaN</td>\n",
       "      <td>1.0</td>\n",
       "    </tr>\n",
       "  </tbody>\n",
       "</table>\n",
       "</div>"
      ],
      "text/plain": [
       "      income   lotsize  buy  buy_pred\n",
       "0  -0.447666 -0.236997  1.0       0.0\n",
       "1   0.895331 -0.923946  1.0       0.0\n",
       "2  -0.194866  1.136900  1.0       1.0\n",
       "3  -0.368666  0.793426  1.0       1.0\n",
       "4   0.974331  1.995586  1.0       1.0\n",
       "5   2.190928  0.106477  1.0       1.0\n",
       "6   2.080329 -0.580472  1.0       1.0\n",
       "7   0.753132  1.480374  1.0       1.0\n",
       "8   0.026333  0.449951  1.0       1.0\n",
       "9   1.290330  0.793426  1.0       1.0\n",
       "10 -0.921665  1.308637  1.0       1.0\n",
       "11  0.658332  0.449951  1.0       1.0\n",
       "12  0.342333  0.278214  0.0       1.0\n",
       "13 -0.826865  0.793426  0.0       0.0\n",
       "14 -0.194866 -0.752209  0.0       0.0\n",
       "15 -1.332464  0.621689  0.0       0.0\n",
       "16  0.816331 -0.580472  0.0       1.0\n",
       "17 -1.016464 -0.580472  0.0       0.0\n",
       "18 -0.479266 -1.267420  0.0       0.0\n",
       "19 -0.131666 -0.236997  0.0       0.0\n",
       "20 -1.111264 -1.095683  0.0       0.0\n",
       "21 -1.869662 -0.065260  0.0       0.0\n",
       "22 -0.921665 -2.126106  0.0       0.0\n",
       "23 -0.289666 -1.782632  0.0       0.0\n",
       "24  0.079000  0.020608  NaN       1.0"
      ]
     },
     "execution_count": 22,
     "metadata": {},
     "output_type": "execute_result"
    }
   ],
   "source": [
    "lawn_mower['buy_pred'] = np.concatenate([buy_pred, new_pred])\n",
    "lawn_mower"
   ]
  },
  {
   "cell_type": "markdown",
   "metadata": {
    "id": "BmFdPASCd7W1"
   },
   "source": [
    "위 데이터프레임 `lawn_mower` 을 보면 실제로 구입한 결과가 저장된 열 `buy`와 로지스틱 회귀식으로 추정된 예측값 `buy_pred` 의 값이 일치하지 않는 레코드가 4개가 있다.\n",
    "\n",
    "즉, 위의 그림에서 분류 경계선을 기준으로 예측이 틀린 레코드가 4개가 나타나는 것이다. \n",
    "\n",
    "학습자료가 총 24개의 레코드를 포함하고 있으므로 분류의 정확도는 $(24-4)/24 = 0.83$, 즉 83% 로 말할 수 있다."
   ]
  },
  {
   "cell_type": "code",
   "execution_count": 23,
   "metadata": {
    "colab": {
     "base_uri": "https://localhost:8080/",
     "height": 175
    },
    "id": "YjDK34FAN8Fr",
    "outputId": "b087f863-3bbb-44df-e816-94052dcadc62"
   },
   "outputs": [
    {
     "data": {
      "text/html": [
       "<div>\n",
       "<style scoped>\n",
       "    .dataframe tbody tr th:only-of-type {\n",
       "        vertical-align: middle;\n",
       "    }\n",
       "\n",
       "    .dataframe tbody tr th {\n",
       "        vertical-align: top;\n",
       "    }\n",
       "\n",
       "    .dataframe thead th {\n",
       "        text-align: right;\n",
       "    }\n",
       "</style>\n",
       "<table border=\"1\" class=\"dataframe\">\n",
       "  <thead>\n",
       "    <tr style=\"text-align: right;\">\n",
       "      <th></th>\n",
       "      <th>income</th>\n",
       "      <th>lotsize</th>\n",
       "      <th>buy</th>\n",
       "      <th>buy_pred</th>\n",
       "    </tr>\n",
       "  </thead>\n",
       "  <tbody>\n",
       "    <tr>\n",
       "      <th>0</th>\n",
       "      <td>-0.447666</td>\n",
       "      <td>-0.236997</td>\n",
       "      <td>1.0</td>\n",
       "      <td>0.0</td>\n",
       "    </tr>\n",
       "    <tr>\n",
       "      <th>1</th>\n",
       "      <td>0.895331</td>\n",
       "      <td>-0.923946</td>\n",
       "      <td>1.0</td>\n",
       "      <td>0.0</td>\n",
       "    </tr>\n",
       "    <tr>\n",
       "      <th>12</th>\n",
       "      <td>0.342333</td>\n",
       "      <td>0.278214</td>\n",
       "      <td>0.0</td>\n",
       "      <td>1.0</td>\n",
       "    </tr>\n",
       "    <tr>\n",
       "      <th>16</th>\n",
       "      <td>0.816331</td>\n",
       "      <td>-0.580472</td>\n",
       "      <td>0.0</td>\n",
       "      <td>1.0</td>\n",
       "    </tr>\n",
       "  </tbody>\n",
       "</table>\n",
       "</div>"
      ],
      "text/plain": [
       "      income   lotsize  buy  buy_pred\n",
       "0  -0.447666 -0.236997  1.0       0.0\n",
       "1   0.895331 -0.923946  1.0       0.0\n",
       "12  0.342333  0.278214  0.0       1.0\n",
       "16  0.816331 -0.580472  0.0       1.0"
      ]
     },
     "execution_count": 23,
     "metadata": {},
     "output_type": "execute_result"
    }
   ],
   "source": [
    "lawn_mower.loc[(lawn_mower.buy != lawn_mower.buy_pred) & (~lawn_mower.buy.isnull())]"
   ]
  },
  {
   "cell_type": "code",
   "execution_count": 24,
   "metadata": {
    "colab": {
     "base_uri": "https://localhost:8080/"
    },
    "id": "LNjz5qcLToWZ",
    "outputId": "7fae5088-408c-46d1-de6c-608b3b1d417d"
   },
   "outputs": [
    {
     "data": {
      "text/plain": [
       "0.8333333333333334"
      ]
     },
     "execution_count": 24,
     "metadata": {},
     "output_type": "execute_result"
    }
   ],
   "source": [
    "(24-4)/24"
   ]
  },
  {
   "cell_type": "markdown",
   "metadata": {
    "id": "iv4qVKBDh9Y-"
   },
   "source": [
    "## 기계학습 모형\n",
    "\n",
    "로지스틱 회귀모형으로 분류를 위한 예측을 하는 경우 분류 경계선이 독립변수의 복잡한 변화에 따라 유연하게 변화하지 못한다. 제초 트랙터 예제에서 볼 수 있듯이 로지스틱 회귀모형은 두 개의 독립변수로 이루어진 평면에서  분류 경계선은 오직 직선으로만 추정된다.   \n",
    "\n",
    "\n",
    "이제 좀 더 유연한 분류 경계선을 구할 수 있는 몇 가지 기계학습 모형을 이용해 보자.\n",
    "\n",
    "- [**결정 나무**](https://ko.wikipedia.org/wiki/%EA%B2%B0%EC%A0%95_%ED%8A%B8%EB%A6%AC_%ED%95%99%EC%8A%B5%EB%B2%95) (decision tree): 분류 경계선을 추정할 때 독립변수의 구간을 축차적으로 나누는 방법으로 분류의 방법이 나무를 거꾸로 세운 형태와 유사한 방법이다. 분류의 경계선이 독립변수가 만드는 공간에서 각 축에 대하여 수평으로 나타난다.\n",
    "  + `DecisionTreeClassifier(max_depth=k)`\n",
    "  + `max_depth=k` 나무의 층 수를 지정하는 선택명령문 \n",
    "\n",
    "- [**k-최근방이웃**](https://ko.wikipedia.org/wiki/K-%EC%B5%9C%EA%B7%BC%EC%A0%91_%EC%9D%B4%EC%9B%83_%EC%95%8C%EA%B3%A0%EB%A6%AC%EC%A6%98) (k-nearest neighbor, KNN): 분류를 하는 경우 독립변수의 값들이 가장 가까운 k 개의 이웃 레코드를 선택하여 반응값의 평균으로 성공확률을 예측하는 방법이며 분류 경계선이 매우 유연하게 나타난다.\n",
    "  + `KNeighborsClassifier(n_neighbors=k)`\n",
    "  + `n_neighbors=k` : 최근방이웃의 개수를 지정하는 선택명령문\n",
    "\n",
    "- [**서포트 벡터 머신**](https://ko.wikipedia.org/wiki/%EC%84%9C%ED%8F%AC%ED%8A%B8_%EB%B2%A1%ED%84%B0_%EB%A8%B8%EC%8B%A0) (support vector machine, Kernel SVM):  최대 마진 초평면 문제에 커널 추정을 적용하는 비선형 분류 방법이며 분류 경계선이 비선형으로 나타난다. \n",
    "  + `SVC(gamma=0.1, kernel=\"rbf\", probability=True)`"
   ]
  },
  {
   "cell_type": "markdown",
   "metadata": {
    "id": "YQTTmV8vtB54"
   },
   "source": [
    "이제 위에서 사용한 로지스틱 회귀모형을 포함해서 4개의 기계학습 모형을 정의하고 제초 트랙터 자료를 적합하여 예측 모형을 추정하자. "
   ]
  },
  {
   "cell_type": "code",
   "execution_count": 25,
   "metadata": {
    "colab": {
     "base_uri": "https://localhost:8080/"
    },
    "id": "K8_NhF7-P7oW",
    "outputId": "76464881-6906-43c2-d862-13d360bc5794"
   },
   "outputs": [
    {
     "data": {
      "text/plain": [
       "SVC(gamma=0.1, probability=True)"
      ]
     },
     "execution_count": 25,
     "metadata": {},
     "output_type": "execute_result"
    }
   ],
   "source": [
    "# 기계학습 모형의 정의\n",
    "model_logistic = LogisticRegression()\n",
    "model_tree = DecisionTreeClassifier(max_depth=3)\n",
    "model_knn = KNeighborsClassifier(n_neighbors=7)\n",
    "model_svm = SVC(gamma=0.1, kernel=\"rbf\", probability=True)\n",
    "\n",
    "# 모형의 적합\n",
    "model_logistic.fit(X_train, y_train)\n",
    "model_tree.fit(X_train, y_train)\n",
    "model_knn.fit(X_train, y_train)\n",
    "model_svm.fit(X_train, y_train)"
   ]
  },
  {
   "cell_type": "code",
   "execution_count": 26,
   "metadata": {
    "colab": {
     "base_uri": "https://localhost:8080/",
     "height": 878
    },
    "id": "olgfFzZFGxD9",
    "outputId": "f9c1f7c3-88e4-40b9-ef7a-eea03f8c4f04"
   },
   "outputs": [
    {
     "data": {
      "image/png": "[encoded data removed]",
      "text/plain": [
       "<Figure size 1080x1080 with 4 Axes>"
      ]
     },
     "metadata": {
      "needs_background": "light"
     },
     "output_type": "display_data"
    }
   ],
   "source": [
    "# 각 모형에 대한 분류 경계선 그림 그리기 \n",
    "x_min, x_max = X_train[:, 0].min()*1.2, X_train[:, 0].max()*1.2\n",
    "y_min, y_max = X_train[:, 1].min()*1, X_train[:, 1].max()*1.2\n",
    "xx, yy = np.meshgrid(np.arange(x_min, x_max, 0.1), np.arange(y_min, y_max, 0.1))\n",
    "\n",
    "f, axarr = plt.subplots(2, 2, sharex=\"col\", sharey=\"row\", figsize=(15, 15))\n",
    "\n",
    "for idx, clf, tt in zip(\n",
    "    product([0, 1], [0, 1]),\n",
    "    [ model_logistic, model_tree, model_knn, model_svm],\n",
    "    [\"Logisitc Reg\",\"Decision Tree (depth=3)\", \"KNN (k=7)\", \"Kernel SVM\"],\n",
    "):\n",
    "\n",
    "    Z = clf.predict(np.c_[xx.ravel(), yy.ravel()])\n",
    "    Z = Z.reshape(xx.shape)\n",
    "\n",
    "    axarr[idx[0], idx[1]].contourf(xx, yy, Z, alpha=0.2)\n",
    "    axarr[idx[0], idx[1]].scatter(X_train[:, 0], X_train[:, 1], c=y_train, s=60, edgecolor=\"k\")\n",
    "    axarr[idx[0], idx[1]].set_title(tt)\n",
    "    axarr[idx[0], idx[1]].scatter(x=0.079000, y=0.020608, color='r', s=200)\n",
    "\n",
    "plt.show()"
   ]
  },
  {
   "cell_type": "markdown",
   "metadata": {
    "id": "ypk4qWpOt9EF"
   },
   "source": [
    "이제 4개의 적합된 모형으로 새로운 고객에 대한 예측을 수행해보자.  결정 나무 모형을 제외하고 모두 제초 트랙터를 구입할 것이리고 예측하였다.\n",
    "\n",
    "예측은 적합된 모형에 `predict(x)` 메소드를 사용한다. "
   ]
  },
  {
   "cell_type": "code",
   "execution_count": 27,
   "metadata": {
    "colab": {
     "base_uri": "https://localhost:8080/",
     "height": 175
    },
    "id": "-E6iM4xVUsiy",
    "outputId": "06d95a9e-9f30-4ee3-8082-1ab51a19dd55"
   },
   "outputs": [
    {
     "data": {
      "text/html": [
       "<div>\n",
       "<style scoped>\n",
       "    .dataframe tbody tr th:only-of-type {\n",
       "        vertical-align: middle;\n",
       "    }\n",
       "\n",
       "    .dataframe tbody tr th {\n",
       "        vertical-align: top;\n",
       "    }\n",
       "\n",
       "    .dataframe thead th {\n",
       "        text-align: right;\n",
       "    }\n",
       "</style>\n",
       "<table border=\"1\" class=\"dataframe\">\n",
       "  <thead>\n",
       "    <tr style=\"text-align: right;\">\n",
       "      <th></th>\n",
       "      <th>model</th>\n",
       "      <th>y_pred</th>\n",
       "    </tr>\n",
       "  </thead>\n",
       "  <tbody>\n",
       "    <tr>\n",
       "      <th>0</th>\n",
       "      <td>Logisitc</td>\n",
       "      <td>1.0</td>\n",
       "    </tr>\n",
       "    <tr>\n",
       "      <th>1</th>\n",
       "      <td>Decision Tree</td>\n",
       "      <td>0.0</td>\n",
       "    </tr>\n",
       "    <tr>\n",
       "      <th>2</th>\n",
       "      <td>KNN</td>\n",
       "      <td>1.0</td>\n",
       "    </tr>\n",
       "    <tr>\n",
       "      <th>3</th>\n",
       "      <td>Kernel SVM</td>\n",
       "      <td>1.0</td>\n",
       "    </tr>\n",
       "  </tbody>\n",
       "</table>\n",
       "</div>"
      ],
      "text/plain": [
       "           model  y_pred\n",
       "0       Logisitc     1.0\n",
       "1  Decision Tree     0.0\n",
       "2            KNN     1.0\n",
       "3     Kernel SVM     1.0"
      ]
     },
     "execution_count": 27,
     "metadata": {},
     "output_type": "execute_result"
    }
   ],
   "source": [
    "# 새로운 고객에 대한 예측\n",
    "y_pred_New = [model_logistic.predict(X_predict)[0], model_tree.predict(X_predict)[0], model_knn.predict(X_predict)[0], model_svm.predict(X_predict)[0] ]\n",
    "df_new_pred = pd.DataFrame({'model': [\"Logisitc\",\"Decision Tree\", \"KNN\", \"Kernel SVM\"], 'y_pred': y_pred_New})\n",
    "\n",
    "df_new_pred"
   ]
  },
  {
   "cell_type": "markdown",
   "metadata": {
    "id": "UHJtrdq5d9b5"
   },
   "source": [
    "참고로 결정 나무 모형에서 분류 절차를 시각화하면 다음과 같이 나타낼 수 있다.\n",
    "\n",
    "- `X[0]` 는 'income`, 'X[1]` 은 `lotsize` 를 나타낸다.\n",
    "- 상자 안에 맨 윗줄에 나온 조건이 만족하면 왼쪽 아래 상자로 이동한다. 이 경우가 $\\hat y=0$ 으로 분류되는 것이다.\n",
    "- 상자 안에 맨 윗줄에 나온 조건이 만족하지 않으면 오른쪽 아래 상자로 이동한다. 이 경우가 $\\hat y=1$ 으로 분류되는 것이다.  \n",
    "- 상자 안의 마지막에 `Value = [a,b]` 는 $\\hat y=0$ 으로 분류된 레코드가 `a` 개, $\\hat y=1$ 으로 분류된 레코드가 `b` 개라느 의미이다."
   ]
  },
  {
   "cell_type": "code",
   "execution_count": 29,
   "metadata": {
    "colab": {
     "base_uri": "https://localhost:8080/",
     "height": 567
    },
    "id": "u9DMlDYDU4T5",
    "outputId": "cb7360dc-140e-49bc-aee8-3475bbac2471"
   },
   "outputs": [
    {
     "data": {
      "text/plain": [
       "[Text(279.0, 332.955, 'X[0] <= -0.463\\ngini = 0.5\\nsamples = 24\\nvalue = [12, 12]'),\n",
       " Text(139.5, 237.825, 'X[1] <= 1.051\\ngini = 0.219\\nsamples = 8\\nvalue = [7, 1]'),\n",
       " Text(69.75, 142.695, 'gini = 0.0\\nsamples = 7\\nvalue = [7, 0]'),\n",
       " Text(209.25, 142.695, 'gini = 0.0\\nsamples = 1\\nvalue = [0, 1]'),\n",
       " Text(418.5, 237.825, 'X[1] <= 0.364\\ngini = 0.43\\nsamples = 16\\nvalue = [5, 11]'),\n",
       " Text(348.75, 142.695, 'X[0] <= 0.856\\ngini = 0.494\\nsamples = 9\\nvalue = [5, 4]'),\n",
       " Text(279.0, 47.565, 'gini = 0.278\\nsamples = 6\\nvalue = [5, 1]'),\n",
       " Text(418.5, 47.565, 'gini = 0.0\\nsamples = 3\\nvalue = [0, 3]'),\n",
       " Text(488.25, 142.695, 'gini = 0.0\\nsamples = 7\\nvalue = [0, 7]')]"
      ]
     },
     "execution_count": 29,
     "metadata": {},
     "output_type": "execute_result"
    },
    {
     "data": {
      "image/png": "[encoded data removed]",
      "text/plain": [
       "<Figure size 720x504 with 1 Axes>"
      ]
     },
     "metadata": {
      "needs_background": "light"
     },
     "output_type": "display_data"
    }
   ],
   "source": [
    "tree.plot_tree(model_tree)"
   ]
  },
  {
   "cell_type": "code",
   "execution_count": null,
   "metadata": {
    "id": "Aq3Pue2kePBD"
   },
   "outputs": [],
   "source": []
  }
 ],
 "metadata": {
  "colab": {
   "collapsed_sections": [],
   "name": "classification.ipynb",
   "provenance": []
  },
  "kernelspec": {
   "display_name": "Python 3 (ipykernel)",
   "language": "python",
   "name": "python3"
  },
  "language_info": {
   "codemirror_mode": {
    "name": "ipython",
    "version": 3
   },
   "file_extension": ".py",
   "mimetype": "text/x-python",
   "name": "python",
   "nbconvert_exporter": "python",
   "pygments_lexer": "ipython3",
   "version": "3.8.12"
  }
 },
 "nbformat": 4,
 "nbformat_minor": 1
}
