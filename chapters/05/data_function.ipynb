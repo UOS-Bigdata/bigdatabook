{
 "cells": [
  {
   "cell_type": "markdown",
   "metadata": {
    "id": "lIqMYNGDvKnx"
   },
   "source": [
    "# 함수"
   ]
  },
  {
   "cell_type": "markdown",
   "metadata": {
    "id": "bFmk5mgyvOVl"
   },
   "source": [
    "우리는 지금까지 파이썬 프로그램을 배우면서 메소드(method) 또는 함수(function) 이라는 용어를 사용하였다. 사실 프로그램 언어에서 메소드와 함수는 동일한 의미를 가진다.\n",
    "\n",
    "이제 메소드와 함수에 대하여 좀 더 자세하게 알아보자. 일단 함수라는 단어는 자주 들어보았고 더 쉬운 것 같으니 먼저 함수를 생각해보자. "
   ]
  },
  {
   "cell_type": "code",
   "execution_count": 1,
   "metadata": {
    "id": "pmFvPi1dxcya"
   },
   "outputs": [],
   "source": [
    "# 필요한 라이브러리 불러오기\n",
    "import pandas as pd\n",
    "import numpy as np\n",
    "import scipy.stats as stats\n",
    "from itertools import product\n",
    "\n",
    "import matplotlib.pyplot as plt\n",
    "%matplotlib inline"
   ]
  },
  {
   "cell_type": "markdown",
   "metadata": {
    "id": "X1CqVEYXv8-y"
   },
   "source": [
    "## 함수의 기초 사용법\n",
    "\n",
    "\n",
    "여러분들은 함수(function)라는 단어를 어디선가 본 적이 있을 것이다. 대부분 수학 교과서에서 함수를 다음과 같이 나타내는 것을 기억할 것이다.\n",
    "\n",
    "$$ z = f(x, y) $$\n",
    "\n",
    "위의 식에서 $x$ 와 $y$ 의 값이 주어지면 함수 $f$는 $x,y$를 이용하여 주어진 작업을 수행하고 마지막으로 결과 $z$를 구해준다는 의미이다. 함수에 주어지는 입력값 $x$, $y$ 를 **인자(arguement)** 라고 한다.\n"
   ]
  },
  {
   "cell_type": "markdown",
   "metadata": {
    "id": "Di7Bs5mAJBqz"
   },
   "source": [
    "### 수학 함수\n",
    "\n",
    "수학에 관련된 디양한 수학 함수는 `numpy` 라이브러리에 정의되어 있다. 여러분이 사용하고자 하는 수학 함수의 대부분은 `numpy` 라이브러리의 [매뉴얼](https://numpy.org/doc/stable/)에서 찾을 수 있다."
   ]
  },
  {
   "cell_type": "code",
   "execution_count": 2,
   "metadata": {
    "colab": {
     "base_uri": "https://localhost:8080/"
    },
    "id": "3irg8i0jv8XE",
    "outputId": "2483ddb1-5f6f-491d-bc00-47658870b30a"
   },
   "outputs": [
    {
     "data": {
      "text/plain": [
       "1.4142135623730951"
      ]
     },
     "execution_count": 2,
     "metadata": {},
     "output_type": "execute_result"
    }
   ],
   "source": [
    "np.sqrt(2)"
   ]
  },
  {
   "cell_type": "code",
   "execution_count": 3,
   "metadata": {
    "colab": {
     "base_uri": "https://localhost:8080/"
    },
    "id": "nBOV9Kh0vNuC",
    "outputId": "7afdad37-2389-4abc-804a-1f38dfb8b44d"
   },
   "outputs": [
    {
     "data": {
      "text/plain": [
       "2.302585092994046"
      ]
     },
     "execution_count": 3,
     "metadata": {},
     "output_type": "execute_result"
    }
   ],
   "source": [
    "np.log(10)"
   ]
  },
  {
   "cell_type": "code",
   "execution_count": 4,
   "metadata": {
    "colab": {
     "base_uri": "https://localhost:8080/"
    },
    "id": "-JxV_2c8vEPR",
    "outputId": "66ec5fff-c70c-47bd-8b84-97df7eb796af"
   },
   "outputs": [
    {
     "data": {
      "text/plain": [
       "0.1411200080598672"
      ]
     },
     "execution_count": 4,
     "metadata": {},
     "output_type": "execute_result"
    }
   ],
   "source": [
    "np.sin(3)"
   ]
  },
  {
   "cell_type": "markdown",
   "metadata": {
    "id": "0gKGuH9vJUPC"
   },
   "source": [
    "### 인자의 개수"
   ]
  },
  {
   "cell_type": "markdown",
   "metadata": {
    "id": "sBPWHWaRFJdo"
   },
   "source": [
    "자료를 생성하거나, 요역하거나 또는 변형하는 기본적인 유용한 함수들도 미리 정의되어 있다.\n",
    "\n",
    "먼저 `numpy` 라이브러리에 벡터를 생성하는 함수 `arange()`를 보자. 함수 `arange()`는 다음과 같이 3개의 인자를 가질 수 있으며 괄호 `(...)` 안에 주어진 값은 차례대로 대응하는 인자에 연결된다. 함수의 자세한 사용법은 라이브러리의 [매뉴얼](https://numpy.org/doc/stable/reference/generated/numpy.arange.html)을 참조해야 한다. \n",
    "\n",
    "```\n",
    "numpy.arange([start, ] stop, [step, ])\n",
    "```\n",
    "\n",
    "인자들 중에 `[]` 로 묶여저 있는 것들은 선택적으로 사용할 수 있는 인자들이다. 따라서 함수 `np.arange()` 는 다음과 같이 주어진 목적에 따라 3개의 인자들을 선택적으로 사용할 수 있다.   \n",
    "\n"
   ]
  },
  {
   "cell_type": "code",
   "execution_count": 5,
   "metadata": {
    "colab": {
     "base_uri": "https://localhost:8080/"
    },
    "id": "Yamok7wiFLOJ",
    "outputId": "7036b8c9-10bb-43e2-c730-24365fc95a74"
   },
   "outputs": [
    {
     "data": {
      "text/plain": [
       "array([0, 1, 2, 3, 4, 5, 6, 7, 8, 9])"
      ]
     },
     "execution_count": 5,
     "metadata": {},
     "output_type": "execute_result"
    }
   ],
   "source": [
    "np.arange(10) # 하나의 인자인 경우 numpy.arange(stop) - 0 부터 stop-1 까지 1씩 증가하는 벡터"
   ]
  },
  {
   "cell_type": "code",
   "execution_count": 6,
   "metadata": {
    "colab": {
     "base_uri": "https://localhost:8080/"
    },
    "id": "4KvFx2B9FaK8",
    "outputId": "b5999b0e-1536-477c-a788-cc5dfcb1be23"
   },
   "outputs": [
    {
     "data": {
      "text/plain": [
       "array([5, 6, 7, 8, 9])"
      ]
     },
     "execution_count": 6,
     "metadata": {},
     "output_type": "execute_result"
    }
   ],
   "source": [
    "np.arange(5,10) # 두 개의 인자인 경우 numpy.arange(start, stop) - start 부터 stop-1 까지 1씩 증가하는 벡터"
   ]
  },
  {
   "cell_type": "code",
   "execution_count": 7,
   "metadata": {
    "colab": {
     "base_uri": "https://localhost:8080/"
    },
    "id": "982M-8w1FlDK",
    "outputId": "e1b8defd-1185-4366-f619-17c16e3ca454"
   },
   "outputs": [
    {
     "data": {
      "text/plain": [
       "array([10. , 10.5, 11. , 11.5, 12. , 12.5, 13. , 13.5, 14. , 14.5, 15. ,\n",
       "       15.5, 16. , 16.5, 17. , 17.5, 18. , 18.5, 19. , 19.5])"
      ]
     },
     "execution_count": 7,
     "metadata": {},
     "output_type": "execute_result"
    }
   ],
   "source": [
    "np.arange(10,20,0.5) # 세 개의 인자인 경우 numpy.arange(start, stop, step) - start 부터 stop-1 까지 step 씩 증가하는 벡터"
   ]
  },
  {
   "cell_type": "markdown",
   "metadata": {
    "id": "zZvTCbRY4ZJm"
   },
   "source": [
    "### 함수와 라이브러리\n",
    "\n",
    "이제 다음과 같은 자료를 요약할 수 있는 중요한 함수 몇 가지의 예를 들어 보자.\n",
    "\n",
    " `max` 와 `sum`과 같은 함수는 파이썬 자체와 `numpy`에 모두 정의되어 있지만, 함수`mean` 은  파이썬 자체에 정의되어 있지 않다.\n",
    " \n",
    "- `max(x)` : `x` 의 원소들의 최대값을 구하는 함수 (`np.max`와 동일한 기능)\n",
    "- `sum(x)` : `x` 의 원소들의 합을 구하는 함수  (`np.sum`와 동일한 기능)\n",
    "- `np.mean(x)` : `x` 의 원소들의 평균을 구하는 함수\n",
    "- `np.cumsum(x)` : `x` 의 원소들의 누적합(cumulative sum)을 구하는 함수\n",
    "\n",
    "위에서 `np.cumsum(x)` 의 결과는 벡터인 것에 유의하자. 즉 함수의 결과값은 하나의 숫자일 수 있고, 벡터, 행렬, 리스트 등 파이썬에서 사용하는 다양한 자료의 형식으로 나타날 수 있다.\n",
    "\n"
   ]
  },
  {
   "cell_type": "code",
   "execution_count": 11,
   "metadata": {
    "id": "cc0wvE7otdzq"
   },
   "outputs": [],
   "source": [
    "a=np.arange(10)"
   ]
  },
  {
   "cell_type": "code",
   "execution_count": 12,
   "metadata": {
    "colab": {
     "base_uri": "https://localhost:8080/"
    },
    "id": "3dcwWbIy49NF",
    "outputId": "c5f0f99f-f221-4754-d6bb-0cbc2bc0d965"
   },
   "outputs": [
    {
     "data": {
      "text/plain": [
       "(9, 9)"
      ]
     },
     "execution_count": 12,
     "metadata": {},
     "output_type": "execute_result"
    }
   ],
   "source": [
    "max(a), np.max(a)"
   ]
  },
  {
   "cell_type": "code",
   "execution_count": 13,
   "metadata": {
    "colab": {
     "base_uri": "https://localhost:8080/"
    },
    "id": "dJYUnByN4ytn",
    "outputId": "24087e4b-22fd-4c32-8684-0bcb0ecedb6b"
   },
   "outputs": [
    {
     "data": {
      "text/plain": [
       "(45, 45)"
      ]
     },
     "execution_count": 13,
     "metadata": {},
     "output_type": "execute_result"
    }
   ],
   "source": [
    "sum(a), np.sum(a)"
   ]
  },
  {
   "cell_type": "code",
   "execution_count": 14,
   "metadata": {
    "colab": {
     "base_uri": "https://localhost:8080/"
    },
    "id": "02Juq1pk7JHz",
    "outputId": "6eee3b68-e3ad-4d36-9f02-ed555ce9851b"
   },
   "outputs": [
    {
     "data": {
      "text/plain": [
       "4.5"
      ]
     },
     "execution_count": 14,
     "metadata": {},
     "output_type": "execute_result"
    }
   ],
   "source": [
    "np.mean(a)"
   ]
  },
  {
   "cell_type": "code",
   "execution_count": 15,
   "metadata": {
    "colab": {
     "base_uri": "https://localhost:8080/"
    },
    "id": "HzEaS-X64405",
    "outputId": "491b32be-30ea-44a0-c00e-bcb969089d8a"
   },
   "outputs": [
    {
     "data": {
      "text/plain": [
       "array([ 0,  1,  3,  6, 10, 15, 21, 28, 36, 45])"
      ]
     },
     "execution_count": 15,
     "metadata": {},
     "output_type": "execute_result"
    }
   ],
   "source": [
    "np.cumsum(a)"
   ]
  },
  {
   "cell_type": "markdown",
   "metadata": {
    "id": "9iakBHYLJ6OQ"
   },
   "source": [
    "### 인자의 종류"
   ]
  },
  {
   "cell_type": "markdown",
   "metadata": {
    "id": "n9Xj5EyM9h7B"
   },
   "source": [
    "여러분이 지금까지 배운 함수 중에 가장 복잡한 형태의 함수는 외부화일에서 자료를 읽어서 데이터프레임을 만드는 함수이다. 외부화일에서 자료를 읽어서 데이터프레임을 만드는 함수는 라이브러리 `pandas` 에 정의된 함수`read_csv()` 이다.\n",
    "\n",
    "```\n",
    "df = pd.read_csv(\"data.csv\", sep=',', encoding = 'utf-8-sig')\n",
    "```\n",
    "\n",
    "함수`read_csv()`는 여러 개의 인자(arguement)를 있는데 첫 번째 인자인 화일 이름 `\"data.txt`은 **디폴트(default) 인자** 로서 인자의 값만 써주면 된다. \n",
    "\n",
    "이후에 나오는 인자들은 **키워드(keyword) 인자** 로서 주어진 키워드를 쓰고 그 값을 `=`으로 지정해 주어야 한다. "
   ]
  },
  {
   "cell_type": "markdown",
   "metadata": {
    "id": "9JQkDkwA7Td9"
   },
   "source": [
    "## 사용자 함수\n",
    "\n",
    "이제 사용자가 필요한 함수를 만드는 방법에 대하여 배워 보자.\n",
    "\n",
    "먼저 앞에서 배운 반복문과 조건문을 이용하여 주어진 **숫자 벡터 또는 리스트에 있는 양수들의 합** 을 구하는 코드를 생각해 보자."
   ]
  },
  {
   "cell_type": "code",
   "execution_count": 16,
   "metadata": {
    "colab": {
     "base_uri": "https://localhost:8080/"
    },
    "id": "2Civg4sI7rX-",
    "outputId": "2c4c961a-054c-4011-f84d-c561faf8fc85"
   },
   "outputs": [
    {
     "data": {
      "text/plain": [
       "45"
      ]
     },
     "execution_count": 16,
     "metadata": {},
     "output_type": "execute_result"
    }
   ],
   "source": [
    "my_numbers = np.arange(-10,10)\n",
    "\n",
    "my_sum = 0\n",
    "for value in my_numbers :\n",
    "  if value > 0 :\n",
    "    my_sum = my_sum + value\n",
    "\n",
    "my_sum"
   ]
  },
  {
   "cell_type": "markdown",
   "metadata": {
    "id": "DYw1S5J_8Iug"
   },
   "source": [
    "만약에 다른 숫자 벡터에 대한  양수들의 합을 구하고 싶다면 위의 코드를 조금만 바꾸어 쓰면 된다."
   ]
  },
  {
   "cell_type": "code",
   "execution_count": 17,
   "metadata": {
    "colab": {
     "base_uri": "https://localhost:8080/"
    },
    "id": "G7POIBIeKwHI",
    "outputId": "30d4a638-f868-499f-cce6-2593c66ecd06"
   },
   "outputs": [
    {
     "data": {
      "text/plain": [
       "435"
      ]
     },
     "execution_count": 17,
     "metadata": {},
     "output_type": "execute_result"
    }
   ],
   "source": [
    "your_numbers = np.arange(-20,30)\n",
    "\n",
    "your_sum = 0\n",
    "for value in your_numbers :\n",
    "  if value > 0 :\n",
    "    your_sum = your_sum + value\n",
    "\n",
    "your_sum"
   ]
  },
  {
   "cell_type": "markdown",
   "metadata": {
    "id": "3fviUSnYK9My"
   },
   "source": [
    "### 사용자 함수의 정의\n",
    "\n",
    "위와 같이 적용되는 대상만 바뀌면서 수행하는 작업이 동일한 경우 사용자는 일련의 동일한 작업을 수행하는 자신 만의 함수(user defined function)를 정의할 수 있다. 사용자는 동일한 작업을 반복하는 경우 자신 만의 함수를 정의하여 유용하고 효율적으로 사용할 수 있다. 만약 주어진 모든 수를 더하는 함수 `sum()` 이 미리 정의되어 있지 않은 경우를 상상해 보라! \n",
    "\n",
    "사용자 함수는 다음과 같이 정의한다.\n",
    "\n",
    "```\n",
    "def function_name(x, y, z, ...):\n",
    "  ...\n",
    "  ...\n",
    "  ...\n",
    "\n",
    "  return ...\n",
    "```\n",
    "\n",
    "위의 함수를 정의하는 코드의 구성 요소를 설명해 보자.\n",
    "\n",
    "- `def` : 함수가 정의되는 문장임을 알리는 예약어 (define의 준말)\n",
    "- `function_name` : 사용자가 결정하는 함수의 이름\n",
    "- `(x, y, x...) : ` : 함수 안에서 사용할 인자의 이름을 정하고 마지막 괄호 뒤에는 꼭 `:`으로 끝나야 한다.\n",
    "- `.....` : 함수의 작업을 수행하는 코드들 (꼭 들여쓰기를 맞추어야 한다)\n",
    "- `return ...` : 함수의 마지막 결과로서 `...`를 출력한다. 출력하는 값의 개수는 2개 이상도 가능하며 컴마로 구분한다. `retrun` 은 예약어이다.\n",
    "\n",
    "함수를 정의할 때 함수의 이름과 인자를 정의하는 부분 `function_name(x, y, z, ...)` 을 함수의 서명(signature) 라고 부른다. 또한 함수의 서명 뒤에 나오는 일련의 코드들을 함수의 몸통(body)이라고 부른다. "
   ]
  },
  {
   "cell_type": "markdown",
   "metadata": {
    "id": "Rpc2emtrNRAz"
   },
   "source": [
    "### 사용자 함수: 예제\n",
    "\n"
   ]
  },
  {
   "cell_type": "markdown",
   "metadata": {
    "id": "s_-uw2KPj3S3"
   },
   "source": [
    "먼저 아주 간단한 함수의 예를 들어보자.\n",
    "\n",
    "음수의 값을 양수로 바꾸어 주는 함수 `minus2plus(x)` 를 다음과 같이 정의해 보자.\n",
    "\n",
    "인자 `x` 를 입력해서 0보다 작으면 `res` 값을 `-x` 로 지정하고 아니면 `x` 로 지정한다. 마지막으로 `res` 의 값을 출력한다."
   ]
  },
  {
   "cell_type": "code",
   "execution_count": 18,
   "metadata": {
    "id": "GhOV82MGkng8"
   },
   "outputs": [],
   "source": [
    "def minus2plus(x) :\n",
    "  if x < 0:\n",
    "    res = -x\n",
    "  else :\n",
    "    res = x\n",
    "  return res"
   ]
  },
  {
   "cell_type": "markdown",
   "metadata": {
    "id": "OalHIT-Rk5wW"
   },
   "source": [
    "이제 인자를 바꾸어 가면서 출력된 값이 어떻게 나오는지 살펴 보자. "
   ]
  },
  {
   "cell_type": "code",
   "execution_count": 19,
   "metadata": {
    "colab": {
     "base_uri": "https://localhost:8080/"
    },
    "id": "5HboQKt8lEth",
    "outputId": "fa5e53e3-b560-474d-d9b2-39e40b164e45"
   },
   "outputs": [
    {
     "data": {
      "text/plain": [
       "2"
      ]
     },
     "execution_count": 19,
     "metadata": {},
     "output_type": "execute_result"
    }
   ],
   "source": [
    "minus2plus(-2)"
   ]
  },
  {
   "cell_type": "code",
   "execution_count": 20,
   "metadata": {
    "colab": {
     "base_uri": "https://localhost:8080/"
    },
    "id": "BlhNuSNglIHU",
    "outputId": "b10162aa-eb3e-4fbf-cf46-93afb040ab6f"
   },
   "outputs": [
    {
     "data": {
      "text/plain": [
       "4.0"
      ]
     },
     "execution_count": 20,
     "metadata": {},
     "output_type": "execute_result"
    }
   ],
   "source": [
    "minus2plus(4.0)"
   ]
  },
  {
   "cell_type": "code",
   "execution_count": 21,
   "metadata": {
    "colab": {
     "base_uri": "https://localhost:8080/"
    },
    "id": "ZwMBzMAolIj0",
    "outputId": "1c3a426e-b5ae-4480-bf42-15808f475b27"
   },
   "outputs": [
    {
     "data": {
      "text/plain": [
       "0.0"
      ]
     },
     "execution_count": 21,
     "metadata": {},
     "output_type": "execute_result"
    }
   ],
   "source": [
    "minus2plus(0.0)"
   ]
  },
  {
   "cell_type": "markdown",
   "metadata": {
    "id": "pYFdpDzdXpDt"
   },
   "source": [
    "만약 문자열로 인자로 주면 어떤 일이 일어날까? \n",
    "\n",
    "오류가 발생한다! 그 이유는 함수 안에서  문자와 0을 비교하는 코드 `value < 0` 을 수행할 수 없기 때문이다.\n",
    "따라서 사용자가 함수를 정의한 후 사용할 경우, 입력할 객체를 함수에서 정의한 인자의 형식과 구조에 맞게 선택해 주어야 한다.\n",
    "\n",
    "즉, 함수 `minus2plus` 의 인자 `x` 는 숫자로 주어져야 한다. "
   ]
  },
  {
   "cell_type": "code",
   "execution_count": 22,
   "metadata": {
    "colab": {
     "base_uri": "https://localhost:8080/",
     "height": 280
    },
    "id": "yrb08w_9XoYV",
    "outputId": "0b6b0a0a-79c3-45a9-cbbf-39901521d11d"
   },
   "outputs": [
    {
     "ename": "TypeError",
     "evalue": "ignored",
     "output_type": "error",
     "traceback": [
      "\u001b[0;31m---------------------------------------------------------------------------\u001b[0m",
      "\u001b[0;31mTypeError\u001b[0m                                 Traceback (most recent call last)",
      "\u001b[0;32m<ipython-input-22-6ce9a634737f>\u001b[0m in \u001b[0;36m<module>\u001b[0;34m()\u001b[0m\n\u001b[0;32m----> 1\u001b[0;31m \u001b[0mminus2plus\u001b[0m\u001b[0;34m(\u001b[0m\u001b[0;34m\"A\"\u001b[0m\u001b[0;34m)\u001b[0m\u001b[0;34m\u001b[0m\u001b[0;34m\u001b[0m\u001b[0m\n\u001b[0m",
      "\u001b[0;32m<ipython-input-18-1ca3f8401473>\u001b[0m in \u001b[0;36mminus2plus\u001b[0;34m(x)\u001b[0m\n\u001b[1;32m      1\u001b[0m \u001b[0;32mdef\u001b[0m \u001b[0mminus2plus\u001b[0m\u001b[0;34m(\u001b[0m\u001b[0mx\u001b[0m\u001b[0;34m)\u001b[0m \u001b[0;34m:\u001b[0m\u001b[0;34m\u001b[0m\u001b[0;34m\u001b[0m\u001b[0m\n\u001b[0;32m----> 2\u001b[0;31m   \u001b[0;32mif\u001b[0m \u001b[0mx\u001b[0m \u001b[0;34m<\u001b[0m \u001b[0;36m0\u001b[0m\u001b[0;34m:\u001b[0m\u001b[0;34m\u001b[0m\u001b[0;34m\u001b[0m\u001b[0m\n\u001b[0m\u001b[1;32m      3\u001b[0m     \u001b[0mres\u001b[0m \u001b[0;34m=\u001b[0m \u001b[0;34m-\u001b[0m\u001b[0mx\u001b[0m\u001b[0;34m\u001b[0m\u001b[0;34m\u001b[0m\u001b[0m\n\u001b[1;32m      4\u001b[0m   \u001b[0;32melse\u001b[0m \u001b[0;34m:\u001b[0m\u001b[0;34m\u001b[0m\u001b[0;34m\u001b[0m\u001b[0m\n\u001b[1;32m      5\u001b[0m     \u001b[0mres\u001b[0m \u001b[0;34m=\u001b[0m \u001b[0mx\u001b[0m\u001b[0;34m\u001b[0m\u001b[0;34m\u001b[0m\u001b[0m\n",
      "\u001b[0;31mTypeError\u001b[0m: '<' not supported between instances of 'str' and 'int'"
     ]
    }
   ],
   "source": [
    "minus2plus(\"A\")"
   ]
  },
  {
   "cell_type": "markdown",
   "metadata": {
    "id": "6zqH0BlwjhI2"
   },
   "source": [
    "이제 하나의 값이 아닌 여러 개의 값을 가진 리스트나 벡터를 인자로 하는 함수를 예를 들어 보자.\n",
    "\n",
    "앞에서 본 사례에서 본 문제를 함수로 해결해 보자.  숫자로 구성된 벡터나 리스트에서 양수들만의 합을 구하는 함수를 `sum_positive`  란 이름으로 정의해 보자. "
   ]
  },
  {
   "cell_type": "code",
   "execution_count": 23,
   "metadata": {
    "id": "rQf0LPrgK8GI"
   },
   "outputs": [],
   "source": [
    "def sum_positive(x) :\n",
    "  sum_plus = 0\n",
    "  for value in x :\n",
    "    if value > 0 :\n",
    "      sum_plus = sum_plus + value\n",
    "  return sum_plus"
   ]
  },
  {
   "cell_type": "markdown",
   "metadata": {
    "id": "71K94k1MON29"
   },
   "source": [
    "\n",
    "이제 벡터마다 양수들만의 합을 구하려면 긴 코드를 반복해서 쓰지 않고 함수 `sum_positive`를 사용하면 된다."
   ]
  },
  {
   "cell_type": "code",
   "execution_count": 24,
   "metadata": {
    "colab": {
     "base_uri": "https://localhost:8080/"
    },
    "id": "Var2d6HSOd_T",
    "outputId": "fa4dac43-8f85-43ba-cd34-6e7b91361607"
   },
   "outputs": [
    {
     "data": {
      "text/plain": [
       "45"
      ]
     },
     "execution_count": 24,
     "metadata": {},
     "output_type": "execute_result"
    }
   ],
   "source": [
    "sum_positive(my_numbers)\n"
   ]
  },
  {
   "cell_type": "code",
   "execution_count": 25,
   "metadata": {
    "colab": {
     "base_uri": "https://localhost:8080/"
    },
    "id": "fObni9pylyYj",
    "outputId": "70fdc82d-4a25-47bd-f0d1-8d524b5a7e8d"
   },
   "outputs": [
    {
     "data": {
      "text/plain": [
       "435"
      ]
     },
     "execution_count": 25,
     "metadata": {},
     "output_type": "execute_result"
    }
   ],
   "source": [
    "your_sum = sum_positive(your_numbers) # 함수의 결과를 새로운 변수에 저장\n",
    "your_sum"
   ]
  },
  {
   "cell_type": "markdown",
   "metadata": {
    "id": "XLjJ1mb6PGaM"
   },
   "source": [
    "이제 조금 더 복잡한 함수를 정의해 보자. 문자로 구성된 리스트(벡터)에 주어진 문자열이 포함된 원소가 몇 개가 있는지 세어주는 함수 `count_char`를 정의해 보자.  \n",
    "\n",
    "이 경우 문자 벡터와 찾고자 하는 문자열, 즉 2개의 인자를 가진 함수를 정의해야 한다. 아래 함수에서 두 개의 `in` 이 니타나는데 각각 기능이 다르다.\n",
    "\n",
    "- `for value in x`: 루프(loop)를 수행할 때 사용되는 반복 객체 앞에 나타나는 예약어 `in`\n",
    "- `if c in value` : 문자열 `c` 가 문자열`value` 안에 있는지 점검해주는 예약어 `in`"
   ]
  },
  {
   "cell_type": "code",
   "execution_count": 3,
   "metadata": {
    "id": "iUu-FPReOeKM"
   },
   "outputs": [],
   "source": [
    "def count_char(x, c) :\n",
    "  count = 0\n",
    "  for value in x :\n",
    "    if c in value :\n",
    "      count = count + 1\n",
    "  return count"
   ]
  },
  {
   "cell_type": "markdown",
   "metadata": {
    "id": "oTlxvtbTSN2l"
   },
   "source": [
    "이제 학생의 이름이 나열된 리스트에서  이름이 `용희`인 학생이 몇 명인지 알아보자. "
   ]
  },
  {
   "cell_type": "code",
   "execution_count": 27,
   "metadata": {
    "colab": {
     "base_uri": "https://localhost:8080/"
    },
    "id": "CTqBLrzXSgSZ",
    "outputId": "ff2f256b-3d3b-448e-f309-efbcba601398"
   },
   "outputs": [
    {
     "data": {
      "text/plain": [
       "2"
      ]
     },
     "execution_count": 27,
     "metadata": {},
     "output_type": "execute_result"
    }
   ],
   "source": [
    "student_names = ['김철수', '이용희', '손흥민', '방탄소년', '김용희', '박서준', '김지원']\n",
    "count_char(student_names, \"용희\")"
   ]
  },
  {
   "cell_type": "markdown",
   "metadata": {
    "id": "cRPPvC5tTdCi"
   },
   "source": [
    "또한 윷놀이를 하는 경우 4개의 윷이 던져진 결과에서 `등` 의 개수를 세어주는 작업을 수행해 보자."
   ]
  },
  {
   "cell_type": "code",
   "execution_count": 4,
   "metadata": {
    "colab": {
     "base_uri": "https://localhost:8080/",
     "height": 179
    },
    "id": "Ra2J75v2Rvja",
    "outputId": "05681325-68b2-4839-931a-6432e5765b1f"
   },
   "outputs": [
    {
     "data": {
      "text/plain": [
       "3"
      ]
     },
     "execution_count": 4,
     "metadata": {},
     "output_type": "execute_result"
    }
   ],
   "source": [
    "yoot_draw = ['등', '등', '배', '등']\n",
    "count_char(yoot_draw, \"등\")"
   ]
  },
  {
   "cell_type": "markdown",
   "metadata": {
    "id": "_bYnboX54QBH"
   },
   "source": [
    "## 함수와 메소드"
   ]
  },
  {
   "cell_type": "markdown",
   "metadata": {
    "id": "2LN3S6qsx4Lq"
   },
   "source": [
    "또한 우리는 데이터프레임에서 자료를 요약하는 몇 가지 함수를 이용해 보았다. 데이터프레임에서 함수를 메소드라고 불렀다. 데이터프레임에서 함수를 메소드(method, 방법)라고 부른 이유는 **함수가 데이터프레임에 적용되는 방법** 이 미리 정의되어 있어서 컴마로 연결하여 연쇄적으로 사용할 수 있기 때문이다.\n",
    "\n",
    "메소드는 주어진 객체(`object`)뒤에 컴마로 연결된 함수(`function`)를 뜻한다. \n",
    "\n",
    "```\n",
    "object.function(....)\n",
    "```\n",
    "\n",
    "예를 들어 함수 `append(x)`는 주어진 리스트의 마지막에 `x` 를 붙여주는 메소드이다. 따라서 `list.append(x)` 의 형태로 사용된다."
   ]
  },
  {
   "cell_type": "code",
   "execution_count": 29,
   "metadata": {
    "colab": {
     "base_uri": "https://localhost:8080/"
    },
    "id": "9pO8O2dn1Ort",
    "outputId": "60834f43-ee22-438f-d16e-3acfa99acae5"
   },
   "outputs": [
    {
     "data": {
      "text/plain": [
       "[1, 2, 3, 4, 5]"
      ]
     },
     "execution_count": 29,
     "metadata": {},
     "output_type": "execute_result"
    }
   ],
   "source": [
    "x = [1,2,3,4]\n",
    "x.append(5)\n",
    "x"
   ]
  },
  {
   "cell_type": "code",
   "execution_count": 30,
   "metadata": {
    "colab": {
     "base_uri": "https://localhost:8080/"
    },
    "id": "t_QJPT3siHe-",
    "outputId": "1074322a-2674-4d11-89a4-fda6d178f670"
   },
   "outputs": [
    {
     "data": {
      "text/plain": [
       "[1, 2, 3, 4, 5, 100]"
      ]
     },
     "execution_count": 30,
     "metadata": {},
     "output_type": "execute_result"
    }
   ],
   "source": [
    "x.append(100)\n",
    "x"
   ]
  },
  {
   "cell_type": "markdown",
   "metadata": {
    "id": "WAJV0Wu-dd9o"
   },
   "source": [
    "또한 데이터프레임에 적용되는 `sum()` 함수는 인자를 지정하지 않으면 디폴트로 열의 합을 구해주는 메소드이다. \n",
    "\n",
    "형식은 `dataframe.sum()` 이다."
   ]
  },
  {
   "cell_type": "code",
   "execution_count": 31,
   "metadata": {
    "colab": {
     "base_uri": "https://localhost:8080/",
     "height": 172
    },
    "id": "DUugXeeiddPP",
    "outputId": "72e85200-cdb0-4501-aa75-306c7338bb99"
   },
   "outputs": [
    {
     "data": {
      "text/html": [
       "<div>\n",
       "<style scoped>\n",
       "    .dataframe tbody tr th:only-of-type {\n",
       "        vertical-align: middle;\n",
       "    }\n",
       "\n",
       "    .dataframe tbody tr th {\n",
       "        vertical-align: top;\n",
       "    }\n",
       "\n",
       "    .dataframe thead th {\n",
       "        text-align: right;\n",
       "    }\n",
       "</style>\n",
       "<table border=\"1\" class=\"dataframe\">\n",
       "  <thead>\n",
       "    <tr style=\"text-align: right;\">\n",
       "      <th></th>\n",
       "      <th>x</th>\n",
       "      <th>y</th>\n",
       "    </tr>\n",
       "  </thead>\n",
       "  <tbody>\n",
       "    <tr>\n",
       "      <th>0</th>\n",
       "      <td>-10</td>\n",
       "      <td>1</td>\n",
       "    </tr>\n",
       "    <tr>\n",
       "      <th>1</th>\n",
       "      <td>2</td>\n",
       "      <td>2</td>\n",
       "    </tr>\n",
       "    <tr>\n",
       "      <th>2</th>\n",
       "      <td>5</td>\n",
       "      <td>-3</td>\n",
       "    </tr>\n",
       "    <tr>\n",
       "      <th>3</th>\n",
       "      <td>-4</td>\n",
       "      <td>2</td>\n",
       "    </tr>\n",
       "  </tbody>\n",
       "</table>\n",
       "</div>"
      ],
      "text/plain": [
       "    x  y\n",
       "0 -10  1\n",
       "1   2  2\n",
       "2   5 -3\n",
       "3  -4  2"
      ]
     },
     "execution_count": 31,
     "metadata": {},
     "output_type": "execute_result"
    }
   ],
   "source": [
    "df = pd.DataFrame({'x': [-10,2,5,-4], 'y': [1, 2, -3, 2]})\n",
    "df"
   ]
  },
  {
   "cell_type": "code",
   "execution_count": 32,
   "metadata": {
    "colab": {
     "base_uri": "https://localhost:8080/"
    },
    "id": "IpfQdlpi3FJa",
    "outputId": "2e8cf7b7-a597-4353-e59a-158d27622ca0"
   },
   "outputs": [
    {
     "data": {
      "text/plain": [
       "x   -7\n",
       "y    2\n",
       "dtype: int64"
      ]
     },
     "execution_count": 32,
     "metadata": {},
     "output_type": "execute_result"
    }
   ],
   "source": [
    "df.sum()"
   ]
  },
  {
   "cell_type": "markdown",
   "metadata": {
    "id": "KX8pZJ4jihvh"
   },
   "source": [
    "만약 인자 `axis=1`  로 주면 각 행의 합계를 구해준다."
   ]
  },
  {
   "cell_type": "code",
   "execution_count": 33,
   "metadata": {
    "colab": {
     "base_uri": "https://localhost:8080/"
    },
    "id": "KL4SgP8xixTI",
    "outputId": "96f23a1b-5325-40d6-ea02-2c779e001e8e"
   },
   "outputs": [
    {
     "data": {
      "text/plain": [
       "0   -9\n",
       "1    4\n",
       "2    2\n",
       "3   -2\n",
       "dtype: int64"
      ]
     },
     "execution_count": 33,
     "metadata": {},
     "output_type": "execute_result"
    }
   ],
   "source": [
    "df.sum(axis=1)"
   ]
  },
  {
   "cell_type": "markdown",
   "metadata": {
    "id": "YsaLjsVyZ9pt"
   },
   "source": [
    "## 데이터프레임과 함수\n",
    "\n",
    "우리는 데이터프레임에서 자료를 요약하는 몇 가지 함수(메소드)를 이용해 보았다. 이제 사용자가 정의한 함수를 데이터프레임에서 메소드처럼 적용하는 방법을 배워보자.\n",
    "\n"
   ]
  },
  {
   "cell_type": "markdown",
   "metadata": {
    "id": "d_a9W9BTrZHw"
   },
   "source": [
    "### 모든 셀에 적용\n",
    "\n",
    "데이터 프레임의 모든 값들 중 음수를 양수로 바꾸고 싶다면 위에서 정의된 함수 `minus2plus` 를 모든 셀에 적용해야 한다.\n",
    "\n",
    "사용자 정의 함수는 데이터 프레임에 메소드로 적용하려면 `applymap(function)` 메소드를 다음과 같이 적용한다. 말 그대로 주어진 함수 `function` 을 모든 셀에 적용(`applymap`) 하라는 의미이다.\n",
    "\n",
    "```\n",
    "dataframe.applymap(function)\n",
    "```\n"
   ]
  },
  {
   "cell_type": "code",
   "execution_count": 34,
   "metadata": {
    "colab": {
     "base_uri": "https://localhost:8080/",
     "height": 172
    },
    "id": "0WkiiY0woV3P",
    "outputId": "4904532f-0b84-4d90-c61b-76aadd55b183"
   },
   "outputs": [
    {
     "data": {
      "text/html": [
       "<div>\n",
       "<style scoped>\n",
       "    .dataframe tbody tr th:only-of-type {\n",
       "        vertical-align: middle;\n",
       "    }\n",
       "\n",
       "    .dataframe tbody tr th {\n",
       "        vertical-align: top;\n",
       "    }\n",
       "\n",
       "    .dataframe thead th {\n",
       "        text-align: right;\n",
       "    }\n",
       "</style>\n",
       "<table border=\"1\" class=\"dataframe\">\n",
       "  <thead>\n",
       "    <tr style=\"text-align: right;\">\n",
       "      <th></th>\n",
       "      <th>x</th>\n",
       "      <th>y</th>\n",
       "    </tr>\n",
       "  </thead>\n",
       "  <tbody>\n",
       "    <tr>\n",
       "      <th>0</th>\n",
       "      <td>10</td>\n",
       "      <td>1</td>\n",
       "    </tr>\n",
       "    <tr>\n",
       "      <th>1</th>\n",
       "      <td>2</td>\n",
       "      <td>2</td>\n",
       "    </tr>\n",
       "    <tr>\n",
       "      <th>2</th>\n",
       "      <td>5</td>\n",
       "      <td>3</td>\n",
       "    </tr>\n",
       "    <tr>\n",
       "      <th>3</th>\n",
       "      <td>4</td>\n",
       "      <td>2</td>\n",
       "    </tr>\n",
       "  </tbody>\n",
       "</table>\n",
       "</div>"
      ],
      "text/plain": [
       "    x  y\n",
       "0  10  1\n",
       "1   2  2\n",
       "2   5  3\n",
       "3   4  2"
      ]
     },
     "execution_count": 34,
     "metadata": {},
     "output_type": "execute_result"
    }
   ],
   "source": [
    "df.applymap(minus2plus)"
   ]
  },
  {
   "cell_type": "markdown",
   "metadata": {
    "id": "cvto6C63jEhl"
   },
   "source": [
    "### 열과 행의 요약\n",
    "\n",
    "데이터프레임의 각 열 또는 행에 우리가 만든 양수들만의 합을 구하는 함수 `sum_positive()`를 다른 메소드처럼 적용할 수 있을까? \n",
    "\n",
    "먼저 함수 `sum_positive()` 는 사용자 정의 함수이기 때문에 데이터 프레임에 미리 정의된 다른 메소드(예를 들어 `sum`)과는 적용하는 방법이 다르다. 사용자 정의 함수를 열과 행의 메소드로 적용하려면 `apply(function, axis=0)` 메소드를 다음과 같이 적용한다. 말 그대로 주어진 함수 `function` 를 각 열에 적용(`apply`) 하라는 의미이다.\n",
    "\n",
    "앞에서 모든 셀에 적용할 때 사용한 `applymap`과 다른 `apply` 를 사용하는 것에 주의하자."
   ]
  },
  {
   "cell_type": "code",
   "execution_count": 35,
   "metadata": {
    "colab": {
     "base_uri": "https://localhost:8080/"
    },
    "id": "nkpMIbtKeenY",
    "outputId": "dc549077-6484-457d-9711-f0254cf1020c"
   },
   "outputs": [
    {
     "data": {
      "text/plain": [
       "x    7\n",
       "y    5\n",
       "dtype: int64"
      ]
     },
     "execution_count": 35,
     "metadata": {},
     "output_type": "execute_result"
    }
   ],
   "source": [
    "df.apply(sum_positive, axis=0) # axis = 0 은 함수를 각 열에 대하여 적용"
   ]
  },
  {
   "cell_type": "markdown",
   "metadata": {
    "id": "sbhfsjlxhqXv"
   },
   "source": [
    "함수를 데이터프레임의 각 행에 대하여 적용 하는 경우 `apply(function, axis=1)` 메소드를 적용한다."
   ]
  },
  {
   "cell_type": "code",
   "execution_count": 36,
   "metadata": {
    "colab": {
     "base_uri": "https://localhost:8080/"
    },
    "id": "65Y_5NAfiNzj",
    "outputId": "14b03512-419f-4ecb-f376-c1dd290f3119"
   },
   "outputs": [
    {
     "data": {
      "text/plain": [
       "0    1\n",
       "1    4\n",
       "2    5\n",
       "3    2\n",
       "dtype: int64"
      ]
     },
     "execution_count": 36,
     "metadata": {},
     "output_type": "execute_result"
    }
   ],
   "source": [
    "df.apply(sum_positive, axis=1) # axis = 1 은 함수를 각 행에 대하여 적용"
   ]
  },
  {
   "cell_type": "markdown",
   "metadata": {
    "id": "xJBap3_0s9RH"
   },
   "source": [
    "### 2개 이상의 인자\n",
    "\n",
    "만약 함수의 인자가 2개 이상일 경우, 데이터프레임의 열 또는 행으로 지정되는 인자를 제외하고 함수의 서명에서 정의된 다른 인자들의 이름에 `=` 로 값을 다음과 같이 지정해 준다.\n",
    "\n",
    "```\n",
    "def function(x,y,z):\n",
    "  ....\n",
    "  ....\n",
    "  return ...\n",
    "\n",
    "dataframe.apply(function, x=2, z=\"a\", axis=1)\n",
    "```\n"
   ]
  },
  {
   "cell_type": "markdown",
   "metadata": {
    "id": "_iU7OJpkuz2Y"
   },
   "source": [
    "예를 들어 위에서 정의한 함수 `count_char(x,c)` 를 데이터프레임에 적용하는 방법은  다음과 같다.\n",
    "\n",
    "인자 `x` 는 데이터프레임의 행 또는 열이 되므로 따로 지정하지 않아도 된다. 찾고자 하는 문자열을 입력해주는 나머지 인자 `c` 는 함수 이름 뒤에 `c='용희'` 의 형태로 지정해 준다.\n",
    "\n"
   ]
  },
  {
   "cell_type": "code",
   "execution_count": 37,
   "metadata": {
    "colab": {
     "base_uri": "https://localhost:8080/",
     "height": 265
    },
    "id": "M1SEx-21yst6",
    "outputId": "702c45a1-f9e1-465c-eabb-a2bf1ceff6f5"
   },
   "outputs": [
    {
     "data": {
      "text/html": [
       "<div>\n",
       "<style scoped>\n",
       "    .dataframe tbody tr th:only-of-type {\n",
       "        vertical-align: middle;\n",
       "    }\n",
       "\n",
       "    .dataframe tbody tr th {\n",
       "        vertical-align: top;\n",
       "    }\n",
       "\n",
       "    .dataframe thead th {\n",
       "        text-align: right;\n",
       "    }\n",
       "</style>\n",
       "<table border=\"1\" class=\"dataframe\">\n",
       "  <thead>\n",
       "    <tr style=\"text-align: right;\">\n",
       "      <th></th>\n",
       "      <th>name</th>\n",
       "    </tr>\n",
       "  </thead>\n",
       "  <tbody>\n",
       "    <tr>\n",
       "      <th>0</th>\n",
       "      <td>김철수</td>\n",
       "    </tr>\n",
       "    <tr>\n",
       "      <th>1</th>\n",
       "      <td>이용희</td>\n",
       "    </tr>\n",
       "    <tr>\n",
       "      <th>2</th>\n",
       "      <td>손흥민</td>\n",
       "    </tr>\n",
       "    <tr>\n",
       "      <th>3</th>\n",
       "      <td>방탄소년</td>\n",
       "    </tr>\n",
       "    <tr>\n",
       "      <th>4</th>\n",
       "      <td>김용희</td>\n",
       "    </tr>\n",
       "    <tr>\n",
       "      <th>5</th>\n",
       "      <td>박서준</td>\n",
       "    </tr>\n",
       "    <tr>\n",
       "      <th>6</th>\n",
       "      <td>김지원</td>\n",
       "    </tr>\n",
       "  </tbody>\n",
       "</table>\n",
       "</div>"
      ],
      "text/plain": [
       "   name\n",
       "0   김철수\n",
       "1   이용희\n",
       "2   손흥민\n",
       "3  방탄소년\n",
       "4   김용희\n",
       "5   박서준\n",
       "6   김지원"
      ]
     },
     "execution_count": 37,
     "metadata": {},
     "output_type": "execute_result"
    }
   ],
   "source": [
    "df2 = pd.DataFrame({ 'name': student_names})\n",
    "df2"
   ]
  },
  {
   "cell_type": "code",
   "execution_count": 38,
   "metadata": {
    "colab": {
     "base_uri": "https://localhost:8080/"
    },
    "id": "0qwOaJTVtYnc",
    "outputId": "aa5f8b62-527d-4f44-ebf0-f94edadd2214"
   },
   "outputs": [
    {
     "data": {
      "text/plain": [
       "name    2\n",
       "dtype: int64"
      ]
     },
     "execution_count": 38,
     "metadata": {},
     "output_type": "execute_result"
    }
   ],
   "source": [
    "df2.apply(count_char, c=\"용희\", axis=0)"
   ]
  },
  {
   "cell_type": "code",
   "execution_count": 39,
   "metadata": {
    "colab": {
     "base_uri": "https://localhost:8080/"
    },
    "id": "-IMaGx8btsoY",
    "outputId": "5d79c79b-a8d0-4809-d6f2-8d5c79d73e1d"
   },
   "outputs": [
    {
     "data": {
      "text/plain": [
       "name    3\n",
       "dtype: int64"
      ]
     },
     "execution_count": 39,
     "metadata": {},
     "output_type": "execute_result"
    }
   ],
   "source": [
    "df2.apply(count_char, c=\"김\", axis=0)"
   ]
  },
  {
   "cell_type": "markdown",
   "metadata": {
    "id": "jkQ0wfdeNKK_"
   },
   "source": [
    "## 함수의 데이터 취급\n",
    "\n",
    "우리는 다양한 데이터(리스트, 데이처프레임....)를 변수에 지정하여 사용하는 법을 배웠다.\n",
    "\n",
    "```\n",
    "variable_name = data\n",
    "```\n",
    "\n",
    "정의된 함수도 데이터처럼 취급하여 다른 이름을 가진 함수로 지정할 수 있다. 즉 함수도 하나의 데이터처럼 취급할 수 있는 것이다.\n",
    "\n",
    "예를 들어 위에서 정의한 함수 `minus2plus` 를 다른 이름 `another_function` 으로 지정해 보자. 지정된 함수 `another_function` 은  이미 정의한 함수 `minus2plus`와 똑같은 기능을 가진다. "
   ]
  },
  {
   "cell_type": "code",
   "execution_count": 40,
   "metadata": {
    "id": "Wl5OcNogPVaJ"
   },
   "outputs": [],
   "source": [
    "another_function = minus2plus\n"
   ]
  },
  {
   "cell_type": "code",
   "execution_count": 41,
   "metadata": {
    "colab": {
     "base_uri": "https://localhost:8080/"
    },
    "id": "KElLReL-Pan1",
    "outputId": "674f9f7b-8d70-4d04-a746-448b0bed6496"
   },
   "outputs": [
    {
     "data": {
      "text/plain": [
       "20"
      ]
     },
     "execution_count": 41,
     "metadata": {},
     "output_type": "execute_result"
    }
   ],
   "source": [
    "another_function(-20)"
   ]
  },
  {
   "cell_type": "code",
   "execution_count": 42,
   "metadata": {
    "colab": {
     "base_uri": "https://localhost:8080/"
    },
    "id": "M8pb4UhXdhbg",
    "outputId": "c176a0b5-7a95-4d12-b059-101483ad6a1e"
   },
   "outputs": [
    {
     "data": {
      "text/plain": [
       "30"
      ]
     },
     "execution_count": 42,
     "metadata": {},
     "output_type": "execute_result"
    }
   ],
   "source": [
    "another_function(30)"
   ]
  },
  {
   "cell_type": "markdown",
   "metadata": {
    "id": "9NFqkcAsPlxf"
   },
   "source": [
    "함수를 데이터와 유사하게 취급할 수 있기 때문에 다른 함수의 인자로서 사용될 수 있다. \n",
    "\n",
    "예를 회사에서 보너스를 주는 규칙을 함수로 만들었다고 하자. 연봉이 3000만원 이하면 연봉의 20%, 3000만원 초과면 15%를 보너스로 준다. "
   ]
  },
  {
   "cell_type": "code",
   "execution_count": 43,
   "metadata": {
    "id": "3FmzeIjyRtEg"
   },
   "outputs": [],
   "source": [
    "def bonus_amount(salary):\n",
    "  if salary <= 3000 :\n",
    "    bonus = salary * 0.2\n",
    "  else : \n",
    "    bonus = salary * 0.15\n",
    "\n",
    "  return bonus"
   ]
  },
  {
   "cell_type": "code",
   "execution_count": 44,
   "metadata": {
    "colab": {
     "base_uri": "https://localhost:8080/"
    },
    "id": "BY2pAQPWSytu",
    "outputId": "630c77e2-f109-43ce-99f9-4f14d3ebde14"
   },
   "outputs": [
    {
     "data": {
      "text/plain": [
       "400.0"
      ]
     },
     "execution_count": 44,
     "metadata": {},
     "output_type": "execute_result"
    }
   ],
   "source": [
    "bonus_amount(2000)"
   ]
  },
  {
   "cell_type": "code",
   "execution_count": 45,
   "metadata": {
    "colab": {
     "base_uri": "https://localhost:8080/"
    },
    "id": "G9BzVgv4ZhT7",
    "outputId": "f27e2811-db1f-41ac-db03-032f1bdfe4f4"
   },
   "outputs": [
    {
     "data": {
      "text/plain": [
       "600.0"
      ]
     },
     "execution_count": 45,
     "metadata": {},
     "output_type": "execute_result"
    }
   ],
   "source": [
    "bonus_amount(4000)"
   ]
  },
  {
   "cell_type": "markdown",
   "metadata": {
    "id": "J8Qv-fDdUvo2"
   },
   "source": [
    "이제 직원 1명을 고용해서 드는 총비용이 연봉(`salary`), 보험료(`insurance`), 야근 수당(`night`), 보너스를 합친 액수라고 하자. 이러한 총비용을 계산하는 함수 `total_expense` 를 다음과 같이 정의하자.  함수 `total_expense` 의 마지막 인자는 보너스를 계산하는 함수 이름이다."
   ]
  },
  {
   "cell_type": "code",
   "execution_count": 46,
   "metadata": {
    "id": "PiOidZtIVNdc"
   },
   "outputs": [],
   "source": [
    "def total_expense(salary, insurance, night, bonus_function) :\n",
    "  expense  = salary + insurance + night + bonus_function(salary)\n",
    "  return expense"
   ]
  },
  {
   "cell_type": "code",
   "execution_count": 47,
   "metadata": {
    "colab": {
     "base_uri": "https://localhost:8080/"
    },
    "id": "d7ZahwS8b_d-",
    "outputId": "023eab96-2fe9-41fe-d5ba-e214bd3bbe3d"
   },
   "outputs": [
    {
     "data": {
      "text/plain": [
       "4900.0"
      ]
     },
     "execution_count": 47,
     "metadata": {},
     "output_type": "execute_result"
    }
   ],
   "source": [
    "total_expense(4000, 200, 100, bonus_amount)"
   ]
  },
  {
   "cell_type": "markdown",
   "metadata": {
    "id": "-uWT1NThW7dT"
   },
   "source": [
    "만약 보너스 지급에 대한 규칙이 바뀌면 보너스를 계산하는 함수 `bonus_amount` 만 바꾸면 된다. \n",
    "\n",
    "예를 들어 이번 해는 경영 성과가 너무 좋아서 모든 직원에게 1000만원 특별 보너스를 지급하려고 한다. 새로운 함수 `bonus_amount_special` 를 만들고 총비융을 계산하는 함수에 인자로 보내주면 된다."
   ]
  },
  {
   "cell_type": "code",
   "execution_count": 48,
   "metadata": {
    "id": "R6YR5vgscNun"
   },
   "outputs": [],
   "source": [
    "def bonus_amount_special(salary):\n",
    "  if salary <= 3000 :\n",
    "    bonus = salary * 0.2\n",
    "  else : \n",
    "    bonus = salary * 0.15\n",
    "  \n",
    "  bonus = bonus + 1000\n",
    "\n",
    "  return bonus"
   ]
  },
  {
   "cell_type": "code",
   "execution_count": 49,
   "metadata": {
    "colab": {
     "base_uri": "https://localhost:8080/"
    },
    "id": "5FlT7xRxcZTw",
    "outputId": "91b396c7-9379-4804-9d3d-889ffccab9b1"
   },
   "outputs": [
    {
     "data": {
      "text/plain": [
       "5900.0"
      ]
     },
     "execution_count": 49,
     "metadata": {},
     "output_type": "execute_result"
    }
   ],
   "source": [
    "total_expense(4000, 200, 100, bonus_amount_special)"
   ]
  },
  {
   "cell_type": "markdown",
   "metadata": {
    "id": "md0KXbCc_8td"
   },
   "source": [
    "## 요약\n",
    "\n",
    "사용자 함수는 다음과 같이 정의한다.\n",
    "\n",
    "```\n",
    "def function_name(x, y, z, ...):\n",
    "  ...\n",
    "  ...\n",
    "  ...\n",
    "\n",
    "  return ...\n",
    "```\n",
    "\n",
    "위의 함수를 정의하는 코드의 구성 요소를 설명해 보자.\n",
    "\n",
    "- `def` : 함수가 정의되는 문장임을 알리는 예약어 (define의 준말)\n",
    "- `function_name` : 사용자가 결정하는 함수의 이름\n",
    "- `(x, y, x...) : ` : 함수 안에서 사용할 인자의 이름을 정하고 마지막 괄호 뒤에는 꼭 `:`으로 끝나야 한다.\n",
    "- `.....` : 함수의 작업을 수행하는 코드들 (꼭 들여쓰기를 맞추어야 한다)\n",
    "- `return ...` : 함수의 마지막 결과로서 `...`를 출력한다. 출력하는 값의 개수는 2개 이상도 가능하며 컴마로 구분한다. `retrun` 은 예약어이다.\n",
    "\n",
    "함수를 정의할 때 함수의 이름과 인자를 정의하는 부분 `function_name(x, y, z, ...)` 을 함수의 서명(signature) 라고 부른다. 또한 함수의 서명 뒤에 나오는 일련의 코드들을 함수의 몸통(body)이라고 부른다. \n",
    "\n",
    "사용자 함수를 데이터프레임에 적용하는 세 가지 방법을 요약하면 다음과 같다.\n",
    "\n",
    "- 데이터프레임의 모든 셀에 함수를 적용: \n",
    "  ```\n",
    "  dataframe.applymap(function)\n",
    "  ```\n",
    "\n",
    "-  데이터프레임의 각 열에 요약 함수를 적용: \n",
    "   ```\n",
    "   dataframe.apply(function, axis=0)\n",
    "   ```\n",
    "\n",
    "- 데이터프레임의 각 행에 요약 함수를 적용: \n",
    "  ```\n",
    "  dataframe.apply(function, axis=1)\n",
    "  ```"
   ]
  },
  {
   "cell_type": "markdown",
   "metadata": {
    "id": "EHsqVLInwrxO"
   },
   "source": [
    "## 예제: 윷놀이의 확률\n",
    "\n",
    "앞 절에서 확률의 기초에 대하여 알아볼 때 윷놀이의 확률에 대하여 언급하였다.\n",
    "\n",
    "윷 하나를 던질 때 '등' 과 '배' 가 나올 확률이 다를 것이라고 모두 예상을 하지만 확률이 정확하게 얼마인지 논리적으로 추론하기는 쉽지 않다.\n",
    "\n",
    "![윷을 던질 때 두 가지 경우](../../images/yoot.jpg)\n"
   ]
  },
  {
   "cell_type": "markdown",
   "metadata": {
    "id": "B72ZE517x3WV"
   },
   "source": [
    "만약 '배'가 나올 확률이 0.6 이고 '등' 이 나올 확률이 0.4 이라면 4개의 윷을 던지는 경우 도, 개, 걸, 윷, 모에 대한 확률은 얼마일까?\n",
    "\n",
    "백도(빽도)와 낙은 가능한 결과에서 일단 제외하자.\n",
    "\n",
    "먼저 앞에서 배운 확률의 계산 규칙을 이용하여 직접 계산해 보자. 4개의 윷을 던지는 경우 4개의 윷은 서로 독립적으로 결과가 나타나가 떄문에 표본공간은 다음과 같다.  "
   ]
  },
  {
   "cell_type": "code",
   "execution_count": 50,
   "metadata": {
    "id": "CAQiJ6orwrDX"
   },
   "outputs": [],
   "source": [
    "yoot = [\"등\", '배']"
   ]
  },
  {
   "cell_type": "code",
   "execution_count": 51,
   "metadata": {
    "colab": {
     "base_uri": "https://localhost:8080/"
    },
    "id": "QEL1sKZgwgf0",
    "outputId": "3beff942-79ec-4759-cd2b-ea65dc4ce013"
   },
   "outputs": [
    {
     "data": {
      "text/plain": [
       "[('등', '등', '등', '등'),\n",
       " ('등', '등', '등', '배'),\n",
       " ('등', '등', '배', '등'),\n",
       " ('등', '등', '배', '배'),\n",
       " ('등', '배', '등', '등'),\n",
       " ('등', '배', '등', '배'),\n",
       " ('등', '배', '배', '등'),\n",
       " ('등', '배', '배', '배'),\n",
       " ('배', '등', '등', '등'),\n",
       " ('배', '등', '등', '배'),\n",
       " ('배', '등', '배', '등'),\n",
       " ('배', '등', '배', '배'),\n",
       " ('배', '배', '등', '등'),\n",
       " ('배', '배', '등', '배'),\n",
       " ('배', '배', '배', '등'),\n",
       " ('배', '배', '배', '배')]"
      ]
     },
     "execution_count": 51,
     "metadata": {},
     "output_type": "execute_result"
    }
   ],
   "source": [
    "sample_space = list(product(yoot, repeat= 4))\n",
    "sample_space"
   ]
  },
  {
   "cell_type": "markdown",
   "metadata": {
    "id": "OEPkmr1Lyrm5"
   },
   "source": [
    "4개의 윷을 던질 경우 결과는 '도', '개', '걸', '윷', '모' 이다. 각 결과의 확률은 다음과 같이 배반 사건과 독립 시행의 확률 계산 규칙에 따라서 계산할 수 있다.\n",
    "\n",
    "예를 들어 표본공간에서 '개'가 나오는 경우의 수는 ${{4}\\choose{2}} = 6$ 이고 각 경우의 확률은 $(0.6)\\times (0.6)\\times (0.4)\\times (0.4)$이므로 아래와 같이 계산된다.\n",
    "\n",
    "1. '도'가 나올 확률: 배가 1 번 나온 사건의 확률: $ (4) \\times (0.6)\\times (0.4)\\times (0.4)\\times (0.4) = 0.1536$\n",
    "\n",
    "2. '개'가 나올 확률: 배가 2 번 나온 사건의 확률: $ (6)\\times (0.6)\\times (0.6)\\times (0.4)\\times (0.4) = 0.3456$\n",
    "\n",
    "3. '걸'이 나올 확률: 배가 3 번 나온 사건의 확률: $ (4)\\times (0.6)\\times (0.6)\\times (0.6)\\times (0.4) = 0.3456$\n",
    "\n",
    "4. '윷'가 나올 확률: 배가 4 번 나온 사건의 확률: $ (1)\\times (0.6)\\times (0.6)\\times (0.6)\\times (0.6) =0.1296$\n",
    "\n",
    "5. '모'가 나올 확률: 등이 4 번 나온 사건의 확률: $ (1)\\times (0.4)\\times (0.4)\\times (0.4)\\times (0.4) =0.0256 $\n",
    "\n",
    "이런 계산은 '등'이 나올 확률과 '배'가 나올 확률이 다르게 주어진다면 다시 손으로 계산하기 너무 번거롭다. \n",
    "\n",
    "일반적으로 '배'가 나올 확률이 $p$ 이고 '등'이 나올 확률이 $1-p$, 라고 주어졌을 때 4개의 윷을 던질 경우 결과에 대한 확률을 다음과 같이 함수 `yoot_probability(p)`를 만들어서 구해보자."
   ]
  },
  {
   "cell_type": "code",
   "execution_count": 52,
   "metadata": {
    "id": "TrgL-7afypDr"
   },
   "outputs": [],
   "source": [
    "def yoot_probability(p):\n",
    "\n",
    "  q = 1-p\n",
    "  prob = np.repeat(0.0,5)\n",
    "\n",
    "  prob[0] = 4*p*q*q*q\n",
    "  prob[1] = 6*p*p*q*q\n",
    "  prob[2] = 4*p*p*p*q\n",
    "  prob[3] = p*p*p*p \n",
    "  prob[4] = q*q*q*q\n",
    "\n",
    "  df = pd.DataFrame({'outcome':[ '도', '개', '걸', '윷', '모' ], 'p':prob})\n",
    "\n",
    "  return df"
   ]
  },
  {
   "cell_type": "code",
   "execution_count": 53,
   "metadata": {
    "colab": {
     "base_uri": "https://localhost:8080/",
     "height": 203
    },
    "id": "anaIoVTQ4QJx",
    "outputId": "80168cd3-924a-4577-e24a-02627ec63c83"
   },
   "outputs": [
    {
     "data": {
      "text/html": [
       "<div>\n",
       "<style scoped>\n",
       "    .dataframe tbody tr th:only-of-type {\n",
       "        vertical-align: middle;\n",
       "    }\n",
       "\n",
       "    .dataframe tbody tr th {\n",
       "        vertical-align: top;\n",
       "    }\n",
       "\n",
       "    .dataframe thead th {\n",
       "        text-align: right;\n",
       "    }\n",
       "</style>\n",
       "<table border=\"1\" class=\"dataframe\">\n",
       "  <thead>\n",
       "    <tr style=\"text-align: right;\">\n",
       "      <th></th>\n",
       "      <th>outcome</th>\n",
       "      <th>p</th>\n",
       "    </tr>\n",
       "  </thead>\n",
       "  <tbody>\n",
       "    <tr>\n",
       "      <th>0</th>\n",
       "      <td>도</td>\n",
       "      <td>0.1536</td>\n",
       "    </tr>\n",
       "    <tr>\n",
       "      <th>1</th>\n",
       "      <td>개</td>\n",
       "      <td>0.3456</td>\n",
       "    </tr>\n",
       "    <tr>\n",
       "      <th>2</th>\n",
       "      <td>걸</td>\n",
       "      <td>0.3456</td>\n",
       "    </tr>\n",
       "    <tr>\n",
       "      <th>3</th>\n",
       "      <td>윷</td>\n",
       "      <td>0.1296</td>\n",
       "    </tr>\n",
       "    <tr>\n",
       "      <th>4</th>\n",
       "      <td>모</td>\n",
       "      <td>0.0256</td>\n",
       "    </tr>\n",
       "  </tbody>\n",
       "</table>\n",
       "</div>"
      ],
      "text/plain": [
       "  outcome       p\n",
       "0       도  0.1536\n",
       "1       개  0.3456\n",
       "2       걸  0.3456\n",
       "3       윷  0.1296\n",
       "4       모  0.0256"
      ]
     },
     "execution_count": 53,
     "metadata": {},
     "output_type": "execute_result"
    }
   ],
   "source": [
    "yoot_probability(0.6)"
   ]
  },
  {
   "cell_type": "markdown",
   "metadata": {
    "id": "5pHHEoG35vEF"
   },
   "source": [
    "'배'가 나올 확률이 만약 0.55 라고 한다면 윷놀이의 확률은 아래과 같다.\n",
    "\n",
    " '배'가  나올 확률이 0.6 인 경우는 '개'와 '걸' 이 나올 확률이 같았는데 0.55'로 작아지면 '개'의 확률이 '걸'의 확률보다 커지는 것을 알 수 있다.\n",
    "\n",
    "이렇게 함수를 이용하면 반복되는 복잡한 계산을 편리하고 효율적으로 수행할 수 있다."
   ]
  },
  {
   "cell_type": "code",
   "execution_count": 54,
   "metadata": {
    "colab": {
     "base_uri": "https://localhost:8080/",
     "height": 203
    },
    "id": "VR8rkWN7l2KF",
    "outputId": "6c9ea7a7-077d-4bf3-b22b-1ba435575d25"
   },
   "outputs": [
    {
     "data": {
      "text/html": [
       "<div>\n",
       "<style scoped>\n",
       "    .dataframe tbody tr th:only-of-type {\n",
       "        vertical-align: middle;\n",
       "    }\n",
       "\n",
       "    .dataframe tbody tr th {\n",
       "        vertical-align: top;\n",
       "    }\n",
       "\n",
       "    .dataframe thead th {\n",
       "        text-align: right;\n",
       "    }\n",
       "</style>\n",
       "<table border=\"1\" class=\"dataframe\">\n",
       "  <thead>\n",
       "    <tr style=\"text-align: right;\">\n",
       "      <th></th>\n",
       "      <th>outcome</th>\n",
       "      <th>p</th>\n",
       "    </tr>\n",
       "  </thead>\n",
       "  <tbody>\n",
       "    <tr>\n",
       "      <th>0</th>\n",
       "      <td>도</td>\n",
       "      <td>0.200475</td>\n",
       "    </tr>\n",
       "    <tr>\n",
       "      <th>1</th>\n",
       "      <td>개</td>\n",
       "      <td>0.367538</td>\n",
       "    </tr>\n",
       "    <tr>\n",
       "      <th>2</th>\n",
       "      <td>걸</td>\n",
       "      <td>0.299475</td>\n",
       "    </tr>\n",
       "    <tr>\n",
       "      <th>3</th>\n",
       "      <td>윷</td>\n",
       "      <td>0.091506</td>\n",
       "    </tr>\n",
       "    <tr>\n",
       "      <th>4</th>\n",
       "      <td>모</td>\n",
       "      <td>0.041006</td>\n",
       "    </tr>\n",
       "  </tbody>\n",
       "</table>\n",
       "</div>"
      ],
      "text/plain": [
       "  outcome         p\n",
       "0       도  0.200475\n",
       "1       개  0.367538\n",
       "2       걸  0.299475\n",
       "3       윷  0.091506\n",
       "4       모  0.041006"
      ]
     },
     "execution_count": 54,
     "metadata": {},
     "output_type": "execute_result"
    }
   ],
   "source": [
    "yoot_probability(0.55)"
   ]
  },
  {
   "cell_type": "markdown",
   "metadata": {
    "id": "tHiex_EDApRI"
   },
   "source": [
    "\n",
    "위에서 살펴본 윷놀이 게임에서 윷의 개수를 바꾸거나 규칙을 변경하면 확률을 계산하는 공식을 새로 만들고 그에 따라서 함수를 다시 만들어야 한다.\n",
    "\n",
    "이제 윷놀이의 규칙을 정하는 함수를 만들고 이 함수를 다른 함수의 인자로 사용하는 함수를 생각해 보자.\n",
    "\n",
    "아래는 4개의 윷을 던졌을 경우 '배'의 숫자에 따라서 '도', '개', '걸', '윷', '모' 를 출력해주는 함수 `yoot_rule_normal` 이다.\n",
    "\n",
    "함수의 서명(signiture) 바로 아래 나오는 큰 따옴표 3개로 묶인 문장들은 함수의 사용법에 대한 설명(documentation, manual,docstring)을 제공해 준다.\n",
    "\n",
    "사용자가 정의한 함수의 설명은 물음표 뒤에 함수 이름을 쓰고 입력하면 볼 수 있다. 물론 이미 파이썬이나 다른 라이브러리에서 정의된 함수의 설명도 같은 방법으로 볼 수 있다\n",
    "\n",
    "```\n",
    "?function_name\n",
    "```"
   ]
  },
  {
   "cell_type": "code",
   "execution_count": 55,
   "metadata": {
    "id": "_klYR0QzJKky"
   },
   "outputs": [],
   "source": [
    "def yoot_rule_normal(x):\n",
    "  \"\"\" 윷놀이의 규칙을 정하는 함수\n",
    "  윷을 던진 결과(예를 들어 ['배','배','등','등]) x 를 입력 받아서\n",
    "  '배' 의 숫자에 따른 규칙에 따라 결과를 출력해주는 함수\n",
    "  \"\"\"\n",
    "  count = 0 \n",
    "    \n",
    "  for out in x :\n",
    "    if out == \"배\" :\n",
    "      count = count + 1\n",
    "  \n",
    "  if count == 1:\n",
    "    out = \"도\"\n",
    "  elif count == 2:\n",
    "     out = \"개\"\n",
    "  elif count == 3:\n",
    "     out = \"걸\"\n",
    "  elif count == 4:\n",
    "     out = \"윷\"\n",
    "  else :\n",
    "     out = \"모\"\n",
    "  return out"
   ]
  },
  {
   "cell_type": "code",
   "execution_count": 56,
   "metadata": {
    "id": "nh_88HasKD16"
   },
   "outputs": [],
   "source": [
    "?yoot_rule_normal"
   ]
  },
  {
   "cell_type": "code",
   "execution_count": 57,
   "metadata": {
    "colab": {
     "base_uri": "https://localhost:8080/",
     "height": 35
    },
    "id": "C0ai6WLHKJNg",
    "outputId": "d25eed8f-fbff-4c11-c7f4-6642731f3c94"
   },
   "outputs": [
    {
     "data": {
      "application/vnd.google.colaboratory.intrinsic+json": {
       "type": "string"
      },
      "text/plain": [
       "'걸'"
      ]
     },
     "execution_count": 57,
     "metadata": {},
     "output_type": "execute_result"
    }
   ],
   "source": [
    "yoot_rule_normal(['배','배','등','배'])"
   ]
  },
  {
   "cell_type": "code",
   "execution_count": 58,
   "metadata": {
    "colab": {
     "base_uri": "https://localhost:8080/",
     "height": 35
    },
    "id": "wqOi62IYKU-H",
    "outputId": "0fc1b953-fa94-4ac8-ddea-893a87b75b0f"
   },
   "outputs": [
    {
     "data": {
      "application/vnd.google.colaboratory.intrinsic+json": {
       "type": "string"
      },
      "text/plain": [
       "'도'"
      ]
     },
     "execution_count": 58,
     "metadata": {},
     "output_type": "execute_result"
    }
   ],
   "source": [
    "yoot_rule_normal(['등','등','등','배'])"
   ]
  },
  {
   "cell_type": "markdown",
   "metadata": {
    "id": "CffIheNtKetH"
   },
   "source": [
    "다음으로 함수 `yoot_prob(x,p)`는 2개 이상의 윷을 던져을 경우 나온 '배'와 '등'의 조합 `x`을 첫 번째 인자로 받는다. 예를 들어 4 개의 윷을 던지는 경우 `x` 의 값이 `['배','배','등','등]` 가 될 수 있으며 2개의 윷을 던지는 경우 `['배','등']` 가 될 수 있다. \n",
    "\n",
    "또한 하나의 윷을 던졌을 때 '배'가 나올 확률 `p`을 두 번째 인자로 받아서 확률을 계산해 주는 함수이다. "
   ]
  },
  {
   "cell_type": "code",
   "execution_count": 59,
   "metadata": {
    "id": "0tYFknOVLRuN"
   },
   "outputs": [],
   "source": [
    "def yoot_prob(x, p):\n",
    "  \"\"\"윷놀이의 확률을 계산하는 함수\n",
    "  x: 윷을 던진 결과(예를 들어 ['배','배','등','등])\n",
    "  p: '배'가 나올 확률\n",
    "  \"\"\"\n",
    "  ans = 1.0\n",
    "  for out in x :\n",
    "    if out == \"배\" :\n",
    "      ans = ans*p\n",
    "    else :\n",
    "       ans = ans*(1-p)\n",
    "  return ans"
   ]
  },
  {
   "cell_type": "code",
   "execution_count": 60,
   "metadata": {
    "colab": {
     "base_uri": "https://localhost:8080/"
    },
    "id": "1OMxR53WLWMN",
    "outputId": "044c53a3-bf36-44c5-d7b7-27fecfce1b20"
   },
   "outputs": [
    {
     "data": {
      "text/plain": [
       "0.08639999999999999"
      ]
     },
     "execution_count": 60,
     "metadata": {},
     "output_type": "execute_result"
    }
   ],
   "source": [
    "yoot_prob(['배','배','등','배'], 0.6)"
   ]
  },
  {
   "cell_type": "code",
   "execution_count": 61,
   "metadata": {
    "colab": {
     "base_uri": "https://localhost:8080/"
    },
    "id": "aij3CjjdLclz",
    "outputId": "c4a909c5-2629-4b36-a1de-ecc08ee2ca57"
   },
   "outputs": [
    {
     "data": {
      "text/plain": [
       "0.136125"
      ]
     },
     "execution_count": 61,
     "metadata": {},
     "output_type": "execute_result"
    }
   ],
   "source": [
    "yoot_prob(['배','등','배'], 0.55)"
   ]
  },
  {
   "cell_type": "code",
   "execution_count": 62,
   "metadata": {
    "colab": {
     "base_uri": "https://localhost:8080/"
    },
    "id": "Q3igY4aWLh4t",
    "outputId": "4404cc9c-db8f-4f39-88ea-7d61cfc0a07c"
   },
   "outputs": [
    {
     "data": {
      "text/plain": [
       "0.25"
      ]
     },
     "execution_count": 62,
     "metadata": {},
     "output_type": "execute_result"
    }
   ],
   "source": [
    "yoot_prob(['배','등'], 0.5)"
   ]
  },
  {
   "cell_type": "markdown",
   "metadata": {
    "id": "yWmpqdxrJOQN"
   },
   "source": [
    "마지막으로 주어진 규칙을 따르는 윷놀이의 확률을 구해주는 함수 `yoot_summary` 는 다음과 같은 4개의 인자를 가진다.\n",
    "\n",
    "  - `yoot`: 한 개 윷의 결과(예 ['배', '등'])\n",
    "  - `num_of_yoot`: 윷의 개수\n",
    "  - `p_of_yoot`: 한 개 윷을 던질 때 배가 나올 확률\n",
    "  - `rule_function`: 윷놀이 규칙을 정하는 함수\n",
    "\n",
    "규칙이 달라지면 윷의 개수 `num_of_yoot` 과 윷놀이 규칙을 정하는 함수 `rule_function` 를 바꾸어 주면 된다. **함수는 다른 함수를 인자로 받을 수 있다.**\n",
    "\n",
    "또한 한 개 윷을 던질 때 배가 나올 확률도 바꾸어 계산할 수 있다.\n",
    "\n"
   ]
  },
  {
   "cell_type": "code",
   "execution_count": 78,
   "metadata": {
    "id": "xX9rEtzu6bjS"
   },
   "outputs": [],
   "source": [
    "# 윷놀이 확률 계산 \n",
    "def yoot_summary(yoot, num_of_yoot, p_of_yoot, rule_function):\n",
    "  \"\"\"윷놀이의 규칙에 따른 확률을 계산하는 함수\n",
    "  yoot: 한 개 윷의 결과(예 ['배', '등'])\n",
    "  num_of_yoot: 윷의 개수\n",
    "  p_of_yoot: 한 개 윷을 던질 때 배가 나올 확률\n",
    "  rule_function: 윷놀이 규칙을 정하는 함수\n",
    "  \"\"\"\n",
    "  outcomes =  [] # 빈 리스트 생성\n",
    "  prob = []\n",
    "  results =[]\n",
    "\n",
    "  for out in product(yoot, repeat= num_of_yoot) :\n",
    "    outcomes.append(out) \n",
    "    prob.append(yoot_prob(out, p_of_yoot))\n",
    "    results.append(rule_function(out))\n",
    "    \n",
    "  yoot_res = pd.DataFrame({'outcome': outcomes, 'result': results, 'p':prob})\n",
    "  final = yoot_res.groupby(by=\"result\").sum().reset_index().sort_values(by='p')\n",
    "\n",
    "  return final\n"
   ]
  },
  {
   "cell_type": "markdown",
   "metadata": {
    "id": "OdHBAOJfMIlp"
   },
   "source": [
    "이제 우리가 평소에 윷놀이를 할 때 처럼 윷을 4번 던지며 '배' 가 나올 확률이 각각 0.6, 0.55 인 경우 윷놀이의 확률을 알아보자."
   ]
  },
  {
   "cell_type": "code",
   "execution_count": 73,
   "metadata": {
    "colab": {
     "base_uri": "https://localhost:8080/",
     "height": 203
    },
    "id": "2qmsM7uY-DMH",
    "outputId": "b797c760-f510-4e7e-f380-831f46da22c3"
   },
   "outputs": [
    {
     "data": {
      "text/html": [
       "<div>\n",
       "<style scoped>\n",
       "    .dataframe tbody tr th:only-of-type {\n",
       "        vertical-align: middle;\n",
       "    }\n",
       "\n",
       "    .dataframe tbody tr th {\n",
       "        vertical-align: top;\n",
       "    }\n",
       "\n",
       "    .dataframe thead th {\n",
       "        text-align: right;\n",
       "    }\n",
       "</style>\n",
       "<table border=\"1\" class=\"dataframe\">\n",
       "  <thead>\n",
       "    <tr style=\"text-align: right;\">\n",
       "      <th></th>\n",
       "      <th>result</th>\n",
       "      <th>p</th>\n",
       "    </tr>\n",
       "  </thead>\n",
       "  <tbody>\n",
       "    <tr>\n",
       "      <th>3</th>\n",
       "      <td>모</td>\n",
       "      <td>0.0256</td>\n",
       "    </tr>\n",
       "    <tr>\n",
       "      <th>4</th>\n",
       "      <td>윷</td>\n",
       "      <td>0.1296</td>\n",
       "    </tr>\n",
       "    <tr>\n",
       "      <th>2</th>\n",
       "      <td>도</td>\n",
       "      <td>0.1536</td>\n",
       "    </tr>\n",
       "    <tr>\n",
       "      <th>0</th>\n",
       "      <td>개</td>\n",
       "      <td>0.3456</td>\n",
       "    </tr>\n",
       "    <tr>\n",
       "      <th>1</th>\n",
       "      <td>걸</td>\n",
       "      <td>0.3456</td>\n",
       "    </tr>\n",
       "  </tbody>\n",
       "</table>\n",
       "</div>"
      ],
      "text/plain": [
       "  result       p\n",
       "3      모  0.0256\n",
       "4      윷  0.1296\n",
       "2      도  0.1536\n",
       "0      개  0.3456\n",
       "1      걸  0.3456"
      ]
     },
     "execution_count": 73,
     "metadata": {},
     "output_type": "execute_result"
    }
   ],
   "source": [
    "yoot_summary(['등','배'], 4, 0.6, yoot_rule_normal)"
   ]
  },
  {
   "cell_type": "code",
   "execution_count": 74,
   "metadata": {
    "colab": {
     "base_uri": "https://localhost:8080/",
     "height": 203
    },
    "id": "aRu2ce3j-KEd",
    "outputId": "8b0bbd93-34aa-4218-daaa-ec948c361f68"
   },
   "outputs": [
    {
     "data": {
      "text/html": [
       "<div>\n",
       "<style scoped>\n",
       "    .dataframe tbody tr th:only-of-type {\n",
       "        vertical-align: middle;\n",
       "    }\n",
       "\n",
       "    .dataframe tbody tr th {\n",
       "        vertical-align: top;\n",
       "    }\n",
       "\n",
       "    .dataframe thead th {\n",
       "        text-align: right;\n",
       "    }\n",
       "</style>\n",
       "<table border=\"1\" class=\"dataframe\">\n",
       "  <thead>\n",
       "    <tr style=\"text-align: right;\">\n",
       "      <th></th>\n",
       "      <th>result</th>\n",
       "      <th>p</th>\n",
       "    </tr>\n",
       "  </thead>\n",
       "  <tbody>\n",
       "    <tr>\n",
       "      <th>3</th>\n",
       "      <td>모</td>\n",
       "      <td>0.041006</td>\n",
       "    </tr>\n",
       "    <tr>\n",
       "      <th>4</th>\n",
       "      <td>윷</td>\n",
       "      <td>0.091506</td>\n",
       "    </tr>\n",
       "    <tr>\n",
       "      <th>2</th>\n",
       "      <td>도</td>\n",
       "      <td>0.200475</td>\n",
       "    </tr>\n",
       "    <tr>\n",
       "      <th>1</th>\n",
       "      <td>걸</td>\n",
       "      <td>0.299475</td>\n",
       "    </tr>\n",
       "    <tr>\n",
       "      <th>0</th>\n",
       "      <td>개</td>\n",
       "      <td>0.367538</td>\n",
       "    </tr>\n",
       "  </tbody>\n",
       "</table>\n",
       "</div>"
      ],
      "text/plain": [
       "  result         p\n",
       "3      모  0.041006\n",
       "4      윷  0.091506\n",
       "2      도  0.200475\n",
       "1      걸  0.299475\n",
       "0      개  0.367538"
      ]
     },
     "execution_count": 74,
     "metadata": {},
     "output_type": "execute_result"
    }
   ],
   "source": [
    "yoot_summary(['등','배'], 4, 0.55, yoot_rule_normal)"
   ]
  },
  {
   "cell_type": "markdown",
   "metadata": {
    "id": "0epqCDrJFFIo"
   },
   "source": [
    "만약 윷을 3개로 하고 '배'의 개수가 1,2,3,0 에 따라서 '도', '개, '윷', '모'로 결과에 대한 규칙을 새로 정하면 윷놀이 확률은 어떻게 될까?\n",
    "\n",
    "새로운 규칙을 함수 `yoot_rule_new(x)` 에 구현하고 윷놀이 확률을 계산해 보자."
   ]
  },
  {
   "cell_type": "code",
   "execution_count": 75,
   "metadata": {
    "id": "mkiYwb5R-8Om"
   },
   "outputs": [],
   "source": [
    "def yoot_rule_new(x):\n",
    "  \"\"\" 윷놀이의 규칙을 정하는 함수\n",
    "  윷을 던진 결과(예를 들어 ['배','배','등','등]) x 를 입력 받아서\n",
    "  '배' 의 숫자에 따른 규칙에 따라 결과를 출력해주는 함수\n",
    "  \"\"\"\n",
    "  count = 0 \n",
    "    \n",
    "  for out in x :\n",
    "    if out == \"배\" :\n",
    "      count = count + 1\n",
    "  \n",
    "  if count == 1:\n",
    "    out = \"도\"\n",
    "  elif count == 2:\n",
    "     out = \"개\"\n",
    "  elif count == 3:\n",
    "     out = \"윷\"\n",
    "  else :\n",
    "     out = \"모\"\n",
    "  return out"
   ]
  },
  {
   "cell_type": "code",
   "execution_count": 76,
   "metadata": {
    "colab": {
     "base_uri": "https://localhost:8080/",
     "height": 172
    },
    "id": "5OMr4723F3EU",
    "outputId": "addbf897-3108-4ce7-a6b4-ae0fcac8be69"
   },
   "outputs": [
    {
     "data": {
      "text/html": [
       "<div>\n",
       "<style scoped>\n",
       "    .dataframe tbody tr th:only-of-type {\n",
       "        vertical-align: middle;\n",
       "    }\n",
       "\n",
       "    .dataframe tbody tr th {\n",
       "        vertical-align: top;\n",
       "    }\n",
       "\n",
       "    .dataframe thead th {\n",
       "        text-align: right;\n",
       "    }\n",
       "</style>\n",
       "<table border=\"1\" class=\"dataframe\">\n",
       "  <thead>\n",
       "    <tr style=\"text-align: right;\">\n",
       "      <th></th>\n",
       "      <th>result</th>\n",
       "      <th>p</th>\n",
       "    </tr>\n",
       "  </thead>\n",
       "  <tbody>\n",
       "    <tr>\n",
       "      <th>2</th>\n",
       "      <td>모</td>\n",
       "      <td>0.064</td>\n",
       "    </tr>\n",
       "    <tr>\n",
       "      <th>3</th>\n",
       "      <td>윷</td>\n",
       "      <td>0.216</td>\n",
       "    </tr>\n",
       "    <tr>\n",
       "      <th>1</th>\n",
       "      <td>도</td>\n",
       "      <td>0.288</td>\n",
       "    </tr>\n",
       "    <tr>\n",
       "      <th>0</th>\n",
       "      <td>개</td>\n",
       "      <td>0.432</td>\n",
       "    </tr>\n",
       "  </tbody>\n",
       "</table>\n",
       "</div>"
      ],
      "text/plain": [
       "  result      p\n",
       "2      모  0.064\n",
       "3      윷  0.216\n",
       "1      도  0.288\n",
       "0      개  0.432"
      ]
     },
     "execution_count": 76,
     "metadata": {},
     "output_type": "execute_result"
    }
   ],
   "source": [
    "yoot_summary(['등','배'], 3, 0.6, yoot_rule_new)"
   ]
  },
  {
   "cell_type": "code",
   "execution_count": 77,
   "metadata": {
    "colab": {
     "base_uri": "https://localhost:8080/",
     "height": 172
    },
    "id": "shNdpPyTGEAN",
    "outputId": "02f89ee9-34dd-42da-c8ab-bcc9875d494d"
   },
   "outputs": [
    {
     "data": {
      "text/html": [
       "<div>\n",
       "<style scoped>\n",
       "    .dataframe tbody tr th:only-of-type {\n",
       "        vertical-align: middle;\n",
       "    }\n",
       "\n",
       "    .dataframe tbody tr th {\n",
       "        vertical-align: top;\n",
       "    }\n",
       "\n",
       "    .dataframe thead th {\n",
       "        text-align: right;\n",
       "    }\n",
       "</style>\n",
       "<table border=\"1\" class=\"dataframe\">\n",
       "  <thead>\n",
       "    <tr style=\"text-align: right;\">\n",
       "      <th></th>\n",
       "      <th>result</th>\n",
       "      <th>p</th>\n",
       "    </tr>\n",
       "  </thead>\n",
       "  <tbody>\n",
       "    <tr>\n",
       "      <th>2</th>\n",
       "      <td>모</td>\n",
       "      <td>0.091125</td>\n",
       "    </tr>\n",
       "    <tr>\n",
       "      <th>3</th>\n",
       "      <td>윷</td>\n",
       "      <td>0.166375</td>\n",
       "    </tr>\n",
       "    <tr>\n",
       "      <th>1</th>\n",
       "      <td>도</td>\n",
       "      <td>0.334125</td>\n",
       "    </tr>\n",
       "    <tr>\n",
       "      <th>0</th>\n",
       "      <td>개</td>\n",
       "      <td>0.408375</td>\n",
       "    </tr>\n",
       "  </tbody>\n",
       "</table>\n",
       "</div>"
      ],
      "text/plain": [
       "  result         p\n",
       "2      모  0.091125\n",
       "3      윷  0.166375\n",
       "1      도  0.334125\n",
       "0      개  0.408375"
      ]
     },
     "execution_count": 77,
     "metadata": {},
     "output_type": "execute_result"
    }
   ],
   "source": [
    "yoot_summary(['등','배'], 3, 0.55, yoot_rule_new)"
   ]
  },
  {
   "cell_type": "code",
   "execution_count": 69,
   "metadata": {
    "id": "KuoUOv5CIF1v"
   },
   "outputs": [],
   "source": []
  }
 ],
 "metadata": {
  "colab": {
   "collapsed_sections": [],
   "name": "data-function.ipynb",
   "provenance": [],
   "toc_visible": true
  },
  "interpreter": {
   "hash": "514b58a3f51cdaa2ba8422f3db504d536134c48c128bb5aa108143070eaa6b6e"
  },
  "kernelspec": {
   "display_name": "Python 3.8.10 64-bit (conda)",
   "name": "python3"
  },
  "language_info": {
   "codemirror_mode": {
    "name": "ipython",
    "version": 3
   },
   "file_extension": ".py",
   "mimetype": "text/x-python",
   "name": "python",
   "nbconvert_exporter": "python",
   "pygments_lexer": "ipython3",
   "version": "3.8.10"
  }
 },
 "nbformat": 4,
 "nbformat_minor": 1
}
