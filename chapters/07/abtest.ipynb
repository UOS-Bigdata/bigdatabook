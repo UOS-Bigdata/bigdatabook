{
  "nbformat": 4,
  "nbformat_minor": 0,
  "metadata": {
    "colab": {
      "name": "abtest.ipynb",
      "provenance": [],
      "collapsed_sections": []
    },
    "kernelspec": {
      "display_name": "Python 3",
      "name": "python3"
    },
    "language_info": {
      "codemirror_mode": {
        "name": "ipython",
        "version": 3
      },
      "file_extension": ".py",
      "mimetype": "text/x-python",
      "name": "python",
      "nbconvert_exporter": "python",
      "pygments_lexer": "ipython3",
      "version": "3.8.12"
    }
  },
  "cells": [
    {
      "cell_type": "markdown",
      "metadata": {
        "id": "XF0JZpx0t-LH"
      },
      "source": [
        "# 두 그룹의 비교\n",
        "\n",
        "\n",
        "앞에서 배운 유의성 검정은 실제로 두 개의 그룹을 비교하여 차이가 있는지 판단하는 경우에 주로 사용된다. \n",
        "\n",
        "최근에 온라인으로 서비스를 제공하는 많은 회사에서 고객에 대한 추천 일고리즘이나 웹페이지 디자인에 대한 개선을 위하여 **A/B 검정(A/B test)** 라고 불리는 방법이 바로 두 그룹을 비교하는 유의성 검정의 다른 이름이다. 온라인 실험(online experiment)에 대한 방법과 효과는 기사 [The Surprising Power of Online Experiments](https://hbr.org/2017/09/the-surprising-power-of-online-experiments)에서 나타나 있으니 참고하자.  A/B 검정은 T-test, Split tests, Randomized experiments, Control/Treatment tests, Online field experiments 와 같이 여러 가지의 이름으로 불린다.\n",
        "\n",
        "두 그룹을 비교하는 통계적 검정(statistical test)을 고려할 때 가장 중요한 개념은 비교의 공정성(fairness in comparision)이며 이는 임의화(randomization)로 구현할 수 있다.\n",
        "\n",
        "두 그룹을 비교하는 경우 귀무가설은 **두 그룹이 따르는 확률분포가 같다** 는 것이며 p-값은 귀무가설 하에서 두 그룹의 통계량의 차이가 나타날 확률로 유의성 검정을 실시할 수 있다. \n",
        "\n"
      ]
    },
    {
      "cell_type": "code",
      "metadata": {
        "id": "MHTDiIQn95_i"
      },
      "source": [
        "import pandas as pd\n",
        "import seaborn as sns     \n",
        "import numpy as np\n",
        "from scipy.stats import norm # 정규분포 \n",
        "\n",
        "import matplotlib.pyplot as plt # 그래프 그리기를 위한 라이브러리"
      ],
      "execution_count": 1,
      "outputs": []
    },
    {
      "cell_type": "markdown",
      "metadata": {
        "id": "5mnDJ7Wyw6TE"
      },
      "source": [
        "## 공정한 비교: 임의화 \n",
        "\n",
        "임상실험(clinical trial)은 의학에서 제안된 치료 방법의 효능과 안정성을 보여주기 위한 실험이다. 앞 절에서 언급했듯이 코로나 백신을 개발한 회사는 임상실험을 통해서 백신의 효능과 안정성을 충분히 보여주어야 국가의 허가를 받아 실제로 사용할 수 있다.\n",
        "\n",
        "자 이제 간단한 임상실험의 예를 들어 보자. \n",
        "\n",
        "> 어떤 제약회사가 새로 개발한 두통약의 효능을 증명하기 위하여 한국에서 1000명의 환자들을 대상으로 임상실험을 수행하여 70%의 치료효과를 보였다. 더 나아가 미국에서 경쟁사의 기존 두통약을 1000명에게 복용하게 하여 60% 치료효과를 얻었다. \n",
        "\n",
        "위에서 제시한 임상실험을 결과를 이용하여 국가기관에 새로운 두통약의 사용신청을 하면 불행하게도 심사의 대상으로 받아 주지 않는다.  왜 국가기관은 위의 임상실험의 결과를 심사의 대상으로 받아 주지 않는 것일까?\n",
        "\n",
        "실험이 공정하지 않기 때문이다. 한국에서 수행한 실험과 미국에서 수행한 실험은 두 약(신약과 기존의 약)의 효과뿐만 아니라 인종, 의료 환경 등 다른 요인의 차이에 의하여 두 그룹의 차이가 나타날 가능성이 있기 떄문이다. 즉 비교를 하는 두 그룹이 약의 효과가 아닌 다른 요인에 대하여 차이가 날 수 있다. 여기서 비교가 공정하지 않다는 것은 **실험에서 고려한 의도적인 차이**, 즉 신약과 기존약의 효과에 대한 차이뿐만 아니라 다른 요인(인종, 의료환경 등)의 차이도 실험의 결과에 영향을 미칠 수 있다는 것을 의미한다.    \n",
        "\n",
        "극단적인 예로 여자들로 구성된 그룹에게는 A약, 남자들로 구성된 다른 그룹에게는 B약을 복용하게 하고 두 그룹이 효과의 차이를 보인 경우는 차이의 원인이 성별때문 인지 약의 효과때문 인지 구별할 수 없는 경우를 들 수 있다.\n",
        "\n",
        "\n",
        "두 그룹을 비교하는 실험에서  두 그룹을 구별할 수 있는 의도한 효과를 우리는 **처리(treatment)** 라고 부른다. 앞에서 예를 든 실험에서  새로운 두통약과 기존의 약, A약과 B약 등을 우리는 처리라고 한다. \n",
        "\n",
        "\n",
        "하지만 두 그룹을 비교하는 경우, 실험에서 의도한 차이, 즉 처리를 제외하고 두 그룹이 모든 요인에 있어서 동일한 성질을 가지려면 복제인간을 사용하는 극단적 방법 밖에 없다. 하지만 이런 실험은 불가능하다.\n",
        "\n",
        "두 개의 처리를 비교하는 실험에서 공정성을 확보하는 가장 현실적이고 효과적인 수단은 **임의화(randomization)** 이다. 임의화란 두 개의 처리 중 하나를 선택하여 실험대상에 지정할 때 **처리의 배정을 임의로 결정(randomly assigned treatment)** 하는 것이다. 간단한 임의화의 예로 A약과 B약의 효과를 비교하는 경우 실험대상자에게 복용할 약의 종류를 동전을 던져서 결정하는 것이다.    \n",
        "\n",
        "이렇게 임의화를 하면 평균적으로 두 개의 처리를 받는 두 그룹이 처리 외의 요인이 평균적으로 유사하게 나타난다. \n",
        "\n",
        "\n",
        "### 임의화 실험 \n",
        "\n",
        "이제 A약과 B약을 임의화해서 지정하고 두 그룹의 차이가 어떻게 나타나는지 모의실험을 해보자.\n",
        "\n",
        "국민체력 자료에 있는 1874명의 사람들을 임상실험에 참가하는 환자들라고 생각하고 각 환자에게 동전을 던져서 앞면이 나오면  A약, 뒷면이 나오면 B약을 지정하자.   이렇게 임의화로 지정한 두 그룹에 대하여 나이, 몸무게, 시장에 대한 분포를 비교해 보자.\n",
        "\n",
        "아래 코드에서 `np.random.choice(x)`는 주어진 벡터 또는 리스트 `x` 의 원소들 중에서 한 개를 임의로 선택해 주는 함수이다. \n"
      ]
    },
    {
      "cell_type": "code",
      "metadata": {
        "id": "_HFJefM89wfR"
      },
      "source": [
        "url = \"https://ilovedata.github.io/teaching/bigdata2/data/physical_test_2018_data.csv\"\n",
        "physical_data = pd.read_csv(url, sep=',', encoding = 'utf-8-sig')"
      ],
      "execution_count": 2,
      "outputs": []
    },
    {
      "cell_type": "code",
      "metadata": {
        "id": "Mg8515S4-muF"
      },
      "source": [
        "twogroup = physical_data[[\"TEST_AGE\",\t\"TEST_SEX\",\t\"ITEM_F001\", \t\"ITEM_F002\"]].rename(columns = {\"ITEM_F001\":\"height\",\"ITEM_F002\":\"weight\"})"
      ],
      "execution_count": 3,
      "outputs": []
    },
    {
      "cell_type": "code",
      "metadata": {
        "colab": {
          "base_uri": "https://localhost:8080/",
          "height": 363
        },
        "id": "zDuCZsuvAbjh",
        "outputId": "ea316948-370c-461b-8a2b-a4f0d49e74d7"
      },
      "source": [
        "twogroup.head(10)"
      ],
      "execution_count": 4,
      "outputs": [
        {
          "output_type": "execute_result",
          "data": {
            "text/html": [
              "<div>\n",
              "<style scoped>\n",
              "    .dataframe tbody tr th:only-of-type {\n",
              "        vertical-align: middle;\n",
              "    }\n",
              "\n",
              "    .dataframe tbody tr th {\n",
              "        vertical-align: top;\n",
              "    }\n",
              "\n",
              "    .dataframe thead th {\n",
              "        text-align: right;\n",
              "    }\n",
              "</style>\n",
              "<table border=\"1\" class=\"dataframe\">\n",
              "  <thead>\n",
              "    <tr style=\"text-align: right;\">\n",
              "      <th></th>\n",
              "      <th>TEST_AGE</th>\n",
              "      <th>TEST_SEX</th>\n",
              "      <th>height</th>\n",
              "      <th>weight</th>\n",
              "    </tr>\n",
              "  </thead>\n",
              "  <tbody>\n",
              "    <tr>\n",
              "      <th>0</th>\n",
              "      <td>33</td>\n",
              "      <td>M</td>\n",
              "      <td>159.2</td>\n",
              "      <td>57.2</td>\n",
              "    </tr>\n",
              "    <tr>\n",
              "      <th>1</th>\n",
              "      <td>48</td>\n",
              "      <td>F</td>\n",
              "      <td>155.8</td>\n",
              "      <td>52.9</td>\n",
              "    </tr>\n",
              "    <tr>\n",
              "      <th>2</th>\n",
              "      <td>22</td>\n",
              "      <td>M</td>\n",
              "      <td>175.2</td>\n",
              "      <td>96.2</td>\n",
              "    </tr>\n",
              "    <tr>\n",
              "      <th>3</th>\n",
              "      <td>29</td>\n",
              "      <td>M</td>\n",
              "      <td>178.7</td>\n",
              "      <td>79.4</td>\n",
              "    </tr>\n",
              "    <tr>\n",
              "      <th>4</th>\n",
              "      <td>31</td>\n",
              "      <td>F</td>\n",
              "      <td>160.1</td>\n",
              "      <td>50.2</td>\n",
              "    </tr>\n",
              "    <tr>\n",
              "      <th>5</th>\n",
              "      <td>23</td>\n",
              "      <td>F</td>\n",
              "      <td>157.8</td>\n",
              "      <td>60.1</td>\n",
              "    </tr>\n",
              "    <tr>\n",
              "      <th>6</th>\n",
              "      <td>11</td>\n",
              "      <td>M</td>\n",
              "      <td>165.5</td>\n",
              "      <td>60.3</td>\n",
              "    </tr>\n",
              "    <tr>\n",
              "      <th>7</th>\n",
              "      <td>24</td>\n",
              "      <td>M</td>\n",
              "      <td>174.9</td>\n",
              "      <td>74.5</td>\n",
              "    </tr>\n",
              "    <tr>\n",
              "      <th>8</th>\n",
              "      <td>18</td>\n",
              "      <td>M</td>\n",
              "      <td>181.0</td>\n",
              "      <td>71.3</td>\n",
              "    </tr>\n",
              "    <tr>\n",
              "      <th>9</th>\n",
              "      <td>41</td>\n",
              "      <td>F</td>\n",
              "      <td>160.6</td>\n",
              "      <td>72.7</td>\n",
              "    </tr>\n",
              "  </tbody>\n",
              "</table>\n",
              "</div>"
            ],
            "text/plain": [
              "   TEST_AGE TEST_SEX  height  weight\n",
              "0        33        M   159.2    57.2\n",
              "1        48        F   155.8    52.9\n",
              "2        22        M   175.2    96.2\n",
              "3        29        M   178.7    79.4\n",
              "4        31        F   160.1    50.2\n",
              "5        23        F   157.8    60.1\n",
              "6        11        M   165.5    60.3\n",
              "7        24        M   174.9    74.5\n",
              "8        18        M   181.0    71.3\n",
              "9        41        F   160.6    72.7"
            ]
          },
          "metadata": {},
          "execution_count": 4
        }
      ]
    },
    {
      "cell_type": "code",
      "metadata": {
        "id": "By_NALrt-t4z"
      },
      "source": [
        "N, p = twogroup.shape\n",
        "treatment = np.repeat(\"A\", N)"
      ],
      "execution_count": 5,
      "outputs": []
    },
    {
      "cell_type": "code",
      "metadata": {
        "id": "ztdFWxnk-2PW"
      },
      "source": [
        "for i in np.arange(N):\n",
        "  treatment[i] = np.random.choice([\"A\", \"B\"])\n",
        "twogroup[\"treatment\"] = treatment"
      ],
      "execution_count": 6,
      "outputs": []
    },
    {
      "cell_type": "code",
      "metadata": {
        "colab": {
          "base_uri": "https://localhost:8080/",
          "height": 363
        },
        "id": "sD1EChW7BUfC",
        "outputId": "eaba06af-3738-4593-c12a-4b84fb4390f6"
      },
      "source": [
        "twogroup.head(10)"
      ],
      "execution_count": 7,
      "outputs": [
        {
          "output_type": "execute_result",
          "data": {
            "text/html": [
              "<div>\n",
              "<style scoped>\n",
              "    .dataframe tbody tr th:only-of-type {\n",
              "        vertical-align: middle;\n",
              "    }\n",
              "\n",
              "    .dataframe tbody tr th {\n",
              "        vertical-align: top;\n",
              "    }\n",
              "\n",
              "    .dataframe thead th {\n",
              "        text-align: right;\n",
              "    }\n",
              "</style>\n",
              "<table border=\"1\" class=\"dataframe\">\n",
              "  <thead>\n",
              "    <tr style=\"text-align: right;\">\n",
              "      <th></th>\n",
              "      <th>TEST_AGE</th>\n",
              "      <th>TEST_SEX</th>\n",
              "      <th>height</th>\n",
              "      <th>weight</th>\n",
              "      <th>treatment</th>\n",
              "    </tr>\n",
              "  </thead>\n",
              "  <tbody>\n",
              "    <tr>\n",
              "      <th>0</th>\n",
              "      <td>33</td>\n",
              "      <td>M</td>\n",
              "      <td>159.2</td>\n",
              "      <td>57.2</td>\n",
              "      <td>A</td>\n",
              "    </tr>\n",
              "    <tr>\n",
              "      <th>1</th>\n",
              "      <td>48</td>\n",
              "      <td>F</td>\n",
              "      <td>155.8</td>\n",
              "      <td>52.9</td>\n",
              "      <td>A</td>\n",
              "    </tr>\n",
              "    <tr>\n",
              "      <th>2</th>\n",
              "      <td>22</td>\n",
              "      <td>M</td>\n",
              "      <td>175.2</td>\n",
              "      <td>96.2</td>\n",
              "      <td>B</td>\n",
              "    </tr>\n",
              "    <tr>\n",
              "      <th>3</th>\n",
              "      <td>29</td>\n",
              "      <td>M</td>\n",
              "      <td>178.7</td>\n",
              "      <td>79.4</td>\n",
              "      <td>B</td>\n",
              "    </tr>\n",
              "    <tr>\n",
              "      <th>4</th>\n",
              "      <td>31</td>\n",
              "      <td>F</td>\n",
              "      <td>160.1</td>\n",
              "      <td>50.2</td>\n",
              "      <td>B</td>\n",
              "    </tr>\n",
              "    <tr>\n",
              "      <th>5</th>\n",
              "      <td>23</td>\n",
              "      <td>F</td>\n",
              "      <td>157.8</td>\n",
              "      <td>60.1</td>\n",
              "      <td>B</td>\n",
              "    </tr>\n",
              "    <tr>\n",
              "      <th>6</th>\n",
              "      <td>11</td>\n",
              "      <td>M</td>\n",
              "      <td>165.5</td>\n",
              "      <td>60.3</td>\n",
              "      <td>A</td>\n",
              "    </tr>\n",
              "    <tr>\n",
              "      <th>7</th>\n",
              "      <td>24</td>\n",
              "      <td>M</td>\n",
              "      <td>174.9</td>\n",
              "      <td>74.5</td>\n",
              "      <td>A</td>\n",
              "    </tr>\n",
              "    <tr>\n",
              "      <th>8</th>\n",
              "      <td>18</td>\n",
              "      <td>M</td>\n",
              "      <td>181.0</td>\n",
              "      <td>71.3</td>\n",
              "      <td>B</td>\n",
              "    </tr>\n",
              "    <tr>\n",
              "      <th>9</th>\n",
              "      <td>41</td>\n",
              "      <td>F</td>\n",
              "      <td>160.6</td>\n",
              "      <td>72.7</td>\n",
              "      <td>B</td>\n",
              "    </tr>\n",
              "  </tbody>\n",
              "</table>\n",
              "</div>"
            ],
            "text/plain": [
              "   TEST_AGE TEST_SEX  height  weight treatment\n",
              "0        33        M   159.2    57.2         A\n",
              "1        48        F   155.8    52.9         A\n",
              "2        22        M   175.2    96.2         B\n",
              "3        29        M   178.7    79.4         B\n",
              "4        31        F   160.1    50.2         B\n",
              "5        23        F   157.8    60.1         B\n",
              "6        11        M   165.5    60.3         A\n",
              "7        24        M   174.9    74.5         A\n",
              "8        18        M   181.0    71.3         B\n",
              "9        41        F   160.6    72.7         B"
            ]
          },
          "metadata": {},
          "execution_count": 7
        }
      ]
    },
    {
      "cell_type": "code",
      "metadata": {
        "colab": {
          "base_uri": "https://localhost:8080/",
          "height": 195
        },
        "id": "IaSn3SAl_3IZ",
        "outputId": "2c2aabf7-f6da-4a4d-badf-83bdd28fa5e4"
      },
      "source": [
        "twogroup.groupby(by=[\"treatment\"]).describe()"
      ],
      "execution_count": 8,
      "outputs": [
        {
          "output_type": "execute_result",
          "data": {
            "text/html": [
              "<div>\n",
              "<style scoped>\n",
              "    .dataframe tbody tr th:only-of-type {\n",
              "        vertical-align: middle;\n",
              "    }\n",
              "\n",
              "    .dataframe tbody tr th {\n",
              "        vertical-align: top;\n",
              "    }\n",
              "\n",
              "    .dataframe thead tr th {\n",
              "        text-align: left;\n",
              "    }\n",
              "\n",
              "    .dataframe thead tr:last-of-type th {\n",
              "        text-align: right;\n",
              "    }\n",
              "</style>\n",
              "<table border=\"1\" class=\"dataframe\">\n",
              "  <thead>\n",
              "    <tr>\n",
              "      <th></th>\n",
              "      <th colspan=\"8\" halign=\"left\">TEST_AGE</th>\n",
              "      <th colspan=\"8\" halign=\"left\">height</th>\n",
              "      <th colspan=\"8\" halign=\"left\">weight</th>\n",
              "    </tr>\n",
              "    <tr>\n",
              "      <th></th>\n",
              "      <th>count</th>\n",
              "      <th>mean</th>\n",
              "      <th>std</th>\n",
              "      <th>min</th>\n",
              "      <th>25%</th>\n",
              "      <th>50%</th>\n",
              "      <th>75%</th>\n",
              "      <th>max</th>\n",
              "      <th>count</th>\n",
              "      <th>mean</th>\n",
              "      <th>std</th>\n",
              "      <th>min</th>\n",
              "      <th>25%</th>\n",
              "      <th>50%</th>\n",
              "      <th>75%</th>\n",
              "      <th>max</th>\n",
              "      <th>count</th>\n",
              "      <th>mean</th>\n",
              "      <th>std</th>\n",
              "      <th>min</th>\n",
              "      <th>25%</th>\n",
              "      <th>50%</th>\n",
              "      <th>75%</th>\n",
              "      <th>max</th>\n",
              "    </tr>\n",
              "    <tr>\n",
              "      <th>treatment</th>\n",
              "      <th></th>\n",
              "      <th></th>\n",
              "      <th></th>\n",
              "      <th></th>\n",
              "      <th></th>\n",
              "      <th></th>\n",
              "      <th></th>\n",
              "      <th></th>\n",
              "      <th></th>\n",
              "      <th></th>\n",
              "      <th></th>\n",
              "      <th></th>\n",
              "      <th></th>\n",
              "      <th></th>\n",
              "      <th></th>\n",
              "      <th></th>\n",
              "      <th></th>\n",
              "      <th></th>\n",
              "      <th></th>\n",
              "      <th></th>\n",
              "      <th></th>\n",
              "      <th></th>\n",
              "      <th></th>\n",
              "      <th></th>\n",
              "    </tr>\n",
              "  </thead>\n",
              "  <tbody>\n",
              "    <tr>\n",
              "      <th>A</th>\n",
              "      <td>973.0</td>\n",
              "      <td>35.659815</td>\n",
              "      <td>17.317847</td>\n",
              "      <td>11.0</td>\n",
              "      <td>22.0</td>\n",
              "      <td>29.0</td>\n",
              "      <td>50.0</td>\n",
              "      <td>84.0</td>\n",
              "      <td>973.0</td>\n",
              "      <td>166.938232</td>\n",
              "      <td>9.085498</td>\n",
              "      <td>140.6</td>\n",
              "      <td>159.7</td>\n",
              "      <td>167.6</td>\n",
              "      <td>173.6</td>\n",
              "      <td>195.2</td>\n",
              "      <td>973.0</td>\n",
              "      <td>66.964440</td>\n",
              "      <td>13.187022</td>\n",
              "      <td>38.1</td>\n",
              "      <td>57.4</td>\n",
              "      <td>66.0</td>\n",
              "      <td>75.5</td>\n",
              "      <td>120.5</td>\n",
              "    </tr>\n",
              "    <tr>\n",
              "      <th>B</th>\n",
              "      <td>901.0</td>\n",
              "      <td>35.270810</td>\n",
              "      <td>16.994768</td>\n",
              "      <td>11.0</td>\n",
              "      <td>21.0</td>\n",
              "      <td>29.0</td>\n",
              "      <td>49.0</td>\n",
              "      <td>83.0</td>\n",
              "      <td>901.0</td>\n",
              "      <td>167.242508</td>\n",
              "      <td>8.990362</td>\n",
              "      <td>142.8</td>\n",
              "      <td>160.3</td>\n",
              "      <td>167.7</td>\n",
              "      <td>174.1</td>\n",
              "      <td>191.9</td>\n",
              "      <td>901.0</td>\n",
              "      <td>66.639623</td>\n",
              "      <td>13.129711</td>\n",
              "      <td>31.1</td>\n",
              "      <td>57.1</td>\n",
              "      <td>65.3</td>\n",
              "      <td>74.5</td>\n",
              "      <td>132.3</td>\n",
              "    </tr>\n",
              "  </tbody>\n",
              "</table>\n",
              "</div>"
            ],
            "text/plain": [
              "          TEST_AGE                              ... weight                   \n",
              "             count       mean        std   min  ...    25%   50%   75%    max\n",
              "treatment                                       ...                          \n",
              "A            973.0  35.659815  17.317847  11.0  ...   57.4  66.0  75.5  120.5\n",
              "B            901.0  35.270810  16.994768  11.0  ...   57.1  65.3  74.5  132.3\n",
              "\n",
              "[2 rows x 24 columns]"
            ]
          },
          "metadata": {},
          "execution_count": 8
        }
      ]
    },
    {
      "cell_type": "markdown",
      "metadata": {
        "id": "CxFUomSiCyTX"
      },
      "source": [
        "위에서 나타난 것처럼 A약이  지정된 그룹과 B약이 지정된 그룹에 대하여 나이, 키, 몸무게의 분포를 비교해 보면 대부분의 요약 통계량이 매우 유사하다. 이렇게 임의화를 이용하면 의도된 두 개의 처리(A약, B약)제외한 다른 요인들의 분포가 유사하게 나타난다. 이렇게 실험에서 처리를 임의화를 통하여 배정하면 두 그룹의 비교를 공정하게 할 수 있다. "
      ]
    },
    {
      "cell_type": "code",
      "metadata": {
        "colab": {
          "base_uri": "https://localhost:8080/",
          "height": 297
        },
        "id": "ka0Vu_zCD5Z7",
        "outputId": "fe3da4df-ca3f-42bf-a923-ecbffa8e26c9"
      },
      "source": [
        "sns.histplot(data=twogroup, x=\"TEST_AGE\", hue=\"treatment\")"
      ],
      "execution_count": 9,
      "outputs": [
        {
          "output_type": "execute_result",
          "data": {
            "text/plain": [
              "<matplotlib.axes._subplots.AxesSubplot at 0x7ffaaa930e90>"
            ]
          },
          "metadata": {},
          "execution_count": 9
        },
        {
          "output_type": "display_data",
          "data": {
            "image/png": "[encoded data removed]",
            "text/plain": [
              "<Figure size 432x288 with 1 Axes>"
            ]
          },
          "metadata": {
            "needs_background": "light"
          }
        }
      ]
    },
    {
      "cell_type": "code",
      "metadata": {
        "colab": {
          "base_uri": "https://localhost:8080/",
          "height": 296
        },
        "id": "r6eKAaLVEC2R",
        "outputId": "3d1553c8-e735-41b2-ffa1-08c001aabbe6"
      },
      "source": [
        "sns.histplot(data=twogroup, x=\"weight\", hue=\"treatment\")"
      ],
      "execution_count": 10,
      "outputs": [
        {
          "output_type": "execute_result",
          "data": {
            "text/plain": [
              "<matplotlib.axes._subplots.AxesSubplot at 0x7ffaa95364d0>"
            ]
          },
          "metadata": {},
          "execution_count": 10
        },
        {
          "output_type": "display_data",
          "data": {
            "image/png": "[encoded data removed]",
            "text/plain": [
              "<Figure size 432x288 with 1 Axes>"
            ]
          },
          "metadata": {
            "needs_background": "light"
          }
        }
      ]
    },
    {
      "cell_type": "markdown",
      "metadata": {
        "id": "a11ZkLTpGiC7"
      },
      "source": [
        "## 검정 통계량\n",
        "\n",
        "두 집단을 비교하는 실험에서 두 그룹에 대한 관측 데이터를 얻었다고 하면 두 잡단의 차이를 측정할 수 있는 측도를 정의해야 한다. 두 잡단의 차이를 측정할 수 있는 측도를 통계학에서는 **검정 통계량(test statistics)** 이라고 부르며 온라인 실험에서는 검정 통계량을 전역평가기준(Overall Evaluation Criterion; OEC)이라고 부른다. \n",
        "\n",
        "일반적으로 검정통계량 $T$ 은 두 그룹에서 얻은 평균의 차이(또는 차이의 절대값)로 정의되는 경우가 흔하다. 비율도 평균에 속하기 때문에 비율의 차이도 동일한 형식의 검정 통계량이다.\n",
        "\n",
        "$$ T = \\bar {x}_A - \\bar {x}_B $$\n",
        " \n",
        " 또는 \n",
        "\n",
        "$$ T =  {p}_A - {p}_B   $$\n",
        "\n",
        "검정통계량의 크기(절대값)가 커지면 두 그룹의 차이가 커진다는 의미이다.  \n",
        "\n",
        "\n"
      ]
    },
    {
      "cell_type": "markdown",
      "metadata": {
        "id": "dO19qOSA9IFp"
      },
      "source": [
        "## A/B 검정 \n",
        "\n",
        "A/B 검정은 통계학에서 두 그룹의 평균이 차이가 있는지를 비교하는 T-검정(T-test)의 다른 이름이며 \n",
        "Fisher의 유의성 검정 방법으로 수행할 수 있다.\n",
        "\n",
        "### 임상 실험 자료 \n",
        "\n",
        "암에 대한 치료약 실험에서 나온 자료를 예제로 이용하여 분석을 하고자 한다. 3개의 처리 집단을 각각 위약(`Placebo`), 기존의 약(`Old`), 새로 개발된 약(`New`)으로 부르고 각 집단에서 20명의 환자에 대하여 치료를 수행한 뒤에 암세포의 크기를 측정하였다고 하자. 암세포의 크기가 작을 수록 치료의 효과가 있다고 할 수 있다. \n",
        "\n",
        "위약(placebo)은 효과가 없는 가짜 약으로서 실제 약의 유효한 치료 효과를 비교할 수 있는 **기준이 되는 집단(baseline)** 을 구성할 때 사용된다. 약 효과의 유효성을 인정받으려면 위약 집단의 효과보다 유의하게 다르다는 결과를 보여주어야 한다. 만약 임상실험에서 기준이 되는 위약 그룹이 없다면 실제 약의 효과를 입증할 증거 능력이 떨어지게 된다. 그 이유는 위약은 약의 성분이 없는 가짜 약이지만 실제로 나타나는 효과가 있기 때문에 실제 약이 위약의 효과보다 \n",
        "유의하게 차이가 나지 않으면  약의 실질적인 유효한 효과가 없는 것으로 판단하기 떄문이다.    \n",
        "\n",
        "다음은 3개의 집단에 대하여 각각 20명의 환자를 배정하여 얻은 60개의 자료를 보여주는 표이다. 60개의 자료는 csv의 형식으로 외부화일 drug.csv에 저장되어 있다"
      ]
    },
    {
      "cell_type": "code",
      "metadata": {
        "id": "IrZE6GN3-tEd"
      },
      "source": [
        "filename = \"https://ilovedata.github.io/teaching/bigdata2/data/drug.csv\"\n",
        "three_drug_wide = pd.read_csv(filename, sep=',', encoding = 'utf-8-sig')"
      ],
      "execution_count": 11,
      "outputs": []
    },
    {
      "cell_type": "code",
      "metadata": {
        "id": "gRLaQXHVuFHR",
        "outputId": "44a783b9-7536-4386-f7b6-9350271a0cd8",
        "colab": {
          "base_uri": "https://localhost:8080/",
          "height": 676
        }
      },
      "source": [
        "three_drug_wide"
      ],
      "execution_count": 12,
      "outputs": [
        {
          "output_type": "execute_result",
          "data": {
            "text/html": [
              "<div>\n",
              "<style scoped>\n",
              "    .dataframe tbody tr th:only-of-type {\n",
              "        vertical-align: middle;\n",
              "    }\n",
              "\n",
              "    .dataframe tbody tr th {\n",
              "        vertical-align: top;\n",
              "    }\n",
              "\n",
              "    .dataframe thead th {\n",
              "        text-align: right;\n",
              "    }\n",
              "</style>\n",
              "<table border=\"1\" class=\"dataframe\">\n",
              "  <thead>\n",
              "    <tr style=\"text-align: right;\">\n",
              "      <th></th>\n",
              "      <th>Placebo</th>\n",
              "      <th>Old</th>\n",
              "      <th>New</th>\n",
              "    </tr>\n",
              "  </thead>\n",
              "  <tbody>\n",
              "    <tr>\n",
              "      <th>0</th>\n",
              "      <td>31</td>\n",
              "      <td>23</td>\n",
              "      <td>23</td>\n",
              "    </tr>\n",
              "    <tr>\n",
              "      <th>1</th>\n",
              "      <td>28</td>\n",
              "      <td>17</td>\n",
              "      <td>17</td>\n",
              "    </tr>\n",
              "    <tr>\n",
              "      <th>2</th>\n",
              "      <td>34</td>\n",
              "      <td>29</td>\n",
              "      <td>11</td>\n",
              "    </tr>\n",
              "    <tr>\n",
              "      <th>3</th>\n",
              "      <td>36</td>\n",
              "      <td>23</td>\n",
              "      <td>11</td>\n",
              "    </tr>\n",
              "    <tr>\n",
              "      <th>4</th>\n",
              "      <td>33</td>\n",
              "      <td>17</td>\n",
              "      <td>9</td>\n",
              "    </tr>\n",
              "    <tr>\n",
              "      <th>5</th>\n",
              "      <td>27</td>\n",
              "      <td>17</td>\n",
              "      <td>16</td>\n",
              "    </tr>\n",
              "    <tr>\n",
              "      <th>6</th>\n",
              "      <td>39</td>\n",
              "      <td>22</td>\n",
              "      <td>16</td>\n",
              "    </tr>\n",
              "    <tr>\n",
              "      <th>7</th>\n",
              "      <td>25</td>\n",
              "      <td>17</td>\n",
              "      <td>14</td>\n",
              "    </tr>\n",
              "    <tr>\n",
              "      <th>8</th>\n",
              "      <td>23</td>\n",
              "      <td>23</td>\n",
              "      <td>17</td>\n",
              "    </tr>\n",
              "    <tr>\n",
              "      <th>9</th>\n",
              "      <td>29</td>\n",
              "      <td>25</td>\n",
              "      <td>18</td>\n",
              "    </tr>\n",
              "    <tr>\n",
              "      <th>10</th>\n",
              "      <td>36</td>\n",
              "      <td>17</td>\n",
              "      <td>10</td>\n",
              "    </tr>\n",
              "    <tr>\n",
              "      <th>11</th>\n",
              "      <td>36</td>\n",
              "      <td>24</td>\n",
              "      <td>7</td>\n",
              "    </tr>\n",
              "    <tr>\n",
              "      <th>12</th>\n",
              "      <td>32</td>\n",
              "      <td>19</td>\n",
              "      <td>14</td>\n",
              "    </tr>\n",
              "    <tr>\n",
              "      <th>13</th>\n",
              "      <td>30</td>\n",
              "      <td>18</td>\n",
              "      <td>24</td>\n",
              "    </tr>\n",
              "    <tr>\n",
              "      <th>14</th>\n",
              "      <td>33</td>\n",
              "      <td>5</td>\n",
              "      <td>18</td>\n",
              "    </tr>\n",
              "    <tr>\n",
              "      <th>15</th>\n",
              "      <td>39</td>\n",
              "      <td>26</td>\n",
              "      <td>17</td>\n",
              "    </tr>\n",
              "    <tr>\n",
              "      <th>16</th>\n",
              "      <td>30</td>\n",
              "      <td>33</td>\n",
              "      <td>14</td>\n",
              "    </tr>\n",
              "    <tr>\n",
              "      <th>17</th>\n",
              "      <td>32</td>\n",
              "      <td>16</td>\n",
              "      <td>14</td>\n",
              "    </tr>\n",
              "    <tr>\n",
              "      <th>18</th>\n",
              "      <td>30</td>\n",
              "      <td>20</td>\n",
              "      <td>16</td>\n",
              "    </tr>\n",
              "    <tr>\n",
              "      <th>19</th>\n",
              "      <td>28</td>\n",
              "      <td>27</td>\n",
              "      <td>11</td>\n",
              "    </tr>\n",
              "  </tbody>\n",
              "</table>\n",
              "</div>"
            ],
            "text/plain": [
              "    Placebo  Old  New\n",
              "0        31   23   23\n",
              "1        28   17   17\n",
              "2        34   29   11\n",
              "3        36   23   11\n",
              "4        33   17    9\n",
              "5        27   17   16\n",
              "6        39   22   16\n",
              "7        25   17   14\n",
              "8        23   23   17\n",
              "9        29   25   18\n",
              "10       36   17   10\n",
              "11       36   24    7\n",
              "12       32   19   14\n",
              "13       30   18   24\n",
              "14       33    5   18\n",
              "15       39   26   17\n",
              "16       30   33   14\n",
              "17       32   16   14\n",
              "18       30   20   16\n",
              "19       28   27   11"
            ]
          },
          "metadata": {},
          "execution_count": 12
        }
      ]
    },
    {
      "cell_type": "markdown",
      "metadata": {
        "id": "RVqLSga_kmKv"
      },
      "source": [
        "세 처리 그룹에 대한 요약 통계량을 구해보자. 신약을 이용한 그룹의 암세포의 크기에 대한 평균이 가장 작고, 다음으로 기존의 약과 위약그룹의 순으로 나타난다.  \n"
      ]
    },
    {
      "cell_type": "code",
      "metadata": {
        "id": "mX3Cj_FjNV4E",
        "outputId": "ce7c516e-945d-4223-89cd-138edf843b18",
        "colab": {
          "base_uri": "https://localhost:8080/",
          "height": 300
        }
      },
      "source": [
        "three_drug_wide.describe()"
      ],
      "execution_count": 13,
      "outputs": [
        {
          "output_type": "execute_result",
          "data": {
            "text/html": [
              "<div>\n",
              "<style scoped>\n",
              "    .dataframe tbody tr th:only-of-type {\n",
              "        vertical-align: middle;\n",
              "    }\n",
              "\n",
              "    .dataframe tbody tr th {\n",
              "        vertical-align: top;\n",
              "    }\n",
              "\n",
              "    .dataframe thead th {\n",
              "        text-align: right;\n",
              "    }\n",
              "</style>\n",
              "<table border=\"1\" class=\"dataframe\">\n",
              "  <thead>\n",
              "    <tr style=\"text-align: right;\">\n",
              "      <th></th>\n",
              "      <th>Placebo</th>\n",
              "      <th>Old</th>\n",
              "      <th>New</th>\n",
              "    </tr>\n",
              "  </thead>\n",
              "  <tbody>\n",
              "    <tr>\n",
              "      <th>count</th>\n",
              "      <td>20.000000</td>\n",
              "      <td>20.000000</td>\n",
              "      <td>20.000000</td>\n",
              "    </tr>\n",
              "    <tr>\n",
              "      <th>mean</th>\n",
              "      <td>31.550000</td>\n",
              "      <td>20.900000</td>\n",
              "      <td>14.850000</td>\n",
              "    </tr>\n",
              "    <tr>\n",
              "      <th>std</th>\n",
              "      <td>4.334379</td>\n",
              "      <td>5.990343</td>\n",
              "      <td>4.319783</td>\n",
              "    </tr>\n",
              "    <tr>\n",
              "      <th>min</th>\n",
              "      <td>23.000000</td>\n",
              "      <td>5.000000</td>\n",
              "      <td>7.000000</td>\n",
              "    </tr>\n",
              "    <tr>\n",
              "      <th>25%</th>\n",
              "      <td>28.750000</td>\n",
              "      <td>17.000000</td>\n",
              "      <td>11.000000</td>\n",
              "    </tr>\n",
              "    <tr>\n",
              "      <th>50%</th>\n",
              "      <td>31.500000</td>\n",
              "      <td>21.000000</td>\n",
              "      <td>15.000000</td>\n",
              "    </tr>\n",
              "    <tr>\n",
              "      <th>75%</th>\n",
              "      <td>34.500000</td>\n",
              "      <td>24.250000</td>\n",
              "      <td>17.000000</td>\n",
              "    </tr>\n",
              "    <tr>\n",
              "      <th>max</th>\n",
              "      <td>39.000000</td>\n",
              "      <td>33.000000</td>\n",
              "      <td>24.000000</td>\n",
              "    </tr>\n",
              "  </tbody>\n",
              "</table>\n",
              "</div>"
            ],
            "text/plain": [
              "         Placebo        Old        New\n",
              "count  20.000000  20.000000  20.000000\n",
              "mean   31.550000  20.900000  14.850000\n",
              "std     4.334379   5.990343   4.319783\n",
              "min    23.000000   5.000000   7.000000\n",
              "25%    28.750000  17.000000  11.000000\n",
              "50%    31.500000  21.000000  15.000000\n",
              "75%    34.500000  24.250000  17.000000\n",
              "max    39.000000  33.000000  24.000000"
            ]
          },
          "metadata": {},
          "execution_count": 13
        }
      ]
    },
    {
      "cell_type": "markdown",
      "metadata": {
        "id": "HED--zgqkmKw"
      },
      "source": [
        "데이터프레임 `three_drug` 의 데이터 형식을 넓은 데이터 형식(wide data format)이라고 부른다. 넓은 데이터 형식의 자료는 한 개의 행에 두 개 이상의 개체(record, unit)가 나타나는 자료를 말한다. 데이터프레임 `three_drug` 의 한 행에는 3명의 환자에 대한 자료가 포함되어 있다.\n",
        "\n",
        "이러한 넓은 데이터 형식의 자료는 보기에는 좋을 수 있지만 데이터를 분석하는데 불편한 점이 많다. 따라서 한 행에 하나의 개체만 포함된 긴 데이터 형식(long data format)으로 바꾸어 주는 것이 필요하다.\n",
        "넓은 형식의 자료를 긴 형식의 자료로 바꾸는 메소드는 `melt(value_vars, value_name, var_name )` 로서 3개의 인자에 대한 설명은 다음과 같다. 자새한 설명은 라이브러리 `pandas` [매뉴얼](https://pandas.pydata.org/docs/getting_started/intro_tutorials/07_reshape_table_layout.html#wide-to-long-format)에서 찾을 수 있다.\n",
        "\n",
        "- `value_vars` : 넓은 자료의 형식을 가진 데이터프레임에서 데이터를 포함하고 있는 열이름들\n",
        "- `value_name` : 긴 형식을 가진  새로운 데이터프레임에서 데이터를 포함하는 열이름\n",
        "- `var_name` : 긴 형식을 가진  새로운 데이터프레임에서 `value_vars`의 열이름으로 이루어지는 새로운 열에 대한 이름"
      ]
    },
    {
      "cell_type": "code",
      "metadata": {
        "id": "tPJNxAcbkmKw",
        "outputId": "13543f22-42f6-4755-995c-4c9fcddb4cd0",
        "colab": {
          "base_uri": "https://localhost:8080/",
          "height": 1000
        }
      },
      "source": [
        "three_drug_long = three_drug_wide.melt(value_vars=[\"Placebo\", \"Old\", \"New\"],\n",
        "                             value_name=\"Value\",\n",
        "                             var_name=\"treatment\")\n",
        "three_drug_long"
      ],
      "execution_count": 14,
      "outputs": [
        {
          "output_type": "execute_result",
          "data": {
            "text/html": [
              "<div>\n",
              "<style scoped>\n",
              "    .dataframe tbody tr th:only-of-type {\n",
              "        vertical-align: middle;\n",
              "    }\n",
              "\n",
              "    .dataframe tbody tr th {\n",
              "        vertical-align: top;\n",
              "    }\n",
              "\n",
              "    .dataframe thead th {\n",
              "        text-align: right;\n",
              "    }\n",
              "</style>\n",
              "<table border=\"1\" class=\"dataframe\">\n",
              "  <thead>\n",
              "    <tr style=\"text-align: right;\">\n",
              "      <th></th>\n",
              "      <th>treatment</th>\n",
              "      <th>Value</th>\n",
              "    </tr>\n",
              "  </thead>\n",
              "  <tbody>\n",
              "    <tr>\n",
              "      <th>0</th>\n",
              "      <td>Placebo</td>\n",
              "      <td>31</td>\n",
              "    </tr>\n",
              "    <tr>\n",
              "      <th>1</th>\n",
              "      <td>Placebo</td>\n",
              "      <td>28</td>\n",
              "    </tr>\n",
              "    <tr>\n",
              "      <th>2</th>\n",
              "      <td>Placebo</td>\n",
              "      <td>34</td>\n",
              "    </tr>\n",
              "    <tr>\n",
              "      <th>3</th>\n",
              "      <td>Placebo</td>\n",
              "      <td>36</td>\n",
              "    </tr>\n",
              "    <tr>\n",
              "      <th>4</th>\n",
              "      <td>Placebo</td>\n",
              "      <td>33</td>\n",
              "    </tr>\n",
              "    <tr>\n",
              "      <th>5</th>\n",
              "      <td>Placebo</td>\n",
              "      <td>27</td>\n",
              "    </tr>\n",
              "    <tr>\n",
              "      <th>6</th>\n",
              "      <td>Placebo</td>\n",
              "      <td>39</td>\n",
              "    </tr>\n",
              "    <tr>\n",
              "      <th>7</th>\n",
              "      <td>Placebo</td>\n",
              "      <td>25</td>\n",
              "    </tr>\n",
              "    <tr>\n",
              "      <th>8</th>\n",
              "      <td>Placebo</td>\n",
              "      <td>23</td>\n",
              "    </tr>\n",
              "    <tr>\n",
              "      <th>9</th>\n",
              "      <td>Placebo</td>\n",
              "      <td>29</td>\n",
              "    </tr>\n",
              "    <tr>\n",
              "      <th>10</th>\n",
              "      <td>Placebo</td>\n",
              "      <td>36</td>\n",
              "    </tr>\n",
              "    <tr>\n",
              "      <th>11</th>\n",
              "      <td>Placebo</td>\n",
              "      <td>36</td>\n",
              "    </tr>\n",
              "    <tr>\n",
              "      <th>12</th>\n",
              "      <td>Placebo</td>\n",
              "      <td>32</td>\n",
              "    </tr>\n",
              "    <tr>\n",
              "      <th>13</th>\n",
              "      <td>Placebo</td>\n",
              "      <td>30</td>\n",
              "    </tr>\n",
              "    <tr>\n",
              "      <th>14</th>\n",
              "      <td>Placebo</td>\n",
              "      <td>33</td>\n",
              "    </tr>\n",
              "    <tr>\n",
              "      <th>15</th>\n",
              "      <td>Placebo</td>\n",
              "      <td>39</td>\n",
              "    </tr>\n",
              "    <tr>\n",
              "      <th>16</th>\n",
              "      <td>Placebo</td>\n",
              "      <td>30</td>\n",
              "    </tr>\n",
              "    <tr>\n",
              "      <th>17</th>\n",
              "      <td>Placebo</td>\n",
              "      <td>32</td>\n",
              "    </tr>\n",
              "    <tr>\n",
              "      <th>18</th>\n",
              "      <td>Placebo</td>\n",
              "      <td>30</td>\n",
              "    </tr>\n",
              "    <tr>\n",
              "      <th>19</th>\n",
              "      <td>Placebo</td>\n",
              "      <td>28</td>\n",
              "    </tr>\n",
              "    <tr>\n",
              "      <th>20</th>\n",
              "      <td>Old</td>\n",
              "      <td>23</td>\n",
              "    </tr>\n",
              "    <tr>\n",
              "      <th>21</th>\n",
              "      <td>Old</td>\n",
              "      <td>17</td>\n",
              "    </tr>\n",
              "    <tr>\n",
              "      <th>22</th>\n",
              "      <td>Old</td>\n",
              "      <td>29</td>\n",
              "    </tr>\n",
              "    <tr>\n",
              "      <th>23</th>\n",
              "      <td>Old</td>\n",
              "      <td>23</td>\n",
              "    </tr>\n",
              "    <tr>\n",
              "      <th>24</th>\n",
              "      <td>Old</td>\n",
              "      <td>17</td>\n",
              "    </tr>\n",
              "    <tr>\n",
              "      <th>25</th>\n",
              "      <td>Old</td>\n",
              "      <td>17</td>\n",
              "    </tr>\n",
              "    <tr>\n",
              "      <th>26</th>\n",
              "      <td>Old</td>\n",
              "      <td>22</td>\n",
              "    </tr>\n",
              "    <tr>\n",
              "      <th>27</th>\n",
              "      <td>Old</td>\n",
              "      <td>17</td>\n",
              "    </tr>\n",
              "    <tr>\n",
              "      <th>28</th>\n",
              "      <td>Old</td>\n",
              "      <td>23</td>\n",
              "    </tr>\n",
              "    <tr>\n",
              "      <th>29</th>\n",
              "      <td>Old</td>\n",
              "      <td>25</td>\n",
              "    </tr>\n",
              "    <tr>\n",
              "      <th>30</th>\n",
              "      <td>Old</td>\n",
              "      <td>17</td>\n",
              "    </tr>\n",
              "    <tr>\n",
              "      <th>31</th>\n",
              "      <td>Old</td>\n",
              "      <td>24</td>\n",
              "    </tr>\n",
              "    <tr>\n",
              "      <th>32</th>\n",
              "      <td>Old</td>\n",
              "      <td>19</td>\n",
              "    </tr>\n",
              "    <tr>\n",
              "      <th>33</th>\n",
              "      <td>Old</td>\n",
              "      <td>18</td>\n",
              "    </tr>\n",
              "    <tr>\n",
              "      <th>34</th>\n",
              "      <td>Old</td>\n",
              "      <td>5</td>\n",
              "    </tr>\n",
              "    <tr>\n",
              "      <th>35</th>\n",
              "      <td>Old</td>\n",
              "      <td>26</td>\n",
              "    </tr>\n",
              "    <tr>\n",
              "      <th>36</th>\n",
              "      <td>Old</td>\n",
              "      <td>33</td>\n",
              "    </tr>\n",
              "    <tr>\n",
              "      <th>37</th>\n",
              "      <td>Old</td>\n",
              "      <td>16</td>\n",
              "    </tr>\n",
              "    <tr>\n",
              "      <th>38</th>\n",
              "      <td>Old</td>\n",
              "      <td>20</td>\n",
              "    </tr>\n",
              "    <tr>\n",
              "      <th>39</th>\n",
              "      <td>Old</td>\n",
              "      <td>27</td>\n",
              "    </tr>\n",
              "    <tr>\n",
              "      <th>40</th>\n",
              "      <td>New</td>\n",
              "      <td>23</td>\n",
              "    </tr>\n",
              "    <tr>\n",
              "      <th>41</th>\n",
              "      <td>New</td>\n",
              "      <td>17</td>\n",
              "    </tr>\n",
              "    <tr>\n",
              "      <th>42</th>\n",
              "      <td>New</td>\n",
              "      <td>11</td>\n",
              "    </tr>\n",
              "    <tr>\n",
              "      <th>43</th>\n",
              "      <td>New</td>\n",
              "      <td>11</td>\n",
              "    </tr>\n",
              "    <tr>\n",
              "      <th>44</th>\n",
              "      <td>New</td>\n",
              "      <td>9</td>\n",
              "    </tr>\n",
              "    <tr>\n",
              "      <th>45</th>\n",
              "      <td>New</td>\n",
              "      <td>16</td>\n",
              "    </tr>\n",
              "    <tr>\n",
              "      <th>46</th>\n",
              "      <td>New</td>\n",
              "      <td>16</td>\n",
              "    </tr>\n",
              "    <tr>\n",
              "      <th>47</th>\n",
              "      <td>New</td>\n",
              "      <td>14</td>\n",
              "    </tr>\n",
              "    <tr>\n",
              "      <th>48</th>\n",
              "      <td>New</td>\n",
              "      <td>17</td>\n",
              "    </tr>\n",
              "    <tr>\n",
              "      <th>49</th>\n",
              "      <td>New</td>\n",
              "      <td>18</td>\n",
              "    </tr>\n",
              "    <tr>\n",
              "      <th>50</th>\n",
              "      <td>New</td>\n",
              "      <td>10</td>\n",
              "    </tr>\n",
              "    <tr>\n",
              "      <th>51</th>\n",
              "      <td>New</td>\n",
              "      <td>7</td>\n",
              "    </tr>\n",
              "    <tr>\n",
              "      <th>52</th>\n",
              "      <td>New</td>\n",
              "      <td>14</td>\n",
              "    </tr>\n",
              "    <tr>\n",
              "      <th>53</th>\n",
              "      <td>New</td>\n",
              "      <td>24</td>\n",
              "    </tr>\n",
              "    <tr>\n",
              "      <th>54</th>\n",
              "      <td>New</td>\n",
              "      <td>18</td>\n",
              "    </tr>\n",
              "    <tr>\n",
              "      <th>55</th>\n",
              "      <td>New</td>\n",
              "      <td>17</td>\n",
              "    </tr>\n",
              "    <tr>\n",
              "      <th>56</th>\n",
              "      <td>New</td>\n",
              "      <td>14</td>\n",
              "    </tr>\n",
              "    <tr>\n",
              "      <th>57</th>\n",
              "      <td>New</td>\n",
              "      <td>14</td>\n",
              "    </tr>\n",
              "    <tr>\n",
              "      <th>58</th>\n",
              "      <td>New</td>\n",
              "      <td>16</td>\n",
              "    </tr>\n",
              "    <tr>\n",
              "      <th>59</th>\n",
              "      <td>New</td>\n",
              "      <td>11</td>\n",
              "    </tr>\n",
              "  </tbody>\n",
              "</table>\n",
              "</div>"
            ],
            "text/plain": [
              "   treatment  Value\n",
              "0    Placebo     31\n",
              "1    Placebo     28\n",
              "2    Placebo     34\n",
              "3    Placebo     36\n",
              "4    Placebo     33\n",
              "5    Placebo     27\n",
              "6    Placebo     39\n",
              "7    Placebo     25\n",
              "8    Placebo     23\n",
              "9    Placebo     29\n",
              "10   Placebo     36\n",
              "11   Placebo     36\n",
              "12   Placebo     32\n",
              "13   Placebo     30\n",
              "14   Placebo     33\n",
              "15   Placebo     39\n",
              "16   Placebo     30\n",
              "17   Placebo     32\n",
              "18   Placebo     30\n",
              "19   Placebo     28\n",
              "20       Old     23\n",
              "21       Old     17\n",
              "22       Old     29\n",
              "23       Old     23\n",
              "24       Old     17\n",
              "25       Old     17\n",
              "26       Old     22\n",
              "27       Old     17\n",
              "28       Old     23\n",
              "29       Old     25\n",
              "30       Old     17\n",
              "31       Old     24\n",
              "32       Old     19\n",
              "33       Old     18\n",
              "34       Old      5\n",
              "35       Old     26\n",
              "36       Old     33\n",
              "37       Old     16\n",
              "38       Old     20\n",
              "39       Old     27\n",
              "40       New     23\n",
              "41       New     17\n",
              "42       New     11\n",
              "43       New     11\n",
              "44       New      9\n",
              "45       New     16\n",
              "46       New     16\n",
              "47       New     14\n",
              "48       New     17\n",
              "49       New     18\n",
              "50       New     10\n",
              "51       New      7\n",
              "52       New     14\n",
              "53       New     24\n",
              "54       New     18\n",
              "55       New     17\n",
              "56       New     14\n",
              "57       New     14\n",
              "58       New     16\n",
              "59       New     11"
            ]
          },
          "metadata": {},
          "execution_count": 14
        }
      ]
    },
    {
      "cell_type": "markdown",
      "metadata": {
        "id": "PRI00XYrkmKw"
      },
      "source": [
        "이제 위약 그룹과 신약 그룹의 평균이 같은 지 비교하기 위하여 두 그룹만 포함된 데이터프레임 `two_group` 을 만들자."
      ]
    },
    {
      "cell_type": "code",
      "metadata": {
        "id": "bH1UV1YukmKw"
      },
      "source": [
        "two_drug   = three_drug_long.loc[three_drug_long.treatment != \"Old\"].reset_index(drop=True)"
      ],
      "execution_count": 15,
      "outputs": []
    },
    {
      "cell_type": "code",
      "metadata": {
        "id": "GPkAT1iwkmKw",
        "outputId": "5dcd9136-0440-42d3-c297-ee590834ea71",
        "colab": {
          "base_uri": "https://localhost:8080/",
          "height": 1000
        }
      },
      "source": [
        "two_drug"
      ],
      "execution_count": 16,
      "outputs": [
        {
          "output_type": "execute_result",
          "data": {
            "text/html": [
              "<div>\n",
              "<style scoped>\n",
              "    .dataframe tbody tr th:only-of-type {\n",
              "        vertical-align: middle;\n",
              "    }\n",
              "\n",
              "    .dataframe tbody tr th {\n",
              "        vertical-align: top;\n",
              "    }\n",
              "\n",
              "    .dataframe thead th {\n",
              "        text-align: right;\n",
              "    }\n",
              "</style>\n",
              "<table border=\"1\" class=\"dataframe\">\n",
              "  <thead>\n",
              "    <tr style=\"text-align: right;\">\n",
              "      <th></th>\n",
              "      <th>treatment</th>\n",
              "      <th>Value</th>\n",
              "    </tr>\n",
              "  </thead>\n",
              "  <tbody>\n",
              "    <tr>\n",
              "      <th>0</th>\n",
              "      <td>Placebo</td>\n",
              "      <td>31</td>\n",
              "    </tr>\n",
              "    <tr>\n",
              "      <th>1</th>\n",
              "      <td>Placebo</td>\n",
              "      <td>28</td>\n",
              "    </tr>\n",
              "    <tr>\n",
              "      <th>2</th>\n",
              "      <td>Placebo</td>\n",
              "      <td>34</td>\n",
              "    </tr>\n",
              "    <tr>\n",
              "      <th>3</th>\n",
              "      <td>Placebo</td>\n",
              "      <td>36</td>\n",
              "    </tr>\n",
              "    <tr>\n",
              "      <th>4</th>\n",
              "      <td>Placebo</td>\n",
              "      <td>33</td>\n",
              "    </tr>\n",
              "    <tr>\n",
              "      <th>5</th>\n",
              "      <td>Placebo</td>\n",
              "      <td>27</td>\n",
              "    </tr>\n",
              "    <tr>\n",
              "      <th>6</th>\n",
              "      <td>Placebo</td>\n",
              "      <td>39</td>\n",
              "    </tr>\n",
              "    <tr>\n",
              "      <th>7</th>\n",
              "      <td>Placebo</td>\n",
              "      <td>25</td>\n",
              "    </tr>\n",
              "    <tr>\n",
              "      <th>8</th>\n",
              "      <td>Placebo</td>\n",
              "      <td>23</td>\n",
              "    </tr>\n",
              "    <tr>\n",
              "      <th>9</th>\n",
              "      <td>Placebo</td>\n",
              "      <td>29</td>\n",
              "    </tr>\n",
              "    <tr>\n",
              "      <th>10</th>\n",
              "      <td>Placebo</td>\n",
              "      <td>36</td>\n",
              "    </tr>\n",
              "    <tr>\n",
              "      <th>11</th>\n",
              "      <td>Placebo</td>\n",
              "      <td>36</td>\n",
              "    </tr>\n",
              "    <tr>\n",
              "      <th>12</th>\n",
              "      <td>Placebo</td>\n",
              "      <td>32</td>\n",
              "    </tr>\n",
              "    <tr>\n",
              "      <th>13</th>\n",
              "      <td>Placebo</td>\n",
              "      <td>30</td>\n",
              "    </tr>\n",
              "    <tr>\n",
              "      <th>14</th>\n",
              "      <td>Placebo</td>\n",
              "      <td>33</td>\n",
              "    </tr>\n",
              "    <tr>\n",
              "      <th>15</th>\n",
              "      <td>Placebo</td>\n",
              "      <td>39</td>\n",
              "    </tr>\n",
              "    <tr>\n",
              "      <th>16</th>\n",
              "      <td>Placebo</td>\n",
              "      <td>30</td>\n",
              "    </tr>\n",
              "    <tr>\n",
              "      <th>17</th>\n",
              "      <td>Placebo</td>\n",
              "      <td>32</td>\n",
              "    </tr>\n",
              "    <tr>\n",
              "      <th>18</th>\n",
              "      <td>Placebo</td>\n",
              "      <td>30</td>\n",
              "    </tr>\n",
              "    <tr>\n",
              "      <th>19</th>\n",
              "      <td>Placebo</td>\n",
              "      <td>28</td>\n",
              "    </tr>\n",
              "    <tr>\n",
              "      <th>20</th>\n",
              "      <td>New</td>\n",
              "      <td>23</td>\n",
              "    </tr>\n",
              "    <tr>\n",
              "      <th>21</th>\n",
              "      <td>New</td>\n",
              "      <td>17</td>\n",
              "    </tr>\n",
              "    <tr>\n",
              "      <th>22</th>\n",
              "      <td>New</td>\n",
              "      <td>11</td>\n",
              "    </tr>\n",
              "    <tr>\n",
              "      <th>23</th>\n",
              "      <td>New</td>\n",
              "      <td>11</td>\n",
              "    </tr>\n",
              "    <tr>\n",
              "      <th>24</th>\n",
              "      <td>New</td>\n",
              "      <td>9</td>\n",
              "    </tr>\n",
              "    <tr>\n",
              "      <th>25</th>\n",
              "      <td>New</td>\n",
              "      <td>16</td>\n",
              "    </tr>\n",
              "    <tr>\n",
              "      <th>26</th>\n",
              "      <td>New</td>\n",
              "      <td>16</td>\n",
              "    </tr>\n",
              "    <tr>\n",
              "      <th>27</th>\n",
              "      <td>New</td>\n",
              "      <td>14</td>\n",
              "    </tr>\n",
              "    <tr>\n",
              "      <th>28</th>\n",
              "      <td>New</td>\n",
              "      <td>17</td>\n",
              "    </tr>\n",
              "    <tr>\n",
              "      <th>29</th>\n",
              "      <td>New</td>\n",
              "      <td>18</td>\n",
              "    </tr>\n",
              "    <tr>\n",
              "      <th>30</th>\n",
              "      <td>New</td>\n",
              "      <td>10</td>\n",
              "    </tr>\n",
              "    <tr>\n",
              "      <th>31</th>\n",
              "      <td>New</td>\n",
              "      <td>7</td>\n",
              "    </tr>\n",
              "    <tr>\n",
              "      <th>32</th>\n",
              "      <td>New</td>\n",
              "      <td>14</td>\n",
              "    </tr>\n",
              "    <tr>\n",
              "      <th>33</th>\n",
              "      <td>New</td>\n",
              "      <td>24</td>\n",
              "    </tr>\n",
              "    <tr>\n",
              "      <th>34</th>\n",
              "      <td>New</td>\n",
              "      <td>18</td>\n",
              "    </tr>\n",
              "    <tr>\n",
              "      <th>35</th>\n",
              "      <td>New</td>\n",
              "      <td>17</td>\n",
              "    </tr>\n",
              "    <tr>\n",
              "      <th>36</th>\n",
              "      <td>New</td>\n",
              "      <td>14</td>\n",
              "    </tr>\n",
              "    <tr>\n",
              "      <th>37</th>\n",
              "      <td>New</td>\n",
              "      <td>14</td>\n",
              "    </tr>\n",
              "    <tr>\n",
              "      <th>38</th>\n",
              "      <td>New</td>\n",
              "      <td>16</td>\n",
              "    </tr>\n",
              "    <tr>\n",
              "      <th>39</th>\n",
              "      <td>New</td>\n",
              "      <td>11</td>\n",
              "    </tr>\n",
              "  </tbody>\n",
              "</table>\n",
              "</div>"
            ],
            "text/plain": [
              "   treatment  Value\n",
              "0    Placebo     31\n",
              "1    Placebo     28\n",
              "2    Placebo     34\n",
              "3    Placebo     36\n",
              "4    Placebo     33\n",
              "5    Placebo     27\n",
              "6    Placebo     39\n",
              "7    Placebo     25\n",
              "8    Placebo     23\n",
              "9    Placebo     29\n",
              "10   Placebo     36\n",
              "11   Placebo     36\n",
              "12   Placebo     32\n",
              "13   Placebo     30\n",
              "14   Placebo     33\n",
              "15   Placebo     39\n",
              "16   Placebo     30\n",
              "17   Placebo     32\n",
              "18   Placebo     30\n",
              "19   Placebo     28\n",
              "20       New     23\n",
              "21       New     17\n",
              "22       New     11\n",
              "23       New     11\n",
              "24       New      9\n",
              "25       New     16\n",
              "26       New     16\n",
              "27       New     14\n",
              "28       New     17\n",
              "29       New     18\n",
              "30       New     10\n",
              "31       New      7\n",
              "32       New     14\n",
              "33       New     24\n",
              "34       New     18\n",
              "35       New     17\n",
              "36       New     14\n",
              "37       New     14\n",
              "38       New     16\n",
              "39       New     11"
            ]
          },
          "metadata": {},
          "execution_count": 16
        }
      ]
    },
    {
      "cell_type": "markdown",
      "metadata": {
        "id": "eyyFnwb-kmKx"
      },
      "source": [
        "두 그룹에 대하여 암세포 크기들의 요약통계량을 구하면 다음과 같이 나타난다. "
      ]
    },
    {
      "cell_type": "code",
      "metadata": {
        "id": "alpjP7x9kmKx",
        "outputId": "8bb07c3d-98cb-49a8-e998-a5ca9ae5966d",
        "colab": {
          "base_uri": "https://localhost:8080/",
          "height": 175
        }
      },
      "source": [
        "two_drug.groupby(by=\"treatment\").describe()"
      ],
      "execution_count": 17,
      "outputs": [
        {
          "output_type": "execute_result",
          "data": {
            "text/html": [
              "<div>\n",
              "<style scoped>\n",
              "    .dataframe tbody tr th:only-of-type {\n",
              "        vertical-align: middle;\n",
              "    }\n",
              "\n",
              "    .dataframe tbody tr th {\n",
              "        vertical-align: top;\n",
              "    }\n",
              "\n",
              "    .dataframe thead tr th {\n",
              "        text-align: left;\n",
              "    }\n",
              "\n",
              "    .dataframe thead tr:last-of-type th {\n",
              "        text-align: right;\n",
              "    }\n",
              "</style>\n",
              "<table border=\"1\" class=\"dataframe\">\n",
              "  <thead>\n",
              "    <tr>\n",
              "      <th></th>\n",
              "      <th colspan=\"8\" halign=\"left\">Value</th>\n",
              "    </tr>\n",
              "    <tr>\n",
              "      <th></th>\n",
              "      <th>count</th>\n",
              "      <th>mean</th>\n",
              "      <th>std</th>\n",
              "      <th>min</th>\n",
              "      <th>25%</th>\n",
              "      <th>50%</th>\n",
              "      <th>75%</th>\n",
              "      <th>max</th>\n",
              "    </tr>\n",
              "    <tr>\n",
              "      <th>treatment</th>\n",
              "      <th></th>\n",
              "      <th></th>\n",
              "      <th></th>\n",
              "      <th></th>\n",
              "      <th></th>\n",
              "      <th></th>\n",
              "      <th></th>\n",
              "      <th></th>\n",
              "    </tr>\n",
              "  </thead>\n",
              "  <tbody>\n",
              "    <tr>\n",
              "      <th>New</th>\n",
              "      <td>20.0</td>\n",
              "      <td>14.85</td>\n",
              "      <td>4.319783</td>\n",
              "      <td>7.0</td>\n",
              "      <td>11.00</td>\n",
              "      <td>15.0</td>\n",
              "      <td>17.0</td>\n",
              "      <td>24.0</td>\n",
              "    </tr>\n",
              "    <tr>\n",
              "      <th>Placebo</th>\n",
              "      <td>20.0</td>\n",
              "      <td>31.55</td>\n",
              "      <td>4.334379</td>\n",
              "      <td>23.0</td>\n",
              "      <td>28.75</td>\n",
              "      <td>31.5</td>\n",
              "      <td>34.5</td>\n",
              "      <td>39.0</td>\n",
              "    </tr>\n",
              "  </tbody>\n",
              "</table>\n",
              "</div>"
            ],
            "text/plain": [
              "          Value                                                \n",
              "          count   mean       std   min    25%   50%   75%   max\n",
              "treatment                                                      \n",
              "New        20.0  14.85  4.319783   7.0  11.00  15.0  17.0  24.0\n",
              "Placebo    20.0  31.55  4.334379  23.0  28.75  31.5  34.5  39.0"
            ]
          },
          "metadata": {},
          "execution_count": 17
        }
      ]
    },
    {
      "cell_type": "markdown",
      "metadata": {
        "id": "U7luSP68kmKx"
      },
      "source": [
        "### 검정 통계량 \n",
        "\n",
        "이제 두 그룹의 비교를 하기 위한 검정 통계량을 정의하자. 데이터의 형식이 연속형 변수이므로 두 그룹의 평균을 비교하는 검정 통계량 $T$를 다음과 같이 정의한다.\n",
        "\n",
        "$$ T = \\bar {x}_{Placebo} - \\bar {x}_{New} $$\n",
        "\n",
        "데이터는 암 세포의 크기이므로 그룹의 평균은 작을 수록 효과가 큰 것이다. 신약의 효과가 더 크면 $\\bar {x}_{New}$이 작아진다. 따라서 두 그룹의 평균을 비교하는 검정 통계량 $T$ 가 커지는 것은 신약의 효과가 더 효과적이라는 의미이다. "
      ]
    },
    {
      "cell_type": "code",
      "metadata": {
        "id": "6551CMD7kmKx",
        "outputId": "09a4a9ca-20ca-410e-fad6-d420c045813a",
        "colab": {
          "base_uri": "https://localhost:8080/",
          "height": 112
        }
      },
      "source": [
        "temp = two_drug.groupby(by=\"treatment\").mean().reset_index()\n",
        "temp"
      ],
      "execution_count": 18,
      "outputs": [
        {
          "output_type": "execute_result",
          "data": {
            "text/html": [
              "<div>\n",
              "<style scoped>\n",
              "    .dataframe tbody tr th:only-of-type {\n",
              "        vertical-align: middle;\n",
              "    }\n",
              "\n",
              "    .dataframe tbody tr th {\n",
              "        vertical-align: top;\n",
              "    }\n",
              "\n",
              "    .dataframe thead th {\n",
              "        text-align: right;\n",
              "    }\n",
              "</style>\n",
              "<table border=\"1\" class=\"dataframe\">\n",
              "  <thead>\n",
              "    <tr style=\"text-align: right;\">\n",
              "      <th></th>\n",
              "      <th>treatment</th>\n",
              "      <th>Value</th>\n",
              "    </tr>\n",
              "  </thead>\n",
              "  <tbody>\n",
              "    <tr>\n",
              "      <th>0</th>\n",
              "      <td>New</td>\n",
              "      <td>14.85</td>\n",
              "    </tr>\n",
              "    <tr>\n",
              "      <th>1</th>\n",
              "      <td>Placebo</td>\n",
              "      <td>31.55</td>\n",
              "    </tr>\n",
              "  </tbody>\n",
              "</table>\n",
              "</div>"
            ],
            "text/plain": [
              "  treatment  Value\n",
              "0       New  14.85\n",
              "1   Placebo  31.55"
            ]
          },
          "metadata": {},
          "execution_count": 18
        }
      ]
    },
    {
      "cell_type": "code",
      "metadata": {
        "id": "L3Y_gKkokmKx",
        "outputId": "6361be92-5693-4c28-a28a-67f00e4a4ade",
        "colab": {
          "base_uri": "https://localhost:8080/"
        }
      },
      "source": [
        "test_stat = float(temp.loc[temp.treatment == \"Placebo\"].Value) - float(temp.loc[temp.treatment == \"New\"].Value)\n",
        "test_stat"
      ],
      "execution_count": 19,
      "outputs": [
        {
          "output_type": "execute_result",
          "data": {
            "text/plain": [
              "16.700000000000003"
            ]
          },
          "metadata": {},
          "execution_count": 19
        }
      ]
    },
    {
      "cell_type": "markdown",
      "metadata": {
        "id": "R6rS0oUekmKx"
      },
      "source": [
        "이제 두 그룹의 평균의 차이를 구하는 함수   `diff_mean` 를 만들어 보자. \n",
        "\n",
        "함수 `diff_mean` 는 데이터프레임 `df`를 첫 번째 인자로 받는다. 또한 두 번째 인자 `group_label` 는 데이터프레임에서 그룹을 구별할 수 있는 처리명이 저장된 열의 이름이다. 마지막 인자 `treatments` 는 비교를 하기 위한 두 개의 처리명을 리스트 형식으로 받는다.\n",
        "\n",
        "함수를 정의할 때 함수 이름 뒤에 큰 따옴표 3개로 묶어진 부분(`\"\"\".....\"\"\"`)에 함수에 대한 설명(Docstring)을 기입할 수 있다. 이러한 방법으로 함수에 대한 설명문을 함수를 정의할 때 추가하면 물음표(?) 뒤에 함수의 이름을 넣어 실행하면 설명문이 나타난다."
      ]
    },
    {
      "cell_type": "code",
      "metadata": {
        "id": "UQhOnxLIkmKy",
        "outputId": "7a8116ea-3e29-4b22-89a7-7e0b61ea4560",
        "colab": {
          "base_uri": "https://localhost:8080/"
        }
      },
      "source": [
        "def diff_mean(df, group_label, treatments):\n",
        "    \"\"\" \n",
        "    데이터프레임을 받아서 두 그룹 평균의 차이를 계산해 주는 함수이다.\n",
        "        df: 데이터프레임\n",
        "        group_label : 처리명이 저장된 열이름\n",
        "        treatments : 비교하고 싶은 두 개의 처리명 [A, B] (벡터 또는 리스트 형식)\n",
        "    결과 : A 그룹의 평균 - B 그룹의 평균\n",
        "    \"\"\"\n",
        "    temp = df.groupby(by=group_label).mean().reset_index()\n",
        "    return float(temp.loc[temp[group_label] == treatments[0]].Value) - float(temp.loc[temp[group_label] == treatments[1]].Value)\n",
        "\n",
        "diff_mean(two_drug, \"treatment\", [\"Placebo\", \"New\"])"
      ],
      "execution_count": 20,
      "outputs": [
        {
          "output_type": "execute_result",
          "data": {
            "text/plain": [
              "16.700000000000003"
            ]
          },
          "metadata": {},
          "execution_count": 20
        }
      ]
    },
    {
      "cell_type": "code",
      "metadata": {
        "id": "0E7_GbzjkmKy"
      },
      "source": [
        "?diff_mean"
      ],
      "execution_count": 21,
      "outputs": []
    },
    {
      "cell_type": "markdown",
      "metadata": {
        "id": "oGiYv1FvkmKy"
      },
      "source": [
        "### 귀무가설 하에서의 분포\n",
        "\n",
        "이제 두 그룹을 비교하는 경우 귀무가설을 생각해 보자.\n",
        "\n",
        "- 귀무가설: 두 그룹의 분포가 같다\n",
        "\n",
        "참고로 데이터가 이항분포를 따르는 경우 두 그룹의 성공의 분포가 같다는 가정은  \"두 그룹의 성공의 확률이 같다\" 는 가정과 동일하다. \n",
        "\n",
        "이제  위약 그룹의 분포와 신약 그룹의 분포가 같다는 귀무가설을 고려하자.  두 그룹의 분포가 같다는 것은 신약의 효과가 위약의 효과와 차이가 없다는 것이다. 두 그룹의 분포가 같다는 가정 하에서는 두 그룹의 차이는 단순한 우연에 의한 차이에 불과하다는 것이다. \n",
        "\n",
        "$$ \\text{귀무가설:} \\text{ 두 약의 효과가 같다.} $$\n",
        "\n",
        "이제 Fisher 의 유의성 겁정 방법을 적용해 보자. **두 그룹의 분포가 같다는 가정 하에서 관측된 두 그룹의 평균의 차이 또는 더 극단적인 결과가 나오는 확률, 즉 p_값** 을 계산해야 한다.\n",
        "두 그룹의 분포가 같다는 가정에서는 위약과 신약에서 나온 관측치들는 같은 분포에서 따르는 것이며 따라서 관측값의 차이는 단지 개인의 차이 또는 오차에 의한 차이일 뿐 처리 효과의 차이는 아니라는 의미이다."
      ]
    },
    {
      "cell_type": "markdown",
      "metadata": {
        "id": "N_DKdIG6kmKy"
      },
      "source": [
        "### 임의순열 방법\n",
        "\n",
        "이제 귀무가설 하에서 검정 통계량 $T$의 분포를 구해야 한다. 귀무가설 하에서 검정 통계량 $T$의 분포를 구하는 방법은 여러 가지 방법들이 있지만 우리가 지금까지 익혀온 모의실험 방법의 일종인 \n",
        "임의순열 방법(random permutation method)을 사용하고자 한다. 임의순열 방법은 두 그룹을 나누는 처리를 나타내는 열 `treatment`에 있는 `Placebo` 와 `New` 를 관측한 자료에 비복원추출로 다시 임의로 배치(random assignment)한다. 재배치한 처리 그룹에 대하여 검정 통계량 $T$을 다시 계산한다. 이러한 임의 배치를 모의실험으로  여러 번  반복하여 구한 검정 통계량 $T$ 의 값들로 귀무가설하에서 검정 통계량의 분포를 근사적으로 구한다.\n",
        "\n",
        "예를 들어 다음과 같이 처리를 나타내는 열 `treatment`에 있는 `Placebo` 와 `New`를 임의로 순서를 바꾸는 임의 재배치하는 행렬은 다음과 같이 `sample` 메소드로 구할 수 있다.\n",
        "\n",
        "```\n",
        "sample(frac=1.0, replace=False, ignore_index=True)\n",
        "```\n",
        "- `frac=1.0` :  전체 집단에서 표본으로 추출할 비율(fraction)을 지정하는 선택명령어이며 이 경우 모든 처리를 다시 배배치해야 하므로 `1.0`으로 지정한다.\n",
        "- `replace=False`: 비복원추출오 지정한다.\n",
        "- `ignore_index=True`: 재추출하는 경우 행의 원래 인덱스를 무시하고 다시 0부터 인덱스를 시작한다."
      ]
    },
    {
      "cell_type": "code",
      "metadata": {
        "id": "AFFV7f4XkmKy",
        "outputId": "e254b62d-48c7-477d-81d5-e26f39b8313b",
        "colab": {
          "base_uri": "https://localhost:8080/"
        }
      },
      "source": [
        "treatment = two_drug.treatment\n",
        "treatment"
      ],
      "execution_count": 22,
      "outputs": [
        {
          "output_type": "execute_result",
          "data": {
            "text/plain": [
              "0     Placebo\n",
              "1     Placebo\n",
              "2     Placebo\n",
              "3     Placebo\n",
              "4     Placebo\n",
              "5     Placebo\n",
              "6     Placebo\n",
              "7     Placebo\n",
              "8     Placebo\n",
              "9     Placebo\n",
              "10    Placebo\n",
              "11    Placebo\n",
              "12    Placebo\n",
              "13    Placebo\n",
              "14    Placebo\n",
              "15    Placebo\n",
              "16    Placebo\n",
              "17    Placebo\n",
              "18    Placebo\n",
              "19    Placebo\n",
              "20        New\n",
              "21        New\n",
              "22        New\n",
              "23        New\n",
              "24        New\n",
              "25        New\n",
              "26        New\n",
              "27        New\n",
              "28        New\n",
              "29        New\n",
              "30        New\n",
              "31        New\n",
              "32        New\n",
              "33        New\n",
              "34        New\n",
              "35        New\n",
              "36        New\n",
              "37        New\n",
              "38        New\n",
              "39        New\n",
              "Name: treatment, dtype: object"
            ]
          },
          "metadata": {},
          "execution_count": 22
        }
      ]
    },
    {
      "cell_type": "code",
      "metadata": {
        "id": "YpBnHu54kmKy",
        "outputId": "d9610d0c-531a-4848-c579-f23123b71498",
        "colab": {
          "base_uri": "https://localhost:8080/"
        }
      },
      "source": [
        "random_permuted_treatment = treatment.sample(frac=1.0, replace=False).reset_index(drop=True) # ignore_index=True)\n",
        "random_permuted_treatment"
      ],
      "execution_count": 26,
      "outputs": [
        {
          "output_type": "execute_result",
          "data": {
            "text/plain": [
              "0     Placebo\n",
              "1         New\n",
              "2         New\n",
              "3     Placebo\n",
              "4     Placebo\n",
              "5         New\n",
              "6         New\n",
              "7     Placebo\n",
              "8         New\n",
              "9     Placebo\n",
              "10    Placebo\n",
              "11    Placebo\n",
              "12    Placebo\n",
              "13    Placebo\n",
              "14    Placebo\n",
              "15        New\n",
              "16    Placebo\n",
              "17    Placebo\n",
              "18        New\n",
              "19        New\n",
              "20        New\n",
              "21    Placebo\n",
              "22        New\n",
              "23    Placebo\n",
              "24        New\n",
              "25    Placebo\n",
              "26    Placebo\n",
              "27        New\n",
              "28        New\n",
              "29    Placebo\n",
              "30        New\n",
              "31    Placebo\n",
              "32    Placebo\n",
              "33        New\n",
              "34        New\n",
              "35        New\n",
              "36    Placebo\n",
              "37        New\n",
              "38        New\n",
              "39        New\n",
              "Name: treatment, dtype: object"
            ]
          },
          "metadata": {},
          "execution_count": 26
        }
      ]
    },
    {
      "cell_type": "markdown",
      "metadata": {
        "id": "Ai_BqGohkmKz"
      },
      "source": [
        "이제 위에서 만든 임의로 재배치한 처리 그룹의 정보를 데이터프레임 `two_drug` 에 열로 추가하자."
      ]
    },
    {
      "cell_type": "code",
      "metadata": {
        "id": "Z95Ur8NkkmKz",
        "outputId": "4c667206-d8b4-4fef-f52b-dcd20ae87717",
        "colab": {
          "base_uri": "https://localhost:8080/",
          "height": 1000
        }
      },
      "source": [
        "two_drug_permuted = two_drug\n",
        "two_drug_permuted[\"permuted_treatment\"] = random_permuted_treatment\n",
        "two_drug_permuted"
      ],
      "execution_count": 27,
      "outputs": [
        {
          "output_type": "execute_result",
          "data": {
            "text/html": [
              "<div>\n",
              "<style scoped>\n",
              "    .dataframe tbody tr th:only-of-type {\n",
              "        vertical-align: middle;\n",
              "    }\n",
              "\n",
              "    .dataframe tbody tr th {\n",
              "        vertical-align: top;\n",
              "    }\n",
              "\n",
              "    .dataframe thead th {\n",
              "        text-align: right;\n",
              "    }\n",
              "</style>\n",
              "<table border=\"1\" class=\"dataframe\">\n",
              "  <thead>\n",
              "    <tr style=\"text-align: right;\">\n",
              "      <th></th>\n",
              "      <th>treatment</th>\n",
              "      <th>Value</th>\n",
              "      <th>permuted_treatment</th>\n",
              "    </tr>\n",
              "  </thead>\n",
              "  <tbody>\n",
              "    <tr>\n",
              "      <th>0</th>\n",
              "      <td>Placebo</td>\n",
              "      <td>31</td>\n",
              "      <td>Placebo</td>\n",
              "    </tr>\n",
              "    <tr>\n",
              "      <th>1</th>\n",
              "      <td>Placebo</td>\n",
              "      <td>28</td>\n",
              "      <td>New</td>\n",
              "    </tr>\n",
              "    <tr>\n",
              "      <th>2</th>\n",
              "      <td>Placebo</td>\n",
              "      <td>34</td>\n",
              "      <td>New</td>\n",
              "    </tr>\n",
              "    <tr>\n",
              "      <th>3</th>\n",
              "      <td>Placebo</td>\n",
              "      <td>36</td>\n",
              "      <td>Placebo</td>\n",
              "    </tr>\n",
              "    <tr>\n",
              "      <th>4</th>\n",
              "      <td>Placebo</td>\n",
              "      <td>33</td>\n",
              "      <td>Placebo</td>\n",
              "    </tr>\n",
              "    <tr>\n",
              "      <th>5</th>\n",
              "      <td>Placebo</td>\n",
              "      <td>27</td>\n",
              "      <td>New</td>\n",
              "    </tr>\n",
              "    <tr>\n",
              "      <th>6</th>\n",
              "      <td>Placebo</td>\n",
              "      <td>39</td>\n",
              "      <td>New</td>\n",
              "    </tr>\n",
              "    <tr>\n",
              "      <th>7</th>\n",
              "      <td>Placebo</td>\n",
              "      <td>25</td>\n",
              "      <td>Placebo</td>\n",
              "    </tr>\n",
              "    <tr>\n",
              "      <th>8</th>\n",
              "      <td>Placebo</td>\n",
              "      <td>23</td>\n",
              "      <td>New</td>\n",
              "    </tr>\n",
              "    <tr>\n",
              "      <th>9</th>\n",
              "      <td>Placebo</td>\n",
              "      <td>29</td>\n",
              "      <td>Placebo</td>\n",
              "    </tr>\n",
              "    <tr>\n",
              "      <th>10</th>\n",
              "      <td>Placebo</td>\n",
              "      <td>36</td>\n",
              "      <td>Placebo</td>\n",
              "    </tr>\n",
              "    <tr>\n",
              "      <th>11</th>\n",
              "      <td>Placebo</td>\n",
              "      <td>36</td>\n",
              "      <td>Placebo</td>\n",
              "    </tr>\n",
              "    <tr>\n",
              "      <th>12</th>\n",
              "      <td>Placebo</td>\n",
              "      <td>32</td>\n",
              "      <td>Placebo</td>\n",
              "    </tr>\n",
              "    <tr>\n",
              "      <th>13</th>\n",
              "      <td>Placebo</td>\n",
              "      <td>30</td>\n",
              "      <td>Placebo</td>\n",
              "    </tr>\n",
              "    <tr>\n",
              "      <th>14</th>\n",
              "      <td>Placebo</td>\n",
              "      <td>33</td>\n",
              "      <td>Placebo</td>\n",
              "    </tr>\n",
              "    <tr>\n",
              "      <th>15</th>\n",
              "      <td>Placebo</td>\n",
              "      <td>39</td>\n",
              "      <td>New</td>\n",
              "    </tr>\n",
              "    <tr>\n",
              "      <th>16</th>\n",
              "      <td>Placebo</td>\n",
              "      <td>30</td>\n",
              "      <td>Placebo</td>\n",
              "    </tr>\n",
              "    <tr>\n",
              "      <th>17</th>\n",
              "      <td>Placebo</td>\n",
              "      <td>32</td>\n",
              "      <td>Placebo</td>\n",
              "    </tr>\n",
              "    <tr>\n",
              "      <th>18</th>\n",
              "      <td>Placebo</td>\n",
              "      <td>30</td>\n",
              "      <td>New</td>\n",
              "    </tr>\n",
              "    <tr>\n",
              "      <th>19</th>\n",
              "      <td>Placebo</td>\n",
              "      <td>28</td>\n",
              "      <td>New</td>\n",
              "    </tr>\n",
              "    <tr>\n",
              "      <th>20</th>\n",
              "      <td>New</td>\n",
              "      <td>23</td>\n",
              "      <td>New</td>\n",
              "    </tr>\n",
              "    <tr>\n",
              "      <th>21</th>\n",
              "      <td>New</td>\n",
              "      <td>17</td>\n",
              "      <td>Placebo</td>\n",
              "    </tr>\n",
              "    <tr>\n",
              "      <th>22</th>\n",
              "      <td>New</td>\n",
              "      <td>11</td>\n",
              "      <td>New</td>\n",
              "    </tr>\n",
              "    <tr>\n",
              "      <th>23</th>\n",
              "      <td>New</td>\n",
              "      <td>11</td>\n",
              "      <td>Placebo</td>\n",
              "    </tr>\n",
              "    <tr>\n",
              "      <th>24</th>\n",
              "      <td>New</td>\n",
              "      <td>9</td>\n",
              "      <td>New</td>\n",
              "    </tr>\n",
              "    <tr>\n",
              "      <th>25</th>\n",
              "      <td>New</td>\n",
              "      <td>16</td>\n",
              "      <td>Placebo</td>\n",
              "    </tr>\n",
              "    <tr>\n",
              "      <th>26</th>\n",
              "      <td>New</td>\n",
              "      <td>16</td>\n",
              "      <td>Placebo</td>\n",
              "    </tr>\n",
              "    <tr>\n",
              "      <th>27</th>\n",
              "      <td>New</td>\n",
              "      <td>14</td>\n",
              "      <td>New</td>\n",
              "    </tr>\n",
              "    <tr>\n",
              "      <th>28</th>\n",
              "      <td>New</td>\n",
              "      <td>17</td>\n",
              "      <td>New</td>\n",
              "    </tr>\n",
              "    <tr>\n",
              "      <th>29</th>\n",
              "      <td>New</td>\n",
              "      <td>18</td>\n",
              "      <td>Placebo</td>\n",
              "    </tr>\n",
              "    <tr>\n",
              "      <th>30</th>\n",
              "      <td>New</td>\n",
              "      <td>10</td>\n",
              "      <td>New</td>\n",
              "    </tr>\n",
              "    <tr>\n",
              "      <th>31</th>\n",
              "      <td>New</td>\n",
              "      <td>7</td>\n",
              "      <td>Placebo</td>\n",
              "    </tr>\n",
              "    <tr>\n",
              "      <th>32</th>\n",
              "      <td>New</td>\n",
              "      <td>14</td>\n",
              "      <td>Placebo</td>\n",
              "    </tr>\n",
              "    <tr>\n",
              "      <th>33</th>\n",
              "      <td>New</td>\n",
              "      <td>24</td>\n",
              "      <td>New</td>\n",
              "    </tr>\n",
              "    <tr>\n",
              "      <th>34</th>\n",
              "      <td>New</td>\n",
              "      <td>18</td>\n",
              "      <td>New</td>\n",
              "    </tr>\n",
              "    <tr>\n",
              "      <th>35</th>\n",
              "      <td>New</td>\n",
              "      <td>17</td>\n",
              "      <td>New</td>\n",
              "    </tr>\n",
              "    <tr>\n",
              "      <th>36</th>\n",
              "      <td>New</td>\n",
              "      <td>14</td>\n",
              "      <td>Placebo</td>\n",
              "    </tr>\n",
              "    <tr>\n",
              "      <th>37</th>\n",
              "      <td>New</td>\n",
              "      <td>14</td>\n",
              "      <td>New</td>\n",
              "    </tr>\n",
              "    <tr>\n",
              "      <th>38</th>\n",
              "      <td>New</td>\n",
              "      <td>16</td>\n",
              "      <td>New</td>\n",
              "    </tr>\n",
              "    <tr>\n",
              "      <th>39</th>\n",
              "      <td>New</td>\n",
              "      <td>11</td>\n",
              "      <td>New</td>\n",
              "    </tr>\n",
              "  </tbody>\n",
              "</table>\n",
              "</div>"
            ],
            "text/plain": [
              "   treatment  Value permuted_treatment\n",
              "0    Placebo     31            Placebo\n",
              "1    Placebo     28                New\n",
              "2    Placebo     34                New\n",
              "3    Placebo     36            Placebo\n",
              "4    Placebo     33            Placebo\n",
              "5    Placebo     27                New\n",
              "6    Placebo     39                New\n",
              "7    Placebo     25            Placebo\n",
              "8    Placebo     23                New\n",
              "9    Placebo     29            Placebo\n",
              "10   Placebo     36            Placebo\n",
              "11   Placebo     36            Placebo\n",
              "12   Placebo     32            Placebo\n",
              "13   Placebo     30            Placebo\n",
              "14   Placebo     33            Placebo\n",
              "15   Placebo     39                New\n",
              "16   Placebo     30            Placebo\n",
              "17   Placebo     32            Placebo\n",
              "18   Placebo     30                New\n",
              "19   Placebo     28                New\n",
              "20       New     23                New\n",
              "21       New     17            Placebo\n",
              "22       New     11                New\n",
              "23       New     11            Placebo\n",
              "24       New      9                New\n",
              "25       New     16            Placebo\n",
              "26       New     16            Placebo\n",
              "27       New     14                New\n",
              "28       New     17                New\n",
              "29       New     18            Placebo\n",
              "30       New     10                New\n",
              "31       New      7            Placebo\n",
              "32       New     14            Placebo\n",
              "33       New     24                New\n",
              "34       New     18                New\n",
              "35       New     17                New\n",
              "36       New     14            Placebo\n",
              "37       New     14                New\n",
              "38       New     16                New\n",
              "39       New     11                New"
            ]
          },
          "metadata": {},
          "execution_count": 27
        }
      ]
    },
    {
      "cell_type": "markdown",
      "metadata": {
        "id": "7jwgnGmwkmKz"
      },
      "source": [
        "이제 새로 임의로 재배치된 두 그룹을 나타내는 열 `permuted_treatment` 를 기준으로 검정통계량을 구해보자. "
      ]
    },
    {
      "cell_type": "code",
      "metadata": {
        "id": "Aa3KJbgKkmKz",
        "outputId": "0b49e997-7d38-4fa3-f241-476fcefa3eeb",
        "colab": {
          "base_uri": "https://localhost:8080/"
        }
      },
      "source": [
        "diff_mean(two_drug_permuted, \"permuted_treatment\",[\"Placebo\", \"New\"])"
      ],
      "execution_count": 28,
      "outputs": [
        {
          "output_type": "execute_result",
          "data": {
            "text/plain": [
              "3.1999999999999993"
            ]
          },
          "metadata": {},
          "execution_count": 28
        }
      ]
    },
    {
      "cell_type": "markdown",
      "metadata": {
        "id": "CQKJs08tkmKz"
      },
      "source": [
        "이제 임의순열방법을 반복적으로 $B=5000$ 번 모의실험하여 귀무가설하에서 검정통계량의 경험적 분포를 구해보자 "
      ]
    },
    {
      "cell_type": "code",
      "metadata": {
        "id": "ZYHXb5vzkmKz"
      },
      "source": [
        "B = 5000\n",
        "\n",
        "test_stat_permuted = pd.DataFrame({\"test_stat\":np.zeros(B)})\n",
        "\n",
        "treatment = two_drug.treatment\n",
        "\n",
        "for i in np.arange(B): \n",
        "    random_permuted_treatment = treatment.sample(frac=1.0, replace=False).reset_index(drop=True) \n",
        "    two_drug_permuted = two_drug\n",
        "    two_drug_permuted[\"permuted_treatment\"] = random_permuted_treatment\n",
        "    test_stat_permuted.loc[i, \"test_stat\"] = diff_mean(two_drug_permuted, \"permuted_treatment\", [\"Placebo\", \"New\"])"
      ],
      "execution_count": 30,
      "outputs": []
    },
    {
      "cell_type": "code",
      "metadata": {
        "id": "mYHowL8xkmKz",
        "outputId": "7728a276-171b-4b12-e43a-e53b5e39cb08",
        "colab": {
          "base_uri": "https://localhost:8080/",
          "height": 283
        }
      },
      "source": [
        "test_stat_permuted.plot.hist()"
      ],
      "execution_count": 31,
      "outputs": [
        {
          "output_type": "execute_result",
          "data": {
            "text/plain": [
              "<matplotlib.axes._subplots.AxesSubplot at 0x7ffaa8cf4e90>"
            ]
          },
          "metadata": {},
          "execution_count": 31
        },
        {
          "output_type": "display_data",
          "data": {
            "image/png": "[encoded data removed]",
            "text/plain": [
              "<Figure size 432x288 with 1 Axes>"
            ]
          },
          "metadata": {
            "needs_background": "light"
          }
        }
      ]
    },
    {
      "cell_type": "markdown",
      "metadata": {
        "id": "1aftGWjikmK0"
      },
      "source": [
        "### 유의성 검정\n",
        "\n",
        "이제 위에서 임의순열방법으로 구한 귀무가설 하의 검정 통계량의 분포에서 실제 관측한 검정통계량의 값과 같거나 큰 비율, 즉 p-값을 구해보자  "
      ]
    },
    {
      "cell_type": "code",
      "metadata": {
        "id": "5rCk3rWOkmK0",
        "outputId": "992eaea3-17af-43e9-b622-e7d8243c9ea7",
        "colab": {
          "base_uri": "https://localhost:8080/"
        }
      },
      "source": [
        "test_stat"
      ],
      "execution_count": 32,
      "outputs": [
        {
          "output_type": "execute_result",
          "data": {
            "text/plain": [
              "16.700000000000003"
            ]
          },
          "metadata": {},
          "execution_count": 32
        }
      ]
    },
    {
      "cell_type": "code",
      "metadata": {
        "id": "56vZi3AYkmK0",
        "outputId": "2cc8c4f9-6264-4e55-b246-c035a6335a0a",
        "colab": {
          "base_uri": "https://localhost:8080/"
        }
      },
      "source": [
        "p_value = np.sum(test_stat_permuted.test_stat >= test_stat)/B\n",
        "p_value "
      ],
      "execution_count": 33,
      "outputs": [
        {
          "output_type": "execute_result",
          "data": {
            "text/plain": [
              "0.0"
            ]
          },
          "metadata": {},
          "execution_count": 33
        }
      ]
    },
    {
      "cell_type": "markdown",
      "metadata": {
        "id": "GWdhFXh6kmK0"
      },
      "source": [
        "위에서 모의실험을 통해서 구한 p-값에 대한 근사값이 0.0 이다. p-값이 유의수준 0.05 보다 작으므로 귀무가설을 기각한다. 따라서 신약(`New`)은 임세포의 크기를 줄이는데 위약(`Placebo`)보다 효과적이다."
      ]
    },
    {
      "cell_type": "markdown",
      "metadata": {
        "id": "BIAIWePAkmK0"
      },
      "source": [
        "이제 신약(`New`)과 기존약(`Old`)의 효과를  반복순열 방법으로 위와 동일한 방법을 사용하여 비교해 보자.  \n",
        "\n",
        "위애서 정의한 함수 `diff_mean`을 이용하면 신약(`New`)과 기존약(`Old`)의 평균의 차이를 쉽게 구할 수 있다."
      ]
    },
    {
      "cell_type": "code",
      "metadata": {
        "id": "S5hceEK6kmK0",
        "outputId": "96550cde-55a0-4009-cc46-83eb575bfb71",
        "colab": {
          "base_uri": "https://localhost:8080/"
        }
      },
      "source": [
        "\n",
        "test_stat_2 = diff_mean(three_drug_long, \"treatment\", [\"Old\", \"New\"])\n",
        "test_stat_2"
      ],
      "execution_count": 34,
      "outputs": [
        {
          "output_type": "execute_result",
          "data": {
            "text/plain": [
              "6.049999999999999"
            ]
          },
          "metadata": {},
          "execution_count": 34
        }
      ]
    },
    {
      "cell_type": "code",
      "metadata": {
        "id": "PacuMk00kmK0"
      },
      "source": [
        "# 약(`New`)과 기존약(`Old`) 만 선택한 데이터프레임\n",
        "two_drug_2 =  three_drug_long.loc[three_drug_long.treatment != \"Placebo\"].reset_index(drop=True)\n",
        "\n",
        "B = 5000\n",
        "\n",
        "test_stat_permuted_2 = pd.DataFrame({\"test_stat\":np.zeros(B)})\n",
        "\n",
        "treatment_2 = two_drug_2.treatment\n",
        "\n",
        "for i in np.arange(B): \n",
        "    random_permuted_treatment = treatment_2.sample(frac=1.0, replace=False).reset_index(drop=True) \n",
        "    two_drug_permuted = two_drug_2\n",
        "    two_drug_permuted[\"permuted_treatment\"] = random_permuted_treatment\n",
        "    test_stat_permuted_2.loc[i, \"test_stat\"] = diff_mean(two_drug_permuted, \"permuted_treatment\", [\"Old\", \"New\"])"
      ],
      "execution_count": 39,
      "outputs": []
    },
    {
      "cell_type": "code",
      "metadata": {
        "id": "VFM7z-6mkmK0",
        "outputId": "890e0e19-69fa-41d8-bbd8-9f598856ffb6",
        "colab": {
          "base_uri": "https://localhost:8080/",
          "height": 283
        }
      },
      "source": [
        "test_stat_permuted_2.plot.hist()"
      ],
      "execution_count": 40,
      "outputs": [
        {
          "output_type": "execute_result",
          "data": {
            "text/plain": [
              "<matplotlib.axes._subplots.AxesSubplot at 0x7ffaa8bb5550>"
            ]
          },
          "metadata": {},
          "execution_count": 40
        },
        {
          "output_type": "display_data",
          "data": {
            "image/png": "[encoded data removed]",
            "text/plain": [
              "<Figure size 432x288 with 1 Axes>"
            ]
          },
          "metadata": {
            "needs_background": "light"
          }
        }
      ]
    },
    {
      "cell_type": "code",
      "metadata": {
        "id": "MDeWbcyVkmK1",
        "outputId": "47170131-19c4-49dd-ae2e-42666e6ca97a",
        "colab": {
          "base_uri": "https://localhost:8080/"
        }
      },
      "source": [
        "p_value = np.sum(test_stat_permuted_2.test_stat >= test_stat_2)/B\n",
        "p_value "
      ],
      "execution_count": 41,
      "outputs": [
        {
          "output_type": "execute_result",
          "data": {
            "text/plain": [
              "0.0008"
            ]
          },
          "metadata": {},
          "execution_count": 41
        }
      ]
    },
    {
      "cell_type": "markdown",
      "metadata": {
        "id": "WFhmzXRkkmK1"
      },
      "source": [
        "위에서 모의실험을 통해서 구한 p-값에 대한 근사값은 매우 작으며 유의수준 0.05 보다 작으므로 귀무가설을 기각한다. 따라서 신약(`New`)은 임세포의 크기를 줄이는데 기존약(`Old`)보다 효과적이다."
      ]
    }
  ]
}